{
 "cells": [
  {
   "cell_type": "markdown",
   "metadata": {},
   "source": [
    "## Setup"
   ]
  },
  {
   "cell_type": "code",
   "execution_count": 5,
   "metadata": {
    "ExecuteTime": {
     "end_time": "2017-10-12T04:16:56.930000Z",
     "start_time": "2017-10-12T00:16:56.920000-04:00"
    },
    "collapsed": true,
    "run_control": {
     "marked": false
    }
   },
   "outputs": [],
   "source": [
    "import numpy as np\n",
    "import pandas as pd\n",
    "import matplotlib.pyplot as plt\n",
    "from scipy.optimize import fsolve"
   ]
  },
  {
   "cell_type": "markdown",
   "metadata": {},
   "source": [
    "Constants"
   ]
  },
  {
   "cell_type": "code",
   "execution_count": 6,
   "metadata": {
    "ExecuteTime": {
     "end_time": "2017-10-12T04:16:57.283000Z",
     "start_time": "2017-10-12T00:16:57.279000-04:00"
    },
    "collapsed": true
   },
   "outputs": [],
   "source": [
    "g = 1.25\n",
    "k = 3"
   ]
  },
  {
   "cell_type": "markdown",
   "metadata": {},
   "source": [
    "Helper functions"
   ]
  },
  {
   "cell_type": "code",
   "execution_count": 7,
   "metadata": {
    "ExecuteTime": {
     "end_time": "2017-10-12T04:16:57.966000Z",
     "start_time": "2017-10-12T00:16:57.962000-04:00"
    },
    "collapsed": true
   },
   "outputs": [],
   "source": [
    "wM = lambda M: np.degrees(k*np.arctan(np.sqrt(M**2-1)/k)-np.arctan(np.sqrt(M**2-1)))"
   ]
  },
  {
   "cell_type": "code",
   "execution_count": 8,
   "metadata": {
    "ExecuteTime": {
     "end_time": "2017-10-12T04:16:58.205000Z",
     "start_time": "2017-10-12T00:16:58.200000-04:00"
    },
    "collapsed": true
   },
   "outputs": [],
   "source": [
    "Mw = lambda win: fsolve(lambda M: wM(M)-win, 2)[0]"
   ]
  },
  {
   "cell_type": "code",
   "execution_count": 9,
   "metadata": {
    "ExecuteTime": {
     "end_time": "2017-10-12T04:16:58.441000Z",
     "start_time": "2017-10-12T00:16:58.437000-04:00"
    },
    "collapsed": true
   },
   "outputs": [],
   "source": [
    "thw = lambda Ip, Im: (0.5*(Ip+Im), 0.5*(Ip-Im))"
   ]
  },
  {
   "cell_type": "code",
   "execution_count": 10,
   "metadata": {
    "ExecuteTime": {
     "end_time": "2017-10-12T04:16:58.844000Z",
     "start_time": "2017-10-12T00:16:58.839000-04:00"
    },
    "collapsed": true
   },
   "outputs": [],
   "source": [
    "Iminus_center = lambda incoming_Ip: -incoming_Ip\n",
    "thw_center = lambda incoming_Ip: (0, incoming_Ip)"
   ]
  },
  {
   "cell_type": "markdown",
   "metadata": {},
   "source": [
    "Initial conditions"
   ]
  },
  {
   "cell_type": "code",
   "execution_count": 11,
   "metadata": {
    "ExecuteTime": {
     "end_time": "2017-10-12T04:16:59.544000Z",
     "start_time": "2017-10-12T00:16:59.535000-04:00"
    }
   },
   "outputs": [],
   "source": [
    "M0 = 1.1\n",
    "Me_pset = 4\n",
    "w_0, w_e = wM(M0), wM(Me_pset)\n",
    "th_0, th_e = 0,0"
   ]
  },
  {
   "cell_type": "markdown",
   "metadata": {},
   "source": [
    "## Part (a)"
   ]
  },
  {
   "cell_type": "code",
   "execution_count": 12,
   "metadata": {
    "ExecuteTime": {
     "end_time": "2017-10-12T04:17:00.225000Z",
     "start_time": "2017-10-12T00:17:00.217000-04:00"
    }
   },
   "outputs": [],
   "source": [
    "line_number = 6\n",
    "discretization = line_number*(line_number+1)/2+1\n",
    "th, w = np.empty((2,discretization))*np.nan\n",
    "th[0] = th[1] = th_0\n",
    "w[0] = w[1] = w_0\n",
    "Im_1 = th_0-w_0\n",
    "Ip_1, Ip_e = th_0+w_0, th_e+w_e\n",
    "Ips = np.linspace(Ip_1, Ip_e, line_number)"
   ]
  },
  {
   "cell_type": "code",
   "execution_count": 13,
   "metadata": {
    "ExecuteTime": {
     "end_time": "2017-10-12T04:17:00.687000Z",
     "start_time": "2017-10-12T00:17:00.679000-04:00"
    }
   },
   "outputs": [],
   "source": [
    "Im = Im_1\n",
    "idx = 1\n",
    "for Im_counter in range(line_number-1):\n",
    "    idx +=1\n",
    "    for counter, Ip_i in enumerate(Ips[Im_counter+1:]):\n",
    "        th[idx], w[idx] = thw(Ip_i, Im)\n",
    "        idx +=1\n",
    "    th[idx], w[idx] = thw_center(Ips[Im_counter+1])\n",
    "    Im = Iminus_center(Ips[Im_counter+1])"
   ]
  },
  {
   "cell_type": "code",
   "execution_count": 14,
   "metadata": {
    "ExecuteTime": {
     "end_time": "2017-10-12T04:17:01.248000Z",
     "start_time": "2017-10-12T00:17:01.238000-04:00"
    },
    "collapsed": true
   },
   "outputs": [],
   "source": [
    "table = pd.DataFrame()\n",
    "table[\"omegas\"], table[\"thetas\"] = w, th"
   ]
  },
  {
   "cell_type": "code",
   "execution_count": 15,
   "metadata": {
    "ExecuteTime": {
     "end_time": "2017-10-12T04:17:01.737000Z",
     "start_time": "2017-10-12T00:17:01.713000-04:00"
    }
   },
   "outputs": [],
   "source": [
    "table[\"M\"] = table[\"omegas\"].apply(Mw)\n",
    "table[\"mu\"] = table[\"M\"].apply(lambda M: np.degrees(np.arctan(1/np.sqrt(M**2-1))))\n",
    "table[\"th+mu\"] = table[\"thetas\"]+table[\"mu\"]\n",
    "table[\"th-mu\"] = table[\"thetas\"]-table[\"mu\"]\n",
    "table[\"I+\"] = table[\"thetas\"]+table[\"omegas\"]\n",
    "table[\"I-\"] = table[\"thetas\"]-table[\"omegas\"]\n",
    "table[\"P/Pc\"] = table[\"M\"].apply(lambda M: (1+(g-1)/2*M**2)**(-g/(g-1)))\n",
    "table[\"alphas\"] = -np.radians(table[\"th-mu\"])\n",
    "table[\"betas\"] = np.radians(table[\"th+mu\"])"
   ]
  },
  {
   "cell_type": "code",
   "execution_count": 16,
   "metadata": {
    "ExecuteTime": {
     "end_time": "2017-10-12T04:17:02.475000Z",
     "start_time": "2017-10-12T00:17:02.427000-04:00"
    }
   },
   "outputs": [
    {
     "data": {
      "text/html": [
       "<div>\n",
       "<style>\n",
       "    .dataframe thead tr:only-child th {\n",
       "        text-align: right;\n",
       "    }\n",
       "\n",
       "    .dataframe thead th {\n",
       "        text-align: left;\n",
       "    }\n",
       "\n",
       "    .dataframe tbody tr th {\n",
       "        vertical-align: top;\n",
       "    }\n",
       "</style>\n",
       "<table border=\"1\" class=\"dataframe\">\n",
       "  <thead>\n",
       "    <tr style=\"text-align: right;\">\n",
       "      <th></th>\n",
       "      <th>M</th>\n",
       "      <th>I+</th>\n",
       "      <th>I-</th>\n",
       "      <th>omegas</th>\n",
       "      <th>thetas</th>\n",
       "      <th>mu</th>\n",
       "      <th>th+mu</th>\n",
       "      <th>th-mu</th>\n",
       "      <th>P/Pc</th>\n",
       "      <th>alphas</th>\n",
       "      <th>betas</th>\n",
       "    </tr>\n",
       "  </thead>\n",
       "  <tbody>\n",
       "    <tr>\n",
       "      <th>0</th>\n",
       "      <td>1.100000</td>\n",
       "      <td>1.434844</td>\n",
       "      <td>-1.434844</td>\n",
       "      <td>1.434844</td>\n",
       "      <td>0.000000</td>\n",
       "      <td>65.380023</td>\n",
       "      <td>65.380023</td>\n",
       "      <td>-65.380023</td>\n",
       "      <td>0.494483</td>\n",
       "      <td>1.141097</td>\n",
       "      <td>1.141097</td>\n",
       "    </tr>\n",
       "    <tr>\n",
       "      <th>1</th>\n",
       "      <td>1.100000</td>\n",
       "      <td>1.434844</td>\n",
       "      <td>-1.434844</td>\n",
       "      <td>1.434844</td>\n",
       "      <td>0.000000</td>\n",
       "      <td>65.380023</td>\n",
       "      <td>65.380023</td>\n",
       "      <td>-65.380023</td>\n",
       "      <td>0.494483</td>\n",
       "      <td>1.141097</td>\n",
       "      <td>1.141097</td>\n",
       "    </tr>\n",
       "    <tr>\n",
       "      <th>2</th>\n",
       "      <td>1.386455</td>\n",
       "      <td>17.386632</td>\n",
       "      <td>-1.434844</td>\n",
       "      <td>9.410738</td>\n",
       "      <td>7.975894</td>\n",
       "      <td>46.158937</td>\n",
       "      <td>54.134831</td>\n",
       "      <td>-38.183043</td>\n",
       "      <td>0.340720</td>\n",
       "      <td>0.666420</td>\n",
       "      <td>0.944831</td>\n",
       "    </tr>\n",
       "    <tr>\n",
       "      <th>3</th>\n",
       "      <td>1.626345</td>\n",
       "      <td>33.338419</td>\n",
       "      <td>-1.434844</td>\n",
       "      <td>17.386632</td>\n",
       "      <td>15.951787</td>\n",
       "      <td>37.942890</td>\n",
       "      <td>53.894677</td>\n",
       "      <td>-21.991103</td>\n",
       "      <td>0.239730</td>\n",
       "      <td>0.383817</td>\n",
       "      <td>0.940640</td>\n",
       "    </tr>\n",
       "    <tr>\n",
       "      <th>4</th>\n",
       "      <td>1.861247</td>\n",
       "      <td>49.290206</td>\n",
       "      <td>-1.434844</td>\n",
       "      <td>25.362525</td>\n",
       "      <td>23.927681</td>\n",
       "      <td>32.498265</td>\n",
       "      <td>56.425946</td>\n",
       "      <td>-8.570585</td>\n",
       "      <td>0.165471</td>\n",
       "      <td>0.149585</td>\n",
       "      <td>0.984819</td>\n",
       "    </tr>\n",
       "    <tr>\n",
       "      <th>5</th>\n",
       "      <td>2.101839</td>\n",
       "      <td>65.241993</td>\n",
       "      <td>-1.434844</td>\n",
       "      <td>33.338419</td>\n",
       "      <td>31.903574</td>\n",
       "      <td>28.409749</td>\n",
       "      <td>60.313323</td>\n",
       "      <td>3.493826</td>\n",
       "      <td>0.110979</td>\n",
       "      <td>-0.060979</td>\n",
       "      <td>1.052666</td>\n",
       "    </tr>\n",
       "    <tr>\n",
       "      <th>6</th>\n",
       "      <td>2.354392</td>\n",
       "      <td>81.193780</td>\n",
       "      <td>-1.434844</td>\n",
       "      <td>41.314312</td>\n",
       "      <td>39.879468</td>\n",
       "      <td>25.134084</td>\n",
       "      <td>65.013552</td>\n",
       "      <td>14.745384</td>\n",
       "      <td>0.071920</td>\n",
       "      <td>-0.257355</td>\n",
       "      <td>1.134701</td>\n",
       "    </tr>\n",
       "    <tr>\n",
       "      <th>7</th>\n",
       "      <td>1.626345</td>\n",
       "      <td>17.386632</td>\n",
       "      <td>-17.386632</td>\n",
       "      <td>17.386632</td>\n",
       "      <td>0.000000</td>\n",
       "      <td>37.942890</td>\n",
       "      <td>37.942890</td>\n",
       "      <td>-37.942890</td>\n",
       "      <td>0.239730</td>\n",
       "      <td>0.662228</td>\n",
       "      <td>0.662228</td>\n",
       "    </tr>\n",
       "    <tr>\n",
       "      <th>8</th>\n",
       "      <td>1.861247</td>\n",
       "      <td>33.338419</td>\n",
       "      <td>-17.386632</td>\n",
       "      <td>25.362525</td>\n",
       "      <td>7.975894</td>\n",
       "      <td>32.498265</td>\n",
       "      <td>40.474159</td>\n",
       "      <td>-24.522372</td>\n",
       "      <td>0.165471</td>\n",
       "      <td>0.427996</td>\n",
       "      <td>0.706407</td>\n",
       "    </tr>\n",
       "    <tr>\n",
       "      <th>9</th>\n",
       "      <td>2.101839</td>\n",
       "      <td>49.290206</td>\n",
       "      <td>-17.386632</td>\n",
       "      <td>33.338419</td>\n",
       "      <td>15.951787</td>\n",
       "      <td>28.409749</td>\n",
       "      <td>44.361536</td>\n",
       "      <td>-12.457962</td>\n",
       "      <td>0.110979</td>\n",
       "      <td>0.217432</td>\n",
       "      <td>0.774255</td>\n",
       "    </tr>\n",
       "    <tr>\n",
       "      <th>10</th>\n",
       "      <td>2.354392</td>\n",
       "      <td>65.241993</td>\n",
       "      <td>-17.386632</td>\n",
       "      <td>41.314312</td>\n",
       "      <td>23.927681</td>\n",
       "      <td>25.134084</td>\n",
       "      <td>49.061765</td>\n",
       "      <td>-1.206403</td>\n",
       "      <td>0.071920</td>\n",
       "      <td>0.021056</td>\n",
       "      <td>0.856289</td>\n",
       "    </tr>\n",
       "    <tr>\n",
       "      <th>11</th>\n",
       "      <td>2.624186</td>\n",
       "      <td>81.193780</td>\n",
       "      <td>-17.386632</td>\n",
       "      <td>49.290206</td>\n",
       "      <td>31.903574</td>\n",
       "      <td>22.400011</td>\n",
       "      <td>54.303585</td>\n",
       "      <td>9.503564</td>\n",
       "      <td>0.044824</td>\n",
       "      <td>-0.165868</td>\n",
       "      <td>0.947776</td>\n",
       "    </tr>\n",
       "    <tr>\n",
       "      <th>12</th>\n",
       "      <td>2.101839</td>\n",
       "      <td>33.338419</td>\n",
       "      <td>-33.338419</td>\n",
       "      <td>33.338419</td>\n",
       "      <td>0.000000</td>\n",
       "      <td>28.409749</td>\n",
       "      <td>28.409749</td>\n",
       "      <td>-28.409749</td>\n",
       "      <td>0.110979</td>\n",
       "      <td>0.495844</td>\n",
       "      <td>0.495844</td>\n",
       "    </tr>\n",
       "    <tr>\n",
       "      <th>13</th>\n",
       "      <td>2.354392</td>\n",
       "      <td>49.290206</td>\n",
       "      <td>-33.338419</td>\n",
       "      <td>41.314312</td>\n",
       "      <td>7.975894</td>\n",
       "      <td>25.134084</td>\n",
       "      <td>33.109978</td>\n",
       "      <td>-17.158190</td>\n",
       "      <td>0.071920</td>\n",
       "      <td>0.299467</td>\n",
       "      <td>0.577878</td>\n",
       "    </tr>\n",
       "    <tr>\n",
       "      <th>14</th>\n",
       "      <td>2.624186</td>\n",
       "      <td>65.241993</td>\n",
       "      <td>-33.338419</td>\n",
       "      <td>49.290206</td>\n",
       "      <td>15.951787</td>\n",
       "      <td>22.400011</td>\n",
       "      <td>38.351798</td>\n",
       "      <td>-6.448223</td>\n",
       "      <td>0.044824</td>\n",
       "      <td>0.112543</td>\n",
       "      <td>0.669365</td>\n",
       "    </tr>\n",
       "    <tr>\n",
       "      <th>15</th>\n",
       "      <td>2.916640</td>\n",
       "      <td>81.193780</td>\n",
       "      <td>-33.338419</td>\n",
       "      <td>57.266100</td>\n",
       "      <td>23.927681</td>\n",
       "      <td>20.051231</td>\n",
       "      <td>43.978912</td>\n",
       "      <td>3.876450</td>\n",
       "      <td>0.026738</td>\n",
       "      <td>-0.067657</td>\n",
       "      <td>0.767577</td>\n",
       "    </tr>\n",
       "    <tr>\n",
       "      <th>16</th>\n",
       "      <td>2.624186</td>\n",
       "      <td>49.290206</td>\n",
       "      <td>-49.290206</td>\n",
       "      <td>49.290206</td>\n",
       "      <td>0.000000</td>\n",
       "      <td>22.400011</td>\n",
       "      <td>22.400011</td>\n",
       "      <td>-22.400011</td>\n",
       "      <td>0.044824</td>\n",
       "      <td>0.390954</td>\n",
       "      <td>0.390954</td>\n",
       "    </tr>\n",
       "    <tr>\n",
       "      <th>17</th>\n",
       "      <td>2.916640</td>\n",
       "      <td>65.241993</td>\n",
       "      <td>-49.290206</td>\n",
       "      <td>57.266100</td>\n",
       "      <td>7.975894</td>\n",
       "      <td>20.051231</td>\n",
       "      <td>28.027125</td>\n",
       "      <td>-12.075338</td>\n",
       "      <td>0.026738</td>\n",
       "      <td>0.210754</td>\n",
       "      <td>0.489166</td>\n",
       "    </tr>\n",
       "    <tr>\n",
       "      <th>18</th>\n",
       "      <td>3.237979</td>\n",
       "      <td>81.193780</td>\n",
       "      <td>-49.290206</td>\n",
       "      <td>65.241993</td>\n",
       "      <td>15.951787</td>\n",
       "      <td>17.989012</td>\n",
       "      <td>33.940799</td>\n",
       "      <td>-2.037225</td>\n",
       "      <td>0.015185</td>\n",
       "      <td>0.035556</td>\n",
       "      <td>0.592379</td>\n",
       "    </tr>\n",
       "    <tr>\n",
       "      <th>19</th>\n",
       "      <td>3.237979</td>\n",
       "      <td>65.241993</td>\n",
       "      <td>-65.241993</td>\n",
       "      <td>65.241993</td>\n",
       "      <td>0.000000</td>\n",
       "      <td>17.989012</td>\n",
       "      <td>17.989012</td>\n",
       "      <td>-17.989012</td>\n",
       "      <td>0.015185</td>\n",
       "      <td>0.313967</td>\n",
       "      <td>0.313967</td>\n",
       "    </tr>\n",
       "    <tr>\n",
       "      <th>20</th>\n",
       "      <td>3.595836</td>\n",
       "      <td>81.193780</td>\n",
       "      <td>-65.241993</td>\n",
       "      <td>73.217887</td>\n",
       "      <td>7.975894</td>\n",
       "      <td>16.146804</td>\n",
       "      <td>24.122698</td>\n",
       "      <td>-8.170911</td>\n",
       "      <td>0.008158</td>\n",
       "      <td>0.142609</td>\n",
       "      <td>0.421021</td>\n",
       "    </tr>\n",
       "    <tr>\n",
       "      <th>21</th>\n",
       "      <td>4.000000</td>\n",
       "      <td>81.193780</td>\n",
       "      <td>-81.193780</td>\n",
       "      <td>81.193780</td>\n",
       "      <td>0.000000</td>\n",
       "      <td>14.477512</td>\n",
       "      <td>14.477512</td>\n",
       "      <td>-14.477512</td>\n",
       "      <td>0.004115</td>\n",
       "      <td>0.252680</td>\n",
       "      <td>0.252680</td>\n",
       "    </tr>\n",
       "  </tbody>\n",
       "</table>\n",
       "</div>"
      ],
      "text/plain": [
       "           M         I+         I-     omegas     thetas         mu  \\\n",
       "0   1.100000   1.434844  -1.434844   1.434844   0.000000  65.380023   \n",
       "1   1.100000   1.434844  -1.434844   1.434844   0.000000  65.380023   \n",
       "2   1.386455  17.386632  -1.434844   9.410738   7.975894  46.158937   \n",
       "3   1.626345  33.338419  -1.434844  17.386632  15.951787  37.942890   \n",
       "4   1.861247  49.290206  -1.434844  25.362525  23.927681  32.498265   \n",
       "5   2.101839  65.241993  -1.434844  33.338419  31.903574  28.409749   \n",
       "6   2.354392  81.193780  -1.434844  41.314312  39.879468  25.134084   \n",
       "7   1.626345  17.386632 -17.386632  17.386632   0.000000  37.942890   \n",
       "8   1.861247  33.338419 -17.386632  25.362525   7.975894  32.498265   \n",
       "9   2.101839  49.290206 -17.386632  33.338419  15.951787  28.409749   \n",
       "10  2.354392  65.241993 -17.386632  41.314312  23.927681  25.134084   \n",
       "11  2.624186  81.193780 -17.386632  49.290206  31.903574  22.400011   \n",
       "12  2.101839  33.338419 -33.338419  33.338419   0.000000  28.409749   \n",
       "13  2.354392  49.290206 -33.338419  41.314312   7.975894  25.134084   \n",
       "14  2.624186  65.241993 -33.338419  49.290206  15.951787  22.400011   \n",
       "15  2.916640  81.193780 -33.338419  57.266100  23.927681  20.051231   \n",
       "16  2.624186  49.290206 -49.290206  49.290206   0.000000  22.400011   \n",
       "17  2.916640  65.241993 -49.290206  57.266100   7.975894  20.051231   \n",
       "18  3.237979  81.193780 -49.290206  65.241993  15.951787  17.989012   \n",
       "19  3.237979  65.241993 -65.241993  65.241993   0.000000  17.989012   \n",
       "20  3.595836  81.193780 -65.241993  73.217887   7.975894  16.146804   \n",
       "21  4.000000  81.193780 -81.193780  81.193780   0.000000  14.477512   \n",
       "\n",
       "        th+mu      th-mu      P/Pc    alphas     betas  \n",
       "0   65.380023 -65.380023  0.494483  1.141097  1.141097  \n",
       "1   65.380023 -65.380023  0.494483  1.141097  1.141097  \n",
       "2   54.134831 -38.183043  0.340720  0.666420  0.944831  \n",
       "3   53.894677 -21.991103  0.239730  0.383817  0.940640  \n",
       "4   56.425946  -8.570585  0.165471  0.149585  0.984819  \n",
       "5   60.313323   3.493826  0.110979 -0.060979  1.052666  \n",
       "6   65.013552  14.745384  0.071920 -0.257355  1.134701  \n",
       "7   37.942890 -37.942890  0.239730  0.662228  0.662228  \n",
       "8   40.474159 -24.522372  0.165471  0.427996  0.706407  \n",
       "9   44.361536 -12.457962  0.110979  0.217432  0.774255  \n",
       "10  49.061765  -1.206403  0.071920  0.021056  0.856289  \n",
       "11  54.303585   9.503564  0.044824 -0.165868  0.947776  \n",
       "12  28.409749 -28.409749  0.110979  0.495844  0.495844  \n",
       "13  33.109978 -17.158190  0.071920  0.299467  0.577878  \n",
       "14  38.351798  -6.448223  0.044824  0.112543  0.669365  \n",
       "15  43.978912   3.876450  0.026738 -0.067657  0.767577  \n",
       "16  22.400011 -22.400011  0.044824  0.390954  0.390954  \n",
       "17  28.027125 -12.075338  0.026738  0.210754  0.489166  \n",
       "18  33.940799  -2.037225  0.015185  0.035556  0.592379  \n",
       "19  17.989012 -17.989012  0.015185  0.313967  0.313967  \n",
       "20  24.122698  -8.170911  0.008158  0.142609  0.421021  \n",
       "21  14.477512 -14.477512  0.004115  0.252680  0.252680  "
      ]
     },
     "execution_count": 16,
     "metadata": {},
     "output_type": "execute_result"
    }
   ],
   "source": [
    "table[[\"M\", \"I+\", \"I-\", \"omegas\", \"thetas\", \"mu\", \"th+mu\", \"th-mu\", \"P/Pc\", \"alphas\", \"betas\"]]"
   ]
  },
  {
   "cell_type": "markdown",
   "metadata": {
    "collapsed": true
   },
   "source": [
    "## Part (b)"
   ]
  },
  {
   "cell_type": "code",
   "execution_count": 17,
   "metadata": {
    "ExecuteTime": {
     "end_time": "2017-10-12T04:17:03.884000Z",
     "start_time": "2017-10-12T00:17:03.856000-04:00"
    },
    "collapsed": true
   },
   "outputs": [],
   "source": [
    "upstreams = {\n",
    "    1: [0, 22],\n",
    "    2: [0, 1],\n",
    "    3: [0, 2],\n",
    "    4: [0, 3],\n",
    "    5: [0, 4],\n",
    "    6: [0, 5],\n",
    "    7: [2, 1],\n",
    "    8: [3, 7],\n",
    "    9: [4, 8],\n",
    "    10: [5, 9],\n",
    "    11: [6, 10],\n",
    "    12: [8, 7],\n",
    "    13: [9, 12],\n",
    "    14: [10, 13],\n",
    "    15: [11, 14],\n",
    "    16: [13, 12],\n",
    "    17: [14, 16],\n",
    "    18: [15, 17],\n",
    "    19: [17, 16],\n",
    "    20: [18, 19],\n",
    "    21: [20, 19],\n",
    "    23: [0,6],\n",
    "    24: [23, 11],\n",
    "    25: [24, 15],\n",
    "    26: [25, 18],\n",
    "    27: [26, 20],\n",
    "    28: [27, 21]\n",
    "}\n",
    "onthewall = [1, 7, 12, 16, 19, 21]"
   ]
  },
  {
   "cell_type": "code",
   "execution_count": 18,
   "metadata": {
    "ExecuteTime": {
     "end_time": "2017-10-12T04:17:04.383000Z",
     "start_time": "2017-10-12T00:17:04.377000-04:00"
    },
    "collapsed": true
   },
   "outputs": [],
   "source": [
    "x = np.empty(29)*np.nan\n",
    "y = np.empty(29)*np.nan\n",
    "x[0] = 0\n",
    "y[0] = 1\n",
    "x[22] = 0\n",
    "y[22] = 0"
   ]
  },
  {
   "cell_type": "code",
   "execution_count": 19,
   "metadata": {
    "ExecuteTime": {
     "end_time": "2017-10-12T04:17:05.063000Z",
     "start_time": "2017-10-12T00:17:05.051000-04:00"
    },
    "collapsed": true
   },
   "outputs": [],
   "source": [
    "def position(xa, ya, alpha, xb, yb, beta):\n",
    "    xc = (ya-yb+xa*np.tan(alpha)+xb*np.tan(beta))/(np.tan(alpha)+np.tan(beta))\n",
    "    yc = (yb*np.tan(alpha)+ya*np.tan(beta)+(xa-xb)*np.tan(alpha)*np.tan(beta))/(np.tan(alpha)+np.tan(beta))\n",
    "    return xc, yc"
   ]
  },
  {
   "cell_type": "code",
   "execution_count": 20,
   "metadata": {
    "ExecuteTime": {
     "end_time": "2017-10-12T04:17:05.464000Z",
     "start_time": "2017-10-12T00:17:05.447000-04:00"
    },
    "collapsed": true
   },
   "outputs": [],
   "source": [
    "def positionofidx(idx):\n",
    "    upstream_plus_idx, upstream_minus_idx = upstreams[idx]\n",
    "    if upstream_plus_idx == 0:\n",
    "        upstream_theta_idx = idx\n",
    "    else:\n",
    "        upstream_theta_idx = upstream_plus_idx \n",
    "        \n",
    "    #print(upstream_plus_idx, upstream_minus_idx)\n",
    "    xa, ya = x[upstream_plus_idx], y[upstream_plus_idx]\n",
    "    xb, yb = x[upstream_minus_idx], y[upstream_minus_idx]\n",
    "     \n",
    "    alpha_upstream = table[\"alphas\"].iloc[upstream_theta_idx]\n",
    "    alpha_idx = table[\"alphas\"].iloc[idx]\n",
    "    alpha = np.average([alpha_upstream, alpha_idx])\n",
    "\n",
    "    isonwall = idx in onthewall\n",
    "    if isonwall:\n",
    "        xc,yc = position(xa, ya, alpha, xb, yb, 0)\n",
    "    else:\n",
    "        beta_upstream =  table[\"betas\"].iloc[upstream_minus_idx]\n",
    "        beta_idx = table[\"betas\"].iloc[idx]\n",
    "        beta = np.average([beta_upstream, beta_idx])\n",
    "        #print(xa,ya,xb,yb, np.degrees(alpha), np.degrees(beta))\n",
    "        xc,yc = position(xa, ya, alpha, xb, yb, beta)\n",
    "        \n",
    "    return xc, yc\n",
    "    "
   ]
  },
  {
   "cell_type": "code",
   "execution_count": 21,
   "metadata": {
    "ExecuteTime": {
     "end_time": "2017-10-12T04:17:06.067000Z",
     "start_time": "2017-10-12T00:17:06.057000-04:00"
    },
    "collapsed": true
   },
   "outputs": [],
   "source": [
    "for idx in range(1,22):\n",
    "    x[idx], y[idx] = positionofidx(idx)"
   ]
  },
  {
   "cell_type": "code",
   "execution_count": 22,
   "metadata": {
    "ExecuteTime": {
     "end_time": "2017-10-12T04:17:06.776000Z",
     "start_time": "2017-10-12T00:17:06.765000-04:00"
    }
   },
   "outputs": [
    {
     "data": {
      "text/plain": [
       "array([[  0.        ,   1.        ],\n",
       "       [  0.45825757,   0.        ],\n",
       "       [  0.71392807,   0.43853605],\n",
       "       [  0.86729773,   0.64974563],\n",
       "       [  1.00560167,   0.84844509],\n",
       "       [  1.14189109,   1.06971754],\n",
       "       [  1.28000324,   1.33688646],\n",
       "       [  1.27395893,   0.        ],\n",
       "       [  1.65527968,   0.3110921 ],\n",
       "       [  2.0344094 ,   0.65750174],\n",
       "       [  2.44725183,   1.09577799],\n",
       "       [  2.91542652,   1.68822157],\n",
       "       [  2.28016059,   0.        ],\n",
       "       [  2.96952862,   0.41029157],\n",
       "       [  3.7968916 ,   1.00548878],\n",
       "       [  4.83527003,   1.91341189],\n",
       "       [  4.11046292,   0.        ],\n",
       "       [  5.61593172,   0.70885533],\n",
       "       [  7.69845909,   1.95937077],\n",
       "       [  8.25548589,   0.        ],\n",
       "       [ 12.28164861,   1.55000402],\n",
       "       [ 20.02163784,   0.        ],\n",
       "       [  0.        ,   0.        ],\n",
       "       [         nan,          nan],\n",
       "       [         nan,          nan],\n",
       "       [         nan,          nan],\n",
       "       [         nan,          nan],\n",
       "       [         nan,          nan],\n",
       "       [         nan,          nan]])"
      ]
     },
     "execution_count": 22,
     "metadata": {},
     "output_type": "execute_result"
    }
   ],
   "source": [
    "np.array((x,y)).transpose()"
   ]
  },
  {
   "cell_type": "code",
   "execution_count": 23,
   "metadata": {
    "ExecuteTime": {
     "end_time": "2017-10-12T04:17:09.379000Z",
     "start_time": "2017-10-12T00:17:09.369000-04:00"
    },
    "collapsed": true
   },
   "outputs": [],
   "source": [
    "wall_thetas = {0:0}"
   ]
  },
  {
   "cell_type": "code",
   "execution_count": 27,
   "metadata": {
    "ExecuteTime": {
     "end_time": "2017-10-12T04:17:20.757000Z",
     "start_time": "2017-10-12T00:17:20.746000-04:00"
    },
    "collapsed": true
   },
   "outputs": [],
   "source": [
    "def wallpositions(idx):\n",
    "    upstream_plus_idx, upstream_minus_idx = upstreams[idx]\n",
    "    xa, ya = x[upstream_plus_idx], y[upstream_plus_idx]\n",
    "    xb, yb = x[upstream_minus_idx], y[upstream_minus_idx]\n",
    "    theta_upstream = np.radians(table[\"thetas\"].iloc[upstream_minus_idx])\n",
    "    theta_previous = wall_thetas[upstream_plus_idx]\n",
    "    theta_current = np.average([theta_upstream, theta_previous])\n",
    "    wall_thetas[idx] = theta_upstream\n",
    "    beta_upstream = table[\"betas\"].iloc[upstream_minus_idx]\n",
    "    xc, yc = position(xa, ya, -theta_current, xb, yb, beta_upstream)\n",
    "    return xc, yc"
   ]
  },
  {
   "cell_type": "code",
   "execution_count": 28,
   "metadata": {
    "ExecuteTime": {
     "end_time": "2017-10-12T04:17:21.031000Z",
     "start_time": "2017-10-12T00:17:21.027000-04:00"
    },
    "collapsed": true
   },
   "outputs": [],
   "source": [
    "wallidxs = range(23,29)"
   ]
  },
  {
   "cell_type": "code",
   "execution_count": 29,
   "metadata": {
    "ExecuteTime": {
     "end_time": "2017-10-12T04:17:21.469000Z",
     "start_time": "2017-10-12T00:17:21.463000-04:00"
    }
   },
   "outputs": [],
   "source": [
    "for idx in wallidxs:\n",
    "    x[idx], y[idx] = wallpositions(idx)"
   ]
  },
  {
   "cell_type": "code",
   "execution_count": 30,
   "metadata": {
    "ExecuteTime": {
     "end_time": "2017-10-12T04:17:23.426000Z",
     "start_time": "2017-10-12T00:17:23.420000-04:00"
    },
    "collapsed": true
   },
   "outputs": [],
   "source": [
    "allwallidxs = [0] + wallidxs"
   ]
  },
  {
   "cell_type": "code",
   "execution_count": 32,
   "metadata": {
    "ExecuteTime": {
     "end_time": "2017-10-12T04:17:50.473000Z",
     "start_time": "2017-10-12T00:17:50.468000-04:00"
    }
   },
   "outputs": [],
   "source": [
    "nozzle_height = y[-1]"
   ]
  },
  {
   "cell_type": "code",
   "execution_count": 33,
   "metadata": {
    "ExecuteTime": {
     "end_time": "2017-10-12T04:18:09.779000Z",
     "start_time": "2017-10-12T00:18:09.770000-04:00"
    }
   },
   "outputs": [
    {
     "data": {
      "text/plain": [
       "'nozzle height is 18.150323'"
      ]
     },
     "execution_count": 33,
     "metadata": {},
     "output_type": "execute_result"
    }
   ],
   "source": [
    "\"nozzle height is %f\"%nozzle_height"
   ]
  },
  {
   "cell_type": "code",
   "execution_count": 40,
   "metadata": {
    "ExecuteTime": {
     "end_time": "2017-10-12T04:19:35.935000Z",
     "start_time": "2017-10-12T00:19:35.930000-04:00"
    },
    "collapsed": true
   },
   "outputs": [],
   "source": [
    "xy = np.array([x,y])"
   ]
  },
  {
   "cell_type": "code",
   "execution_count": 42,
   "metadata": {
    "ExecuteTime": {
     "end_time": "2017-10-12T04:20:10.043000Z",
     "start_time": "2017-10-12T00:20:10.025000-04:00"
    },
    "collapsed": true
   },
   "outputs": [],
   "source": [
    "%matplotlib notebook"
   ]
  },
  {
   "cell_type": "code",
   "execution_count": 44,
   "metadata": {
    "ExecuteTime": {
     "end_time": "2017-10-12T04:20:16.779000Z",
     "start_time": "2017-10-12T00:20:16.693000-04:00"
    }
   },
   "outputs": [
    {
     "data": {
      "application/javascript": [
       "/* Put everything inside the global mpl namespace */\n",
       "window.mpl = {};\n",
       "\n",
       "\n",
       "mpl.get_websocket_type = function() {\n",
       "    if (typeof(WebSocket) !== 'undefined') {\n",
       "        return WebSocket;\n",
       "    } else if (typeof(MozWebSocket) !== 'undefined') {\n",
       "        return MozWebSocket;\n",
       "    } else {\n",
       "        alert('Your browser does not have WebSocket support.' +\n",
       "              'Please try Chrome, Safari or Firefox ≥ 6. ' +\n",
       "              'Firefox 4 and 5 are also supported but you ' +\n",
       "              'have to enable WebSockets in about:config.');\n",
       "    };\n",
       "}\n",
       "\n",
       "mpl.figure = function(figure_id, websocket, ondownload, parent_element) {\n",
       "    this.id = figure_id;\n",
       "\n",
       "    this.ws = websocket;\n",
       "\n",
       "    this.supports_binary = (this.ws.binaryType != undefined);\n",
       "\n",
       "    if (!this.supports_binary) {\n",
       "        var warnings = document.getElementById(\"mpl-warnings\");\n",
       "        if (warnings) {\n",
       "            warnings.style.display = 'block';\n",
       "            warnings.textContent = (\n",
       "                \"This browser does not support binary websocket messages. \" +\n",
       "                    \"Performance may be slow.\");\n",
       "        }\n",
       "    }\n",
       "\n",
       "    this.imageObj = new Image();\n",
       "\n",
       "    this.context = undefined;\n",
       "    this.message = undefined;\n",
       "    this.canvas = undefined;\n",
       "    this.rubberband_canvas = undefined;\n",
       "    this.rubberband_context = undefined;\n",
       "    this.format_dropdown = undefined;\n",
       "\n",
       "    this.image_mode = 'full';\n",
       "\n",
       "    this.root = $('<div/>');\n",
       "    this._root_extra_style(this.root)\n",
       "    this.root.attr('style', 'display: inline-block');\n",
       "\n",
       "    $(parent_element).append(this.root);\n",
       "\n",
       "    this._init_header(this);\n",
       "    this._init_canvas(this);\n",
       "    this._init_toolbar(this);\n",
       "\n",
       "    var fig = this;\n",
       "\n",
       "    this.waiting = false;\n",
       "\n",
       "    this.ws.onopen =  function () {\n",
       "            fig.send_message(\"supports_binary\", {value: fig.supports_binary});\n",
       "            fig.send_message(\"send_image_mode\", {});\n",
       "            if (mpl.ratio != 1) {\n",
       "                fig.send_message(\"set_dpi_ratio\", {'dpi_ratio': mpl.ratio});\n",
       "            }\n",
       "            fig.send_message(\"refresh\", {});\n",
       "        }\n",
       "\n",
       "    this.imageObj.onload = function() {\n",
       "            if (fig.image_mode == 'full') {\n",
       "                // Full images could contain transparency (where diff images\n",
       "                // almost always do), so we need to clear the canvas so that\n",
       "                // there is no ghosting.\n",
       "                fig.context.clearRect(0, 0, fig.canvas.width, fig.canvas.height);\n",
       "            }\n",
       "            fig.context.drawImage(fig.imageObj, 0, 0);\n",
       "        };\n",
       "\n",
       "    this.imageObj.onunload = function() {\n",
       "        fig.ws.close();\n",
       "    }\n",
       "\n",
       "    this.ws.onmessage = this._make_on_message_function(this);\n",
       "\n",
       "    this.ondownload = ondownload;\n",
       "}\n",
       "\n",
       "mpl.figure.prototype._init_header = function() {\n",
       "    var titlebar = $(\n",
       "        '<div class=\"ui-dialog-titlebar ui-widget-header ui-corner-all ' +\n",
       "        'ui-helper-clearfix\"/>');\n",
       "    var titletext = $(\n",
       "        '<div class=\"ui-dialog-title\" style=\"width: 100%; ' +\n",
       "        'text-align: center; padding: 3px;\"/>');\n",
       "    titlebar.append(titletext)\n",
       "    this.root.append(titlebar);\n",
       "    this.header = titletext[0];\n",
       "}\n",
       "\n",
       "\n",
       "\n",
       "mpl.figure.prototype._canvas_extra_style = function(canvas_div) {\n",
       "\n",
       "}\n",
       "\n",
       "\n",
       "mpl.figure.prototype._root_extra_style = function(canvas_div) {\n",
       "\n",
       "}\n",
       "\n",
       "mpl.figure.prototype._init_canvas = function() {\n",
       "    var fig = this;\n",
       "\n",
       "    var canvas_div = $('<div/>');\n",
       "\n",
       "    canvas_div.attr('style', 'position: relative; clear: both; outline: 0');\n",
       "\n",
       "    function canvas_keyboard_event(event) {\n",
       "        return fig.key_event(event, event['data']);\n",
       "    }\n",
       "\n",
       "    canvas_div.keydown('key_press', canvas_keyboard_event);\n",
       "    canvas_div.keyup('key_release', canvas_keyboard_event);\n",
       "    this.canvas_div = canvas_div\n",
       "    this._canvas_extra_style(canvas_div)\n",
       "    this.root.append(canvas_div);\n",
       "\n",
       "    var canvas = $('<canvas/>');\n",
       "    canvas.addClass('mpl-canvas');\n",
       "    canvas.attr('style', \"left: 0; top: 0; z-index: 0; outline: 0\")\n",
       "\n",
       "    this.canvas = canvas[0];\n",
       "    this.context = canvas[0].getContext(\"2d\");\n",
       "\n",
       "    var backingStore = this.context.backingStorePixelRatio ||\n",
       "\tthis.context.webkitBackingStorePixelRatio ||\n",
       "\tthis.context.mozBackingStorePixelRatio ||\n",
       "\tthis.context.msBackingStorePixelRatio ||\n",
       "\tthis.context.oBackingStorePixelRatio ||\n",
       "\tthis.context.backingStorePixelRatio || 1;\n",
       "\n",
       "    mpl.ratio = (window.devicePixelRatio || 1) / backingStore;\n",
       "\n",
       "    var rubberband = $('<canvas/>');\n",
       "    rubberband.attr('style', \"position: absolute; left: 0; top: 0; z-index: 1;\")\n",
       "\n",
       "    var pass_mouse_events = true;\n",
       "\n",
       "    canvas_div.resizable({\n",
       "        start: function(event, ui) {\n",
       "            pass_mouse_events = false;\n",
       "        },\n",
       "        resize: function(event, ui) {\n",
       "            fig.request_resize(ui.size.width, ui.size.height);\n",
       "        },\n",
       "        stop: function(event, ui) {\n",
       "            pass_mouse_events = true;\n",
       "            fig.request_resize(ui.size.width, ui.size.height);\n",
       "        },\n",
       "    });\n",
       "\n",
       "    function mouse_event_fn(event) {\n",
       "        if (pass_mouse_events)\n",
       "            return fig.mouse_event(event, event['data']);\n",
       "    }\n",
       "\n",
       "    rubberband.mousedown('button_press', mouse_event_fn);\n",
       "    rubberband.mouseup('button_release', mouse_event_fn);\n",
       "    // Throttle sequential mouse events to 1 every 20ms.\n",
       "    rubberband.mousemove('motion_notify', mouse_event_fn);\n",
       "\n",
       "    rubberband.mouseenter('figure_enter', mouse_event_fn);\n",
       "    rubberband.mouseleave('figure_leave', mouse_event_fn);\n",
       "\n",
       "    canvas_div.on(\"wheel\", function (event) {\n",
       "        event = event.originalEvent;\n",
       "        event['data'] = 'scroll'\n",
       "        if (event.deltaY < 0) {\n",
       "            event.step = 1;\n",
       "        } else {\n",
       "            event.step = -1;\n",
       "        }\n",
       "        mouse_event_fn(event);\n",
       "    });\n",
       "\n",
       "    canvas_div.append(canvas);\n",
       "    canvas_div.append(rubberband);\n",
       "\n",
       "    this.rubberband = rubberband;\n",
       "    this.rubberband_canvas = rubberband[0];\n",
       "    this.rubberband_context = rubberband[0].getContext(\"2d\");\n",
       "    this.rubberband_context.strokeStyle = \"#000000\";\n",
       "\n",
       "    this._resize_canvas = function(width, height) {\n",
       "        // Keep the size of the canvas, canvas container, and rubber band\n",
       "        // canvas in synch.\n",
       "        canvas_div.css('width', width)\n",
       "        canvas_div.css('height', height)\n",
       "\n",
       "        canvas.attr('width', width * mpl.ratio);\n",
       "        canvas.attr('height', height * mpl.ratio);\n",
       "        canvas.attr('style', 'width: ' + width + 'px; height: ' + height + 'px;');\n",
       "\n",
       "        rubberband.attr('width', width);\n",
       "        rubberband.attr('height', height);\n",
       "    }\n",
       "\n",
       "    // Set the figure to an initial 600x600px, this will subsequently be updated\n",
       "    // upon first draw.\n",
       "    this._resize_canvas(600, 600);\n",
       "\n",
       "    // Disable right mouse context menu.\n",
       "    $(this.rubberband_canvas).bind(\"contextmenu\",function(e){\n",
       "        return false;\n",
       "    });\n",
       "\n",
       "    function set_focus () {\n",
       "        canvas.focus();\n",
       "        canvas_div.focus();\n",
       "    }\n",
       "\n",
       "    window.setTimeout(set_focus, 100);\n",
       "}\n",
       "\n",
       "mpl.figure.prototype._init_toolbar = function() {\n",
       "    var fig = this;\n",
       "\n",
       "    var nav_element = $('<div/>')\n",
       "    nav_element.attr('style', 'width: 100%');\n",
       "    this.root.append(nav_element);\n",
       "\n",
       "    // Define a callback function for later on.\n",
       "    function toolbar_event(event) {\n",
       "        return fig.toolbar_button_onclick(event['data']);\n",
       "    }\n",
       "    function toolbar_mouse_event(event) {\n",
       "        return fig.toolbar_button_onmouseover(event['data']);\n",
       "    }\n",
       "\n",
       "    for(var toolbar_ind in mpl.toolbar_items) {\n",
       "        var name = mpl.toolbar_items[toolbar_ind][0];\n",
       "        var tooltip = mpl.toolbar_items[toolbar_ind][1];\n",
       "        var image = mpl.toolbar_items[toolbar_ind][2];\n",
       "        var method_name = mpl.toolbar_items[toolbar_ind][3];\n",
       "\n",
       "        if (!name) {\n",
       "            // put a spacer in here.\n",
       "            continue;\n",
       "        }\n",
       "        var button = $('<button/>');\n",
       "        button.addClass('ui-button ui-widget ui-state-default ui-corner-all ' +\n",
       "                        'ui-button-icon-only');\n",
       "        button.attr('role', 'button');\n",
       "        button.attr('aria-disabled', 'false');\n",
       "        button.click(method_name, toolbar_event);\n",
       "        button.mouseover(tooltip, toolbar_mouse_event);\n",
       "\n",
       "        var icon_img = $('<span/>');\n",
       "        icon_img.addClass('ui-button-icon-primary ui-icon');\n",
       "        icon_img.addClass(image);\n",
       "        icon_img.addClass('ui-corner-all');\n",
       "\n",
       "        var tooltip_span = $('<span/>');\n",
       "        tooltip_span.addClass('ui-button-text');\n",
       "        tooltip_span.html(tooltip);\n",
       "\n",
       "        button.append(icon_img);\n",
       "        button.append(tooltip_span);\n",
       "\n",
       "        nav_element.append(button);\n",
       "    }\n",
       "\n",
       "    var fmt_picker_span = $('<span/>');\n",
       "\n",
       "    var fmt_picker = $('<select/>');\n",
       "    fmt_picker.addClass('mpl-toolbar-option ui-widget ui-widget-content');\n",
       "    fmt_picker_span.append(fmt_picker);\n",
       "    nav_element.append(fmt_picker_span);\n",
       "    this.format_dropdown = fmt_picker[0];\n",
       "\n",
       "    for (var ind in mpl.extensions) {\n",
       "        var fmt = mpl.extensions[ind];\n",
       "        var option = $(\n",
       "            '<option/>', {selected: fmt === mpl.default_extension}).html(fmt);\n",
       "        fmt_picker.append(option)\n",
       "    }\n",
       "\n",
       "    // Add hover states to the ui-buttons\n",
       "    $( \".ui-button\" ).hover(\n",
       "        function() { $(this).addClass(\"ui-state-hover\");},\n",
       "        function() { $(this).removeClass(\"ui-state-hover\");}\n",
       "    );\n",
       "\n",
       "    var status_bar = $('<span class=\"mpl-message\"/>');\n",
       "    nav_element.append(status_bar);\n",
       "    this.message = status_bar[0];\n",
       "}\n",
       "\n",
       "mpl.figure.prototype.request_resize = function(x_pixels, y_pixels) {\n",
       "    // Request matplotlib to resize the figure. Matplotlib will then trigger a resize in the client,\n",
       "    // which will in turn request a refresh of the image.\n",
       "    this.send_message('resize', {'width': x_pixels, 'height': y_pixels});\n",
       "}\n",
       "\n",
       "mpl.figure.prototype.send_message = function(type, properties) {\n",
       "    properties['type'] = type;\n",
       "    properties['figure_id'] = this.id;\n",
       "    this.ws.send(JSON.stringify(properties));\n",
       "}\n",
       "\n",
       "mpl.figure.prototype.send_draw_message = function() {\n",
       "    if (!this.waiting) {\n",
       "        this.waiting = true;\n",
       "        this.ws.send(JSON.stringify({type: \"draw\", figure_id: this.id}));\n",
       "    }\n",
       "}\n",
       "\n",
       "\n",
       "mpl.figure.prototype.handle_save = function(fig, msg) {\n",
       "    var format_dropdown = fig.format_dropdown;\n",
       "    var format = format_dropdown.options[format_dropdown.selectedIndex].value;\n",
       "    fig.ondownload(fig, format);\n",
       "}\n",
       "\n",
       "\n",
       "mpl.figure.prototype.handle_resize = function(fig, msg) {\n",
       "    var size = msg['size'];\n",
       "    if (size[0] != fig.canvas.width || size[1] != fig.canvas.height) {\n",
       "        fig._resize_canvas(size[0], size[1]);\n",
       "        fig.send_message(\"refresh\", {});\n",
       "    };\n",
       "}\n",
       "\n",
       "mpl.figure.prototype.handle_rubberband = function(fig, msg) {\n",
       "    var x0 = msg['x0'] / mpl.ratio;\n",
       "    var y0 = (fig.canvas.height - msg['y0']) / mpl.ratio;\n",
       "    var x1 = msg['x1'] / mpl.ratio;\n",
       "    var y1 = (fig.canvas.height - msg['y1']) / mpl.ratio;\n",
       "    x0 = Math.floor(x0) + 0.5;\n",
       "    y0 = Math.floor(y0) + 0.5;\n",
       "    x1 = Math.floor(x1) + 0.5;\n",
       "    y1 = Math.floor(y1) + 0.5;\n",
       "    var min_x = Math.min(x0, x1);\n",
       "    var min_y = Math.min(y0, y1);\n",
       "    var width = Math.abs(x1 - x0);\n",
       "    var height = Math.abs(y1 - y0);\n",
       "\n",
       "    fig.rubberband_context.clearRect(\n",
       "        0, 0, fig.canvas.width, fig.canvas.height);\n",
       "\n",
       "    fig.rubberband_context.strokeRect(min_x, min_y, width, height);\n",
       "}\n",
       "\n",
       "mpl.figure.prototype.handle_figure_label = function(fig, msg) {\n",
       "    // Updates the figure title.\n",
       "    fig.header.textContent = msg['label'];\n",
       "}\n",
       "\n",
       "mpl.figure.prototype.handle_cursor = function(fig, msg) {\n",
       "    var cursor = msg['cursor'];\n",
       "    switch(cursor)\n",
       "    {\n",
       "    case 0:\n",
       "        cursor = 'pointer';\n",
       "        break;\n",
       "    case 1:\n",
       "        cursor = 'default';\n",
       "        break;\n",
       "    case 2:\n",
       "        cursor = 'crosshair';\n",
       "        break;\n",
       "    case 3:\n",
       "        cursor = 'move';\n",
       "        break;\n",
       "    }\n",
       "    fig.rubberband_canvas.style.cursor = cursor;\n",
       "}\n",
       "\n",
       "mpl.figure.prototype.handle_message = function(fig, msg) {\n",
       "    fig.message.textContent = msg['message'];\n",
       "}\n",
       "\n",
       "mpl.figure.prototype.handle_draw = function(fig, msg) {\n",
       "    // Request the server to send over a new figure.\n",
       "    fig.send_draw_message();\n",
       "}\n",
       "\n",
       "mpl.figure.prototype.handle_image_mode = function(fig, msg) {\n",
       "    fig.image_mode = msg['mode'];\n",
       "}\n",
       "\n",
       "mpl.figure.prototype.updated_canvas_event = function() {\n",
       "    // Called whenever the canvas gets updated.\n",
       "    this.send_message(\"ack\", {});\n",
       "}\n",
       "\n",
       "// A function to construct a web socket function for onmessage handling.\n",
       "// Called in the figure constructor.\n",
       "mpl.figure.prototype._make_on_message_function = function(fig) {\n",
       "    return function socket_on_message(evt) {\n",
       "        if (evt.data instanceof Blob) {\n",
       "            /* FIXME: We get \"Resource interpreted as Image but\n",
       "             * transferred with MIME type text/plain:\" errors on\n",
       "             * Chrome.  But how to set the MIME type?  It doesn't seem\n",
       "             * to be part of the websocket stream */\n",
       "            evt.data.type = \"image/png\";\n",
       "\n",
       "            /* Free the memory for the previous frames */\n",
       "            if (fig.imageObj.src) {\n",
       "                (window.URL || window.webkitURL).revokeObjectURL(\n",
       "                    fig.imageObj.src);\n",
       "            }\n",
       "\n",
       "            fig.imageObj.src = (window.URL || window.webkitURL).createObjectURL(\n",
       "                evt.data);\n",
       "            fig.updated_canvas_event();\n",
       "            fig.waiting = false;\n",
       "            return;\n",
       "        }\n",
       "        else if (typeof evt.data === 'string' && evt.data.slice(0, 21) == \"data:image/png;base64\") {\n",
       "            fig.imageObj.src = evt.data;\n",
       "            fig.updated_canvas_event();\n",
       "            fig.waiting = false;\n",
       "            return;\n",
       "        }\n",
       "\n",
       "        var msg = JSON.parse(evt.data);\n",
       "        var msg_type = msg['type'];\n",
       "\n",
       "        // Call the  \"handle_{type}\" callback, which takes\n",
       "        // the figure and JSON message as its only arguments.\n",
       "        try {\n",
       "            var callback = fig[\"handle_\" + msg_type];\n",
       "        } catch (e) {\n",
       "            console.log(\"No handler for the '\" + msg_type + \"' message type: \", msg);\n",
       "            return;\n",
       "        }\n",
       "\n",
       "        if (callback) {\n",
       "            try {\n",
       "                // console.log(\"Handling '\" + msg_type + \"' message: \", msg);\n",
       "                callback(fig, msg);\n",
       "            } catch (e) {\n",
       "                console.log(\"Exception inside the 'handler_\" + msg_type + \"' callback:\", e, e.stack, msg);\n",
       "            }\n",
       "        }\n",
       "    };\n",
       "}\n",
       "\n",
       "// from http://stackoverflow.com/questions/1114465/getting-mouse-location-in-canvas\n",
       "mpl.findpos = function(e) {\n",
       "    //this section is from http://www.quirksmode.org/js/events_properties.html\n",
       "    var targ;\n",
       "    if (!e)\n",
       "        e = window.event;\n",
       "    if (e.target)\n",
       "        targ = e.target;\n",
       "    else if (e.srcElement)\n",
       "        targ = e.srcElement;\n",
       "    if (targ.nodeType == 3) // defeat Safari bug\n",
       "        targ = targ.parentNode;\n",
       "\n",
       "    // jQuery normalizes the pageX and pageY\n",
       "    // pageX,Y are the mouse positions relative to the document\n",
       "    // offset() returns the position of the element relative to the document\n",
       "    var x = e.pageX - $(targ).offset().left;\n",
       "    var y = e.pageY - $(targ).offset().top;\n",
       "\n",
       "    return {\"x\": x, \"y\": y};\n",
       "};\n",
       "\n",
       "/*\n",
       " * return a copy of an object with only non-object keys\n",
       " * we need this to avoid circular references\n",
       " * http://stackoverflow.com/a/24161582/3208463\n",
       " */\n",
       "function simpleKeys (original) {\n",
       "  return Object.keys(original).reduce(function (obj, key) {\n",
       "    if (typeof original[key] !== 'object')\n",
       "        obj[key] = original[key]\n",
       "    return obj;\n",
       "  }, {});\n",
       "}\n",
       "\n",
       "mpl.figure.prototype.mouse_event = function(event, name) {\n",
       "    var canvas_pos = mpl.findpos(event)\n",
       "\n",
       "    if (name === 'button_press')\n",
       "    {\n",
       "        this.canvas.focus();\n",
       "        this.canvas_div.focus();\n",
       "    }\n",
       "\n",
       "    var x = canvas_pos.x * mpl.ratio;\n",
       "    var y = canvas_pos.y * mpl.ratio;\n",
       "\n",
       "    this.send_message(name, {x: x, y: y, button: event.button,\n",
       "                             step: event.step,\n",
       "                             guiEvent: simpleKeys(event)});\n",
       "\n",
       "    /* This prevents the web browser from automatically changing to\n",
       "     * the text insertion cursor when the button is pressed.  We want\n",
       "     * to control all of the cursor setting manually through the\n",
       "     * 'cursor' event from matplotlib */\n",
       "    event.preventDefault();\n",
       "    return false;\n",
       "}\n",
       "\n",
       "mpl.figure.prototype._key_event_extra = function(event, name) {\n",
       "    // Handle any extra behaviour associated with a key event\n",
       "}\n",
       "\n",
       "mpl.figure.prototype.key_event = function(event, name) {\n",
       "\n",
       "    // Prevent repeat events\n",
       "    if (name == 'key_press')\n",
       "    {\n",
       "        if (event.which === this._key)\n",
       "            return;\n",
       "        else\n",
       "            this._key = event.which;\n",
       "    }\n",
       "    if (name == 'key_release')\n",
       "        this._key = null;\n",
       "\n",
       "    var value = '';\n",
       "    if (event.ctrlKey && event.which != 17)\n",
       "        value += \"ctrl+\";\n",
       "    if (event.altKey && event.which != 18)\n",
       "        value += \"alt+\";\n",
       "    if (event.shiftKey && event.which != 16)\n",
       "        value += \"shift+\";\n",
       "\n",
       "    value += 'k';\n",
       "    value += event.which.toString();\n",
       "\n",
       "    this._key_event_extra(event, name);\n",
       "\n",
       "    this.send_message(name, {key: value,\n",
       "                             guiEvent: simpleKeys(event)});\n",
       "    return false;\n",
       "}\n",
       "\n",
       "mpl.figure.prototype.toolbar_button_onclick = function(name) {\n",
       "    if (name == 'download') {\n",
       "        this.handle_save(this, null);\n",
       "    } else {\n",
       "        this.send_message(\"toolbar_button\", {name: name});\n",
       "    }\n",
       "};\n",
       "\n",
       "mpl.figure.prototype.toolbar_button_onmouseover = function(tooltip) {\n",
       "    this.message.textContent = tooltip;\n",
       "};\n",
       "mpl.toolbar_items = [[\"Home\", \"Reset original view\", \"fa fa-home icon-home\", \"home\"], [\"Back\", \"Back to  previous view\", \"fa fa-arrow-left icon-arrow-left\", \"back\"], [\"Forward\", \"Forward to next view\", \"fa fa-arrow-right icon-arrow-right\", \"forward\"], [\"\", \"\", \"\", \"\"], [\"Pan\", \"Pan axes with left mouse, zoom with right\", \"fa fa-arrows icon-move\", \"pan\"], [\"Zoom\", \"Zoom to rectangle\", \"fa fa-square-o icon-check-empty\", \"zoom\"], [\"\", \"\", \"\", \"\"], [\"Download\", \"Download plot\", \"fa fa-floppy-o icon-save\", \"download\"]];\n",
       "\n",
       "mpl.extensions = [\"eps\", \"jpeg\", \"pdf\", \"png\", \"ps\", \"raw\", \"svg\", \"tif\"];\n",
       "\n",
       "mpl.default_extension = \"png\";var comm_websocket_adapter = function(comm) {\n",
       "    // Create a \"websocket\"-like object which calls the given IPython comm\n",
       "    // object with the appropriate methods. Currently this is a non binary\n",
       "    // socket, so there is still some room for performance tuning.\n",
       "    var ws = {};\n",
       "\n",
       "    ws.close = function() {\n",
       "        comm.close()\n",
       "    };\n",
       "    ws.send = function(m) {\n",
       "        //console.log('sending', m);\n",
       "        comm.send(m);\n",
       "    };\n",
       "    // Register the callback with on_msg.\n",
       "    comm.on_msg(function(msg) {\n",
       "        //console.log('receiving', msg['content']['data'], msg);\n",
       "        // Pass the mpl event to the overriden (by mpl) onmessage function.\n",
       "        ws.onmessage(msg['content']['data'])\n",
       "    });\n",
       "    return ws;\n",
       "}\n",
       "\n",
       "mpl.mpl_figure_comm = function(comm, msg) {\n",
       "    // This is the function which gets called when the mpl process\n",
       "    // starts-up an IPython Comm through the \"matplotlib\" channel.\n",
       "\n",
       "    var id = msg.content.data.id;\n",
       "    // Get hold of the div created by the display call when the Comm\n",
       "    // socket was opened in Python.\n",
       "    var element = $(\"#\" + id);\n",
       "    var ws_proxy = comm_websocket_adapter(comm)\n",
       "\n",
       "    function ondownload(figure, format) {\n",
       "        window.open(figure.imageObj.src);\n",
       "    }\n",
       "\n",
       "    var fig = new mpl.figure(id, ws_proxy,\n",
       "                           ondownload,\n",
       "                           element.get(0));\n",
       "\n",
       "    // Call onopen now - mpl needs it, as it is assuming we've passed it a real\n",
       "    // web socket which is closed, not our websocket->open comm proxy.\n",
       "    ws_proxy.onopen();\n",
       "\n",
       "    fig.parent_element = element.get(0);\n",
       "    fig.cell_info = mpl.find_output_cell(\"<div id='\" + id + \"'></div>\");\n",
       "    if (!fig.cell_info) {\n",
       "        console.error(\"Failed to find cell for figure\", id, fig);\n",
       "        return;\n",
       "    }\n",
       "\n",
       "    var output_index = fig.cell_info[2]\n",
       "    var cell = fig.cell_info[0];\n",
       "\n",
       "};\n",
       "\n",
       "mpl.figure.prototype.handle_close = function(fig, msg) {\n",
       "    var width = fig.canvas.width/mpl.ratio\n",
       "    fig.root.unbind('remove')\n",
       "\n",
       "    // Update the output cell to use the data from the current canvas.\n",
       "    fig.push_to_output();\n",
       "    var dataURL = fig.canvas.toDataURL();\n",
       "    // Re-enable the keyboard manager in IPython - without this line, in FF,\n",
       "    // the notebook keyboard shortcuts fail.\n",
       "    IPython.keyboard_manager.enable()\n",
       "    $(fig.parent_element).html('<img src=\"' + dataURL + '\" width=\"' + width + '\">');\n",
       "    fig.close_ws(fig, msg);\n",
       "}\n",
       "\n",
       "mpl.figure.prototype.close_ws = function(fig, msg){\n",
       "    fig.send_message('closing', msg);\n",
       "    // fig.ws.close()\n",
       "}\n",
       "\n",
       "mpl.figure.prototype.push_to_output = function(remove_interactive) {\n",
       "    // Turn the data on the canvas into data in the output cell.\n",
       "    var width = this.canvas.width/mpl.ratio\n",
       "    var dataURL = this.canvas.toDataURL();\n",
       "    this.cell_info[1]['text/html'] = '<img src=\"' + dataURL + '\" width=\"' + width + '\">';\n",
       "}\n",
       "\n",
       "mpl.figure.prototype.updated_canvas_event = function() {\n",
       "    // Tell IPython that the notebook contents must change.\n",
       "    IPython.notebook.set_dirty(true);\n",
       "    this.send_message(\"ack\", {});\n",
       "    var fig = this;\n",
       "    // Wait a second, then push the new image to the DOM so\n",
       "    // that it is saved nicely (might be nice to debounce this).\n",
       "    setTimeout(function () { fig.push_to_output() }, 1000);\n",
       "}\n",
       "\n",
       "mpl.figure.prototype._init_toolbar = function() {\n",
       "    var fig = this;\n",
       "\n",
       "    var nav_element = $('<div/>')\n",
       "    nav_element.attr('style', 'width: 100%');\n",
       "    this.root.append(nav_element);\n",
       "\n",
       "    // Define a callback function for later on.\n",
       "    function toolbar_event(event) {\n",
       "        return fig.toolbar_button_onclick(event['data']);\n",
       "    }\n",
       "    function toolbar_mouse_event(event) {\n",
       "        return fig.toolbar_button_onmouseover(event['data']);\n",
       "    }\n",
       "\n",
       "    for(var toolbar_ind in mpl.toolbar_items){\n",
       "        var name = mpl.toolbar_items[toolbar_ind][0];\n",
       "        var tooltip = mpl.toolbar_items[toolbar_ind][1];\n",
       "        var image = mpl.toolbar_items[toolbar_ind][2];\n",
       "        var method_name = mpl.toolbar_items[toolbar_ind][3];\n",
       "\n",
       "        if (!name) { continue; };\n",
       "\n",
       "        var button = $('<button class=\"btn btn-default\" href=\"#\" title=\"' + name + '\"><i class=\"fa ' + image + ' fa-lg\"></i></button>');\n",
       "        button.click(method_name, toolbar_event);\n",
       "        button.mouseover(tooltip, toolbar_mouse_event);\n",
       "        nav_element.append(button);\n",
       "    }\n",
       "\n",
       "    // Add the status bar.\n",
       "    var status_bar = $('<span class=\"mpl-message\" style=\"text-align:right; float: right;\"/>');\n",
       "    nav_element.append(status_bar);\n",
       "    this.message = status_bar[0];\n",
       "\n",
       "    // Add the close button to the window.\n",
       "    var buttongrp = $('<div class=\"btn-group inline pull-right\"></div>');\n",
       "    var button = $('<button class=\"btn btn-mini btn-primary\" href=\"#\" title=\"Stop Interaction\"><i class=\"fa fa-power-off icon-remove icon-large\"></i></button>');\n",
       "    button.click(function (evt) { fig.handle_close(fig, {}); } );\n",
       "    button.mouseover('Stop Interaction', toolbar_mouse_event);\n",
       "    buttongrp.append(button);\n",
       "    var titlebar = this.root.find($('.ui-dialog-titlebar'));\n",
       "    titlebar.prepend(buttongrp);\n",
       "}\n",
       "\n",
       "mpl.figure.prototype._root_extra_style = function(el){\n",
       "    var fig = this\n",
       "    el.on(\"remove\", function(){\n",
       "\tfig.close_ws(fig, {});\n",
       "    });\n",
       "}\n",
       "\n",
       "mpl.figure.prototype._canvas_extra_style = function(el){\n",
       "    // this is important to make the div 'focusable\n",
       "    el.attr('tabindex', 0)\n",
       "    // reach out to IPython and tell the keyboard manager to turn it's self\n",
       "    // off when our div gets focus\n",
       "\n",
       "    // location in version 3\n",
       "    if (IPython.notebook.keyboard_manager) {\n",
       "        IPython.notebook.keyboard_manager.register_events(el);\n",
       "    }\n",
       "    else {\n",
       "        // location in version 2\n",
       "        IPython.keyboard_manager.register_events(el);\n",
       "    }\n",
       "\n",
       "}\n",
       "\n",
       "mpl.figure.prototype._key_event_extra = function(event, name) {\n",
       "    var manager = IPython.notebook.keyboard_manager;\n",
       "    if (!manager)\n",
       "        manager = IPython.keyboard_manager;\n",
       "\n",
       "    // Check for shift+enter\n",
       "    if (event.shiftKey && event.which == 13) {\n",
       "        this.canvas_div.blur();\n",
       "        event.shiftKey = false;\n",
       "        // Send a \"J\" for go to next cell\n",
       "        event.which = 74;\n",
       "        event.keyCode = 74;\n",
       "        manager.command_mode();\n",
       "        manager.handle_keydown(event);\n",
       "    }\n",
       "}\n",
       "\n",
       "mpl.figure.prototype.handle_save = function(fig, msg) {\n",
       "    fig.ondownload(fig, null);\n",
       "}\n",
       "\n",
       "\n",
       "mpl.find_output_cell = function(html_output) {\n",
       "    // Return the cell and output element which can be found *uniquely* in the notebook.\n",
       "    // Note - this is a bit hacky, but it is done because the \"notebook_saving.Notebook\"\n",
       "    // IPython event is triggered only after the cells have been serialised, which for\n",
       "    // our purposes (turning an active figure into a static one), is too late.\n",
       "    var cells = IPython.notebook.get_cells();\n",
       "    var ncells = cells.length;\n",
       "    for (var i=0; i<ncells; i++) {\n",
       "        var cell = cells[i];\n",
       "        if (cell.cell_type === 'code'){\n",
       "            for (var j=0; j<cell.output_area.outputs.length; j++) {\n",
       "                var data = cell.output_area.outputs[j];\n",
       "                if (data.data) {\n",
       "                    // IPython >= 3 moved mimebundle to data attribute of output\n",
       "                    data = data.data;\n",
       "                }\n",
       "                if (data['text/html'] == html_output) {\n",
       "                    return [cell, data, j];\n",
       "                }\n",
       "            }\n",
       "        }\n",
       "    }\n",
       "}\n",
       "\n",
       "// Register the function which deals with the matplotlib target/channel.\n",
       "// The kernel may be null if the page has been refreshed.\n",
       "if (IPython.notebook.kernel != null) {\n",
       "    IPython.notebook.kernel.comm_manager.register_target('matplotlib', mpl.mpl_figure_comm);\n",
       "}\n"
      ],
      "text/plain": [
       "<IPython.core.display.Javascript object>"
      ]
     },
     "metadata": {},
     "output_type": "display_data"
    },
    {
     "data": {
      "text/html": [
       "<img src=\"data:image/png;base64,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\" width=\"640\">"
      ],
      "text/plain": [
       "<IPython.core.display.HTML object>"
      ]
     },
     "metadata": {},
     "output_type": "display_data"
    },
    {
     "data": {
      "text/plain": [
       "(-4.5158768684213717,\n",
       " 94.833414236848796,\n",
       " -0.90751616057925766,\n",
       " 19.057839372164409)"
      ]
     },
     "execution_count": 44,
     "metadata": {},
     "output_type": "execute_result"
    }
   ],
   "source": [
    "plt.plot(x[:22],y[:22])\n",
    "plt.plot(x[:22],y[:22],'o')\n",
    "plt.plot(x[[0]+wallidxs],y[[0]+wallidxs], 'o-')\n",
    "plt.axis('equal')"
   ]
  },
  {
   "cell_type": "markdown",
   "metadata": {},
   "source": [
    "### Part (c)"
   ]
  },
  {
   "cell_type": "code",
   "execution_count": null,
   "metadata": {
    "ExecuteTime": {
     "end_time": "2017-10-12T02:58:52.944000Z",
     "start_time": "2017-10-12T02:58:51.533Z"
    },
    "collapsed": true
   },
   "outputs": [],
   "source": [
    "isenT = lambda M: 1/(1+(g-1)/2*M**2)\n",
    "isend = lambda M: isenT(M)**(1/(g-1))\n",
    "Mratio = M0/Me_pset\n",
    "Tratio = isenT(M0)/isenT(Me_pset)\n",
    "uratio = Mratio*np.sqrt(Tratio)\n",
    "dratio = isend(M0)/isend(Me_pset)\n",
    "hanlyt = uratio*dratio"
   ]
  },
  {
   "cell_type": "code",
   "execution_count": null,
   "metadata": {
    "ExecuteTime": {
     "end_time": "2017-10-12T02:58:52.946000Z",
     "start_time": "2017-10-12T02:58:51.539Z"
    }
   },
   "outputs": [],
   "source": [
    "hanlyt"
   ]
  },
  {
   "cell_type": "code",
   "execution_count": null,
   "metadata": {
    "ExecuteTime": {
     "end_time": "2017-10-12T02:58:52.948000Z",
     "start_time": "2017-10-12T02:58:51.544Z"
    }
   },
   "outputs": [],
   "source": [
    "(M0/Me_pset)*((1+(g-1)/2*Me_pset**2)/(1+(g-1)/2*M0**2))**((g+1)/(2*(g-1)))"
   ]
  },
  {
   "cell_type": "markdown",
   "metadata": {
    "ExecuteTime": {
     "end_time": "2017-10-11T15:52:59.117000Z",
     "start_time": "2017-10-11T11:52:59.109000-04:00"
    }
   },
   "source": [
    "### Pressure"
   ]
  },
  {
   "cell_type": "code",
   "execution_count": 57,
   "metadata": {
    "ExecuteTime": {
     "end_time": "2017-10-12T03:46:22.047000Z",
     "start_time": "2017-10-11T23:46:22.042000-04:00"
    },
    "collapsed": true
   },
   "outputs": [],
   "source": [
    "dh = np.diff(y[allwallidxs])"
   ]
  },
  {
   "cell_type": "code",
   "execution_count": 58,
   "metadata": {
    "ExecuteTime": {
     "end_time": "2017-10-12T03:46:30.775000Z",
     "start_time": "2017-10-11T23:46:30.768000-04:00"
    },
    "collapsed": true
   },
   "outputs": [],
   "source": [
    "def moving_average(a, n=2) :\n",
    "    ret = np.cumsum(a, dtype=float)\n",
    "    ret[n:] = ret[n:] - ret[:-n]\n",
    "    return ret[n - 1:] / n"
   ]
  },
  {
   "cell_type": "code",
   "execution_count": 62,
   "metadata": {
    "ExecuteTime": {
     "end_time": "2017-10-12T03:48:49.757000Z",
     "start_time": "2017-10-11T23:48:49.752000-04:00"
    },
    "collapsed": true
   },
   "outputs": [],
   "source": [
    "prewallidx = [0, 6, 11, 15, 18, 20, 21]"
   ]
  },
  {
   "cell_type": "code",
   "execution_count": 87,
   "metadata": {
    "ExecuteTime": {
     "end_time": "2017-10-12T04:02:52.450000Z",
     "start_time": "2017-10-12T00:02:52.444000-04:00"
    }
   },
   "outputs": [],
   "source": [
    "wall_pressures = table[\"P/Pc\"].iloc[prewallidx].values\n",
    "wall_pressures_segment = moving_average(wall_pressures) - wall_pressures[-1]"
   ]
  },
  {
   "cell_type": "code",
   "execution_count": 88,
   "metadata": {
    "ExecuteTime": {
     "end_time": "2017-10-12T04:02:53.124000Z",
     "start_time": "2017-10-12T00:02:53.111000-04:00"
    }
   },
   "outputs": [
    {
     "data": {
      "text/plain": [
       "0.44435779038862849"
      ]
     },
     "execution_count": 88,
     "metadata": {},
     "output_type": "execute_result"
    }
   ],
   "source": [
    "thrust_coeff = np.sum(wall_pressures_segment *dh)\n",
    "thrust_coeff"
   ]
  },
  {
   "cell_type": "code",
   "execution_count": 89,
   "metadata": {
    "ExecuteTime": {
     "end_time": "2017-10-12T04:02:54.370000Z",
     "start_time": "2017-10-12T00:02:54.359000-04:00"
    }
   },
   "outputs": [],
   "source": [
    "truncated_thrust_coeff = np.sum(wall_pressures_segment[:-1] *dh[:-1])\n",
    "loss_in_thrust = (1-truncated_thrust_coeff/thrust_coeff)*100"
   ]
  },
  {
   "cell_type": "code",
   "execution_count": 90,
   "metadata": {
    "ExecuteTime": {
     "end_time": "2017-10-12T04:02:54.692000Z",
     "start_time": "2017-10-12T00:02:54.684000-04:00"
    }
   },
   "outputs": [
    {
     "data": {
      "text/plain": [
       "'Loss in thrust = 1.538807 %'"
      ]
     },
     "execution_count": 90,
     "metadata": {},
     "output_type": "execute_result"
    }
   ],
   "source": [
    "\"Loss in thrust = %f %%\" % loss_in_thrust"
   ]
  },
  {
   "cell_type": "code",
   "execution_count": null,
   "metadata": {
    "collapsed": true
   },
   "outputs": [],
   "source": []
  }
 ],
 "metadata": {
  "kernelspec": {
   "display_name": "Python [default]",
   "language": "python",
   "name": "python2"
  },
  "toc": {
   "colors": {
    "hover_highlight": "#DAA520",
    "navigate_num": "#000000",
    "navigate_text": "#333333",
    "running_highlight": "#FF0000",
    "selected_highlight": "#FFD700",
    "sidebar_border": "#EEEEEE",
    "wrapper_background": "#FFFFFF"
   },
   "moveMenuLeft": true,
   "nav_menu": {
    "height": "31px",
    "width": "252px"
   },
   "navigate_menu": true,
   "number_sections": true,
   "sideBar": true,
   "threshold": 4,
   "toc_cell": false,
   "toc_section_display": "block",
   "toc_window_display": false,
   "widenNotebook": false
  },
  "varInspector": {
   "cols": {
    "lenName": 16,
    "lenType": 16,
    "lenVar": 40
   },
   "kernels_config": {
    "python": {
     "delete_cmd_postfix": "",
     "delete_cmd_prefix": "del ",
     "library": "var_list.py",
     "varRefreshCmd": "print(var_dic_list())"
    },
    "r": {
     "delete_cmd_postfix": ") ",
     "delete_cmd_prefix": "rm(",
     "library": "var_list.r",
     "varRefreshCmd": "cat(var_dic_list()) "
    }
   },
   "types_to_exclude": [
    "module",
    "function",
    "builtin_function_or_method",
    "instance",
    "_Feature"
   ],
   "window_display": false
  }
 },
 "nbformat": 4,
 "nbformat_minor": 2
}
