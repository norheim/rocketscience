{
 "cells": [
  {
   "cell_type": "code",
   "execution_count": 1,
   "metadata": {
    "ExecuteTime": {
     "end_time": "2017-10-06T15:57:34.125000Z",
     "start_time": "2017-10-06T11:57:33.931000-04:00"
    },
    "collapsed": true
   },
   "outputs": [],
   "source": [
    "import numpy as np"
   ]
  },
  {
   "cell_type": "code",
   "execution_count": 2,
   "metadata": {
    "ExecuteTime": {
     "end_time": "2017-10-06T15:57:34.224000Z",
     "start_time": "2017-10-06T11:57:34.216000-04:00"
    },
    "collapsed": true
   },
   "outputs": [],
   "source": [
    "M0 = 1.1\n",
    "Me = 3\n",
    "k = 3"
   ]
  },
  {
   "cell_type": "code",
   "execution_count": 3,
   "metadata": {
    "ExecuteTime": {
     "end_time": "2017-10-06T15:57:34.728000Z",
     "start_time": "2017-10-06T11:57:34.724000-04:00"
    },
    "collapsed": true
   },
   "outputs": [],
   "source": [
    "w = lambda M: np.degrees(k*np.arctan(np.sqrt(M**2-1)/k)-np.arctan(np.sqrt(M**2-1)))"
   ]
  },
  {
   "cell_type": "code",
   "execution_count": 6,
   "metadata": {
    "ExecuteTime": {
     "end_time": "2017-10-06T15:57:43.422000Z",
     "start_time": "2017-10-06T11:57:43.414000-04:00"
    },
    "collapsed": false
   },
   "outputs": [],
   "source": [
    "thw = lambda Ip, Im: (0.5*(Ip+Im), 0.5*(Ip-Im))"
   ]
  },
  {
   "cell_type": "code",
   "execution_count": 7,
   "metadata": {
    "ExecuteTime": {
     "end_time": "2017-10-06T15:57:43.983000Z",
     "start_time": "2017-10-06T11:57:43.979000-04:00"
    },
    "collapsed": false
   },
   "outputs": [],
   "source": [
    "Iminus_center = lambda incoming_Ip: -incoming_Ip\n",
    "thw_center = lambda incoming_Ip: (0, incoming_Ip)"
   ]
  },
  {
   "cell_type": "code",
   "execution_count": 14,
   "metadata": {
    "ExecuteTime": {
     "end_time": "2017-10-06T16:01:04.874000Z",
     "start_time": "2017-10-06T12:01:04.866000-04:00"
    },
    "collapsed": false
   },
   "outputs": [],
   "source": [
    "th_0 = 0\n",
    "th_e = 0\n",
    "w_0 = w(M0)\n",
    "w_e = w(Me)\n",
    "Im_1 = th_0-w_0\n",
    "Ip_1 = th_0+w_0\n",
    "Ip_e = th_e+w_e"
   ]
  },
  {
   "cell_type": "code",
   "execution_count": 15,
   "metadata": {
    "ExecuteTime": {
     "end_time": "2017-10-06T16:01:05.083000Z",
     "start_time": "2017-10-06T12:01:05.079000-04:00"
    },
    "collapsed": false
   },
   "outputs": [],
   "source": [
    "_, Ip_5, Ip_8, Ip_10 = np.linspace(Ip_1, Ip_e, 4)"
   ]
  },
  {
   "cell_type": "code",
   "execution_count": 16,
   "metadata": {
    "ExecuteTime": {
     "end_time": "2017-10-06T16:01:05.467000Z",
     "start_time": "2017-10-06T12:01:05.459000-04:00"
    },
    "collapsed": true
   },
   "outputs": [],
   "source": [
    "th_2, w_2 = thw(Ip_5, Im_1)\n",
    "th_3, w_3 = thw(Ip_8, Im_1)\n",
    "th_4, w_4 = thw(Ip_10, Im_1)\n",
    "th_5, w_5 = thw_center(Ip_5)\n",
    "Im_5 = Iminus_center(Ip_5)\n",
    "th_6, w_6 = thw(Ip_8, Im_5)\n",
    "th_7, w_7 = thw(Ip_10,Im_5)\n",
    "th_8, w_8 = thw_center(Ip_8)\n",
    "Im_8 = Iminus_center(Ip_8)\n",
    "th_9, w_9 = thw(Ip_10, Im_8)\n",
    "th_10, w_10 = thw_center(Ip_10)"
   ]
  },
  {
   "cell_type": "code",
   "execution_count": 9,
   "metadata": {
    "ExecuteTime": {
     "end_time": "2017-10-06T15:57:45.685000Z",
     "start_time": "2017-10-06T11:57:45.669000-04:00"
    },
    "collapsed": false
   },
   "outputs": [
    {
     "data": {
      "text/plain": [
       "(9.6629910245273649, 49.749799584812493, 0, 59.412790609339858)"
      ]
     },
     "execution_count": 9,
     "metadata": {},
     "output_type": "execute_result"
    }
   ],
   "source": [
    "th_9, w_9, th_10, w_10"
   ]
  },
  {
   "cell_type": "markdown",
   "metadata": {},
   "source": [
    "### Pset"
   ]
  },
  {
   "cell_type": "code",
   "execution_count": 17,
   "metadata": {
    "ExecuteTime": {
     "end_time": "2017-10-06T16:01:10.107000Z",
     "start_time": "2017-10-06T12:01:10.099000-04:00"
    },
    "collapsed": true
   },
   "outputs": [],
   "source": [
    "Me_pset = 4\n",
    "th_0 = 0\n",
    "th_e = 0\n",
    "w_0 = w(M0)\n",
    "w_e = w(Me_pset)\n",
    "Im_1 = th_0-w_0\n",
    "Ip_1 = th_0+w_0\n",
    "Ip_e = th_e+w_e"
   ]
  },
  {
   "cell_type": "code",
   "execution_count": 18,
   "metadata": {
    "ExecuteTime": {
     "end_time": "2017-10-06T16:01:14.695000Z",
     "start_time": "2017-10-06T12:01:14.687000-04:00"
    },
    "collapsed": true
   },
   "outputs": [],
   "source": [
    "_, Ip_7, Ip_12, Ip_16, Ip_19, Ip_21 = np.linspace(Ip_1, Ip_e, 6)"
   ]
  },
  {
   "cell_type": "code",
   "execution_count": 19,
   "metadata": {
    "ExecuteTime": {
     "end_time": "2017-10-06T16:02:26.127000Z",
     "start_time": "2017-10-06T12:02:26.123000-04:00"
    },
    "collapsed": true
   },
   "outputs": [],
   "source": [
    "th_2, w_2 = thw(Ip_7, Im_1)\n",
    "th_3, w_3 = thw(Ip_12, Im_1)\n",
    "th_4, w_4 = thw(Ip_16, Im_1)\n",
    "th_5, w_5 = thw(Ip_19, Im_1)\n",
    "th_6, w_6 = thw(Ip_21, Im_1)"
   ]
  },
  {
   "cell_type": "code",
   "execution_count": 20,
   "metadata": {
    "ExecuteTime": {
     "end_time": "2017-10-06T16:03:01.593000Z",
     "start_time": "2017-10-06T12:03:01.585000-04:00"
    },
    "collapsed": true
   },
   "outputs": [],
   "source": [
    "th_7, w_7 = thw_center(Ip_7)\n",
    "Im_7 = Iminus_center(Ip_7)"
   ]
  },
  {
   "cell_type": "code",
   "execution_count": 23,
   "metadata": {
    "ExecuteTime": {
     "end_time": "2017-10-06T16:04:42.548000Z",
     "start_time": "2017-10-06T12:04:42.544000-04:00"
    },
    "collapsed": false
   },
   "outputs": [],
   "source": [
    "th_8, w_8 = thw(Ip_7, Im_8)\n",
    "th_9, w_9 = thw(Ip_12, Im_8)\n",
    "th_10, w_10 = thw(Ip_16, Im_8)\n",
    "th_11, w_11 = thw(Ip_19, Im_8)"
   ]
  },
  {
   "cell_type": "code",
   "execution_count": null,
   "metadata": {
    "collapsed": true
   },
   "outputs": [],
   "source": []
  }
 ],
 "metadata": {
  "kernelspec": {
   "display_name": "Python [conda root]",
   "language": "python",
   "name": "conda-root-py"
  },
  "language_info": {
   "codemirror_mode": {
    "name": "ipython",
    "version": 2
   },
   "file_extension": ".py",
   "mimetype": "text/x-python",
   "name": "python",
   "nbconvert_exporter": "python",
   "pygments_lexer": "ipython2",
   "version": "2.7.12"
  },
  "toc": {
   "colors": {
    "hover_highlight": "#DAA520",
    "navigate_num": "#000000",
    "navigate_text": "#333333",
    "running_highlight": "#FF0000",
    "selected_highlight": "#FFD700",
    "sidebar_border": "#EEEEEE",
    "wrapper_background": "#FFFFFF"
   },
   "moveMenuLeft": true,
   "nav_menu": {
    "height": "31px",
    "width": "252px"
   },
   "navigate_menu": true,
   "number_sections": true,
   "sideBar": true,
   "threshold": 4,
   "toc_cell": false,
   "toc_section_display": "block",
   "toc_window_display": false,
   "widenNotebook": false
  }
 },
 "nbformat": 4,
 "nbformat_minor": 2
}
