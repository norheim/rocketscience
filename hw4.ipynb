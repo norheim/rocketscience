{
 "cells": [
  {
   "cell_type": "code",
   "execution_count": 1,
   "metadata": {
    "ExecuteTime": {
     "end_time": "2017-10-11T20:05:07.444000Z",
     "start_time": "2017-10-11T16:05:07.144000-04:00"
    },
    "collapsed": true
   },
   "outputs": [],
   "source": [
    "import numpy as np"
   ]
  },
  {
   "cell_type": "code",
   "execution_count": 2,
   "metadata": {
    "ExecuteTime": {
     "end_time": "2017-10-11T20:05:08.263000Z",
     "start_time": "2017-10-11T16:05:07.556000-04:00"
    },
    "collapsed": true
   },
   "outputs": [],
   "source": [
    "import matplotlib.pyplot as plt"
   ]
  },
  {
   "cell_type": "code",
   "execution_count": 3,
   "metadata": {
    "ExecuteTime": {
     "end_time": "2017-10-11T20:05:09.295000Z",
     "start_time": "2017-10-11T16:05:08.295000-04:00"
    },
    "collapsed": true
   },
   "outputs": [],
   "source": [
    "from scipy.optimize import fsolve"
   ]
  },
  {
   "cell_type": "code",
   "execution_count": 4,
   "metadata": {
    "ExecuteTime": {
     "end_time": "2017-10-11T20:05:10.018000Z",
     "start_time": "2017-10-11T16:05:09.317000-04:00"
    },
    "collapsed": true
   },
   "outputs": [],
   "source": [
    "import pandas as pd"
   ]
  },
  {
   "cell_type": "code",
   "execution_count": 5,
   "metadata": {
    "ExecuteTime": {
     "end_time": "2017-10-11T20:05:10.049000Z",
     "start_time": "2017-10-11T16:05:10.041000-04:00"
    },
    "collapsed": true
   },
   "outputs": [],
   "source": [
    "M0 = 1.1\n",
    "Me = 3\n",
    "g = 1.25\n",
    "k = 3"
   ]
  },
  {
   "cell_type": "code",
   "execution_count": 6,
   "metadata": {
    "ExecuteTime": {
     "end_time": "2017-10-11T20:05:10.077000Z",
     "start_time": "2017-10-11T16:05:10.065000-04:00"
    },
    "collapsed": true
   },
   "outputs": [],
   "source": [
    "wM = lambda M: np.degrees(k*np.arctan(np.sqrt(M**2-1)/k)-np.arctan(np.sqrt(M**2-1)))"
   ]
  },
  {
   "cell_type": "code",
   "execution_count": 7,
   "metadata": {
    "ExecuteTime": {
     "end_time": "2017-10-11T20:05:10.142000Z",
     "start_time": "2017-10-11T16:05:10.138000-04:00"
    },
    "collapsed": true
   },
   "outputs": [],
   "source": [
    "Mw = lambda win: fsolve(lambda M: wM(M)-win, 2)[0]"
   ]
  },
  {
   "cell_type": "code",
   "execution_count": 8,
   "metadata": {
    "ExecuteTime": {
     "end_time": "2017-10-11T20:05:10.580000Z",
     "start_time": "2017-10-11T16:05:10.556000-04:00"
    }
   },
   "outputs": [
    {
     "data": {
      "text/plain": [
       "2.9838025063160498"
      ]
     },
     "execution_count": 8,
     "metadata": {},
     "output_type": "execute_result"
    }
   ],
   "source": [
    "Mw(59)"
   ]
  },
  {
   "cell_type": "code",
   "execution_count": 9,
   "metadata": {
    "ExecuteTime": {
     "end_time": "2017-10-11T20:05:11.096000Z",
     "start_time": "2017-10-11T16:05:11.076000-04:00"
    }
   },
   "outputs": [
    {
     "data": {
      "text/plain": [
       "59.412790609339858"
      ]
     },
     "execution_count": 9,
     "metadata": {},
     "output_type": "execute_result"
    }
   ],
   "source": [
    "wM(3)"
   ]
  },
  {
   "cell_type": "code",
   "execution_count": 10,
   "metadata": {
    "ExecuteTime": {
     "end_time": "2017-10-11T20:05:11.592000Z",
     "start_time": "2017-10-11T16:05:11.588000-04:00"
    }
   },
   "outputs": [
    {
     "data": {
      "text/plain": [
       "2.0"
      ]
     },
     "execution_count": 10,
     "metadata": {},
     "output_type": "execute_result"
    }
   ],
   "source": [
    "Mw(wM(2))"
   ]
  },
  {
   "cell_type": "code",
   "execution_count": 11,
   "metadata": {
    "ExecuteTime": {
     "end_time": "2017-10-11T20:05:12.097000Z",
     "start_time": "2017-10-11T16:05:12.085000-04:00"
    },
    "collapsed": true
   },
   "outputs": [],
   "source": [
    "thw = lambda Ip, Im: (0.5*(Ip+Im), 0.5*(Ip-Im))"
   ]
  },
  {
   "cell_type": "code",
   "execution_count": 12,
   "metadata": {
    "ExecuteTime": {
     "end_time": "2017-10-11T20:05:13.223000Z",
     "start_time": "2017-10-11T16:05:13.211000-04:00"
    },
    "collapsed": true
   },
   "outputs": [],
   "source": [
    "Iminus_center = lambda incoming_Ip: -incoming_Ip\n",
    "thw_center = lambda incoming_Ip: (0, incoming_Ip)"
   ]
  },
  {
   "cell_type": "code",
   "execution_count": 15,
   "metadata": {
    "ExecuteTime": {
     "end_time": "2017-10-11T20:05:44.380000Z",
     "start_time": "2017-10-11T16:05:44.372000-04:00"
    }
   },
   "outputs": [],
   "source": [
    "#th_0 = 0\n",
    "#th_e = 0\n",
    "#w_0 = w(M0)\n",
    "#w_e = w(Me)\n",
    "#Im_1 = th_0-w_0\n",
    "#Ip_1 = th_0+w_0\n",
    "#Ip_e = th_e+w_e"
   ]
  },
  {
   "cell_type": "code",
   "execution_count": 16,
   "metadata": {
    "ExecuteTime": {
     "end_time": "2017-10-11T20:05:46.510000Z",
     "start_time": "2017-10-11T16:05:46.500000-04:00"
    }
   },
   "outputs": [],
   "source": [
    "#_, Ip_5, Ip_8, Ip_10 = np.linspace(Ip_1, Ip_e, 4)"
   ]
  },
  {
   "cell_type": "code",
   "execution_count": 17,
   "metadata": {
    "ExecuteTime": {
     "end_time": "2017-10-11T20:05:58.147000Z",
     "start_time": "2017-10-11T16:05:58.143000-04:00"
    },
    "collapsed": true
   },
   "outputs": [],
   "source": [
    "#th_2, w_2 = thw(Ip_5, Im_1)\n",
    "#th_3, w_3 = thw(Ip_8, Im_1)\n",
    "#th_4, w_4 = thw(Ip_10, Im_1)\n",
    "#th_5, w_5 = thw_center(Ip_5)\n",
    "#Im_5 = Iminus_center(Ip_5)\n",
    "#th_6, w_6 = thw(Ip_8, Im_5)\n",
    "#th_7, w_7 = thw(Ip_10,Im_5)\n",
    "#th_8, w_8 = thw_center(Ip_8)\n",
    "#Im_8 = Iminus_center(Ip_8)\n",
    "#th_9, w_9 = thw(Ip_10, Im_8)\n",
    "#th_10, w_10 = thw_center(Ip_10)"
   ]
  },
  {
   "cell_type": "code",
   "execution_count": 18,
   "metadata": {
    "ExecuteTime": {
     "end_time": "2017-10-11T20:06:00.784000Z",
     "start_time": "2017-10-11T16:06:00.780000-04:00"
    }
   },
   "outputs": [],
   "source": [
    "#th_9, w_9, th_10, w_10"
   ]
  },
  {
   "cell_type": "markdown",
   "metadata": {},
   "source": [
    "### Pset"
   ]
  },
  {
   "cell_type": "code",
   "execution_count": 19,
   "metadata": {
    "ExecuteTime": {
     "end_time": "2017-10-11T20:06:02.060000Z",
     "start_time": "2017-10-11T16:06:02.048000-04:00"
    },
    "collapsed": true
   },
   "outputs": [],
   "source": [
    "Me_pset = 4\n",
    "discretization = 22\n",
    "line_number = 6\n",
    "th = np.empty(discretization)\n",
    "w = np.empty(discretization)\n",
    "th_0, th_e = 0,0\n",
    "th[0] = th[1] = th_0\n",
    "#th[-1] = th_e\n",
    "w_0, w_e = wM(M0), wM(Me_pset)\n",
    "w[0] = w[1] = w_0\n",
    "#w[-1] = w_e\n",
    "Im_1 = th_0-w_0\n",
    "Ip_1 = th_0+w_0\n",
    "Ip_e = th_e+w_e"
   ]
  },
  {
   "cell_type": "markdown",
   "metadata": {},
   "source": [
    "## Part (a)"
   ]
  },
  {
   "cell_type": "code",
   "execution_count": 20,
   "metadata": {
    "ExecuteTime": {
     "end_time": "2017-10-11T20:06:05.527000Z",
     "start_time": "2017-10-11T16:06:05.523000-04:00"
    },
    "collapsed": true
   },
   "outputs": [],
   "source": [
    "Ips = np.linspace(Ip_1, Ip_e, line_number)"
   ]
  },
  {
   "cell_type": "code",
   "execution_count": 21,
   "metadata": {
    "ExecuteTime": {
     "end_time": "2017-10-11T20:06:06.136000Z",
     "start_time": "2017-10-11T16:06:06.120000-04:00"
    },
    "collapsed": true
   },
   "outputs": [],
   "source": [
    "display = lambda idx, th, w, opt=\"\": print(idx, opt, w, th)"
   ]
  },
  {
   "cell_type": "code",
   "execution_count": 22,
   "metadata": {
    "ExecuteTime": {
     "end_time": "2017-10-11T20:06:06.587000Z",
     "start_time": "2017-10-11T16:06:06.515000-04:00"
    }
   },
   "outputs": [
    {
     "name": "stdout",
     "output_type": "stream",
     "text": [
      "0  1.43484446218 0.0\n",
      "1  1.43484446218 0.0\n",
      "2  9.41073806244 7.97589360026\n",
      "3  17.3866316627 15.9517872005\n",
      "4  25.362525263 23.9276808008\n",
      "5  33.3384188632 31.9035744011\n",
      "6  41.3143124635 39.8794680013\n",
      "7 center 17.3866316627 0.0\n",
      "8  25.362525263 7.97589360026\n",
      "9  33.3384188632 15.9517872005\n",
      "10  41.3143124635 23.9276808008\n",
      "11  49.2902060638 31.9035744011\n",
      "12 center 33.3384188632 0.0\n",
      "13  41.3143124635 7.97589360026\n",
      "14  49.2902060638 15.9517872005\n",
      "15  57.266099664 23.9276808008\n",
      "16 center 49.2902060638 0.0\n",
      "17  57.266099664 7.97589360026\n",
      "18  65.2419932643 15.9517872005\n",
      "19 center 65.2419932643 0.0\n",
      "20  73.2178868646 7.97589360026\n",
      "21 center 81.1937804648 0.0\n"
     ]
    }
   ],
   "source": [
    "Im = Im_1\n",
    "display(0, th[0], w[0])\n",
    "display(1, th[1], w[1])\n",
    "idx = 1\n",
    "for Im_counter in range(line_number-1):\n",
    "    idx +=1\n",
    "    for counter, Ip_i in enumerate(Ips[Im_counter+1:]):\n",
    "        th[idx], w[idx] = thw(Ip_i, Im)\n",
    "        display(idx, th[idx], w[idx])\n",
    "        idx +=1\n",
    "    th[idx], w[idx] = thw_center(Ips[Im_counter+1])\n",
    "    display(idx, th[idx], w[idx], \"center\")\n",
    "    Im = Iminus_center(Ips[Im_counter+1])"
   ]
  },
  {
   "cell_type": "code",
   "execution_count": 23,
   "metadata": {
    "ExecuteTime": {
     "end_time": "2017-10-11T20:06:07.187000Z",
     "start_time": "2017-10-11T16:06:07.156000-04:00"
    },
    "collapsed": true
   },
   "outputs": [],
   "source": [
    "table = pd.DataFrame()\n",
    "table[\"omegas\"], table[\"thetas\"] = w, th"
   ]
  },
  {
   "cell_type": "code",
   "execution_count": 24,
   "metadata": {
    "ExecuteTime": {
     "end_time": "2017-10-11T20:06:07.973000Z",
     "start_time": "2017-10-11T16:06:07.909000-04:00"
    },
    "collapsed": true
   },
   "outputs": [],
   "source": [
    "table[\"M\"] = table[\"omegas\"].apply(Mw)\n",
    "table[\"mu\"] = table[\"M\"].apply(lambda M: np.degrees(np.arctan(1/np.sqrt(M**2-1))))\n",
    "table[\"th+mu\"] = table[\"thetas\"]+table[\"mu\"]\n",
    "table[\"th-mu\"] = table[\"thetas\"]-table[\"mu\"]\n",
    "table[\"I+\"] = table[\"thetas\"]+table[\"omegas\"]\n",
    "table[\"I-\"] = table[\"thetas\"]-table[\"omegas\"]\n",
    "table[\"P/Pc\"] = table[\"M\"].apply(lambda M: (1+(g-1)/2*M**2)**(-g/(g-1)))\n",
    "table[\"alphas\"] = -np.radians(table[\"th-mu\"])\n",
    "table[\"betas\"] = np.radians(table[\"th+mu\"])"
   ]
  },
  {
   "cell_type": "code",
   "execution_count": 25,
   "metadata": {
    "ExecuteTime": {
     "end_time": "2017-10-11T20:06:08.486000Z",
     "start_time": "2017-10-11T16:06:08.421000-04:00"
    }
   },
   "outputs": [
    {
     "data": {
      "text/html": [
       "<div>\n",
       "<table border=\"1\" class=\"dataframe\">\n",
       "  <thead>\n",
       "    <tr style=\"text-align: right;\">\n",
       "      <th></th>\n",
       "      <th>M</th>\n",
       "      <th>I+</th>\n",
       "      <th>I-</th>\n",
       "      <th>omegas</th>\n",
       "      <th>thetas</th>\n",
       "      <th>mu</th>\n",
       "      <th>th+mu</th>\n",
       "      <th>th-mu</th>\n",
       "      <th>P/Pc</th>\n",
       "      <th>alphas</th>\n",
       "      <th>betas</th>\n",
       "    </tr>\n",
       "  </thead>\n",
       "  <tbody>\n",
       "    <tr>\n",
       "      <th>0</th>\n",
       "      <td>1.100000</td>\n",
       "      <td>1.434844</td>\n",
       "      <td>-1.434844</td>\n",
       "      <td>1.434844</td>\n",
       "      <td>0.000000</td>\n",
       "      <td>65.380023</td>\n",
       "      <td>65.380023</td>\n",
       "      <td>-65.380023</td>\n",
       "      <td>0.494483</td>\n",
       "      <td>1.141097</td>\n",
       "      <td>1.141097</td>\n",
       "    </tr>\n",
       "    <tr>\n",
       "      <th>1</th>\n",
       "      <td>1.100000</td>\n",
       "      <td>1.434844</td>\n",
       "      <td>-1.434844</td>\n",
       "      <td>1.434844</td>\n",
       "      <td>0.000000</td>\n",
       "      <td>65.380023</td>\n",
       "      <td>65.380023</td>\n",
       "      <td>-65.380023</td>\n",
       "      <td>0.494483</td>\n",
       "      <td>1.141097</td>\n",
       "      <td>1.141097</td>\n",
       "    </tr>\n",
       "    <tr>\n",
       "      <th>2</th>\n",
       "      <td>1.386455</td>\n",
       "      <td>17.386632</td>\n",
       "      <td>-1.434844</td>\n",
       "      <td>9.410738</td>\n",
       "      <td>7.975894</td>\n",
       "      <td>46.158937</td>\n",
       "      <td>54.134831</td>\n",
       "      <td>-38.183043</td>\n",
       "      <td>0.340720</td>\n",
       "      <td>0.666420</td>\n",
       "      <td>0.944831</td>\n",
       "    </tr>\n",
       "    <tr>\n",
       "      <th>3</th>\n",
       "      <td>1.626345</td>\n",
       "      <td>33.338419</td>\n",
       "      <td>-1.434844</td>\n",
       "      <td>17.386632</td>\n",
       "      <td>15.951787</td>\n",
       "      <td>37.942890</td>\n",
       "      <td>53.894677</td>\n",
       "      <td>-21.991103</td>\n",
       "      <td>0.239730</td>\n",
       "      <td>0.383817</td>\n",
       "      <td>0.940640</td>\n",
       "    </tr>\n",
       "    <tr>\n",
       "      <th>4</th>\n",
       "      <td>1.861247</td>\n",
       "      <td>49.290206</td>\n",
       "      <td>-1.434844</td>\n",
       "      <td>25.362525</td>\n",
       "      <td>23.927681</td>\n",
       "      <td>32.498265</td>\n",
       "      <td>56.425946</td>\n",
       "      <td>-8.570585</td>\n",
       "      <td>0.165471</td>\n",
       "      <td>0.149585</td>\n",
       "      <td>0.984819</td>\n",
       "    </tr>\n",
       "    <tr>\n",
       "      <th>5</th>\n",
       "      <td>2.101839</td>\n",
       "      <td>65.241993</td>\n",
       "      <td>-1.434844</td>\n",
       "      <td>33.338419</td>\n",
       "      <td>31.903574</td>\n",
       "      <td>28.409749</td>\n",
       "      <td>60.313323</td>\n",
       "      <td>3.493826</td>\n",
       "      <td>0.110979</td>\n",
       "      <td>-0.060979</td>\n",
       "      <td>1.052666</td>\n",
       "    </tr>\n",
       "    <tr>\n",
       "      <th>6</th>\n",
       "      <td>2.354392</td>\n",
       "      <td>81.193780</td>\n",
       "      <td>-1.434844</td>\n",
       "      <td>41.314312</td>\n",
       "      <td>39.879468</td>\n",
       "      <td>25.134084</td>\n",
       "      <td>65.013552</td>\n",
       "      <td>14.745384</td>\n",
       "      <td>0.071920</td>\n",
       "      <td>-0.257355</td>\n",
       "      <td>1.134701</td>\n",
       "    </tr>\n",
       "    <tr>\n",
       "      <th>7</th>\n",
       "      <td>1.626345</td>\n",
       "      <td>17.386632</td>\n",
       "      <td>-17.386632</td>\n",
       "      <td>17.386632</td>\n",
       "      <td>0.000000</td>\n",
       "      <td>37.942890</td>\n",
       "      <td>37.942890</td>\n",
       "      <td>-37.942890</td>\n",
       "      <td>0.239730</td>\n",
       "      <td>0.662228</td>\n",
       "      <td>0.662228</td>\n",
       "    </tr>\n",
       "    <tr>\n",
       "      <th>8</th>\n",
       "      <td>1.861247</td>\n",
       "      <td>33.338419</td>\n",
       "      <td>-17.386632</td>\n",
       "      <td>25.362525</td>\n",
       "      <td>7.975894</td>\n",
       "      <td>32.498265</td>\n",
       "      <td>40.474159</td>\n",
       "      <td>-24.522372</td>\n",
       "      <td>0.165471</td>\n",
       "      <td>0.427996</td>\n",
       "      <td>0.706407</td>\n",
       "    </tr>\n",
       "    <tr>\n",
       "      <th>9</th>\n",
       "      <td>2.101839</td>\n",
       "      <td>49.290206</td>\n",
       "      <td>-17.386632</td>\n",
       "      <td>33.338419</td>\n",
       "      <td>15.951787</td>\n",
       "      <td>28.409749</td>\n",
       "      <td>44.361536</td>\n",
       "      <td>-12.457962</td>\n",
       "      <td>0.110979</td>\n",
       "      <td>0.217432</td>\n",
       "      <td>0.774255</td>\n",
       "    </tr>\n",
       "    <tr>\n",
       "      <th>10</th>\n",
       "      <td>2.354392</td>\n",
       "      <td>65.241993</td>\n",
       "      <td>-17.386632</td>\n",
       "      <td>41.314312</td>\n",
       "      <td>23.927681</td>\n",
       "      <td>25.134084</td>\n",
       "      <td>49.061765</td>\n",
       "      <td>-1.206403</td>\n",
       "      <td>0.071920</td>\n",
       "      <td>0.021056</td>\n",
       "      <td>0.856289</td>\n",
       "    </tr>\n",
       "    <tr>\n",
       "      <th>11</th>\n",
       "      <td>2.624186</td>\n",
       "      <td>81.193780</td>\n",
       "      <td>-17.386632</td>\n",
       "      <td>49.290206</td>\n",
       "      <td>31.903574</td>\n",
       "      <td>22.400011</td>\n",
       "      <td>54.303585</td>\n",
       "      <td>9.503564</td>\n",
       "      <td>0.044824</td>\n",
       "      <td>-0.165868</td>\n",
       "      <td>0.947776</td>\n",
       "    </tr>\n",
       "    <tr>\n",
       "      <th>12</th>\n",
       "      <td>2.101839</td>\n",
       "      <td>33.338419</td>\n",
       "      <td>-33.338419</td>\n",
       "      <td>33.338419</td>\n",
       "      <td>0.000000</td>\n",
       "      <td>28.409749</td>\n",
       "      <td>28.409749</td>\n",
       "      <td>-28.409749</td>\n",
       "      <td>0.110979</td>\n",
       "      <td>0.495844</td>\n",
       "      <td>0.495844</td>\n",
       "    </tr>\n",
       "    <tr>\n",
       "      <th>13</th>\n",
       "      <td>2.354392</td>\n",
       "      <td>49.290206</td>\n",
       "      <td>-33.338419</td>\n",
       "      <td>41.314312</td>\n",
       "      <td>7.975894</td>\n",
       "      <td>25.134084</td>\n",
       "      <td>33.109978</td>\n",
       "      <td>-17.158190</td>\n",
       "      <td>0.071920</td>\n",
       "      <td>0.299467</td>\n",
       "      <td>0.577878</td>\n",
       "    </tr>\n",
       "    <tr>\n",
       "      <th>14</th>\n",
       "      <td>2.624186</td>\n",
       "      <td>65.241993</td>\n",
       "      <td>-33.338419</td>\n",
       "      <td>49.290206</td>\n",
       "      <td>15.951787</td>\n",
       "      <td>22.400011</td>\n",
       "      <td>38.351798</td>\n",
       "      <td>-6.448223</td>\n",
       "      <td>0.044824</td>\n",
       "      <td>0.112543</td>\n",
       "      <td>0.669365</td>\n",
       "    </tr>\n",
       "    <tr>\n",
       "      <th>15</th>\n",
       "      <td>2.916640</td>\n",
       "      <td>81.193780</td>\n",
       "      <td>-33.338419</td>\n",
       "      <td>57.266100</td>\n",
       "      <td>23.927681</td>\n",
       "      <td>20.051231</td>\n",
       "      <td>43.978912</td>\n",
       "      <td>3.876450</td>\n",
       "      <td>0.026738</td>\n",
       "      <td>-0.067657</td>\n",
       "      <td>0.767577</td>\n",
       "    </tr>\n",
       "    <tr>\n",
       "      <th>16</th>\n",
       "      <td>2.624186</td>\n",
       "      <td>49.290206</td>\n",
       "      <td>-49.290206</td>\n",
       "      <td>49.290206</td>\n",
       "      <td>0.000000</td>\n",
       "      <td>22.400011</td>\n",
       "      <td>22.400011</td>\n",
       "      <td>-22.400011</td>\n",
       "      <td>0.044824</td>\n",
       "      <td>0.390954</td>\n",
       "      <td>0.390954</td>\n",
       "    </tr>\n",
       "    <tr>\n",
       "      <th>17</th>\n",
       "      <td>2.916640</td>\n",
       "      <td>65.241993</td>\n",
       "      <td>-49.290206</td>\n",
       "      <td>57.266100</td>\n",
       "      <td>7.975894</td>\n",
       "      <td>20.051231</td>\n",
       "      <td>28.027125</td>\n",
       "      <td>-12.075338</td>\n",
       "      <td>0.026738</td>\n",
       "      <td>0.210754</td>\n",
       "      <td>0.489166</td>\n",
       "    </tr>\n",
       "    <tr>\n",
       "      <th>18</th>\n",
       "      <td>3.237979</td>\n",
       "      <td>81.193780</td>\n",
       "      <td>-49.290206</td>\n",
       "      <td>65.241993</td>\n",
       "      <td>15.951787</td>\n",
       "      <td>17.989012</td>\n",
       "      <td>33.940799</td>\n",
       "      <td>-2.037225</td>\n",
       "      <td>0.015185</td>\n",
       "      <td>0.035556</td>\n",
       "      <td>0.592379</td>\n",
       "    </tr>\n",
       "    <tr>\n",
       "      <th>19</th>\n",
       "      <td>3.237979</td>\n",
       "      <td>65.241993</td>\n",
       "      <td>-65.241993</td>\n",
       "      <td>65.241993</td>\n",
       "      <td>0.000000</td>\n",
       "      <td>17.989012</td>\n",
       "      <td>17.989012</td>\n",
       "      <td>-17.989012</td>\n",
       "      <td>0.015185</td>\n",
       "      <td>0.313967</td>\n",
       "      <td>0.313967</td>\n",
       "    </tr>\n",
       "    <tr>\n",
       "      <th>20</th>\n",
       "      <td>3.595836</td>\n",
       "      <td>81.193780</td>\n",
       "      <td>-65.241993</td>\n",
       "      <td>73.217887</td>\n",
       "      <td>7.975894</td>\n",
       "      <td>16.146804</td>\n",
       "      <td>24.122698</td>\n",
       "      <td>-8.170911</td>\n",
       "      <td>0.008158</td>\n",
       "      <td>0.142609</td>\n",
       "      <td>0.421021</td>\n",
       "    </tr>\n",
       "    <tr>\n",
       "      <th>21</th>\n",
       "      <td>4.000000</td>\n",
       "      <td>81.193780</td>\n",
       "      <td>-81.193780</td>\n",
       "      <td>81.193780</td>\n",
       "      <td>0.000000</td>\n",
       "      <td>14.477512</td>\n",
       "      <td>14.477512</td>\n",
       "      <td>-14.477512</td>\n",
       "      <td>0.004115</td>\n",
       "      <td>0.252680</td>\n",
       "      <td>0.252680</td>\n",
       "    </tr>\n",
       "  </tbody>\n",
       "</table>\n",
       "</div>"
      ],
      "text/plain": [
       "           M         I+         I-     omegas     thetas         mu  \\\n",
       "0   1.100000   1.434844  -1.434844   1.434844   0.000000  65.380023   \n",
       "1   1.100000   1.434844  -1.434844   1.434844   0.000000  65.380023   \n",
       "2   1.386455  17.386632  -1.434844   9.410738   7.975894  46.158937   \n",
       "3   1.626345  33.338419  -1.434844  17.386632  15.951787  37.942890   \n",
       "4   1.861247  49.290206  -1.434844  25.362525  23.927681  32.498265   \n",
       "5   2.101839  65.241993  -1.434844  33.338419  31.903574  28.409749   \n",
       "6   2.354392  81.193780  -1.434844  41.314312  39.879468  25.134084   \n",
       "7   1.626345  17.386632 -17.386632  17.386632   0.000000  37.942890   \n",
       "8   1.861247  33.338419 -17.386632  25.362525   7.975894  32.498265   \n",
       "9   2.101839  49.290206 -17.386632  33.338419  15.951787  28.409749   \n",
       "10  2.354392  65.241993 -17.386632  41.314312  23.927681  25.134084   \n",
       "11  2.624186  81.193780 -17.386632  49.290206  31.903574  22.400011   \n",
       "12  2.101839  33.338419 -33.338419  33.338419   0.000000  28.409749   \n",
       "13  2.354392  49.290206 -33.338419  41.314312   7.975894  25.134084   \n",
       "14  2.624186  65.241993 -33.338419  49.290206  15.951787  22.400011   \n",
       "15  2.916640  81.193780 -33.338419  57.266100  23.927681  20.051231   \n",
       "16  2.624186  49.290206 -49.290206  49.290206   0.000000  22.400011   \n",
       "17  2.916640  65.241993 -49.290206  57.266100   7.975894  20.051231   \n",
       "18  3.237979  81.193780 -49.290206  65.241993  15.951787  17.989012   \n",
       "19  3.237979  65.241993 -65.241993  65.241993   0.000000  17.989012   \n",
       "20  3.595836  81.193780 -65.241993  73.217887   7.975894  16.146804   \n",
       "21  4.000000  81.193780 -81.193780  81.193780   0.000000  14.477512   \n",
       "\n",
       "        th+mu      th-mu      P/Pc    alphas     betas  \n",
       "0   65.380023 -65.380023  0.494483  1.141097  1.141097  \n",
       "1   65.380023 -65.380023  0.494483  1.141097  1.141097  \n",
       "2   54.134831 -38.183043  0.340720  0.666420  0.944831  \n",
       "3   53.894677 -21.991103  0.239730  0.383817  0.940640  \n",
       "4   56.425946  -8.570585  0.165471  0.149585  0.984819  \n",
       "5   60.313323   3.493826  0.110979 -0.060979  1.052666  \n",
       "6   65.013552  14.745384  0.071920 -0.257355  1.134701  \n",
       "7   37.942890 -37.942890  0.239730  0.662228  0.662228  \n",
       "8   40.474159 -24.522372  0.165471  0.427996  0.706407  \n",
       "9   44.361536 -12.457962  0.110979  0.217432  0.774255  \n",
       "10  49.061765  -1.206403  0.071920  0.021056  0.856289  \n",
       "11  54.303585   9.503564  0.044824 -0.165868  0.947776  \n",
       "12  28.409749 -28.409749  0.110979  0.495844  0.495844  \n",
       "13  33.109978 -17.158190  0.071920  0.299467  0.577878  \n",
       "14  38.351798  -6.448223  0.044824  0.112543  0.669365  \n",
       "15  43.978912   3.876450  0.026738 -0.067657  0.767577  \n",
       "16  22.400011 -22.400011  0.044824  0.390954  0.390954  \n",
       "17  28.027125 -12.075338  0.026738  0.210754  0.489166  \n",
       "18  33.940799  -2.037225  0.015185  0.035556  0.592379  \n",
       "19  17.989012 -17.989012  0.015185  0.313967  0.313967  \n",
       "20  24.122698  -8.170911  0.008158  0.142609  0.421021  \n",
       "21  14.477512 -14.477512  0.004115  0.252680  0.252680  "
      ]
     },
     "execution_count": 25,
     "metadata": {},
     "output_type": "execute_result"
    }
   ],
   "source": [
    "table[[\"M\", \"I+\", \"I-\", \"omegas\", \"thetas\", \"mu\", \"th+mu\", \"th-mu\", \"P/Pc\", \"alphas\", \"betas\"]]"
   ]
  },
  {
   "cell_type": "markdown",
   "metadata": {
    "collapsed": true
   },
   "source": [
    "## Part (b)"
   ]
  },
  {
   "cell_type": "code",
   "execution_count": 62,
   "metadata": {
    "ExecuteTime": {
     "end_time": "2017-10-11T20:32:22.045000Z",
     "start_time": "2017-10-11T16:32:22.023000-04:00"
    },
    "collapsed": true
   },
   "outputs": [],
   "source": [
    "upstreams = {\n",
    "    1: [0, 22],\n",
    "    2: [0, 1],\n",
    "    3: [0, 2],\n",
    "    4: [0, 3],\n",
    "    5: [0, 4],\n",
    "    6: [0, 5],\n",
    "    7: [2, 1],\n",
    "    8: [3, 7],\n",
    "    9: [4, 8],\n",
    "    10: [5, 9],\n",
    "    11: [6, 10],\n",
    "    12: [8, 7],\n",
    "    13: [9, 12],\n",
    "    14: [10, 13],\n",
    "    15: [11, 14],\n",
    "    16: [13, 12],\n",
    "    17: [14, 16],\n",
    "    18: [15, 17],\n",
    "    19: [17, 16],\n",
    "    20: [18, 19],\n",
    "    21: [20, 19],\n",
    "    23: [0,6],\n",
    "    24: [23, 11],\n",
    "    25: [24, 15],\n",
    "    26: [25, 18],\n",
    "    27: [26, 20],\n",
    "    28: [27, 21]\n",
    "}\n",
    "onthewall = [1, 7, 12, 16, 19, 21]"
   ]
  },
  {
   "cell_type": "code",
   "execution_count": 63,
   "metadata": {
    "ExecuteTime": {
     "end_time": "2017-10-11T20:32:22.560000Z",
     "start_time": "2017-10-11T16:32:22.551000-04:00"
    },
    "collapsed": true
   },
   "outputs": [],
   "source": [
    "x = np.empty(29)*np.nan\n",
    "y = np.empty(29)*np.nan\n",
    "x[0] = 0\n",
    "y[0] = 1\n",
    "x[22] = 0\n",
    "y[22] = 0"
   ]
  },
  {
   "cell_type": "code",
   "execution_count": 64,
   "metadata": {
    "ExecuteTime": {
     "end_time": "2017-10-11T20:32:24.016000Z",
     "start_time": "2017-10-11T16:32:24.008000-04:00"
    },
    "collapsed": true
   },
   "outputs": [],
   "source": [
    "def position(xa, ya, alpha, xb, yb, beta):\n",
    "    xc = (ya-yb+xa*np.tan(alpha)+xb*np.tan(beta))/(np.tan(alpha)+np.tan(beta))\n",
    "    yc = (yb*np.tan(alpha)+ya*np.tan(beta)+(xa-xb)*np.tan(alpha)*np.tan(beta))/(np.tan(alpha)+np.tan(beta))\n",
    "    return xc, yc"
   ]
  },
  {
   "cell_type": "code",
   "execution_count": 65,
   "metadata": {
    "ExecuteTime": {
     "end_time": "2017-10-11T20:32:24.974000Z",
     "start_time": "2017-10-11T16:32:24.950000-04:00"
    },
    "collapsed": true
   },
   "outputs": [],
   "source": [
    "def positionofidx(idx):\n",
    "    upstream_plus_idx, upstream_minus_idx = upstreams[idx]\n",
    "    if upstream_plus_idx == 0:\n",
    "        upstream_theta_idx = idx\n",
    "    else:\n",
    "        upstream_theta_idx = upstream_plus_idx \n",
    "        \n",
    "    #print(upstream_plus_idx, upstream_minus_idx)\n",
    "    xa, ya = x[upstream_plus_idx], y[upstream_plus_idx]\n",
    "    xb, yb = x[upstream_minus_idx], y[upstream_minus_idx]\n",
    "     \n",
    "    alpha_upstream = table[\"alphas\"].iloc[upstream_theta_idx]\n",
    "    alpha_idx = table[\"alphas\"].iloc[idx]\n",
    "    alpha = np.average([alpha_upstream, alpha_idx])\n",
    "\n",
    "    isonwall = idx in onthewall\n",
    "    if isonwall:\n",
    "        xc,yc = position(xa, ya, alpha, xb, yb, 0)\n",
    "    else:\n",
    "        beta_upstream =  table[\"betas\"].iloc[upstream_minus_idx]\n",
    "        beta_idx = table[\"betas\"].iloc[idx]\n",
    "        beta = np.average([beta_upstream, beta_idx])\n",
    "        #print(xa,ya,xb,yb, np.degrees(alpha), np.degrees(beta))\n",
    "        xc,yc = position(xa, ya, alpha, xb, yb, beta)\n",
    "        \n",
    "    return xc, yc\n",
    "    "
   ]
  },
  {
   "cell_type": "code",
   "execution_count": 66,
   "metadata": {
    "ExecuteTime": {
     "end_time": "2017-10-11T20:32:25.637000Z",
     "start_time": "2017-10-11T16:32:25.623000-04:00"
    }
   },
   "outputs": [
    {
     "data": {
      "text/plain": [
       "(0.4582575694955846, 0.0)"
      ]
     },
     "execution_count": 66,
     "metadata": {},
     "output_type": "execute_result"
    }
   ],
   "source": [
    "x[1],y[1] = positionofidx(1)\n",
    "x[1],y[1]"
   ]
  },
  {
   "cell_type": "code",
   "execution_count": 67,
   "metadata": {
    "ExecuteTime": {
     "end_time": "2017-10-11T20:32:26.228000Z",
     "start_time": "2017-10-11T16:32:26.219000-04:00"
    }
   },
   "outputs": [
    {
     "data": {
      "text/plain": [
       "(0.71392806761832162, 0.43853605332355811)"
      ]
     },
     "execution_count": 67,
     "metadata": {},
     "output_type": "execute_result"
    }
   ],
   "source": [
    "x[2],y[2] = positionofidx(2)\n",
    "x[2],y[2]"
   ]
  },
  {
   "cell_type": "code",
   "execution_count": 68,
   "metadata": {
    "ExecuteTime": {
     "end_time": "2017-10-11T20:32:28.320000Z",
     "start_time": "2017-10-11T16:32:28.306000-04:00"
    },
    "collapsed": true
   },
   "outputs": [],
   "source": [
    "for idx in range(2,22):\n",
    "    x[idx], y[idx] = positionofidx(idx)"
   ]
  },
  {
   "cell_type": "code",
   "execution_count": 73,
   "metadata": {
    "ExecuteTime": {
     "end_time": "2017-10-11T20:32:36.118000Z",
     "start_time": "2017-10-11T16:32:36.103000-04:00"
    }
   },
   "outputs": [
    {
     "data": {
      "text/plain": [
       "array([[  0.        ,   1.        ],\n",
       "       [  0.45825757,   0.        ],\n",
       "       [  0.71392807,   0.43853605],\n",
       "       [  0.86729773,   0.64974563],\n",
       "       [  1.00560167,   0.84844509],\n",
       "       [  1.14189109,   1.06971754],\n",
       "       [  1.28000324,   1.33688646],\n",
       "       [  1.27395893,   0.        ],\n",
       "       [  1.65527968,   0.3110921 ],\n",
       "       [  2.0344094 ,   0.65750174],\n",
       "       [  2.44725183,   1.09577799],\n",
       "       [  2.91542652,   1.68822157],\n",
       "       [  2.28016059,   0.        ],\n",
       "       [  2.96952862,   0.41029157],\n",
       "       [  3.7968916 ,   1.00548878],\n",
       "       [  4.83527003,   1.91341189],\n",
       "       [  4.11046292,   0.        ],\n",
       "       [  5.61593172,   0.70885533],\n",
       "       [  7.69845909,   1.95937077],\n",
       "       [  8.25548589,   0.        ],\n",
       "       [ 12.28164861,   1.55000402],\n",
       "       [ 20.02163784,   0.        ],\n",
       "       [  0.        ,   0.        ],\n",
       "       [  1.83909443,   2.53660218],\n",
       "       [  4.88921164,   4.43539694],\n",
       "       [  9.62759488,   6.53789871],\n",
       "       [ 18.09983355,   8.95956058],\n",
       "       [ 33.71380663,  11.14726267],\n",
       "       [ 63.19480052,  11.14726267]])"
      ]
     },
     "execution_count": 73,
     "metadata": {},
     "output_type": "execute_result"
    }
   ],
   "source": [
    "np.array((x,y)).transpose()"
   ]
  },
  {
   "cell_type": "code",
   "execution_count": 74,
   "metadata": {
    "ExecuteTime": {
     "end_time": "2017-10-11T20:33:24.925000Z",
     "start_time": "2017-10-11T16:33:24.916000-04:00"
    },
    "collapsed": true
   },
   "outputs": [],
   "source": [
    "def wallpositions(idx):\n",
    "    upstream_plus_idx, upstream_minus_idx = upstreams[idx]\n",
    "    xa, ya = x[upstream_plus_idx], y[upstream_plus_idx]\n",
    "    xb, yb = x[upstream_minus_idx], y[upstream_minus_idx]\n",
    "    alpha_upstream = -np.radians(table[\"thetas\"].iloc[upstream_minus_idx])\n",
    "    beta_upstream = table[\"betas\"].iloc[upstream_minus_idx]\n",
    "    print(alpha_upstream, beta_upstream)\n",
    "    xc, yc = position(xa, ya, alpha_upstream, xb, yb, beta_upstream)\n",
    "    return xc, yc"
   ]
  },
  {
   "cell_type": "code",
   "execution_count": 75,
   "metadata": {
    "ExecuteTime": {
     "end_time": "2017-10-11T20:33:25.409000Z",
     "start_time": "2017-10-11T16:33:25.405000-04:00"
    },
    "collapsed": true
   },
   "outputs": [],
   "source": [
    "wallidxs = range(23,29)"
   ]
  },
  {
   "cell_type": "code",
   "execution_count": 76,
   "metadata": {
    "ExecuteTime": {
     "end_time": "2017-10-11T20:33:25.974000Z",
     "start_time": "2017-10-11T16:33:25.963000-04:00"
    }
   },
   "outputs": [
    {
     "name": "stdout",
     "output_type": "stream",
     "text": [
      "-0.696028020567 1.13470054139\n",
      "-0.556822416453 0.947776355336\n",
      "-0.41761681234 0.767576817016\n",
      "-0.278411208227 0.592378700196\n",
      "-0.139205604113 0.421020500698\n",
      "-0.0 0.252680255142\n"
     ]
    }
   ],
   "source": [
    "for idx in wallidxs:\n",
    "    x[idx], y[idx] = wallpositions(idx)"
   ]
  },
  {
   "cell_type": "code",
   "execution_count": 49,
   "metadata": {
    "ExecuteTime": {
     "end_time": "2017-10-11T20:18:55.710000Z",
     "start_time": "2017-10-11T16:18:55.697000-04:00"
    },
    "collapsed": true
   },
   "outputs": [],
   "source": [
    "allwallidxs = [0] + wallidxs"
   ]
  },
  {
   "cell_type": "code",
   "execution_count": 51,
   "metadata": {
    "ExecuteTime": {
     "end_time": "2017-10-11T20:29:58.999000Z",
     "start_time": "2017-10-11T16:29:58.991000-04:00"
    }
   },
   "outputs": [
    {
     "data": {
      "text/plain": [
       "array([  1.        ,   0.        ,   0.43853605,   0.64974563,\n",
       "         0.84844509,   1.06971754,   1.33688646,   0.        ,\n",
       "         0.3110921 ,   0.65750174,   1.09577799,   1.68822157,\n",
       "         0.        ,   0.41029157,   1.00548878,   1.91341189,\n",
       "         0.        ,   0.70885533,   1.95937077,   0.        ,\n",
       "         1.55000402,   0.        ,   0.        ,   2.53660218,\n",
       "         4.43539694,   6.53789871,   8.95956058,  11.14726267,  11.14726267])"
      ]
     },
     "execution_count": 51,
     "metadata": {},
     "output_type": "execute_result"
    }
   ],
   "source": [
    "y"
   ]
  },
  {
   "cell_type": "code",
   "execution_count": 43,
   "metadata": {
    "ExecuteTime": {
     "end_time": "2017-10-11T20:11:12.411000Z",
     "start_time": "2017-10-11T16:11:12.351000-04:00"
    },
    "collapsed": true
   },
   "outputs": [],
   "source": [
    "%matplotlib notebook"
   ]
  },
  {
   "cell_type": "code",
   "execution_count": 47,
   "metadata": {
    "ExecuteTime": {
     "end_time": "2017-10-11T20:17:42.349000Z",
     "start_time": "2017-10-11T16:17:42.259000-04:00"
    }
   },
   "outputs": [
    {
     "data": {
      "application/javascript": [
       "/* Put everything inside the global mpl namespace */\n",
       "window.mpl = {};\n",
       "\n",
       "\n",
       "mpl.get_websocket_type = function() {\n",
       "    if (typeof(WebSocket) !== 'undefined') {\n",
       "        return WebSocket;\n",
       "    } else if (typeof(MozWebSocket) !== 'undefined') {\n",
       "        return MozWebSocket;\n",
       "    } else {\n",
       "        alert('Your browser does not have WebSocket support.' +\n",
       "              'Please try Chrome, Safari or Firefox ≥ 6. ' +\n",
       "              'Firefox 4 and 5 are also supported but you ' +\n",
       "              'have to enable WebSockets in about:config.');\n",
       "    };\n",
       "}\n",
       "\n",
       "mpl.figure = function(figure_id, websocket, ondownload, parent_element) {\n",
       "    this.id = figure_id;\n",
       "\n",
       "    this.ws = websocket;\n",
       "\n",
       "    this.supports_binary = (this.ws.binaryType != undefined);\n",
       "\n",
       "    if (!this.supports_binary) {\n",
       "        var warnings = document.getElementById(\"mpl-warnings\");\n",
       "        if (warnings) {\n",
       "            warnings.style.display = 'block';\n",
       "            warnings.textContent = (\n",
       "                \"This browser does not support binary websocket messages. \" +\n",
       "                    \"Performance may be slow.\");\n",
       "        }\n",
       "    }\n",
       "\n",
       "    this.imageObj = new Image();\n",
       "\n",
       "    this.context = undefined;\n",
       "    this.message = undefined;\n",
       "    this.canvas = undefined;\n",
       "    this.rubberband_canvas = undefined;\n",
       "    this.rubberband_context = undefined;\n",
       "    this.format_dropdown = undefined;\n",
       "\n",
       "    this.image_mode = 'full';\n",
       "\n",
       "    this.root = $('<div/>');\n",
       "    this._root_extra_style(this.root)\n",
       "    this.root.attr('style', 'display: inline-block');\n",
       "\n",
       "    $(parent_element).append(this.root);\n",
       "\n",
       "    this._init_header(this);\n",
       "    this._init_canvas(this);\n",
       "    this._init_toolbar(this);\n",
       "\n",
       "    var fig = this;\n",
       "\n",
       "    this.waiting = false;\n",
       "\n",
       "    this.ws.onopen =  function () {\n",
       "            fig.send_message(\"supports_binary\", {value: fig.supports_binary});\n",
       "            fig.send_message(\"send_image_mode\", {});\n",
       "            if (mpl.ratio != 1) {\n",
       "                fig.send_message(\"set_dpi_ratio\", {'dpi_ratio': mpl.ratio});\n",
       "            }\n",
       "            fig.send_message(\"refresh\", {});\n",
       "        }\n",
       "\n",
       "    this.imageObj.onload = function() {\n",
       "            if (fig.image_mode == 'full') {\n",
       "                // Full images could contain transparency (where diff images\n",
       "                // almost always do), so we need to clear the canvas so that\n",
       "                // there is no ghosting.\n",
       "                fig.context.clearRect(0, 0, fig.canvas.width, fig.canvas.height);\n",
       "            }\n",
       "            fig.context.drawImage(fig.imageObj, 0, 0);\n",
       "        };\n",
       "\n",
       "    this.imageObj.onunload = function() {\n",
       "        this.ws.close();\n",
       "    }\n",
       "\n",
       "    this.ws.onmessage = this._make_on_message_function(this);\n",
       "\n",
       "    this.ondownload = ondownload;\n",
       "}\n",
       "\n",
       "mpl.figure.prototype._init_header = function() {\n",
       "    var titlebar = $(\n",
       "        '<div class=\"ui-dialog-titlebar ui-widget-header ui-corner-all ' +\n",
       "        'ui-helper-clearfix\"/>');\n",
       "    var titletext = $(\n",
       "        '<div class=\"ui-dialog-title\" style=\"width: 100%; ' +\n",
       "        'text-align: center; padding: 3px;\"/>');\n",
       "    titlebar.append(titletext)\n",
       "    this.root.append(titlebar);\n",
       "    this.header = titletext[0];\n",
       "}\n",
       "\n",
       "\n",
       "\n",
       "mpl.figure.prototype._canvas_extra_style = function(canvas_div) {\n",
       "\n",
       "}\n",
       "\n",
       "\n",
       "mpl.figure.prototype._root_extra_style = function(canvas_div) {\n",
       "\n",
       "}\n",
       "\n",
       "mpl.figure.prototype._init_canvas = function() {\n",
       "    var fig = this;\n",
       "\n",
       "    var canvas_div = $('<div/>');\n",
       "\n",
       "    canvas_div.attr('style', 'position: relative; clear: both; outline: 0');\n",
       "\n",
       "    function canvas_keyboard_event(event) {\n",
       "        return fig.key_event(event, event['data']);\n",
       "    }\n",
       "\n",
       "    canvas_div.keydown('key_press', canvas_keyboard_event);\n",
       "    canvas_div.keyup('key_release', canvas_keyboard_event);\n",
       "    this.canvas_div = canvas_div\n",
       "    this._canvas_extra_style(canvas_div)\n",
       "    this.root.append(canvas_div);\n",
       "\n",
       "    var canvas = $('<canvas/>');\n",
       "    canvas.addClass('mpl-canvas');\n",
       "    canvas.attr('style', \"left: 0; top: 0; z-index: 0; outline: 0\")\n",
       "\n",
       "    this.canvas = canvas[0];\n",
       "    this.context = canvas[0].getContext(\"2d\");\n",
       "\n",
       "    var backingStore = this.context.backingStorePixelRatio ||\n",
       "\tthis.context.webkitBackingStorePixelRatio ||\n",
       "\tthis.context.mozBackingStorePixelRatio ||\n",
       "\tthis.context.msBackingStorePixelRatio ||\n",
       "\tthis.context.oBackingStorePixelRatio ||\n",
       "\tthis.context.backingStorePixelRatio || 1;\n",
       "\n",
       "    mpl.ratio = (window.devicePixelRatio || 1) / backingStore;\n",
       "\n",
       "    var rubberband = $('<canvas/>');\n",
       "    rubberband.attr('style', \"position: absolute; left: 0; top: 0; z-index: 1;\")\n",
       "\n",
       "    var pass_mouse_events = true;\n",
       "\n",
       "    canvas_div.resizable({\n",
       "        start: function(event, ui) {\n",
       "            pass_mouse_events = false;\n",
       "        },\n",
       "        resize: function(event, ui) {\n",
       "            fig.request_resize(ui.size.width, ui.size.height);\n",
       "        },\n",
       "        stop: function(event, ui) {\n",
       "            pass_mouse_events = true;\n",
       "            fig.request_resize(ui.size.width, ui.size.height);\n",
       "        },\n",
       "    });\n",
       "\n",
       "    function mouse_event_fn(event) {\n",
       "        if (pass_mouse_events)\n",
       "            return fig.mouse_event(event, event['data']);\n",
       "    }\n",
       "\n",
       "    rubberband.mousedown('button_press', mouse_event_fn);\n",
       "    rubberband.mouseup('button_release', mouse_event_fn);\n",
       "    // Throttle sequential mouse events to 1 every 20ms.\n",
       "    rubberband.mousemove('motion_notify', mouse_event_fn);\n",
       "\n",
       "    rubberband.mouseenter('figure_enter', mouse_event_fn);\n",
       "    rubberband.mouseleave('figure_leave', mouse_event_fn);\n",
       "\n",
       "    canvas_div.on(\"wheel\", function (event) {\n",
       "        event = event.originalEvent;\n",
       "        event['data'] = 'scroll'\n",
       "        if (event.deltaY < 0) {\n",
       "            event.step = 1;\n",
       "        } else {\n",
       "            event.step = -1;\n",
       "        }\n",
       "        mouse_event_fn(event);\n",
       "    });\n",
       "\n",
       "    canvas_div.append(canvas);\n",
       "    canvas_div.append(rubberband);\n",
       "\n",
       "    this.rubberband = rubberband;\n",
       "    this.rubberband_canvas = rubberband[0];\n",
       "    this.rubberband_context = rubberband[0].getContext(\"2d\");\n",
       "    this.rubberband_context.strokeStyle = \"#000000\";\n",
       "\n",
       "    this._resize_canvas = function(width, height) {\n",
       "        // Keep the size of the canvas, canvas container, and rubber band\n",
       "        // canvas in synch.\n",
       "        canvas_div.css('width', width)\n",
       "        canvas_div.css('height', height)\n",
       "\n",
       "        canvas.attr('width', width * mpl.ratio);\n",
       "        canvas.attr('height', height * mpl.ratio);\n",
       "        canvas.attr('style', 'width: ' + width + 'px; height: ' + height + 'px;');\n",
       "\n",
       "        rubberband.attr('width', width);\n",
       "        rubberband.attr('height', height);\n",
       "    }\n",
       "\n",
       "    // Set the figure to an initial 600x600px, this will subsequently be updated\n",
       "    // upon first draw.\n",
       "    this._resize_canvas(600, 600);\n",
       "\n",
       "    // Disable right mouse context menu.\n",
       "    $(this.rubberband_canvas).bind(\"contextmenu\",function(e){\n",
       "        return false;\n",
       "    });\n",
       "\n",
       "    function set_focus () {\n",
       "        canvas.focus();\n",
       "        canvas_div.focus();\n",
       "    }\n",
       "\n",
       "    window.setTimeout(set_focus, 100);\n",
       "}\n",
       "\n",
       "mpl.figure.prototype._init_toolbar = function() {\n",
       "    var fig = this;\n",
       "\n",
       "    var nav_element = $('<div/>')\n",
       "    nav_element.attr('style', 'width: 100%');\n",
       "    this.root.append(nav_element);\n",
       "\n",
       "    // Define a callback function for later on.\n",
       "    function toolbar_event(event) {\n",
       "        return fig.toolbar_button_onclick(event['data']);\n",
       "    }\n",
       "    function toolbar_mouse_event(event) {\n",
       "        return fig.toolbar_button_onmouseover(event['data']);\n",
       "    }\n",
       "\n",
       "    for(var toolbar_ind in mpl.toolbar_items) {\n",
       "        var name = mpl.toolbar_items[toolbar_ind][0];\n",
       "        var tooltip = mpl.toolbar_items[toolbar_ind][1];\n",
       "        var image = mpl.toolbar_items[toolbar_ind][2];\n",
       "        var method_name = mpl.toolbar_items[toolbar_ind][3];\n",
       "\n",
       "        if (!name) {\n",
       "            // put a spacer in here.\n",
       "            continue;\n",
       "        }\n",
       "        var button = $('<button/>');\n",
       "        button.addClass('ui-button ui-widget ui-state-default ui-corner-all ' +\n",
       "                        'ui-button-icon-only');\n",
       "        button.attr('role', 'button');\n",
       "        button.attr('aria-disabled', 'false');\n",
       "        button.click(method_name, toolbar_event);\n",
       "        button.mouseover(tooltip, toolbar_mouse_event);\n",
       "\n",
       "        var icon_img = $('<span/>');\n",
       "        icon_img.addClass('ui-button-icon-primary ui-icon');\n",
       "        icon_img.addClass(image);\n",
       "        icon_img.addClass('ui-corner-all');\n",
       "\n",
       "        var tooltip_span = $('<span/>');\n",
       "        tooltip_span.addClass('ui-button-text');\n",
       "        tooltip_span.html(tooltip);\n",
       "\n",
       "        button.append(icon_img);\n",
       "        button.append(tooltip_span);\n",
       "\n",
       "        nav_element.append(button);\n",
       "    }\n",
       "\n",
       "    var fmt_picker_span = $('<span/>');\n",
       "\n",
       "    var fmt_picker = $('<select/>');\n",
       "    fmt_picker.addClass('mpl-toolbar-option ui-widget ui-widget-content');\n",
       "    fmt_picker_span.append(fmt_picker);\n",
       "    nav_element.append(fmt_picker_span);\n",
       "    this.format_dropdown = fmt_picker[0];\n",
       "\n",
       "    for (var ind in mpl.extensions) {\n",
       "        var fmt = mpl.extensions[ind];\n",
       "        var option = $(\n",
       "            '<option/>', {selected: fmt === mpl.default_extension}).html(fmt);\n",
       "        fmt_picker.append(option)\n",
       "    }\n",
       "\n",
       "    // Add hover states to the ui-buttons\n",
       "    $( \".ui-button\" ).hover(\n",
       "        function() { $(this).addClass(\"ui-state-hover\");},\n",
       "        function() { $(this).removeClass(\"ui-state-hover\");}\n",
       "    );\n",
       "\n",
       "    var status_bar = $('<span class=\"mpl-message\"/>');\n",
       "    nav_element.append(status_bar);\n",
       "    this.message = status_bar[0];\n",
       "}\n",
       "\n",
       "mpl.figure.prototype.request_resize = function(x_pixels, y_pixels) {\n",
       "    // Request matplotlib to resize the figure. Matplotlib will then trigger a resize in the client,\n",
       "    // which will in turn request a refresh of the image.\n",
       "    this.send_message('resize', {'width': x_pixels, 'height': y_pixels});\n",
       "}\n",
       "\n",
       "mpl.figure.prototype.send_message = function(type, properties) {\n",
       "    properties['type'] = type;\n",
       "    properties['figure_id'] = this.id;\n",
       "    this.ws.send(JSON.stringify(properties));\n",
       "}\n",
       "\n",
       "mpl.figure.prototype.send_draw_message = function() {\n",
       "    if (!this.waiting) {\n",
       "        this.waiting = true;\n",
       "        this.ws.send(JSON.stringify({type: \"draw\", figure_id: this.id}));\n",
       "    }\n",
       "}\n",
       "\n",
       "\n",
       "mpl.figure.prototype.handle_save = function(fig, msg) {\n",
       "    var format_dropdown = fig.format_dropdown;\n",
       "    var format = format_dropdown.options[format_dropdown.selectedIndex].value;\n",
       "    fig.ondownload(fig, format);\n",
       "}\n",
       "\n",
       "\n",
       "mpl.figure.prototype.handle_resize = function(fig, msg) {\n",
       "    var size = msg['size'];\n",
       "    if (size[0] != fig.canvas.width || size[1] != fig.canvas.height) {\n",
       "        fig._resize_canvas(size[0], size[1]);\n",
       "        fig.send_message(\"refresh\", {});\n",
       "    };\n",
       "}\n",
       "\n",
       "mpl.figure.prototype.handle_rubberband = function(fig, msg) {\n",
       "    var x0 = msg['x0'] / mpl.ratio;\n",
       "    var y0 = (fig.canvas.height - msg['y0']) / mpl.ratio;\n",
       "    var x1 = msg['x1'] / mpl.ratio;\n",
       "    var y1 = (fig.canvas.height - msg['y1']) / mpl.ratio;\n",
       "    x0 = Math.floor(x0) + 0.5;\n",
       "    y0 = Math.floor(y0) + 0.5;\n",
       "    x1 = Math.floor(x1) + 0.5;\n",
       "    y1 = Math.floor(y1) + 0.5;\n",
       "    var min_x = Math.min(x0, x1);\n",
       "    var min_y = Math.min(y0, y1);\n",
       "    var width = Math.abs(x1 - x0);\n",
       "    var height = Math.abs(y1 - y0);\n",
       "\n",
       "    fig.rubberband_context.clearRect(\n",
       "        0, 0, fig.canvas.width, fig.canvas.height);\n",
       "\n",
       "    fig.rubberband_context.strokeRect(min_x, min_y, width, height);\n",
       "}\n",
       "\n",
       "mpl.figure.prototype.handle_figure_label = function(fig, msg) {\n",
       "    // Updates the figure title.\n",
       "    fig.header.textContent = msg['label'];\n",
       "}\n",
       "\n",
       "mpl.figure.prototype.handle_cursor = function(fig, msg) {\n",
       "    var cursor = msg['cursor'];\n",
       "    switch(cursor)\n",
       "    {\n",
       "    case 0:\n",
       "        cursor = 'pointer';\n",
       "        break;\n",
       "    case 1:\n",
       "        cursor = 'default';\n",
       "        break;\n",
       "    case 2:\n",
       "        cursor = 'crosshair';\n",
       "        break;\n",
       "    case 3:\n",
       "        cursor = 'move';\n",
       "        break;\n",
       "    }\n",
       "    fig.rubberband_canvas.style.cursor = cursor;\n",
       "}\n",
       "\n",
       "mpl.figure.prototype.handle_message = function(fig, msg) {\n",
       "    fig.message.textContent = msg['message'];\n",
       "}\n",
       "\n",
       "mpl.figure.prototype.handle_draw = function(fig, msg) {\n",
       "    // Request the server to send over a new figure.\n",
       "    fig.send_draw_message();\n",
       "}\n",
       "\n",
       "mpl.figure.prototype.handle_image_mode = function(fig, msg) {\n",
       "    fig.image_mode = msg['mode'];\n",
       "}\n",
       "\n",
       "mpl.figure.prototype.updated_canvas_event = function() {\n",
       "    // Called whenever the canvas gets updated.\n",
       "    this.send_message(\"ack\", {});\n",
       "}\n",
       "\n",
       "// A function to construct a web socket function for onmessage handling.\n",
       "// Called in the figure constructor.\n",
       "mpl.figure.prototype._make_on_message_function = function(fig) {\n",
       "    return function socket_on_message(evt) {\n",
       "        if (evt.data instanceof Blob) {\n",
       "            /* FIXME: We get \"Resource interpreted as Image but\n",
       "             * transferred with MIME type text/plain:\" errors on\n",
       "             * Chrome.  But how to set the MIME type?  It doesn't seem\n",
       "             * to be part of the websocket stream */\n",
       "            evt.data.type = \"image/png\";\n",
       "\n",
       "            /* Free the memory for the previous frames */\n",
       "            if (fig.imageObj.src) {\n",
       "                (window.URL || window.webkitURL).revokeObjectURL(\n",
       "                    fig.imageObj.src);\n",
       "            }\n",
       "\n",
       "            fig.imageObj.src = (window.URL || window.webkitURL).createObjectURL(\n",
       "                evt.data);\n",
       "            fig.updated_canvas_event();\n",
       "            fig.waiting = false;\n",
       "            return;\n",
       "        }\n",
       "        else if (typeof evt.data === 'string' && evt.data.slice(0, 21) == \"data:image/png;base64\") {\n",
       "            fig.imageObj.src = evt.data;\n",
       "            fig.updated_canvas_event();\n",
       "            fig.waiting = false;\n",
       "            return;\n",
       "        }\n",
       "\n",
       "        var msg = JSON.parse(evt.data);\n",
       "        var msg_type = msg['type'];\n",
       "\n",
       "        // Call the  \"handle_{type}\" callback, which takes\n",
       "        // the figure and JSON message as its only arguments.\n",
       "        try {\n",
       "            var callback = fig[\"handle_\" + msg_type];\n",
       "        } catch (e) {\n",
       "            console.log(\"No handler for the '\" + msg_type + \"' message type: \", msg);\n",
       "            return;\n",
       "        }\n",
       "\n",
       "        if (callback) {\n",
       "            try {\n",
       "                // console.log(\"Handling '\" + msg_type + \"' message: \", msg);\n",
       "                callback(fig, msg);\n",
       "            } catch (e) {\n",
       "                console.log(\"Exception inside the 'handler_\" + msg_type + \"' callback:\", e, e.stack, msg);\n",
       "            }\n",
       "        }\n",
       "    };\n",
       "}\n",
       "\n",
       "// from http://stackoverflow.com/questions/1114465/getting-mouse-location-in-canvas\n",
       "mpl.findpos = function(e) {\n",
       "    //this section is from http://www.quirksmode.org/js/events_properties.html\n",
       "    var targ;\n",
       "    if (!e)\n",
       "        e = window.event;\n",
       "    if (e.target)\n",
       "        targ = e.target;\n",
       "    else if (e.srcElement)\n",
       "        targ = e.srcElement;\n",
       "    if (targ.nodeType == 3) // defeat Safari bug\n",
       "        targ = targ.parentNode;\n",
       "\n",
       "    // jQuery normalizes the pageX and pageY\n",
       "    // pageX,Y are the mouse positions relative to the document\n",
       "    // offset() returns the position of the element relative to the document\n",
       "    var x = e.pageX - $(targ).offset().left;\n",
       "    var y = e.pageY - $(targ).offset().top;\n",
       "\n",
       "    return {\"x\": x, \"y\": y};\n",
       "};\n",
       "\n",
       "/*\n",
       " * return a copy of an object with only non-object keys\n",
       " * we need this to avoid circular references\n",
       " * http://stackoverflow.com/a/24161582/3208463\n",
       " */\n",
       "function simpleKeys (original) {\n",
       "  return Object.keys(original).reduce(function (obj, key) {\n",
       "    if (typeof original[key] !== 'object')\n",
       "        obj[key] = original[key]\n",
       "    return obj;\n",
       "  }, {});\n",
       "}\n",
       "\n",
       "mpl.figure.prototype.mouse_event = function(event, name) {\n",
       "    var canvas_pos = mpl.findpos(event)\n",
       "\n",
       "    if (name === 'button_press')\n",
       "    {\n",
       "        this.canvas.focus();\n",
       "        this.canvas_div.focus();\n",
       "    }\n",
       "\n",
       "    var x = canvas_pos.x * mpl.ratio;\n",
       "    var y = canvas_pos.y * mpl.ratio;\n",
       "\n",
       "    this.send_message(name, {x: x, y: y, button: event.button,\n",
       "                             step: event.step,\n",
       "                             guiEvent: simpleKeys(event)});\n",
       "\n",
       "    /* This prevents the web browser from automatically changing to\n",
       "     * the text insertion cursor when the button is pressed.  We want\n",
       "     * to control all of the cursor setting manually through the\n",
       "     * 'cursor' event from matplotlib */\n",
       "    event.preventDefault();\n",
       "    return false;\n",
       "}\n",
       "\n",
       "mpl.figure.prototype._key_event_extra = function(event, name) {\n",
       "    // Handle any extra behaviour associated with a key event\n",
       "}\n",
       "\n",
       "mpl.figure.prototype.key_event = function(event, name) {\n",
       "\n",
       "    // Prevent repeat events\n",
       "    if (name == 'key_press')\n",
       "    {\n",
       "        if (event.which === this._key)\n",
       "            return;\n",
       "        else\n",
       "            this._key = event.which;\n",
       "    }\n",
       "    if (name == 'key_release')\n",
       "        this._key = null;\n",
       "\n",
       "    var value = '';\n",
       "    if (event.ctrlKey && event.which != 17)\n",
       "        value += \"ctrl+\";\n",
       "    if (event.altKey && event.which != 18)\n",
       "        value += \"alt+\";\n",
       "    if (event.shiftKey && event.which != 16)\n",
       "        value += \"shift+\";\n",
       "\n",
       "    value += 'k';\n",
       "    value += event.which.toString();\n",
       "\n",
       "    this._key_event_extra(event, name);\n",
       "\n",
       "    this.send_message(name, {key: value,\n",
       "                             guiEvent: simpleKeys(event)});\n",
       "    return false;\n",
       "}\n",
       "\n",
       "mpl.figure.prototype.toolbar_button_onclick = function(name) {\n",
       "    if (name == 'download') {\n",
       "        this.handle_save(this, null);\n",
       "    } else {\n",
       "        this.send_message(\"toolbar_button\", {name: name});\n",
       "    }\n",
       "};\n",
       "\n",
       "mpl.figure.prototype.toolbar_button_onmouseover = function(tooltip) {\n",
       "    this.message.textContent = tooltip;\n",
       "};\n",
       "mpl.toolbar_items = [[\"Home\", \"Reset original view\", \"fa fa-home icon-home\", \"home\"], [\"Back\", \"Back to  previous view\", \"fa fa-arrow-left icon-arrow-left\", \"back\"], [\"Forward\", \"Forward to next view\", \"fa fa-arrow-right icon-arrow-right\", \"forward\"], [\"\", \"\", \"\", \"\"], [\"Pan\", \"Pan axes with left mouse, zoom with right\", \"fa fa-arrows icon-move\", \"pan\"], [\"Zoom\", \"Zoom to rectangle\", \"fa fa-square-o icon-check-empty\", \"zoom\"], [\"\", \"\", \"\", \"\"], [\"Download\", \"Download plot\", \"fa fa-floppy-o icon-save\", \"download\"]];\n",
       "\n",
       "mpl.extensions = [\"eps\", \"jpeg\", \"pdf\", \"png\", \"ps\", \"raw\", \"svg\", \"tif\"];\n",
       "\n",
       "mpl.default_extension = \"png\";var comm_websocket_adapter = function(comm) {\n",
       "    // Create a \"websocket\"-like object which calls the given IPython comm\n",
       "    // object with the appropriate methods. Currently this is a non binary\n",
       "    // socket, so there is still some room for performance tuning.\n",
       "    var ws = {};\n",
       "\n",
       "    ws.close = function() {\n",
       "        comm.close()\n",
       "    };\n",
       "    ws.send = function(m) {\n",
       "        //console.log('sending', m);\n",
       "        comm.send(m);\n",
       "    };\n",
       "    // Register the callback with on_msg.\n",
       "    comm.on_msg(function(msg) {\n",
       "        //console.log('receiving', msg['content']['data'], msg);\n",
       "        // Pass the mpl event to the overriden (by mpl) onmessage function.\n",
       "        ws.onmessage(msg['content']['data'])\n",
       "    });\n",
       "    return ws;\n",
       "}\n",
       "\n",
       "mpl.mpl_figure_comm = function(comm, msg) {\n",
       "    // This is the function which gets called when the mpl process\n",
       "    // starts-up an IPython Comm through the \"matplotlib\" channel.\n",
       "\n",
       "    var id = msg.content.data.id;\n",
       "    // Get hold of the div created by the display call when the Comm\n",
       "    // socket was opened in Python.\n",
       "    var element = $(\"#\" + id);\n",
       "    var ws_proxy = comm_websocket_adapter(comm)\n",
       "\n",
       "    function ondownload(figure, format) {\n",
       "        window.open(figure.imageObj.src);\n",
       "    }\n",
       "\n",
       "    var fig = new mpl.figure(id, ws_proxy,\n",
       "                           ondownload,\n",
       "                           element.get(0));\n",
       "\n",
       "    // Call onopen now - mpl needs it, as it is assuming we've passed it a real\n",
       "    // web socket which is closed, not our websocket->open comm proxy.\n",
       "    ws_proxy.onopen();\n",
       "\n",
       "    fig.parent_element = element.get(0);\n",
       "    fig.cell_info = mpl.find_output_cell(\"<div id='\" + id + \"'></div>\");\n",
       "    if (!fig.cell_info) {\n",
       "        console.error(\"Failed to find cell for figure\", id, fig);\n",
       "        return;\n",
       "    }\n",
       "\n",
       "    var output_index = fig.cell_info[2]\n",
       "    var cell = fig.cell_info[0];\n",
       "\n",
       "};\n",
       "\n",
       "mpl.figure.prototype.handle_close = function(fig, msg) {\n",
       "    var width = fig.canvas.width/mpl.ratio\n",
       "    fig.root.unbind('remove')\n",
       "\n",
       "    // Update the output cell to use the data from the current canvas.\n",
       "    fig.push_to_output();\n",
       "    var dataURL = fig.canvas.toDataURL();\n",
       "    // Re-enable the keyboard manager in IPython - without this line, in FF,\n",
       "    // the notebook keyboard shortcuts fail.\n",
       "    IPython.keyboard_manager.enable()\n",
       "    $(fig.parent_element).html('<img src=\"' + dataURL + '\" width=\"' + width + '\">');\n",
       "    fig.close_ws(fig, msg);\n",
       "}\n",
       "\n",
       "mpl.figure.prototype.close_ws = function(fig, msg){\n",
       "    fig.send_message('closing', msg);\n",
       "    // fig.ws.close()\n",
       "}\n",
       "\n",
       "mpl.figure.prototype.push_to_output = function(remove_interactive) {\n",
       "    // Turn the data on the canvas into data in the output cell.\n",
       "    var width = this.canvas.width/mpl.ratio\n",
       "    var dataURL = this.canvas.toDataURL();\n",
       "    this.cell_info[1]['text/html'] = '<img src=\"' + dataURL + '\" width=\"' + width + '\">';\n",
       "}\n",
       "\n",
       "mpl.figure.prototype.updated_canvas_event = function() {\n",
       "    // Tell IPython that the notebook contents must change.\n",
       "    IPython.notebook.set_dirty(true);\n",
       "    this.send_message(\"ack\", {});\n",
       "    var fig = this;\n",
       "    // Wait a second, then push the new image to the DOM so\n",
       "    // that it is saved nicely (might be nice to debounce this).\n",
       "    setTimeout(function () { fig.push_to_output() }, 1000);\n",
       "}\n",
       "\n",
       "mpl.figure.prototype._init_toolbar = function() {\n",
       "    var fig = this;\n",
       "\n",
       "    var nav_element = $('<div/>')\n",
       "    nav_element.attr('style', 'width: 100%');\n",
       "    this.root.append(nav_element);\n",
       "\n",
       "    // Define a callback function for later on.\n",
       "    function toolbar_event(event) {\n",
       "        return fig.toolbar_button_onclick(event['data']);\n",
       "    }\n",
       "    function toolbar_mouse_event(event) {\n",
       "        return fig.toolbar_button_onmouseover(event['data']);\n",
       "    }\n",
       "\n",
       "    for(var toolbar_ind in mpl.toolbar_items){\n",
       "        var name = mpl.toolbar_items[toolbar_ind][0];\n",
       "        var tooltip = mpl.toolbar_items[toolbar_ind][1];\n",
       "        var image = mpl.toolbar_items[toolbar_ind][2];\n",
       "        var method_name = mpl.toolbar_items[toolbar_ind][3];\n",
       "\n",
       "        if (!name) { continue; };\n",
       "\n",
       "        var button = $('<button class=\"btn btn-default\" href=\"#\" title=\"' + name + '\"><i class=\"fa ' + image + ' fa-lg\"></i></button>');\n",
       "        button.click(method_name, toolbar_event);\n",
       "        button.mouseover(tooltip, toolbar_mouse_event);\n",
       "        nav_element.append(button);\n",
       "    }\n",
       "\n",
       "    // Add the status bar.\n",
       "    var status_bar = $('<span class=\"mpl-message\" style=\"text-align:right; float: right;\"/>');\n",
       "    nav_element.append(status_bar);\n",
       "    this.message = status_bar[0];\n",
       "\n",
       "    // Add the close button to the window.\n",
       "    var buttongrp = $('<div class=\"btn-group inline pull-right\"></div>');\n",
       "    var button = $('<button class=\"btn btn-mini btn-primary\" href=\"#\" title=\"Stop Interaction\"><i class=\"fa fa-power-off icon-remove icon-large\"></i></button>');\n",
       "    button.click(function (evt) { fig.handle_close(fig, {}); } );\n",
       "    button.mouseover('Stop Interaction', toolbar_mouse_event);\n",
       "    buttongrp.append(button);\n",
       "    var titlebar = this.root.find($('.ui-dialog-titlebar'));\n",
       "    titlebar.prepend(buttongrp);\n",
       "}\n",
       "\n",
       "mpl.figure.prototype._root_extra_style = function(el){\n",
       "    var fig = this\n",
       "    el.on(\"remove\", function(){\n",
       "\tfig.close_ws(fig, {});\n",
       "    });\n",
       "}\n",
       "\n",
       "mpl.figure.prototype._canvas_extra_style = function(el){\n",
       "    // this is important to make the div 'focusable\n",
       "    el.attr('tabindex', 0)\n",
       "    // reach out to IPython and tell the keyboard manager to turn it's self\n",
       "    // off when our div gets focus\n",
       "\n",
       "    // location in version 3\n",
       "    if (IPython.notebook.keyboard_manager) {\n",
       "        IPython.notebook.keyboard_manager.register_events(el);\n",
       "    }\n",
       "    else {\n",
       "        // location in version 2\n",
       "        IPython.keyboard_manager.register_events(el);\n",
       "    }\n",
       "\n",
       "}\n",
       "\n",
       "mpl.figure.prototype._key_event_extra = function(event, name) {\n",
       "    var manager = IPython.notebook.keyboard_manager;\n",
       "    if (!manager)\n",
       "        manager = IPython.keyboard_manager;\n",
       "\n",
       "    // Check for shift+enter\n",
       "    if (event.shiftKey && event.which == 13) {\n",
       "        this.canvas_div.blur();\n",
       "        // select the cell after this one\n",
       "        var index = IPython.notebook.find_cell_index(this.cell_info[0]);\n",
       "        IPython.notebook.select(index + 1);\n",
       "    }\n",
       "}\n",
       "\n",
       "mpl.figure.prototype.handle_save = function(fig, msg) {\n",
       "    fig.ondownload(fig, null);\n",
       "}\n",
       "\n",
       "\n",
       "mpl.find_output_cell = function(html_output) {\n",
       "    // Return the cell and output element which can be found *uniquely* in the notebook.\n",
       "    // Note - this is a bit hacky, but it is done because the \"notebook_saving.Notebook\"\n",
       "    // IPython event is triggered only after the cells have been serialised, which for\n",
       "    // our purposes (turning an active figure into a static one), is too late.\n",
       "    var cells = IPython.notebook.get_cells();\n",
       "    var ncells = cells.length;\n",
       "    for (var i=0; i<ncells; i++) {\n",
       "        var cell = cells[i];\n",
       "        if (cell.cell_type === 'code'){\n",
       "            for (var j=0; j<cell.output_area.outputs.length; j++) {\n",
       "                var data = cell.output_area.outputs[j];\n",
       "                if (data.data) {\n",
       "                    // IPython >= 3 moved mimebundle to data attribute of output\n",
       "                    data = data.data;\n",
       "                }\n",
       "                if (data['text/html'] == html_output) {\n",
       "                    return [cell, data, j];\n",
       "                }\n",
       "            }\n",
       "        }\n",
       "    }\n",
       "}\n",
       "\n",
       "// Register the function which deals with the matplotlib target/channel.\n",
       "// The kernel may be null if the page has been refreshed.\n",
       "if (IPython.notebook.kernel != null) {\n",
       "    IPython.notebook.kernel.comm_manager.register_target('matplotlib', mpl.mpl_figure_comm);\n",
       "}\n"
      ],
      "text/plain": [
       "<IPython.core.display.Javascript object>"
      ]
     },
     "metadata": {},
     "output_type": "display_data"
    },
    {
     "data": {
      "text/html": [
       "<img src=\"data:image/png;base64,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\" width=\"640\">"
      ],
      "text/plain": [
       "<IPython.core.display.HTML object>"
      ]
     },
     "metadata": {},
     "output_type": "display_data"
    }
   ],
   "source": [
    "plt.plot(x[:22],y[:22])\n",
    "plt.plot(x[:22],y[:22],'o')\n",
    "plt.plot(x[[0]+wallidxs],y[[0]+wallidxs], 'o-')\n",
    "plt.axis('equal')\n",
    "plt.grid()"
   ]
  },
  {
   "cell_type": "markdown",
   "metadata": {},
   "source": [
    "### Part (c)"
   ]
  },
  {
   "cell_type": "code",
   "execution_count": 82,
   "metadata": {
    "ExecuteTime": {
     "end_time": "2017-10-11T21:00:40.269000Z",
     "start_time": "2017-10-11T17:00:40.261000-04:00"
    },
    "collapsed": true
   },
   "outputs": [],
   "source": [
    "isenT = lambda M: 1/(1+(g-1)/2*M**2)\n",
    "isend = lambda M: isenT(M)**(1/(g-1))\n",
    "Mratio = M0/Me_pset\n",
    "Tratio = isenT(M0)/isenT(Me_pset)\n",
    "uratio = Mratio*np.sqrt(Tratio)\n",
    "dratio = isend(M0)/isend(Me_pset)\n",
    "hanlyt = uratio*dratio"
   ]
  },
  {
   "cell_type": "code",
   "execution_count": 84,
   "metadata": {
    "ExecuteTime": {
     "end_time": "2017-10-11T21:00:42.073000Z",
     "start_time": "2017-10-11T17:00:42.065000-04:00"
    }
   },
   "outputs": [
    {
     "data": {
      "text/plain": [
       "20.469863452751884"
      ]
     },
     "execution_count": 84,
     "metadata": {},
     "output_type": "execute_result"
    }
   ],
   "source": [
    "hanlyt"
   ]
  },
  {
   "cell_type": "code",
   "execution_count": 86,
   "metadata": {
    "ExecuteTime": {
     "end_time": "2017-10-11T21:01:27.574000Z",
     "start_time": "2017-10-11T17:01:27.566000-04:00"
    }
   },
   "outputs": [
    {
     "data": {
      "text/plain": [
       "20.46986345275188"
      ]
     },
     "execution_count": 86,
     "metadata": {},
     "output_type": "execute_result"
    }
   ],
   "source": [
    "(M0/Me_pset)*((1+(g-1)/2*Me_pset**2)/(1+(g-1)/2*M0**2))**((g+1)/(2*(g-1)))"
   ]
  },
  {
   "cell_type": "markdown",
   "metadata": {
    "ExecuteTime": {
     "end_time": "2017-10-11T15:52:59.117000Z",
     "start_time": "2017-10-11T11:52:59.109000-04:00"
    }
   },
   "source": [
    "### Pressure"
   ]
  },
  {
   "cell_type": "code",
   "execution_count": 41,
   "metadata": {
    "ExecuteTime": {
     "end_time": "2017-10-11T20:08:33.521000Z",
     "start_time": "2017-10-11T16:08:33.510000-04:00"
    },
    "collapsed": true
   },
   "outputs": [],
   "source": [
    "h = y[wallidxs]"
   ]
  },
  {
   "cell_type": "code",
   "execution_count": null,
   "metadata": {
    "collapsed": true
   },
   "outputs": [],
   "source": []
  }
 ],
 "metadata": {
  "kernelspec": {
   "display_name": "Python 2",
   "language": "python",
   "name": "python2"
  },
  "language_info": {
   "codemirror_mode": {
    "name": "ipython",
    "version": 2
   },
   "file_extension": ".py",
   "mimetype": "text/x-python",
   "name": "python",
   "nbconvert_exporter": "python",
   "pygments_lexer": "ipython2",
   "version": "2.7.12"
  },
  "toc": {
   "colors": {
    "hover_highlight": "#DAA520",
    "navigate_num": "#000000",
    "navigate_text": "#333333",
    "running_highlight": "#FF0000",
    "selected_highlight": "#FFD700",
    "sidebar_border": "#EEEEEE",
    "wrapper_background": "#FFFFFF"
   },
   "moveMenuLeft": true,
   "nav_menu": {
    "height": "31px",
    "width": "252px"
   },
   "navigate_menu": true,
   "number_sections": true,
   "sideBar": true,
   "threshold": 4,
   "toc_cell": false,
   "toc_section_display": "block",
   "toc_window_display": false,
   "widenNotebook": false
  },
  "varInspector": {
   "cols": {
    "lenName": 16,
    "lenType": 16,
    "lenVar": 40
   },
   "kernels_config": {
    "python": {
     "delete_cmd_postfix": "",
     "delete_cmd_prefix": "del ",
     "library": "var_list.py",
     "varRefreshCmd": "print(var_dic_list())"
    },
    "r": {
     "delete_cmd_postfix": ") ",
     "delete_cmd_prefix": "rm(",
     "library": "var_list.r",
     "varRefreshCmd": "cat(var_dic_list()) "
    }
   },
   "types_to_exclude": [
    "module",
    "function",
    "builtin_function_or_method",
    "instance",
    "_Feature"
   ],
   "window_display": false
  }
 },
 "nbformat": 4,
 "nbformat_minor": 2
}
