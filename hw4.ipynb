{
 "cells": [
  {
   "cell_type": "markdown",
   "metadata": {},
   "source": [
    "## Setup"
   ]
  },
  {
   "cell_type": "code",
   "execution_count": 1,
   "metadata": {
    "ExecuteTime": {
     "end_time": "2017-10-12T15:23:26.522000Z",
     "start_time": "2017-10-12T11:23:23.301000-04:00"
    },
    "collapsed": true,
    "run_control": {
     "marked": false
    }
   },
   "outputs": [],
   "source": [
    "import numpy as np\n",
    "import pandas as pd\n",
    "import matplotlib.pyplot as plt\n",
    "from scipy.optimize import fsolve"
   ]
  },
  {
   "cell_type": "markdown",
   "metadata": {},
   "source": [
    "Constants"
   ]
  },
  {
   "cell_type": "code",
   "execution_count": 2,
   "metadata": {
    "ExecuteTime": {
     "end_time": "2017-10-12T15:23:26.538000Z",
     "start_time": "2017-10-12T11:23:26.530000-04:00"
    },
    "collapsed": true
   },
   "outputs": [],
   "source": [
    "g = 1.25\n",
    "k = 3"
   ]
  },
  {
   "cell_type": "markdown",
   "metadata": {},
   "source": [
    "Helper functions"
   ]
  },
  {
   "cell_type": "code",
   "execution_count": 3,
   "metadata": {
    "ExecuteTime": {
     "end_time": "2017-10-12T15:23:26.554000Z",
     "start_time": "2017-10-12T11:23:26.542000-04:00"
    },
    "collapsed": true
   },
   "outputs": [],
   "source": [
    "wM = lambda M: np.degrees(k*np.arctan(np.sqrt(M**2-1)/k)-np.arctan(np.sqrt(M**2-1)))"
   ]
  },
  {
   "cell_type": "code",
   "execution_count": 4,
   "metadata": {
    "ExecuteTime": {
     "end_time": "2017-10-12T15:23:26.583000Z",
     "start_time": "2017-10-12T11:23:26.558000-04:00"
    },
    "collapsed": true
   },
   "outputs": [],
   "source": [
    "Mw = lambda win: fsolve(lambda M: wM(M)-win, 2)[0]"
   ]
  },
  {
   "cell_type": "code",
   "execution_count": 5,
   "metadata": {
    "ExecuteTime": {
     "end_time": "2017-10-12T15:23:26.598000Z",
     "start_time": "2017-10-12T11:23:26.592000-04:00"
    },
    "collapsed": true
   },
   "outputs": [],
   "source": [
    "thw = lambda Ip, Im: (0.5*(Ip+Im), 0.5*(Ip-Im))"
   ]
  },
  {
   "cell_type": "code",
   "execution_count": 6,
   "metadata": {
    "ExecuteTime": {
     "end_time": "2017-10-12T15:23:26.610000Z",
     "start_time": "2017-10-12T11:23:26.602000-04:00"
    },
    "collapsed": true
   },
   "outputs": [],
   "source": [
    "Iminus_center = lambda incoming_Ip: -incoming_Ip\n",
    "thw_center = lambda incoming_Ip: (0, incoming_Ip)"
   ]
  },
  {
   "cell_type": "markdown",
   "metadata": {},
   "source": [
    "Initial conditions"
   ]
  },
  {
   "cell_type": "code",
   "execution_count": 7,
   "metadata": {
    "ExecuteTime": {
     "end_time": "2017-10-12T15:23:26.626000Z",
     "start_time": "2017-10-12T11:23:26.614000-04:00"
    },
    "collapsed": true
   },
   "outputs": [],
   "source": [
    "M0 = 1.1\n",
    "Me_pset = 4\n",
    "w_0, w_e = wM(M0), wM(Me_pset)\n",
    "th_0, th_e = 0,0"
   ]
  },
  {
   "cell_type": "markdown",
   "metadata": {},
   "source": [
    "## Part (a)"
   ]
  },
  {
   "cell_type": "code",
   "execution_count": 8,
   "metadata": {
    "ExecuteTime": {
     "end_time": "2017-10-12T15:23:26.642000Z",
     "start_time": "2017-10-12T11:23:26.630000-04:00"
    },
    "collapsed": true
   },
   "outputs": [],
   "source": [
    "line_number = 6\n",
    "discretization = line_number*(line_number+1)/2+1\n",
    "th_w = np.empty((2,discretization))*np.nan\n",
    "th, w = th_w\n",
    "th[0] = th[1] = th_0\n",
    "w[0] = w[1] = w_0\n",
    "Im_1 = th_0-w_0\n",
    "Ip_1, Ip_e = th_0+w_0, th_e+w_e\n",
    "Ips = np.linspace(Ip_1, Ip_e, line_number)\n",
    "Ims = -Ips"
   ]
  },
  {
   "cell_type": "code",
   "execution_count": 9,
   "metadata": {
    "ExecuteTime": {
     "end_time": "2017-10-12T15:23:26.658000Z",
     "start_time": "2017-10-12T11:23:26.646000-04:00"
    },
    "collapsed": true
   },
   "outputs": [],
   "source": [
    "idx = 1\n",
    "for Im_counter in range(1,line_number):\n",
    "    idx +=1\n",
    "    for Ip_i in Ips[Im_counter:]:\n",
    "        th[idx], w[idx] = thw(Ip_i, Ims[Im_counter-1])\n",
    "        idx +=1\n",
    "    th[idx], w[idx] = thw_center(Ips[Im_counter])"
   ]
  },
  {
   "cell_type": "code",
   "execution_count": 10,
   "metadata": {
    "ExecuteTime": {
     "end_time": "2017-10-12T15:23:26.678000Z",
     "start_time": "2017-10-12T11:23:26.662000-04:00"
    },
    "collapsed": true
   },
   "outputs": [],
   "source": [
    "table = pd.DataFrame()\n",
    "table[\"omegas\"], table[\"thetas\"] = w, th"
   ]
  },
  {
   "cell_type": "code",
   "execution_count": 11,
   "metadata": {
    "ExecuteTime": {
     "end_time": "2017-10-12T15:23:26.714000Z",
     "start_time": "2017-10-12T11:23:26.683000-04:00"
    },
    "collapsed": true
   },
   "outputs": [],
   "source": [
    "table[\"M\"] = table[\"omegas\"].apply(Mw)\n",
    "table[\"mu\"] = table[\"M\"].apply(lambda M: np.degrees(np.arctan(1/np.sqrt(M**2-1))))\n",
    "table[\"th+mu\"] = table[\"thetas\"]+table[\"mu\"]\n",
    "table[\"th-mu\"] = table[\"thetas\"]-table[\"mu\"]\n",
    "table[\"I+\"] = table[\"thetas\"]+table[\"omegas\"]\n",
    "table[\"I-\"] = table[\"thetas\"]-table[\"omegas\"]\n",
    "table[\"P/Pc\"] = table[\"M\"].apply(lambda M: (1+(g-1)/2*M**2)**(-g/(g-1)))\n",
    "table[\"alphas\"] = -np.radians(table[\"th-mu\"])\n",
    "table[\"betas\"] = np.radians(table[\"th+mu\"])"
   ]
  },
  {
   "cell_type": "code",
   "execution_count": 79,
   "metadata": {
    "ExecuteTime": {
     "end_time": "2017-10-12T16:27:09.105000Z",
     "start_time": "2017-10-12T12:27:09.071000-04:00"
    }
   },
   "outputs": [
    {
     "data": {
      "text/html": [
       "<div>\n",
       "<style>\n",
       "    .dataframe thead tr:only-child th {\n",
       "        text-align: right;\n",
       "    }\n",
       "\n",
       "    .dataframe thead th {\n",
       "        text-align: left;\n",
       "    }\n",
       "\n",
       "    .dataframe tbody tr th {\n",
       "        vertical-align: top;\n",
       "    }\n",
       "</style>\n",
       "<table border=\"1\" class=\"dataframe\">\n",
       "  <thead>\n",
       "    <tr style=\"text-align: right;\">\n",
       "      <th></th>\n",
       "      <th>M</th>\n",
       "      <th>I+</th>\n",
       "      <th>I-</th>\n",
       "      <th>omegas</th>\n",
       "      <th>thetas</th>\n",
       "      <th>mu</th>\n",
       "    </tr>\n",
       "  </thead>\n",
       "  <tbody>\n",
       "    <tr>\n",
       "      <th>0</th>\n",
       "      <td>1.100000</td>\n",
       "      <td>1.434844</td>\n",
       "      <td>-1.434844</td>\n",
       "      <td>1.434844</td>\n",
       "      <td>0.000000</td>\n",
       "      <td>65.380023</td>\n",
       "    </tr>\n",
       "    <tr>\n",
       "      <th>1</th>\n",
       "      <td>1.100000</td>\n",
       "      <td>1.434844</td>\n",
       "      <td>-1.434844</td>\n",
       "      <td>1.434844</td>\n",
       "      <td>0.000000</td>\n",
       "      <td>65.380023</td>\n",
       "    </tr>\n",
       "    <tr>\n",
       "      <th>2</th>\n",
       "      <td>1.386455</td>\n",
       "      <td>17.386632</td>\n",
       "      <td>-1.434844</td>\n",
       "      <td>9.410738</td>\n",
       "      <td>7.975894</td>\n",
       "      <td>46.158937</td>\n",
       "    </tr>\n",
       "    <tr>\n",
       "      <th>3</th>\n",
       "      <td>1.626345</td>\n",
       "      <td>33.338419</td>\n",
       "      <td>-1.434844</td>\n",
       "      <td>17.386632</td>\n",
       "      <td>15.951787</td>\n",
       "      <td>37.942890</td>\n",
       "    </tr>\n",
       "    <tr>\n",
       "      <th>4</th>\n",
       "      <td>1.861247</td>\n",
       "      <td>49.290206</td>\n",
       "      <td>-1.434844</td>\n",
       "      <td>25.362525</td>\n",
       "      <td>23.927681</td>\n",
       "      <td>32.498265</td>\n",
       "    </tr>\n",
       "    <tr>\n",
       "      <th>5</th>\n",
       "      <td>2.101839</td>\n",
       "      <td>65.241993</td>\n",
       "      <td>-1.434844</td>\n",
       "      <td>33.338419</td>\n",
       "      <td>31.903574</td>\n",
       "      <td>28.409749</td>\n",
       "    </tr>\n",
       "    <tr>\n",
       "      <th>6</th>\n",
       "      <td>2.354392</td>\n",
       "      <td>81.193780</td>\n",
       "      <td>-1.434844</td>\n",
       "      <td>41.314312</td>\n",
       "      <td>39.879468</td>\n",
       "      <td>25.134084</td>\n",
       "    </tr>\n",
       "    <tr>\n",
       "      <th>7</th>\n",
       "      <td>1.626345</td>\n",
       "      <td>17.386632</td>\n",
       "      <td>-17.386632</td>\n",
       "      <td>17.386632</td>\n",
       "      <td>0.000000</td>\n",
       "      <td>37.942890</td>\n",
       "    </tr>\n",
       "    <tr>\n",
       "      <th>8</th>\n",
       "      <td>1.861247</td>\n",
       "      <td>33.338419</td>\n",
       "      <td>-17.386632</td>\n",
       "      <td>25.362525</td>\n",
       "      <td>7.975894</td>\n",
       "      <td>32.498265</td>\n",
       "    </tr>\n",
       "    <tr>\n",
       "      <th>9</th>\n",
       "      <td>2.101839</td>\n",
       "      <td>49.290206</td>\n",
       "      <td>-17.386632</td>\n",
       "      <td>33.338419</td>\n",
       "      <td>15.951787</td>\n",
       "      <td>28.409749</td>\n",
       "    </tr>\n",
       "    <tr>\n",
       "      <th>10</th>\n",
       "      <td>2.354392</td>\n",
       "      <td>65.241993</td>\n",
       "      <td>-17.386632</td>\n",
       "      <td>41.314312</td>\n",
       "      <td>23.927681</td>\n",
       "      <td>25.134084</td>\n",
       "    </tr>\n",
       "    <tr>\n",
       "      <th>11</th>\n",
       "      <td>2.624186</td>\n",
       "      <td>81.193780</td>\n",
       "      <td>-17.386632</td>\n",
       "      <td>49.290206</td>\n",
       "      <td>31.903574</td>\n",
       "      <td>22.400011</td>\n",
       "    </tr>\n",
       "    <tr>\n",
       "      <th>12</th>\n",
       "      <td>2.101839</td>\n",
       "      <td>33.338419</td>\n",
       "      <td>-33.338419</td>\n",
       "      <td>33.338419</td>\n",
       "      <td>0.000000</td>\n",
       "      <td>28.409749</td>\n",
       "    </tr>\n",
       "    <tr>\n",
       "      <th>13</th>\n",
       "      <td>2.354392</td>\n",
       "      <td>49.290206</td>\n",
       "      <td>-33.338419</td>\n",
       "      <td>41.314312</td>\n",
       "      <td>7.975894</td>\n",
       "      <td>25.134084</td>\n",
       "    </tr>\n",
       "    <tr>\n",
       "      <th>14</th>\n",
       "      <td>2.624186</td>\n",
       "      <td>65.241993</td>\n",
       "      <td>-33.338419</td>\n",
       "      <td>49.290206</td>\n",
       "      <td>15.951787</td>\n",
       "      <td>22.400011</td>\n",
       "    </tr>\n",
       "    <tr>\n",
       "      <th>15</th>\n",
       "      <td>2.916640</td>\n",
       "      <td>81.193780</td>\n",
       "      <td>-33.338419</td>\n",
       "      <td>57.266100</td>\n",
       "      <td>23.927681</td>\n",
       "      <td>20.051231</td>\n",
       "    </tr>\n",
       "    <tr>\n",
       "      <th>16</th>\n",
       "      <td>2.624186</td>\n",
       "      <td>49.290206</td>\n",
       "      <td>-49.290206</td>\n",
       "      <td>49.290206</td>\n",
       "      <td>0.000000</td>\n",
       "      <td>22.400011</td>\n",
       "    </tr>\n",
       "    <tr>\n",
       "      <th>17</th>\n",
       "      <td>2.916640</td>\n",
       "      <td>65.241993</td>\n",
       "      <td>-49.290206</td>\n",
       "      <td>57.266100</td>\n",
       "      <td>7.975894</td>\n",
       "      <td>20.051231</td>\n",
       "    </tr>\n",
       "    <tr>\n",
       "      <th>18</th>\n",
       "      <td>3.237979</td>\n",
       "      <td>81.193780</td>\n",
       "      <td>-49.290206</td>\n",
       "      <td>65.241993</td>\n",
       "      <td>15.951787</td>\n",
       "      <td>17.989012</td>\n",
       "    </tr>\n",
       "    <tr>\n",
       "      <th>19</th>\n",
       "      <td>3.237979</td>\n",
       "      <td>65.241993</td>\n",
       "      <td>-65.241993</td>\n",
       "      <td>65.241993</td>\n",
       "      <td>0.000000</td>\n",
       "      <td>17.989012</td>\n",
       "    </tr>\n",
       "    <tr>\n",
       "      <th>20</th>\n",
       "      <td>3.595836</td>\n",
       "      <td>81.193780</td>\n",
       "      <td>-65.241993</td>\n",
       "      <td>73.217887</td>\n",
       "      <td>7.975894</td>\n",
       "      <td>16.146804</td>\n",
       "    </tr>\n",
       "    <tr>\n",
       "      <th>21</th>\n",
       "      <td>4.000000</td>\n",
       "      <td>81.193780</td>\n",
       "      <td>-81.193780</td>\n",
       "      <td>81.193780</td>\n",
       "      <td>0.000000</td>\n",
       "      <td>14.477512</td>\n",
       "    </tr>\n",
       "  </tbody>\n",
       "</table>\n",
       "</div>"
      ],
      "text/plain": [
       "           M         I+         I-     omegas     thetas         mu\n",
       "0   1.100000   1.434844  -1.434844   1.434844   0.000000  65.380023\n",
       "1   1.100000   1.434844  -1.434844   1.434844   0.000000  65.380023\n",
       "2   1.386455  17.386632  -1.434844   9.410738   7.975894  46.158937\n",
       "3   1.626345  33.338419  -1.434844  17.386632  15.951787  37.942890\n",
       "4   1.861247  49.290206  -1.434844  25.362525  23.927681  32.498265\n",
       "5   2.101839  65.241993  -1.434844  33.338419  31.903574  28.409749\n",
       "6   2.354392  81.193780  -1.434844  41.314312  39.879468  25.134084\n",
       "7   1.626345  17.386632 -17.386632  17.386632   0.000000  37.942890\n",
       "8   1.861247  33.338419 -17.386632  25.362525   7.975894  32.498265\n",
       "9   2.101839  49.290206 -17.386632  33.338419  15.951787  28.409749\n",
       "10  2.354392  65.241993 -17.386632  41.314312  23.927681  25.134084\n",
       "11  2.624186  81.193780 -17.386632  49.290206  31.903574  22.400011\n",
       "12  2.101839  33.338419 -33.338419  33.338419   0.000000  28.409749\n",
       "13  2.354392  49.290206 -33.338419  41.314312   7.975894  25.134084\n",
       "14  2.624186  65.241993 -33.338419  49.290206  15.951787  22.400011\n",
       "15  2.916640  81.193780 -33.338419  57.266100  23.927681  20.051231\n",
       "16  2.624186  49.290206 -49.290206  49.290206   0.000000  22.400011\n",
       "17  2.916640  65.241993 -49.290206  57.266100   7.975894  20.051231\n",
       "18  3.237979  81.193780 -49.290206  65.241993  15.951787  17.989012\n",
       "19  3.237979  65.241993 -65.241993  65.241993   0.000000  17.989012\n",
       "20  3.595836  81.193780 -65.241993  73.217887   7.975894  16.146804\n",
       "21  4.000000  81.193780 -81.193780  81.193780   0.000000  14.477512"
      ]
     },
     "execution_count": 79,
     "metadata": {},
     "output_type": "execute_result"
    }
   ],
   "source": [
    "table[[\"M\", \"I+\", \"I-\", \"omegas\", \"thetas\", \"mu\"]]"
   ]
  },
  {
   "cell_type": "markdown",
   "metadata": {},
   "source": [
    "All wall point conditions are the same as the previous point (21w=21)"
   ]
  },
  {
   "cell_type": "code",
   "execution_count": 81,
   "metadata": {
    "ExecuteTime": {
     "end_time": "2017-10-12T16:27:22.570000Z",
     "start_time": "2017-10-12T12:27:22.546000-04:00"
    }
   },
   "outputs": [
    {
     "data": {
      "text/html": [
       "<div>\n",
       "<style>\n",
       "    .dataframe thead tr:only-child th {\n",
       "        text-align: right;\n",
       "    }\n",
       "\n",
       "    .dataframe thead th {\n",
       "        text-align: left;\n",
       "    }\n",
       "\n",
       "    .dataframe tbody tr th {\n",
       "        vertical-align: top;\n",
       "    }\n",
       "</style>\n",
       "<table border=\"1\" class=\"dataframe\">\n",
       "  <thead>\n",
       "    <tr style=\"text-align: right;\">\n",
       "      <th></th>\n",
       "      <th>th+mu</th>\n",
       "      <th>th-mu</th>\n",
       "      <th>P/Pc</th>\n",
       "    </tr>\n",
       "  </thead>\n",
       "  <tbody>\n",
       "    <tr>\n",
       "      <th>0</th>\n",
       "      <td>65.380023</td>\n",
       "      <td>-65.380023</td>\n",
       "      <td>0.494483</td>\n",
       "    </tr>\n",
       "    <tr>\n",
       "      <th>1</th>\n",
       "      <td>65.380023</td>\n",
       "      <td>-65.380023</td>\n",
       "      <td>0.494483</td>\n",
       "    </tr>\n",
       "    <tr>\n",
       "      <th>2</th>\n",
       "      <td>54.134831</td>\n",
       "      <td>-38.183043</td>\n",
       "      <td>0.340720</td>\n",
       "    </tr>\n",
       "    <tr>\n",
       "      <th>3</th>\n",
       "      <td>53.894677</td>\n",
       "      <td>-21.991103</td>\n",
       "      <td>0.239730</td>\n",
       "    </tr>\n",
       "    <tr>\n",
       "      <th>4</th>\n",
       "      <td>56.425946</td>\n",
       "      <td>-8.570585</td>\n",
       "      <td>0.165471</td>\n",
       "    </tr>\n",
       "    <tr>\n",
       "      <th>5</th>\n",
       "      <td>60.313323</td>\n",
       "      <td>3.493826</td>\n",
       "      <td>0.110979</td>\n",
       "    </tr>\n",
       "    <tr>\n",
       "      <th>6</th>\n",
       "      <td>65.013552</td>\n",
       "      <td>14.745384</td>\n",
       "      <td>0.071920</td>\n",
       "    </tr>\n",
       "    <tr>\n",
       "      <th>7</th>\n",
       "      <td>37.942890</td>\n",
       "      <td>-37.942890</td>\n",
       "      <td>0.239730</td>\n",
       "    </tr>\n",
       "    <tr>\n",
       "      <th>8</th>\n",
       "      <td>40.474159</td>\n",
       "      <td>-24.522372</td>\n",
       "      <td>0.165471</td>\n",
       "    </tr>\n",
       "    <tr>\n",
       "      <th>9</th>\n",
       "      <td>44.361536</td>\n",
       "      <td>-12.457962</td>\n",
       "      <td>0.110979</td>\n",
       "    </tr>\n",
       "    <tr>\n",
       "      <th>10</th>\n",
       "      <td>49.061765</td>\n",
       "      <td>-1.206403</td>\n",
       "      <td>0.071920</td>\n",
       "    </tr>\n",
       "    <tr>\n",
       "      <th>11</th>\n",
       "      <td>54.303585</td>\n",
       "      <td>9.503564</td>\n",
       "      <td>0.044824</td>\n",
       "    </tr>\n",
       "    <tr>\n",
       "      <th>12</th>\n",
       "      <td>28.409749</td>\n",
       "      <td>-28.409749</td>\n",
       "      <td>0.110979</td>\n",
       "    </tr>\n",
       "    <tr>\n",
       "      <th>13</th>\n",
       "      <td>33.109978</td>\n",
       "      <td>-17.158190</td>\n",
       "      <td>0.071920</td>\n",
       "    </tr>\n",
       "    <tr>\n",
       "      <th>14</th>\n",
       "      <td>38.351798</td>\n",
       "      <td>-6.448223</td>\n",
       "      <td>0.044824</td>\n",
       "    </tr>\n",
       "    <tr>\n",
       "      <th>15</th>\n",
       "      <td>43.978912</td>\n",
       "      <td>3.876450</td>\n",
       "      <td>0.026738</td>\n",
       "    </tr>\n",
       "    <tr>\n",
       "      <th>16</th>\n",
       "      <td>22.400011</td>\n",
       "      <td>-22.400011</td>\n",
       "      <td>0.044824</td>\n",
       "    </tr>\n",
       "    <tr>\n",
       "      <th>17</th>\n",
       "      <td>28.027125</td>\n",
       "      <td>-12.075338</td>\n",
       "      <td>0.026738</td>\n",
       "    </tr>\n",
       "    <tr>\n",
       "      <th>18</th>\n",
       "      <td>33.940799</td>\n",
       "      <td>-2.037225</td>\n",
       "      <td>0.015185</td>\n",
       "    </tr>\n",
       "    <tr>\n",
       "      <th>19</th>\n",
       "      <td>17.989012</td>\n",
       "      <td>-17.989012</td>\n",
       "      <td>0.015185</td>\n",
       "    </tr>\n",
       "    <tr>\n",
       "      <th>20</th>\n",
       "      <td>24.122698</td>\n",
       "      <td>-8.170911</td>\n",
       "      <td>0.008158</td>\n",
       "    </tr>\n",
       "    <tr>\n",
       "      <th>21</th>\n",
       "      <td>14.477512</td>\n",
       "      <td>-14.477512</td>\n",
       "      <td>0.004115</td>\n",
       "    </tr>\n",
       "  </tbody>\n",
       "</table>\n",
       "</div>"
      ],
      "text/plain": [
       "        th+mu      th-mu      P/Pc\n",
       "0   65.380023 -65.380023  0.494483\n",
       "1   65.380023 -65.380023  0.494483\n",
       "2   54.134831 -38.183043  0.340720\n",
       "3   53.894677 -21.991103  0.239730\n",
       "4   56.425946  -8.570585  0.165471\n",
       "5   60.313323   3.493826  0.110979\n",
       "6   65.013552  14.745384  0.071920\n",
       "7   37.942890 -37.942890  0.239730\n",
       "8   40.474159 -24.522372  0.165471\n",
       "9   44.361536 -12.457962  0.110979\n",
       "10  49.061765  -1.206403  0.071920\n",
       "11  54.303585   9.503564  0.044824\n",
       "12  28.409749 -28.409749  0.110979\n",
       "13  33.109978 -17.158190  0.071920\n",
       "14  38.351798  -6.448223  0.044824\n",
       "15  43.978912   3.876450  0.026738\n",
       "16  22.400011 -22.400011  0.044824\n",
       "17  28.027125 -12.075338  0.026738\n",
       "18  33.940799  -2.037225  0.015185\n",
       "19  17.989012 -17.989012  0.015185\n",
       "20  24.122698  -8.170911  0.008158\n",
       "21  14.477512 -14.477512  0.004115"
      ]
     },
     "execution_count": 81,
     "metadata": {},
     "output_type": "execute_result"
    }
   ],
   "source": [
    "table[[\"th+mu\", \"th-mu\", \"P/Pc\"]]"
   ]
  },
  {
   "cell_type": "markdown",
   "metadata": {
    "collapsed": true
   },
   "source": [
    "## Part (b)"
   ]
  },
  {
   "cell_type": "code",
   "execution_count": 13,
   "metadata": {
    "ExecuteTime": {
     "end_time": "2017-10-12T15:23:26.846000Z",
     "start_time": "2017-10-12T11:23:26.791000-04:00"
    },
    "collapsed": true
   },
   "outputs": [],
   "source": [
    "upstreams = {\n",
    "    1: [0, 22],\n",
    "    2: [0, 1],\n",
    "    3: [0, 2],\n",
    "    4: [0, 3],\n",
    "    5: [0, 4],\n",
    "    6: [0, 5],\n",
    "    7: [2, 1],\n",
    "    8: [3, 7],\n",
    "    9: [4, 8],\n",
    "    10: [5, 9],\n",
    "    11: [6, 10],\n",
    "    12: [8, 7],\n",
    "    13: [9, 12],\n",
    "    14: [10, 13],\n",
    "    15: [11, 14],\n",
    "    16: [13, 12],\n",
    "    17: [14, 16],\n",
    "    18: [15, 17],\n",
    "    19: [17, 16],\n",
    "    20: [18, 19],\n",
    "    21: [20, 19],\n",
    "    23: [0,6],\n",
    "    24: [23, 11],\n",
    "    25: [24, 15],\n",
    "    26: [25, 18],\n",
    "    27: [26, 20],\n",
    "    28: [27, 21]\n",
    "}\n",
    "onthewall = [1, 7, 12, 16, 19, 21]"
   ]
  },
  {
   "cell_type": "code",
   "execution_count": 14,
   "metadata": {
    "ExecuteTime": {
     "end_time": "2017-10-12T15:23:26.874000Z",
     "start_time": "2017-10-12T11:23:26.862000-04:00"
    },
    "collapsed": true
   },
   "outputs": [],
   "source": [
    "x = np.empty(29)*np.nan\n",
    "y = np.empty(29)*np.nan\n",
    "x[0] = 0\n",
    "y[0] = 1\n",
    "x[22] = 0\n",
    "y[22] = 0"
   ]
  },
  {
   "cell_type": "code",
   "execution_count": 15,
   "metadata": {
    "ExecuteTime": {
     "end_time": "2017-10-12T15:23:26.899000Z",
     "start_time": "2017-10-12T11:23:26.888000-04:00"
    },
    "collapsed": true
   },
   "outputs": [],
   "source": [
    "def position(xa, ya, alpha, xb, yb, beta):\n",
    "    xc = (ya-yb+xa*np.tan(alpha)+xb*np.tan(beta))/(np.tan(alpha)+np.tan(beta))\n",
    "    yc = (yb*np.tan(alpha)+ya*np.tan(beta)+(xa-xb)*np.tan(alpha)*np.tan(beta))/(np.tan(alpha)+np.tan(beta))\n",
    "    return xc, yc"
   ]
  },
  {
   "cell_type": "code",
   "execution_count": 16,
   "metadata": {
    "ExecuteTime": {
     "end_time": "2017-10-12T15:23:26.935000Z",
     "start_time": "2017-10-12T11:23:26.903000-04:00"
    },
    "collapsed": true
   },
   "outputs": [],
   "source": [
    "def positionofidx(idx):\n",
    "    upstream_plus_idx, upstream_minus_idx = upstreams[idx]\n",
    "    if upstream_plus_idx == 0:\n",
    "        upstream_theta_idx = idx\n",
    "    else:\n",
    "        upstream_theta_idx = upstream_plus_idx \n",
    "        \n",
    "    #print(upstream_plus_idx, upstream_minus_idx)\n",
    "    xa, ya = x[upstream_plus_idx], y[upstream_plus_idx]\n",
    "    xb, yb = x[upstream_minus_idx], y[upstream_minus_idx]\n",
    "     \n",
    "    alpha_upstream = table[\"alphas\"].iloc[upstream_theta_idx]\n",
    "    alpha_idx = table[\"alphas\"].iloc[idx]\n",
    "    alpha = np.average([alpha_upstream, alpha_idx])\n",
    "\n",
    "    isonwall = idx in onthewall\n",
    "    if isonwall:\n",
    "        xc,yc = position(xa, ya, alpha, xb, yb, 0)\n",
    "    else:\n",
    "        beta_upstream =  table[\"betas\"].iloc[upstream_minus_idx]\n",
    "        beta_idx = table[\"betas\"].iloc[idx]\n",
    "        beta = np.average([beta_upstream, beta_idx])\n",
    "        #print(xa,ya,xb,yb, np.degrees(alpha), np.degrees(beta))\n",
    "        xc,yc = position(xa, ya, alpha, xb, yb, beta)\n",
    "        \n",
    "    return xc, yc\n",
    "    "
   ]
  },
  {
   "cell_type": "code",
   "execution_count": 17,
   "metadata": {
    "ExecuteTime": {
     "end_time": "2017-10-12T15:23:26.955000Z",
     "start_time": "2017-10-12T11:23:26.943000-04:00"
    },
    "collapsed": true
   },
   "outputs": [],
   "source": [
    "for idx in range(1,22):\n",
    "    x[idx], y[idx] = positionofidx(idx)"
   ]
  },
  {
   "cell_type": "markdown",
   "metadata": {},
   "source": [
    "### Points not on the nozzle wall:"
   ]
  },
  {
   "cell_type": "code",
   "execution_count": 86,
   "metadata": {
    "ExecuteTime": {
     "end_time": "2017-10-12T16:31:39.086000Z",
     "start_time": "2017-10-12T12:31:39.061000-04:00"
    }
   },
   "outputs": [
    {
     "data": {
      "text/html": [
       "<div>\n",
       "<style>\n",
       "    .dataframe thead tr:only-child th {\n",
       "        text-align: right;\n",
       "    }\n",
       "\n",
       "    .dataframe thead th {\n",
       "        text-align: left;\n",
       "    }\n",
       "\n",
       "    .dataframe tbody tr th {\n",
       "        vertical-align: top;\n",
       "    }\n",
       "</style>\n",
       "<table border=\"1\" class=\"dataframe\">\n",
       "  <thead>\n",
       "    <tr style=\"text-align: right;\">\n",
       "      <th></th>\n",
       "      <th>x</th>\n",
       "      <th>y</th>\n",
       "    </tr>\n",
       "  </thead>\n",
       "  <tbody>\n",
       "    <tr>\n",
       "      <th>0</th>\n",
       "      <td>0.000000</td>\n",
       "      <td>1.000000</td>\n",
       "    </tr>\n",
       "    <tr>\n",
       "      <th>1</th>\n",
       "      <td>0.458258</td>\n",
       "      <td>0.000000</td>\n",
       "    </tr>\n",
       "    <tr>\n",
       "      <th>2</th>\n",
       "      <td>0.713928</td>\n",
       "      <td>0.438536</td>\n",
       "    </tr>\n",
       "    <tr>\n",
       "      <th>3</th>\n",
       "      <td>0.867298</td>\n",
       "      <td>0.649746</td>\n",
       "    </tr>\n",
       "    <tr>\n",
       "      <th>4</th>\n",
       "      <td>1.005602</td>\n",
       "      <td>0.848445</td>\n",
       "    </tr>\n",
       "    <tr>\n",
       "      <th>5</th>\n",
       "      <td>1.141891</td>\n",
       "      <td>1.069718</td>\n",
       "    </tr>\n",
       "    <tr>\n",
       "      <th>6</th>\n",
       "      <td>1.280003</td>\n",
       "      <td>1.336886</td>\n",
       "    </tr>\n",
       "    <tr>\n",
       "      <th>7</th>\n",
       "      <td>1.273959</td>\n",
       "      <td>0.000000</td>\n",
       "    </tr>\n",
       "    <tr>\n",
       "      <th>8</th>\n",
       "      <td>1.655280</td>\n",
       "      <td>0.311092</td>\n",
       "    </tr>\n",
       "    <tr>\n",
       "      <th>9</th>\n",
       "      <td>2.034409</td>\n",
       "      <td>0.657502</td>\n",
       "    </tr>\n",
       "    <tr>\n",
       "      <th>10</th>\n",
       "      <td>2.447252</td>\n",
       "      <td>1.095778</td>\n",
       "    </tr>\n",
       "    <tr>\n",
       "      <th>11</th>\n",
       "      <td>2.915427</td>\n",
       "      <td>1.688222</td>\n",
       "    </tr>\n",
       "    <tr>\n",
       "      <th>12</th>\n",
       "      <td>2.280161</td>\n",
       "      <td>0.000000</td>\n",
       "    </tr>\n",
       "    <tr>\n",
       "      <th>13</th>\n",
       "      <td>2.969529</td>\n",
       "      <td>0.410292</td>\n",
       "    </tr>\n",
       "    <tr>\n",
       "      <th>14</th>\n",
       "      <td>3.796892</td>\n",
       "      <td>1.005489</td>\n",
       "    </tr>\n",
       "    <tr>\n",
       "      <th>15</th>\n",
       "      <td>4.835270</td>\n",
       "      <td>1.913412</td>\n",
       "    </tr>\n",
       "    <tr>\n",
       "      <th>16</th>\n",
       "      <td>4.110463</td>\n",
       "      <td>0.000000</td>\n",
       "    </tr>\n",
       "    <tr>\n",
       "      <th>17</th>\n",
       "      <td>5.615932</td>\n",
       "      <td>0.708855</td>\n",
       "    </tr>\n",
       "    <tr>\n",
       "      <th>18</th>\n",
       "      <td>7.698459</td>\n",
       "      <td>1.959371</td>\n",
       "    </tr>\n",
       "    <tr>\n",
       "      <th>19</th>\n",
       "      <td>8.255486</td>\n",
       "      <td>0.000000</td>\n",
       "    </tr>\n",
       "    <tr>\n",
       "      <th>20</th>\n",
       "      <td>12.281649</td>\n",
       "      <td>1.550004</td>\n",
       "    </tr>\n",
       "    <tr>\n",
       "      <th>21</th>\n",
       "      <td>20.021638</td>\n",
       "      <td>0.000000</td>\n",
       "    </tr>\n",
       "  </tbody>\n",
       "</table>\n",
       "</div>"
      ],
      "text/plain": [
       "            x         y\n",
       "0    0.000000  1.000000\n",
       "1    0.458258  0.000000\n",
       "2    0.713928  0.438536\n",
       "3    0.867298  0.649746\n",
       "4    1.005602  0.848445\n",
       "5    1.141891  1.069718\n",
       "6    1.280003  1.336886\n",
       "7    1.273959  0.000000\n",
       "8    1.655280  0.311092\n",
       "9    2.034409  0.657502\n",
       "10   2.447252  1.095778\n",
       "11   2.915427  1.688222\n",
       "12   2.280161  0.000000\n",
       "13   2.969529  0.410292\n",
       "14   3.796892  1.005489\n",
       "15   4.835270  1.913412\n",
       "16   4.110463  0.000000\n",
       "17   5.615932  0.708855\n",
       "18   7.698459  1.959371\n",
       "19   8.255486  0.000000\n",
       "20  12.281649  1.550004\n",
       "21  20.021638  0.000000"
      ]
     },
     "execution_count": 86,
     "metadata": {},
     "output_type": "execute_result"
    }
   ],
   "source": [
    "pointstable = pd.DataFrame()\n",
    "pointstable[\"x\"] = x[:22]\n",
    "pointstable[\"y\"] = y[:22]\n",
    "pointstable"
   ]
  },
  {
   "cell_type": "code",
   "execution_count": 18,
   "metadata": {
    "ExecuteTime": {
     "end_time": "2017-10-12T15:23:26.971000Z",
     "start_time": "2017-10-12T11:23:26.959000-04:00"
    },
    "collapsed": true
   },
   "outputs": [],
   "source": [
    "wall_thetas = {0:0}"
   ]
  },
  {
   "cell_type": "code",
   "execution_count": 19,
   "metadata": {
    "ExecuteTime": {
     "end_time": "2017-10-12T15:23:26.993000Z",
     "start_time": "2017-10-12T11:23:26.975000-04:00"
    },
    "collapsed": true
   },
   "outputs": [],
   "source": [
    "def wallpositions(idx):\n",
    "    upstream_plus_idx, upstream_minus_idx = upstreams[idx]\n",
    "    xa, ya = x[upstream_plus_idx], y[upstream_plus_idx]\n",
    "    xb, yb = x[upstream_minus_idx], y[upstream_minus_idx]\n",
    "    theta_upstream = np.radians(table[\"thetas\"].iloc[upstream_minus_idx])\n",
    "    theta_previous = wall_thetas[upstream_plus_idx]\n",
    "    theta_current = np.average([theta_upstream, theta_previous])\n",
    "    wall_thetas[idx] = theta_upstream\n",
    "    beta_upstream = table[\"betas\"].iloc[upstream_minus_idx]\n",
    "    xc, yc = position(xa, ya, -theta_current, xb, yb, beta_upstream)\n",
    "    return xc, yc"
   ]
  },
  {
   "cell_type": "code",
   "execution_count": 20,
   "metadata": {
    "ExecuteTime": {
     "end_time": "2017-10-12T15:23:27.007000Z",
     "start_time": "2017-10-12T11:23:26.999000-04:00"
    },
    "collapsed": true
   },
   "outputs": [],
   "source": [
    "wallidxs = range(23,29)"
   ]
  },
  {
   "cell_type": "code",
   "execution_count": 21,
   "metadata": {
    "ExecuteTime": {
     "end_time": "2017-10-12T15:23:27.019000Z",
     "start_time": "2017-10-12T11:23:27.011000-04:00"
    },
    "collapsed": true
   },
   "outputs": [],
   "source": [
    "for idx in wallidxs:\n",
    "    x[idx], y[idx] = wallpositions(idx)"
   ]
  },
  {
   "cell_type": "markdown",
   "metadata": {
    "collapsed": true
   },
   "source": [
    "### Points on the nozzle wall:"
   ]
  },
  {
   "cell_type": "code",
   "execution_count": 87,
   "metadata": {
    "ExecuteTime": {
     "end_time": "2017-10-12T16:31:50.047000Z",
     "start_time": "2017-10-12T12:31:50.027000-04:00"
    }
   },
   "outputs": [
    {
     "data": {
      "text/html": [
       "<div>\n",
       "<style>\n",
       "    .dataframe thead tr:only-child th {\n",
       "        text-align: right;\n",
       "    }\n",
       "\n",
       "    .dataframe thead th {\n",
       "        text-align: left;\n",
       "    }\n",
       "\n",
       "    .dataframe tbody tr th {\n",
       "        vertical-align: top;\n",
       "    }\n",
       "</style>\n",
       "<table border=\"1\" class=\"dataframe\">\n",
       "  <thead>\n",
       "    <tr style=\"text-align: right;\">\n",
       "      <th></th>\n",
       "      <th>x</th>\n",
       "      <th>y</th>\n",
       "    </tr>\n",
       "  </thead>\n",
       "  <tbody>\n",
       "    <tr>\n",
       "      <th>0</th>\n",
       "      <td>1.351494</td>\n",
       "      <td>1.490294</td>\n",
       "    </tr>\n",
       "    <tr>\n",
       "      <th>1</th>\n",
       "      <td>4.312987</td>\n",
       "      <td>3.633390</td>\n",
       "    </tr>\n",
       "    <tr>\n",
       "      <th>2</th>\n",
       "      <td>9.423731</td>\n",
       "      <td>6.341174</td>\n",
       "    </tr>\n",
       "    <tr>\n",
       "      <th>3</th>\n",
       "      <td>19.805444</td>\n",
       "      <td>10.107447</td>\n",
       "    </tr>\n",
       "    <tr>\n",
       "      <th>4</th>\n",
       "      <td>41.799117</td>\n",
       "      <td>14.767841</td>\n",
       "    </tr>\n",
       "    <tr>\n",
       "      <th>5</th>\n",
       "      <td>90.317537</td>\n",
       "      <td>18.150323</td>\n",
       "    </tr>\n",
       "  </tbody>\n",
       "</table>\n",
       "</div>"
      ],
      "text/plain": [
       "           x          y\n",
       "0   1.351494   1.490294\n",
       "1   4.312987   3.633390\n",
       "2   9.423731   6.341174\n",
       "3  19.805444  10.107447\n",
       "4  41.799117  14.767841\n",
       "5  90.317537  18.150323"
      ]
     },
     "execution_count": 87,
     "metadata": {},
     "output_type": "execute_result"
    }
   ],
   "source": [
    "pointstable = pd.DataFrame()\n",
    "pointstable[\"x\"] = x[wallidxs]\n",
    "pointstable[\"y\"] = y[wallidxs]\n",
    "pointstable"
   ]
  },
  {
   "cell_type": "code",
   "execution_count": 22,
   "metadata": {
    "ExecuteTime": {
     "end_time": "2017-10-12T15:23:27.031000Z",
     "start_time": "2017-10-12T11:23:27.023000-04:00"
    },
    "collapsed": true
   },
   "outputs": [],
   "source": [
    "allwallidxs = [0] + wallidxs"
   ]
  },
  {
   "cell_type": "code",
   "execution_count": 23,
   "metadata": {
    "ExecuteTime": {
     "end_time": "2017-10-12T15:23:27.043000Z",
     "start_time": "2017-10-12T11:23:27.035000-04:00"
    },
    "collapsed": true
   },
   "outputs": [],
   "source": [
    "nozzle_height = y[-1]"
   ]
  },
  {
   "cell_type": "code",
   "execution_count": 24,
   "metadata": {
    "ExecuteTime": {
     "end_time": "2017-10-12T15:23:27.059000Z",
     "start_time": "2017-10-12T11:23:27.047000-04:00"
    }
   },
   "outputs": [
    {
     "data": {
      "text/plain": [
       "'nozzle height is 18.150323'"
      ]
     },
     "execution_count": 24,
     "metadata": {},
     "output_type": "execute_result"
    }
   ],
   "source": [
    "\"nozzle height is %f\"%nozzle_height"
   ]
  },
  {
   "cell_type": "code",
   "execution_count": 25,
   "metadata": {
    "ExecuteTime": {
     "end_time": "2017-10-12T15:23:27.071000Z",
     "start_time": "2017-10-12T11:23:27.063000-04:00"
    },
    "collapsed": true
   },
   "outputs": [],
   "source": [
    "xy = np.array([x,y])"
   ]
  },
  {
   "cell_type": "code",
   "execution_count": 26,
   "metadata": {
    "ExecuteTime": {
     "end_time": "2017-10-12T15:23:27.099000Z",
     "start_time": "2017-10-12T11:23:27.075000-04:00"
    },
    "collapsed": true
   },
   "outputs": [],
   "source": [
    "%matplotlib notebook"
   ]
  },
  {
   "cell_type": "code",
   "execution_count": 37,
   "metadata": {
    "ExecuteTime": {
     "end_time": "2017-10-12T15:23:36.062000Z",
     "start_time": "2017-10-12T11:23:35.982000-04:00"
    }
   },
   "outputs": [
    {
     "data": {
      "application/javascript": [
       "/* Put everything inside the global mpl namespace */\n",
       "window.mpl = {};\n",
       "\n",
       "\n",
       "mpl.get_websocket_type = function() {\n",
       "    if (typeof(WebSocket) !== 'undefined') {\n",
       "        return WebSocket;\n",
       "    } else if (typeof(MozWebSocket) !== 'undefined') {\n",
       "        return MozWebSocket;\n",
       "    } else {\n",
       "        alert('Your browser does not have WebSocket support.' +\n",
       "              'Please try Chrome, Safari or Firefox ≥ 6. ' +\n",
       "              'Firefox 4 and 5 are also supported but you ' +\n",
       "              'have to enable WebSockets in about:config.');\n",
       "    };\n",
       "}\n",
       "\n",
       "mpl.figure = function(figure_id, websocket, ondownload, parent_element) {\n",
       "    this.id = figure_id;\n",
       "\n",
       "    this.ws = websocket;\n",
       "\n",
       "    this.supports_binary = (this.ws.binaryType != undefined);\n",
       "\n",
       "    if (!this.supports_binary) {\n",
       "        var warnings = document.getElementById(\"mpl-warnings\");\n",
       "        if (warnings) {\n",
       "            warnings.style.display = 'block';\n",
       "            warnings.textContent = (\n",
       "                \"This browser does not support binary websocket messages. \" +\n",
       "                    \"Performance may be slow.\");\n",
       "        }\n",
       "    }\n",
       "\n",
       "    this.imageObj = new Image();\n",
       "\n",
       "    this.context = undefined;\n",
       "    this.message = undefined;\n",
       "    this.canvas = undefined;\n",
       "    this.rubberband_canvas = undefined;\n",
       "    this.rubberband_context = undefined;\n",
       "    this.format_dropdown = undefined;\n",
       "\n",
       "    this.image_mode = 'full';\n",
       "\n",
       "    this.root = $('<div/>');\n",
       "    this._root_extra_style(this.root)\n",
       "    this.root.attr('style', 'display: inline-block');\n",
       "\n",
       "    $(parent_element).append(this.root);\n",
       "\n",
       "    this._init_header(this);\n",
       "    this._init_canvas(this);\n",
       "    this._init_toolbar(this);\n",
       "\n",
       "    var fig = this;\n",
       "\n",
       "    this.waiting = false;\n",
       "\n",
       "    this.ws.onopen =  function () {\n",
       "            fig.send_message(\"supports_binary\", {value: fig.supports_binary});\n",
       "            fig.send_message(\"send_image_mode\", {});\n",
       "            if (mpl.ratio != 1) {\n",
       "                fig.send_message(\"set_dpi_ratio\", {'dpi_ratio': mpl.ratio});\n",
       "            }\n",
       "            fig.send_message(\"refresh\", {});\n",
       "        }\n",
       "\n",
       "    this.imageObj.onload = function() {\n",
       "            if (fig.image_mode == 'full') {\n",
       "                // Full images could contain transparency (where diff images\n",
       "                // almost always do), so we need to clear the canvas so that\n",
       "                // there is no ghosting.\n",
       "                fig.context.clearRect(0, 0, fig.canvas.width, fig.canvas.height);\n",
       "            }\n",
       "            fig.context.drawImage(fig.imageObj, 0, 0);\n",
       "        };\n",
       "\n",
       "    this.imageObj.onunload = function() {\n",
       "        fig.ws.close();\n",
       "    }\n",
       "\n",
       "    this.ws.onmessage = this._make_on_message_function(this);\n",
       "\n",
       "    this.ondownload = ondownload;\n",
       "}\n",
       "\n",
       "mpl.figure.prototype._init_header = function() {\n",
       "    var titlebar = $(\n",
       "        '<div class=\"ui-dialog-titlebar ui-widget-header ui-corner-all ' +\n",
       "        'ui-helper-clearfix\"/>');\n",
       "    var titletext = $(\n",
       "        '<div class=\"ui-dialog-title\" style=\"width: 100%; ' +\n",
       "        'text-align: center; padding: 3px;\"/>');\n",
       "    titlebar.append(titletext)\n",
       "    this.root.append(titlebar);\n",
       "    this.header = titletext[0];\n",
       "}\n",
       "\n",
       "\n",
       "\n",
       "mpl.figure.prototype._canvas_extra_style = function(canvas_div) {\n",
       "\n",
       "}\n",
       "\n",
       "\n",
       "mpl.figure.prototype._root_extra_style = function(canvas_div) {\n",
       "\n",
       "}\n",
       "\n",
       "mpl.figure.prototype._init_canvas = function() {\n",
       "    var fig = this;\n",
       "\n",
       "    var canvas_div = $('<div/>');\n",
       "\n",
       "    canvas_div.attr('style', 'position: relative; clear: both; outline: 0');\n",
       "\n",
       "    function canvas_keyboard_event(event) {\n",
       "        return fig.key_event(event, event['data']);\n",
       "    }\n",
       "\n",
       "    canvas_div.keydown('key_press', canvas_keyboard_event);\n",
       "    canvas_div.keyup('key_release', canvas_keyboard_event);\n",
       "    this.canvas_div = canvas_div\n",
       "    this._canvas_extra_style(canvas_div)\n",
       "    this.root.append(canvas_div);\n",
       "\n",
       "    var canvas = $('<canvas/>');\n",
       "    canvas.addClass('mpl-canvas');\n",
       "    canvas.attr('style', \"left: 0; top: 0; z-index: 0; outline: 0\")\n",
       "\n",
       "    this.canvas = canvas[0];\n",
       "    this.context = canvas[0].getContext(\"2d\");\n",
       "\n",
       "    var backingStore = this.context.backingStorePixelRatio ||\n",
       "\tthis.context.webkitBackingStorePixelRatio ||\n",
       "\tthis.context.mozBackingStorePixelRatio ||\n",
       "\tthis.context.msBackingStorePixelRatio ||\n",
       "\tthis.context.oBackingStorePixelRatio ||\n",
       "\tthis.context.backingStorePixelRatio || 1;\n",
       "\n",
       "    mpl.ratio = (window.devicePixelRatio || 1) / backingStore;\n",
       "\n",
       "    var rubberband = $('<canvas/>');\n",
       "    rubberband.attr('style', \"position: absolute; left: 0; top: 0; z-index: 1;\")\n",
       "\n",
       "    var pass_mouse_events = true;\n",
       "\n",
       "    canvas_div.resizable({\n",
       "        start: function(event, ui) {\n",
       "            pass_mouse_events = false;\n",
       "        },\n",
       "        resize: function(event, ui) {\n",
       "            fig.request_resize(ui.size.width, ui.size.height);\n",
       "        },\n",
       "        stop: function(event, ui) {\n",
       "            pass_mouse_events = true;\n",
       "            fig.request_resize(ui.size.width, ui.size.height);\n",
       "        },\n",
       "    });\n",
       "\n",
       "    function mouse_event_fn(event) {\n",
       "        if (pass_mouse_events)\n",
       "            return fig.mouse_event(event, event['data']);\n",
       "    }\n",
       "\n",
       "    rubberband.mousedown('button_press', mouse_event_fn);\n",
       "    rubberband.mouseup('button_release', mouse_event_fn);\n",
       "    // Throttle sequential mouse events to 1 every 20ms.\n",
       "    rubberband.mousemove('motion_notify', mouse_event_fn);\n",
       "\n",
       "    rubberband.mouseenter('figure_enter', mouse_event_fn);\n",
       "    rubberband.mouseleave('figure_leave', mouse_event_fn);\n",
       "\n",
       "    canvas_div.on(\"wheel\", function (event) {\n",
       "        event = event.originalEvent;\n",
       "        event['data'] = 'scroll'\n",
       "        if (event.deltaY < 0) {\n",
       "            event.step = 1;\n",
       "        } else {\n",
       "            event.step = -1;\n",
       "        }\n",
       "        mouse_event_fn(event);\n",
       "    });\n",
       "\n",
       "    canvas_div.append(canvas);\n",
       "    canvas_div.append(rubberband);\n",
       "\n",
       "    this.rubberband = rubberband;\n",
       "    this.rubberband_canvas = rubberband[0];\n",
       "    this.rubberband_context = rubberband[0].getContext(\"2d\");\n",
       "    this.rubberband_context.strokeStyle = \"#000000\";\n",
       "\n",
       "    this._resize_canvas = function(width, height) {\n",
       "        // Keep the size of the canvas, canvas container, and rubber band\n",
       "        // canvas in synch.\n",
       "        canvas_div.css('width', width)\n",
       "        canvas_div.css('height', height)\n",
       "\n",
       "        canvas.attr('width', width * mpl.ratio);\n",
       "        canvas.attr('height', height * mpl.ratio);\n",
       "        canvas.attr('style', 'width: ' + width + 'px; height: ' + height + 'px;');\n",
       "\n",
       "        rubberband.attr('width', width);\n",
       "        rubberband.attr('height', height);\n",
       "    }\n",
       "\n",
       "    // Set the figure to an initial 600x600px, this will subsequently be updated\n",
       "    // upon first draw.\n",
       "    this._resize_canvas(600, 600);\n",
       "\n",
       "    // Disable right mouse context menu.\n",
       "    $(this.rubberband_canvas).bind(\"contextmenu\",function(e){\n",
       "        return false;\n",
       "    });\n",
       "\n",
       "    function set_focus () {\n",
       "        canvas.focus();\n",
       "        canvas_div.focus();\n",
       "    }\n",
       "\n",
       "    window.setTimeout(set_focus, 100);\n",
       "}\n",
       "\n",
       "mpl.figure.prototype._init_toolbar = function() {\n",
       "    var fig = this;\n",
       "\n",
       "    var nav_element = $('<div/>')\n",
       "    nav_element.attr('style', 'width: 100%');\n",
       "    this.root.append(nav_element);\n",
       "\n",
       "    // Define a callback function for later on.\n",
       "    function toolbar_event(event) {\n",
       "        return fig.toolbar_button_onclick(event['data']);\n",
       "    }\n",
       "    function toolbar_mouse_event(event) {\n",
       "        return fig.toolbar_button_onmouseover(event['data']);\n",
       "    }\n",
       "\n",
       "    for(var toolbar_ind in mpl.toolbar_items) {\n",
       "        var name = mpl.toolbar_items[toolbar_ind][0];\n",
       "        var tooltip = mpl.toolbar_items[toolbar_ind][1];\n",
       "        var image = mpl.toolbar_items[toolbar_ind][2];\n",
       "        var method_name = mpl.toolbar_items[toolbar_ind][3];\n",
       "\n",
       "        if (!name) {\n",
       "            // put a spacer in here.\n",
       "            continue;\n",
       "        }\n",
       "        var button = $('<button/>');\n",
       "        button.addClass('ui-button ui-widget ui-state-default ui-corner-all ' +\n",
       "                        'ui-button-icon-only');\n",
       "        button.attr('role', 'button');\n",
       "        button.attr('aria-disabled', 'false');\n",
       "        button.click(method_name, toolbar_event);\n",
       "        button.mouseover(tooltip, toolbar_mouse_event);\n",
       "\n",
       "        var icon_img = $('<span/>');\n",
       "        icon_img.addClass('ui-button-icon-primary ui-icon');\n",
       "        icon_img.addClass(image);\n",
       "        icon_img.addClass('ui-corner-all');\n",
       "\n",
       "        var tooltip_span = $('<span/>');\n",
       "        tooltip_span.addClass('ui-button-text');\n",
       "        tooltip_span.html(tooltip);\n",
       "\n",
       "        button.append(icon_img);\n",
       "        button.append(tooltip_span);\n",
       "\n",
       "        nav_element.append(button);\n",
       "    }\n",
       "\n",
       "    var fmt_picker_span = $('<span/>');\n",
       "\n",
       "    var fmt_picker = $('<select/>');\n",
       "    fmt_picker.addClass('mpl-toolbar-option ui-widget ui-widget-content');\n",
       "    fmt_picker_span.append(fmt_picker);\n",
       "    nav_element.append(fmt_picker_span);\n",
       "    this.format_dropdown = fmt_picker[0];\n",
       "\n",
       "    for (var ind in mpl.extensions) {\n",
       "        var fmt = mpl.extensions[ind];\n",
       "        var option = $(\n",
       "            '<option/>', {selected: fmt === mpl.default_extension}).html(fmt);\n",
       "        fmt_picker.append(option)\n",
       "    }\n",
       "\n",
       "    // Add hover states to the ui-buttons\n",
       "    $( \".ui-button\" ).hover(\n",
       "        function() { $(this).addClass(\"ui-state-hover\");},\n",
       "        function() { $(this).removeClass(\"ui-state-hover\");}\n",
       "    );\n",
       "\n",
       "    var status_bar = $('<span class=\"mpl-message\"/>');\n",
       "    nav_element.append(status_bar);\n",
       "    this.message = status_bar[0];\n",
       "}\n",
       "\n",
       "mpl.figure.prototype.request_resize = function(x_pixels, y_pixels) {\n",
       "    // Request matplotlib to resize the figure. Matplotlib will then trigger a resize in the client,\n",
       "    // which will in turn request a refresh of the image.\n",
       "    this.send_message('resize', {'width': x_pixels, 'height': y_pixels});\n",
       "}\n",
       "\n",
       "mpl.figure.prototype.send_message = function(type, properties) {\n",
       "    properties['type'] = type;\n",
       "    properties['figure_id'] = this.id;\n",
       "    this.ws.send(JSON.stringify(properties));\n",
       "}\n",
       "\n",
       "mpl.figure.prototype.send_draw_message = function() {\n",
       "    if (!this.waiting) {\n",
       "        this.waiting = true;\n",
       "        this.ws.send(JSON.stringify({type: \"draw\", figure_id: this.id}));\n",
       "    }\n",
       "}\n",
       "\n",
       "\n",
       "mpl.figure.prototype.handle_save = function(fig, msg) {\n",
       "    var format_dropdown = fig.format_dropdown;\n",
       "    var format = format_dropdown.options[format_dropdown.selectedIndex].value;\n",
       "    fig.ondownload(fig, format);\n",
       "}\n",
       "\n",
       "\n",
       "mpl.figure.prototype.handle_resize = function(fig, msg) {\n",
       "    var size = msg['size'];\n",
       "    if (size[0] != fig.canvas.width || size[1] != fig.canvas.height) {\n",
       "        fig._resize_canvas(size[0], size[1]);\n",
       "        fig.send_message(\"refresh\", {});\n",
       "    };\n",
       "}\n",
       "\n",
       "mpl.figure.prototype.handle_rubberband = function(fig, msg) {\n",
       "    var x0 = msg['x0'] / mpl.ratio;\n",
       "    var y0 = (fig.canvas.height - msg['y0']) / mpl.ratio;\n",
       "    var x1 = msg['x1'] / mpl.ratio;\n",
       "    var y1 = (fig.canvas.height - msg['y1']) / mpl.ratio;\n",
       "    x0 = Math.floor(x0) + 0.5;\n",
       "    y0 = Math.floor(y0) + 0.5;\n",
       "    x1 = Math.floor(x1) + 0.5;\n",
       "    y1 = Math.floor(y1) + 0.5;\n",
       "    var min_x = Math.min(x0, x1);\n",
       "    var min_y = Math.min(y0, y1);\n",
       "    var width = Math.abs(x1 - x0);\n",
       "    var height = Math.abs(y1 - y0);\n",
       "\n",
       "    fig.rubberband_context.clearRect(\n",
       "        0, 0, fig.canvas.width, fig.canvas.height);\n",
       "\n",
       "    fig.rubberband_context.strokeRect(min_x, min_y, width, height);\n",
       "}\n",
       "\n",
       "mpl.figure.prototype.handle_figure_label = function(fig, msg) {\n",
       "    // Updates the figure title.\n",
       "    fig.header.textContent = msg['label'];\n",
       "}\n",
       "\n",
       "mpl.figure.prototype.handle_cursor = function(fig, msg) {\n",
       "    var cursor = msg['cursor'];\n",
       "    switch(cursor)\n",
       "    {\n",
       "    case 0:\n",
       "        cursor = 'pointer';\n",
       "        break;\n",
       "    case 1:\n",
       "        cursor = 'default';\n",
       "        break;\n",
       "    case 2:\n",
       "        cursor = 'crosshair';\n",
       "        break;\n",
       "    case 3:\n",
       "        cursor = 'move';\n",
       "        break;\n",
       "    }\n",
       "    fig.rubberband_canvas.style.cursor = cursor;\n",
       "}\n",
       "\n",
       "mpl.figure.prototype.handle_message = function(fig, msg) {\n",
       "    fig.message.textContent = msg['message'];\n",
       "}\n",
       "\n",
       "mpl.figure.prototype.handle_draw = function(fig, msg) {\n",
       "    // Request the server to send over a new figure.\n",
       "    fig.send_draw_message();\n",
       "}\n",
       "\n",
       "mpl.figure.prototype.handle_image_mode = function(fig, msg) {\n",
       "    fig.image_mode = msg['mode'];\n",
       "}\n",
       "\n",
       "mpl.figure.prototype.updated_canvas_event = function() {\n",
       "    // Called whenever the canvas gets updated.\n",
       "    this.send_message(\"ack\", {});\n",
       "}\n",
       "\n",
       "// A function to construct a web socket function for onmessage handling.\n",
       "// Called in the figure constructor.\n",
       "mpl.figure.prototype._make_on_message_function = function(fig) {\n",
       "    return function socket_on_message(evt) {\n",
       "        if (evt.data instanceof Blob) {\n",
       "            /* FIXME: We get \"Resource interpreted as Image but\n",
       "             * transferred with MIME type text/plain:\" errors on\n",
       "             * Chrome.  But how to set the MIME type?  It doesn't seem\n",
       "             * to be part of the websocket stream */\n",
       "            evt.data.type = \"image/png\";\n",
       "\n",
       "            /* Free the memory for the previous frames */\n",
       "            if (fig.imageObj.src) {\n",
       "                (window.URL || window.webkitURL).revokeObjectURL(\n",
       "                    fig.imageObj.src);\n",
       "            }\n",
       "\n",
       "            fig.imageObj.src = (window.URL || window.webkitURL).createObjectURL(\n",
       "                evt.data);\n",
       "            fig.updated_canvas_event();\n",
       "            fig.waiting = false;\n",
       "            return;\n",
       "        }\n",
       "        else if (typeof evt.data === 'string' && evt.data.slice(0, 21) == \"data:image/png;base64\") {\n",
       "            fig.imageObj.src = evt.data;\n",
       "            fig.updated_canvas_event();\n",
       "            fig.waiting = false;\n",
       "            return;\n",
       "        }\n",
       "\n",
       "        var msg = JSON.parse(evt.data);\n",
       "        var msg_type = msg['type'];\n",
       "\n",
       "        // Call the  \"handle_{type}\" callback, which takes\n",
       "        // the figure and JSON message as its only arguments.\n",
       "        try {\n",
       "            var callback = fig[\"handle_\" + msg_type];\n",
       "        } catch (e) {\n",
       "            console.log(\"No handler for the '\" + msg_type + \"' message type: \", msg);\n",
       "            return;\n",
       "        }\n",
       "\n",
       "        if (callback) {\n",
       "            try {\n",
       "                // console.log(\"Handling '\" + msg_type + \"' message: \", msg);\n",
       "                callback(fig, msg);\n",
       "            } catch (e) {\n",
       "                console.log(\"Exception inside the 'handler_\" + msg_type + \"' callback:\", e, e.stack, msg);\n",
       "            }\n",
       "        }\n",
       "    };\n",
       "}\n",
       "\n",
       "// from http://stackoverflow.com/questions/1114465/getting-mouse-location-in-canvas\n",
       "mpl.findpos = function(e) {\n",
       "    //this section is from http://www.quirksmode.org/js/events_properties.html\n",
       "    var targ;\n",
       "    if (!e)\n",
       "        e = window.event;\n",
       "    if (e.target)\n",
       "        targ = e.target;\n",
       "    else if (e.srcElement)\n",
       "        targ = e.srcElement;\n",
       "    if (targ.nodeType == 3) // defeat Safari bug\n",
       "        targ = targ.parentNode;\n",
       "\n",
       "    // jQuery normalizes the pageX and pageY\n",
       "    // pageX,Y are the mouse positions relative to the document\n",
       "    // offset() returns the position of the element relative to the document\n",
       "    var x = e.pageX - $(targ).offset().left;\n",
       "    var y = e.pageY - $(targ).offset().top;\n",
       "\n",
       "    return {\"x\": x, \"y\": y};\n",
       "};\n",
       "\n",
       "/*\n",
       " * return a copy of an object with only non-object keys\n",
       " * we need this to avoid circular references\n",
       " * http://stackoverflow.com/a/24161582/3208463\n",
       " */\n",
       "function simpleKeys (original) {\n",
       "  return Object.keys(original).reduce(function (obj, key) {\n",
       "    if (typeof original[key] !== 'object')\n",
       "        obj[key] = original[key]\n",
       "    return obj;\n",
       "  }, {});\n",
       "}\n",
       "\n",
       "mpl.figure.prototype.mouse_event = function(event, name) {\n",
       "    var canvas_pos = mpl.findpos(event)\n",
       "\n",
       "    if (name === 'button_press')\n",
       "    {\n",
       "        this.canvas.focus();\n",
       "        this.canvas_div.focus();\n",
       "    }\n",
       "\n",
       "    var x = canvas_pos.x * mpl.ratio;\n",
       "    var y = canvas_pos.y * mpl.ratio;\n",
       "\n",
       "    this.send_message(name, {x: x, y: y, button: event.button,\n",
       "                             step: event.step,\n",
       "                             guiEvent: simpleKeys(event)});\n",
       "\n",
       "    /* This prevents the web browser from automatically changing to\n",
       "     * the text insertion cursor when the button is pressed.  We want\n",
       "     * to control all of the cursor setting manually through the\n",
       "     * 'cursor' event from matplotlib */\n",
       "    event.preventDefault();\n",
       "    return false;\n",
       "}\n",
       "\n",
       "mpl.figure.prototype._key_event_extra = function(event, name) {\n",
       "    // Handle any extra behaviour associated with a key event\n",
       "}\n",
       "\n",
       "mpl.figure.prototype.key_event = function(event, name) {\n",
       "\n",
       "    // Prevent repeat events\n",
       "    if (name == 'key_press')\n",
       "    {\n",
       "        if (event.which === this._key)\n",
       "            return;\n",
       "        else\n",
       "            this._key = event.which;\n",
       "    }\n",
       "    if (name == 'key_release')\n",
       "        this._key = null;\n",
       "\n",
       "    var value = '';\n",
       "    if (event.ctrlKey && event.which != 17)\n",
       "        value += \"ctrl+\";\n",
       "    if (event.altKey && event.which != 18)\n",
       "        value += \"alt+\";\n",
       "    if (event.shiftKey && event.which != 16)\n",
       "        value += \"shift+\";\n",
       "\n",
       "    value += 'k';\n",
       "    value += event.which.toString();\n",
       "\n",
       "    this._key_event_extra(event, name);\n",
       "\n",
       "    this.send_message(name, {key: value,\n",
       "                             guiEvent: simpleKeys(event)});\n",
       "    return false;\n",
       "}\n",
       "\n",
       "mpl.figure.prototype.toolbar_button_onclick = function(name) {\n",
       "    if (name == 'download') {\n",
       "        this.handle_save(this, null);\n",
       "    } else {\n",
       "        this.send_message(\"toolbar_button\", {name: name});\n",
       "    }\n",
       "};\n",
       "\n",
       "mpl.figure.prototype.toolbar_button_onmouseover = function(tooltip) {\n",
       "    this.message.textContent = tooltip;\n",
       "};\n",
       "mpl.toolbar_items = [[\"Home\", \"Reset original view\", \"fa fa-home icon-home\", \"home\"], [\"Back\", \"Back to  previous view\", \"fa fa-arrow-left icon-arrow-left\", \"back\"], [\"Forward\", \"Forward to next view\", \"fa fa-arrow-right icon-arrow-right\", \"forward\"], [\"\", \"\", \"\", \"\"], [\"Pan\", \"Pan axes with left mouse, zoom with right\", \"fa fa-arrows icon-move\", \"pan\"], [\"Zoom\", \"Zoom to rectangle\", \"fa fa-square-o icon-check-empty\", \"zoom\"], [\"\", \"\", \"\", \"\"], [\"Download\", \"Download plot\", \"fa fa-floppy-o icon-save\", \"download\"]];\n",
       "\n",
       "mpl.extensions = [\"eps\", \"jpeg\", \"pdf\", \"png\", \"ps\", \"raw\", \"svg\", \"tif\"];\n",
       "\n",
       "mpl.default_extension = \"png\";var comm_websocket_adapter = function(comm) {\n",
       "    // Create a \"websocket\"-like object which calls the given IPython comm\n",
       "    // object with the appropriate methods. Currently this is a non binary\n",
       "    // socket, so there is still some room for performance tuning.\n",
       "    var ws = {};\n",
       "\n",
       "    ws.close = function() {\n",
       "        comm.close()\n",
       "    };\n",
       "    ws.send = function(m) {\n",
       "        //console.log('sending', m);\n",
       "        comm.send(m);\n",
       "    };\n",
       "    // Register the callback with on_msg.\n",
       "    comm.on_msg(function(msg) {\n",
       "        //console.log('receiving', msg['content']['data'], msg);\n",
       "        // Pass the mpl event to the overriden (by mpl) onmessage function.\n",
       "        ws.onmessage(msg['content']['data'])\n",
       "    });\n",
       "    return ws;\n",
       "}\n",
       "\n",
       "mpl.mpl_figure_comm = function(comm, msg) {\n",
       "    // This is the function which gets called when the mpl process\n",
       "    // starts-up an IPython Comm through the \"matplotlib\" channel.\n",
       "\n",
       "    var id = msg.content.data.id;\n",
       "    // Get hold of the div created by the display call when the Comm\n",
       "    // socket was opened in Python.\n",
       "    var element = $(\"#\" + id);\n",
       "    var ws_proxy = comm_websocket_adapter(comm)\n",
       "\n",
       "    function ondownload(figure, format) {\n",
       "        window.open(figure.imageObj.src);\n",
       "    }\n",
       "\n",
       "    var fig = new mpl.figure(id, ws_proxy,\n",
       "                           ondownload,\n",
       "                           element.get(0));\n",
       "\n",
       "    // Call onopen now - mpl needs it, as it is assuming we've passed it a real\n",
       "    // web socket which is closed, not our websocket->open comm proxy.\n",
       "    ws_proxy.onopen();\n",
       "\n",
       "    fig.parent_element = element.get(0);\n",
       "    fig.cell_info = mpl.find_output_cell(\"<div id='\" + id + \"'></div>\");\n",
       "    if (!fig.cell_info) {\n",
       "        console.error(\"Failed to find cell for figure\", id, fig);\n",
       "        return;\n",
       "    }\n",
       "\n",
       "    var output_index = fig.cell_info[2]\n",
       "    var cell = fig.cell_info[0];\n",
       "\n",
       "};\n",
       "\n",
       "mpl.figure.prototype.handle_close = function(fig, msg) {\n",
       "    var width = fig.canvas.width/mpl.ratio\n",
       "    fig.root.unbind('remove')\n",
       "\n",
       "    // Update the output cell to use the data from the current canvas.\n",
       "    fig.push_to_output();\n",
       "    var dataURL = fig.canvas.toDataURL();\n",
       "    // Re-enable the keyboard manager in IPython - without this line, in FF,\n",
       "    // the notebook keyboard shortcuts fail.\n",
       "    IPython.keyboard_manager.enable()\n",
       "    $(fig.parent_element).html('<img src=\"' + dataURL + '\" width=\"' + width + '\">');\n",
       "    fig.close_ws(fig, msg);\n",
       "}\n",
       "\n",
       "mpl.figure.prototype.close_ws = function(fig, msg){\n",
       "    fig.send_message('closing', msg);\n",
       "    // fig.ws.close()\n",
       "}\n",
       "\n",
       "mpl.figure.prototype.push_to_output = function(remove_interactive) {\n",
       "    // Turn the data on the canvas into data in the output cell.\n",
       "    var width = this.canvas.width/mpl.ratio\n",
       "    var dataURL = this.canvas.toDataURL();\n",
       "    this.cell_info[1]['text/html'] = '<img src=\"' + dataURL + '\" width=\"' + width + '\">';\n",
       "}\n",
       "\n",
       "mpl.figure.prototype.updated_canvas_event = function() {\n",
       "    // Tell IPython that the notebook contents must change.\n",
       "    IPython.notebook.set_dirty(true);\n",
       "    this.send_message(\"ack\", {});\n",
       "    var fig = this;\n",
       "    // Wait a second, then push the new image to the DOM so\n",
       "    // that it is saved nicely (might be nice to debounce this).\n",
       "    setTimeout(function () { fig.push_to_output() }, 1000);\n",
       "}\n",
       "\n",
       "mpl.figure.prototype._init_toolbar = function() {\n",
       "    var fig = this;\n",
       "\n",
       "    var nav_element = $('<div/>')\n",
       "    nav_element.attr('style', 'width: 100%');\n",
       "    this.root.append(nav_element);\n",
       "\n",
       "    // Define a callback function for later on.\n",
       "    function toolbar_event(event) {\n",
       "        return fig.toolbar_button_onclick(event['data']);\n",
       "    }\n",
       "    function toolbar_mouse_event(event) {\n",
       "        return fig.toolbar_button_onmouseover(event['data']);\n",
       "    }\n",
       "\n",
       "    for(var toolbar_ind in mpl.toolbar_items){\n",
       "        var name = mpl.toolbar_items[toolbar_ind][0];\n",
       "        var tooltip = mpl.toolbar_items[toolbar_ind][1];\n",
       "        var image = mpl.toolbar_items[toolbar_ind][2];\n",
       "        var method_name = mpl.toolbar_items[toolbar_ind][3];\n",
       "\n",
       "        if (!name) { continue; };\n",
       "\n",
       "        var button = $('<button class=\"btn btn-default\" href=\"#\" title=\"' + name + '\"><i class=\"fa ' + image + ' fa-lg\"></i></button>');\n",
       "        button.click(method_name, toolbar_event);\n",
       "        button.mouseover(tooltip, toolbar_mouse_event);\n",
       "        nav_element.append(button);\n",
       "    }\n",
       "\n",
       "    // Add the status bar.\n",
       "    var status_bar = $('<span class=\"mpl-message\" style=\"text-align:right; float: right;\"/>');\n",
       "    nav_element.append(status_bar);\n",
       "    this.message = status_bar[0];\n",
       "\n",
       "    // Add the close button to the window.\n",
       "    var buttongrp = $('<div class=\"btn-group inline pull-right\"></div>');\n",
       "    var button = $('<button class=\"btn btn-mini btn-primary\" href=\"#\" title=\"Stop Interaction\"><i class=\"fa fa-power-off icon-remove icon-large\"></i></button>');\n",
       "    button.click(function (evt) { fig.handle_close(fig, {}); } );\n",
       "    button.mouseover('Stop Interaction', toolbar_mouse_event);\n",
       "    buttongrp.append(button);\n",
       "    var titlebar = this.root.find($('.ui-dialog-titlebar'));\n",
       "    titlebar.prepend(buttongrp);\n",
       "}\n",
       "\n",
       "mpl.figure.prototype._root_extra_style = function(el){\n",
       "    var fig = this\n",
       "    el.on(\"remove\", function(){\n",
       "\tfig.close_ws(fig, {});\n",
       "    });\n",
       "}\n",
       "\n",
       "mpl.figure.prototype._canvas_extra_style = function(el){\n",
       "    // this is important to make the div 'focusable\n",
       "    el.attr('tabindex', 0)\n",
       "    // reach out to IPython and tell the keyboard manager to turn it's self\n",
       "    // off when our div gets focus\n",
       "\n",
       "    // location in version 3\n",
       "    if (IPython.notebook.keyboard_manager) {\n",
       "        IPython.notebook.keyboard_manager.register_events(el);\n",
       "    }\n",
       "    else {\n",
       "        // location in version 2\n",
       "        IPython.keyboard_manager.register_events(el);\n",
       "    }\n",
       "\n",
       "}\n",
       "\n",
       "mpl.figure.prototype._key_event_extra = function(event, name) {\n",
       "    var manager = IPython.notebook.keyboard_manager;\n",
       "    if (!manager)\n",
       "        manager = IPython.keyboard_manager;\n",
       "\n",
       "    // Check for shift+enter\n",
       "    if (event.shiftKey && event.which == 13) {\n",
       "        this.canvas_div.blur();\n",
       "        event.shiftKey = false;\n",
       "        // Send a \"J\" for go to next cell\n",
       "        event.which = 74;\n",
       "        event.keyCode = 74;\n",
       "        manager.command_mode();\n",
       "        manager.handle_keydown(event);\n",
       "    }\n",
       "}\n",
       "\n",
       "mpl.figure.prototype.handle_save = function(fig, msg) {\n",
       "    fig.ondownload(fig, null);\n",
       "}\n",
       "\n",
       "\n",
       "mpl.find_output_cell = function(html_output) {\n",
       "    // Return the cell and output element which can be found *uniquely* in the notebook.\n",
       "    // Note - this is a bit hacky, but it is done because the \"notebook_saving.Notebook\"\n",
       "    // IPython event is triggered only after the cells have been serialised, which for\n",
       "    // our purposes (turning an active figure into a static one), is too late.\n",
       "    var cells = IPython.notebook.get_cells();\n",
       "    var ncells = cells.length;\n",
       "    for (var i=0; i<ncells; i++) {\n",
       "        var cell = cells[i];\n",
       "        if (cell.cell_type === 'code'){\n",
       "            for (var j=0; j<cell.output_area.outputs.length; j++) {\n",
       "                var data = cell.output_area.outputs[j];\n",
       "                if (data.data) {\n",
       "                    // IPython >= 3 moved mimebundle to data attribute of output\n",
       "                    data = data.data;\n",
       "                }\n",
       "                if (data['text/html'] == html_output) {\n",
       "                    return [cell, data, j];\n",
       "                }\n",
       "            }\n",
       "        }\n",
       "    }\n",
       "}\n",
       "\n",
       "// Register the function which deals with the matplotlib target/channel.\n",
       "// The kernel may be null if the page has been refreshed.\n",
       "if (IPython.notebook.kernel != null) {\n",
       "    IPython.notebook.kernel.comm_manager.register_target('matplotlib', mpl.mpl_figure_comm);\n",
       "}\n"
      ],
      "text/plain": [
       "<IPython.core.display.Javascript object>"
      ]
     },
     "metadata": {},
     "output_type": "display_data"
    },
    {
     "data": {
      "text/html": [
       "<img src=\"data:image/png;base64,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\" width=\"640\">"
      ],
      "text/plain": [
       "<IPython.core.display.HTML object>"
      ]
     },
     "metadata": {},
     "output_type": "display_data"
    }
   ],
   "source": [
    "plt.plot(x[:22],y[:22])\n",
    "plt.plot(x[:22],y[:22],'o')\n",
    "plt.plot(x[[0]+wallidxs],y[[0]+wallidxs], 'o-')\n",
    "plt.axis('equal')\n",
    "plt.grid();"
   ]
  },
  {
   "cell_type": "markdown",
   "metadata": {},
   "source": [
    "## Part (c)"
   ]
  },
  {
   "cell_type": "code",
   "execution_count": 55,
   "metadata": {
    "ExecuteTime": {
     "end_time": "2017-10-12T16:03:05.428000Z",
     "start_time": "2017-10-12T12:03:05.416000-04:00"
    },
    "collapsed": true
   },
   "outputs": [],
   "source": [
    "isenT = lambda M: 1/(1+(g-1)/2*M**2)\n",
    "isend = lambda M: isenT(M)**(1/(g-1))\n",
    "Mratio = M0/Me_pset\n",
    "Tratio = isenT(M0)/isenT(Me_pset)\n",
    "uratio = Mratio*np.sqrt(Tratio)\n",
    "dratio = isend(M0)/isend(Me_pset)\n",
    "hanlyt = uratio*dratio"
   ]
  },
  {
   "cell_type": "code",
   "execution_count": 29,
   "metadata": {
    "ExecuteTime": {
     "end_time": "2017-10-12T15:23:27.239000Z",
     "start_time": "2017-10-12T11:23:27.227000-04:00"
    }
   },
   "outputs": [
    {
     "data": {
      "text/plain": [
       "20.469863452751884"
      ]
     },
     "execution_count": 29,
     "metadata": {},
     "output_type": "execute_result"
    }
   ],
   "source": [
    "hanlyt"
   ]
  },
  {
   "cell_type": "code",
   "execution_count": 74,
   "metadata": {
    "ExecuteTime": {
     "end_time": "2017-10-12T16:21:17.602000Z",
     "start_time": "2017-10-12T12:21:17.593000-04:00"
    }
   },
   "outputs": [
    {
     "data": {
      "text/plain": [
       "'Analytical nozzle height, y_21w = 20.469863 h_t, where h_t is the throat height'"
      ]
     },
     "execution_count": 74,
     "metadata": {},
     "output_type": "execute_result"
    }
   ],
   "source": [
    "\"Analytical nozzle height, y_21w = %f h_t, where h_t is the throat height\" % hanlyt"
   ]
  },
  {
   "cell_type": "markdown",
   "metadata": {},
   "source": [
    "## Part (d)"
   ]
  },
  {
   "cell_type": "code",
   "execution_count": 48,
   "metadata": {
    "ExecuteTime": {
     "end_time": "2017-10-12T15:36:47.444000Z",
     "start_time": "2017-10-12T11:36:47.436000-04:00"
    },
    "collapsed": true
   },
   "outputs": [],
   "source": [
    "CF = lambda Mz, Me: g*Mz*Me*(1+(g-1)/2*Me**2)**(-0.5)*(1+(g-1)/2*Mz**2)**(-(g+1)/(2*(g-1)))"
   ]
  },
  {
   "cell_type": "code",
   "execution_count": 53,
   "metadata": {
    "ExecuteTime": {
     "end_time": "2017-10-12T15:37:01.717000Z",
     "start_time": "2017-10-12T11:37:01.709000-04:00"
    }
   },
   "outputs": [
    {
     "data": {
      "text/plain": [
       "1.6847624240948047"
      ]
     },
     "execution_count": 53,
     "metadata": {},
     "output_type": "execute_result"
    }
   ],
   "source": [
    "cf_entire = CF(M0,Me_pset)\n",
    "cf_entire"
   ]
  },
  {
   "cell_type": "code",
   "execution_count": 76,
   "metadata": {
    "ExecuteTime": {
     "end_time": "2017-10-12T16:22:20.346000Z",
     "start_time": "2017-10-12T12:22:20.334000-04:00"
    }
   },
   "outputs": [
    {
     "data": {
      "text/plain": [
       "'C_F for engine: 1.684762'"
      ]
     },
     "execution_count": 76,
     "metadata": {},
     "output_type": "execute_result"
    }
   ],
   "source": [
    "\"C_F for engine: %f\" % cf_entire"
   ]
  },
  {
   "cell_type": "code",
   "execution_count": 56,
   "metadata": {
    "ExecuteTime": {
     "end_time": "2017-10-12T16:03:12.845000Z",
     "start_time": "2017-10-12T12:03:12.837000-04:00"
    },
    "collapsed": true
   },
   "outputs": [],
   "source": [
    "isenP = lambda M: isenT(M)**(g/(g-1))"
   ]
  },
  {
   "cell_type": "code",
   "execution_count": 66,
   "metadata": {
    "ExecuteTime": {
     "end_time": "2017-10-12T16:10:20.353000Z",
     "start_time": "2017-10-12T12:10:20.345000-04:00"
    }
   },
   "outputs": [],
   "source": [
    "pressure_term = isenP(1.1)-isenP(4)"
   ]
  },
  {
   "cell_type": "code",
   "execution_count": 65,
   "metadata": {
    "ExecuteTime": {
     "end_time": "2017-10-12T16:10:17.118000Z",
     "start_time": "2017-10-12T12:10:17.114000-04:00"
    }
   },
   "outputs": [],
   "source": [
    "cf_nonozzle = CF(M0,M0)+pressure_term"
   ]
  },
  {
   "cell_type": "code",
   "execution_count": 64,
   "metadata": {
    "ExecuteTime": {
     "end_time": "2017-10-12T16:10:11.697000Z",
     "start_time": "2017-10-12T12:10:11.689000-04:00"
    }
   },
   "outputs": [
    {
     "data": {
      "text/plain": [
       "0.4464879156006303"
      ]
     },
     "execution_count": 64,
     "metadata": {},
     "output_type": "execute_result"
    }
   ],
   "source": [
    "cf_nozzle = cf_entire-cf_nonozzle\n",
    "cf_nozzle"
   ]
  },
  {
   "cell_type": "code",
   "execution_count": 77,
   "metadata": {
    "ExecuteTime": {
     "end_time": "2017-10-12T16:22:38.651000Z",
     "start_time": "2017-10-12T12:22:38.639000-04:00"
    }
   },
   "outputs": [
    {
     "data": {
      "text/plain": [
       "'C_F divergent nozzle only: 0.446488'"
      ]
     },
     "execution_count": 77,
     "metadata": {},
     "output_type": "execute_result"
    }
   ],
   "source": [
    "\"C_F divergent nozzle only: %f\" % cf_nozzle"
   ]
  },
  {
   "cell_type": "markdown",
   "metadata": {
    "ExecuteTime": {
     "end_time": "2017-10-11T15:52:59.117000Z",
     "start_time": "2017-10-11T11:52:59.109000-04:00"
    }
   },
   "source": [
    "## Part (e)"
   ]
  },
  {
   "cell_type": "code",
   "execution_count": 30,
   "metadata": {
    "ExecuteTime": {
     "end_time": "2017-10-12T15:23:27.251000Z",
     "start_time": "2017-10-12T11:23:27.243000-04:00"
    },
    "collapsed": true
   },
   "outputs": [],
   "source": [
    "dh = np.diff(y[allwallidxs])"
   ]
  },
  {
   "cell_type": "code",
   "execution_count": 31,
   "metadata": {
    "ExecuteTime": {
     "end_time": "2017-10-12T15:23:27.267000Z",
     "start_time": "2017-10-12T11:23:27.255000-04:00"
    },
    "collapsed": true
   },
   "outputs": [],
   "source": [
    "def moving_average(a, n=2) :\n",
    "    ret = np.cumsum(a, dtype=float)\n",
    "    ret[n:] = ret[n:] - ret[:-n]\n",
    "    return ret[n - 1:] / n"
   ]
  },
  {
   "cell_type": "code",
   "execution_count": 32,
   "metadata": {
    "ExecuteTime": {
     "end_time": "2017-10-12T15:23:27.279000Z",
     "start_time": "2017-10-12T11:23:27.271000-04:00"
    },
    "collapsed": true
   },
   "outputs": [],
   "source": [
    "prewallidx = [0, 6, 11, 15, 18, 20, 21]"
   ]
  },
  {
   "cell_type": "code",
   "execution_count": 33,
   "metadata": {
    "ExecuteTime": {
     "end_time": "2017-10-12T15:23:27.294000Z",
     "start_time": "2017-10-12T11:23:27.284000-04:00"
    },
    "collapsed": true
   },
   "outputs": [],
   "source": [
    "wall_pressures = table[\"P/Pc\"].iloc[prewallidx].values\n",
    "wall_pressures_segment = moving_average(wall_pressures) - wall_pressures[-1]"
   ]
  },
  {
   "cell_type": "code",
   "execution_count": 34,
   "metadata": {
    "ExecuteTime": {
     "end_time": "2017-10-12T15:23:27.307000Z",
     "start_time": "2017-10-12T11:23:27.298000-04:00"
    }
   },
   "outputs": [
    {
     "data": {
      "text/plain": [
       "0.44435779038862849"
      ]
     },
     "execution_count": 34,
     "metadata": {},
     "output_type": "execute_result"
    }
   ],
   "source": [
    "thrust_coeff = np.sum(wall_pressures_segment *dh)\n",
    "thrust_coeff"
   ]
  },
  {
   "cell_type": "code",
   "execution_count": 78,
   "metadata": {
    "ExecuteTime": {
     "end_time": "2017-10-12T16:23:15.839000Z",
     "start_time": "2017-10-12T12:23:15.832000-04:00"
    }
   },
   "outputs": [
    {
     "data": {
      "text/plain": [
       "'Numerical thrust coefficient for nozzle only: 0.444358'"
      ]
     },
     "execution_count": 78,
     "metadata": {},
     "output_type": "execute_result"
    }
   ],
   "source": [
    "\"Numerical thrust coefficient for nozzle only: %f\" % thrust_coeff"
   ]
  },
  {
   "cell_type": "markdown",
   "metadata": {},
   "source": [
    "## Part (f)"
   ]
  },
  {
   "cell_type": "code",
   "execution_count": 35,
   "metadata": {
    "ExecuteTime": {
     "end_time": "2017-10-12T15:23:27.319000Z",
     "start_time": "2017-10-12T11:23:27.311000-04:00"
    },
    "collapsed": true
   },
   "outputs": [],
   "source": [
    "truncated_thrust_coeff = np.sum(wall_pressures_segment[:-1] *dh[:-1])\n",
    "loss_in_thrust = (1-truncated_thrust_coeff/thrust_coeff)*100"
   ]
  },
  {
   "cell_type": "code",
   "execution_count": 36,
   "metadata": {
    "ExecuteTime": {
     "end_time": "2017-10-12T15:23:27.335000Z",
     "start_time": "2017-10-12T11:23:27.327000-04:00"
    }
   },
   "outputs": [
    {
     "data": {
      "text/plain": [
       "'Loss in thrust = 1.538807 %'"
      ]
     },
     "execution_count": 36,
     "metadata": {},
     "output_type": "execute_result"
    }
   ],
   "source": [
    "\"Loss in thrust = %f %%\" % loss_in_thrust"
   ]
  }
 ],
 "metadata": {
  "kernelspec": {
   "display_name": "Python [default]",
   "language": "python",
   "name": "python2"
  },
  "language_info": {
   "codemirror_mode": {
    "name": "ipython",
    "version": 2
   },
   "file_extension": ".py",
   "mimetype": "text/x-python",
   "name": "python",
   "nbconvert_exporter": "python",
   "pygments_lexer": "ipython2",
   "version": "2.7.12"
  },
  "toc": {
   "colors": {
    "hover_highlight": "#DAA520",
    "navigate_num": "#000000",
    "navigate_text": "#333333",
    "running_highlight": "#FF0000",
    "selected_highlight": "#FFD700",
    "sidebar_border": "#EEEEEE",
    "wrapper_background": "#FFFFFF"
   },
   "moveMenuLeft": true,
   "nav_menu": {
    "height": "31px",
    "width": "252px"
   },
   "navigate_menu": true,
   "number_sections": true,
   "sideBar": true,
   "threshold": 4,
   "toc_cell": false,
   "toc_section_display": "block",
   "toc_window_display": false,
   "widenNotebook": false
  },
  "varInspector": {
   "cols": {
    "lenName": 16,
    "lenType": 16,
    "lenVar": 40
   },
   "kernels_config": {
    "python": {
     "delete_cmd_postfix": "",
     "delete_cmd_prefix": "del ",
     "library": "var_list.py",
     "varRefreshCmd": "print(var_dic_list())"
    },
    "r": {
     "delete_cmd_postfix": ") ",
     "delete_cmd_prefix": "rm(",
     "library": "var_list.r",
     "varRefreshCmd": "cat(var_dic_list()) "
    }
   },
   "types_to_exclude": [
    "module",
    "function",
    "builtin_function_or_method",
    "instance",
    "_Feature"
   ],
   "window_display": false
  }
 },
 "nbformat": 4,
 "nbformat_minor": 2
}
