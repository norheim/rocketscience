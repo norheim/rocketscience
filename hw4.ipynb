{
 "cells": [
  {
   "cell_type": "code",
   "execution_count": 3,
   "metadata": {
    "ExecuteTime": {
     "end_time": "2017-10-10T17:51:42.214000Z",
     "start_time": "2017-10-10T13:51:41.979000-04:00"
    },
    "collapsed": true
   },
   "outputs": [],
   "source": [
    "import numpy as np"
   ]
  },
  {
   "cell_type": "code",
   "execution_count": 4,
   "metadata": {
    "ExecuteTime": {
     "end_time": "2017-10-10T17:51:42.666000Z",
     "start_time": "2017-10-10T13:51:42.278000-04:00"
    },
    "collapsed": true
   },
   "outputs": [],
   "source": [
    "from scipy.optimize import fsolve"
   ]
  },
  {
   "cell_type": "code",
   "execution_count": 5,
   "metadata": {
    "ExecuteTime": {
     "end_time": "2017-10-10T17:51:44.329000Z",
     "start_time": "2017-10-10T13:51:43.839000-04:00"
    },
    "collapsed": true
   },
   "outputs": [],
   "source": [
    "import pandas as pd"
   ]
  },
  {
   "cell_type": "code",
   "execution_count": 6,
   "metadata": {
    "ExecuteTime": {
     "end_time": "2017-10-10T17:51:44.375000Z",
     "start_time": "2017-10-10T13:51:44.367000-04:00"
    },
    "collapsed": true
   },
   "outputs": [],
   "source": [
    "M0 = 1.1\n",
    "Me = 3\n",
    "g = 1.25\n",
    "k = 3"
   ]
  },
  {
   "cell_type": "code",
   "execution_count": 7,
   "metadata": {
    "ExecuteTime": {
     "end_time": "2017-10-10T17:51:44.419000Z",
     "start_time": "2017-10-10T13:51:44.411000-04:00"
    },
    "collapsed": true
   },
   "outputs": [],
   "source": [
    "wM = lambda M: np.degrees(k*np.arctan(np.sqrt(M**2-1)/k)-np.arctan(np.sqrt(M**2-1)))"
   ]
  },
  {
   "cell_type": "code",
   "execution_count": 8,
   "metadata": {
    "ExecuteTime": {
     "end_time": "2017-10-10T17:51:44.543000Z",
     "start_time": "2017-10-10T13:51:44.531000-04:00"
    },
    "collapsed": true
   },
   "outputs": [],
   "source": [
    "Mw = lambda win: fsolve(lambda M: wM(M)-win, 2)[0]"
   ]
  },
  {
   "cell_type": "code",
   "execution_count": 9,
   "metadata": {
    "ExecuteTime": {
     "end_time": "2017-10-10T17:51:44.911000Z",
     "start_time": "2017-10-10T13:51:44.891000-04:00"
    }
   },
   "outputs": [
    {
     "data": {
      "text/plain": [
       "2.9838025063160498"
      ]
     },
     "execution_count": 9,
     "metadata": {},
     "output_type": "execute_result"
    }
   ],
   "source": [
    "Mw(59)"
   ]
  },
  {
   "cell_type": "code",
   "execution_count": 10,
   "metadata": {
    "ExecuteTime": {
     "end_time": "2017-10-10T17:51:45.493000Z",
     "start_time": "2017-10-10T13:51:45.489000-04:00"
    }
   },
   "outputs": [
    {
     "data": {
      "text/plain": [
       "59.412790609339858"
      ]
     },
     "execution_count": 10,
     "metadata": {},
     "output_type": "execute_result"
    }
   ],
   "source": [
    "wM(3)"
   ]
  },
  {
   "cell_type": "code",
   "execution_count": 11,
   "metadata": {
    "ExecuteTime": {
     "end_time": "2017-10-10T17:51:46Z",
     "start_time": "2017-10-10T13:51:45.992000-04:00"
    }
   },
   "outputs": [
    {
     "data": {
      "text/plain": [
       "2.0"
      ]
     },
     "execution_count": 11,
     "metadata": {},
     "output_type": "execute_result"
    }
   ],
   "source": [
    "Mw(wM(2))"
   ]
  },
  {
   "cell_type": "code",
   "execution_count": 12,
   "metadata": {
    "ExecuteTime": {
     "end_time": "2017-10-10T17:51:46.650000Z",
     "start_time": "2017-10-10T13:51:46.642000-04:00"
    },
    "collapsed": true
   },
   "outputs": [],
   "source": [
    "thw = lambda Ip, Im: (0.5*(Ip+Im), 0.5*(Ip-Im))"
   ]
  },
  {
   "cell_type": "code",
   "execution_count": 13,
   "metadata": {
    "ExecuteTime": {
     "end_time": "2017-10-10T17:51:47.114000Z",
     "start_time": "2017-10-10T13:51:47.108000-04:00"
    },
    "collapsed": true
   },
   "outputs": [],
   "source": [
    "Iminus_center = lambda incoming_Ip: -incoming_Ip\n",
    "thw_center = lambda incoming_Ip: (0, incoming_Ip)"
   ]
  },
  {
   "cell_type": "code",
   "execution_count": 14,
   "metadata": {
    "ExecuteTime": {
     "end_time": "2017-10-06T16:01:04.874000Z",
     "start_time": "2017-10-06T12:01:04.866000-04:00"
    },
    "collapsed": true
   },
   "outputs": [],
   "source": [
    "th_0 = 0\n",
    "th_e = 0\n",
    "w_0 = w(M0)\n",
    "w_e = w(Me)\n",
    "Im_1 = th_0-w_0\n",
    "Ip_1 = th_0+w_0\n",
    "Ip_e = th_e+w_e"
   ]
  },
  {
   "cell_type": "code",
   "execution_count": 15,
   "metadata": {
    "ExecuteTime": {
     "end_time": "2017-10-06T16:01:05.083000Z",
     "start_time": "2017-10-06T12:01:05.079000-04:00"
    },
    "collapsed": true
   },
   "outputs": [],
   "source": [
    "_, Ip_5, Ip_8, Ip_10 = np.linspace(Ip_1, Ip_e, 4)"
   ]
  },
  {
   "cell_type": "code",
   "execution_count": 16,
   "metadata": {
    "ExecuteTime": {
     "end_time": "2017-10-06T16:01:05.467000Z",
     "start_time": "2017-10-06T12:01:05.459000-04:00"
    },
    "collapsed": true
   },
   "outputs": [],
   "source": [
    "th_2, w_2 = thw(Ip_5, Im_1)\n",
    "th_3, w_3 = thw(Ip_8, Im_1)\n",
    "th_4, w_4 = thw(Ip_10, Im_1)\n",
    "th_5, w_5 = thw_center(Ip_5)\n",
    "Im_5 = Iminus_center(Ip_5)\n",
    "th_6, w_6 = thw(Ip_8, Im_5)\n",
    "th_7, w_7 = thw(Ip_10,Im_5)\n",
    "th_8, w_8 = thw_center(Ip_8)\n",
    "Im_8 = Iminus_center(Ip_8)\n",
    "th_9, w_9 = thw(Ip_10, Im_8)\n",
    "th_10, w_10 = thw_center(Ip_10)"
   ]
  },
  {
   "cell_type": "code",
   "execution_count": 9,
   "metadata": {
    "ExecuteTime": {
     "end_time": "2017-10-06T15:57:45.685000Z",
     "start_time": "2017-10-06T11:57:45.669000-04:00"
    }
   },
   "outputs": [
    {
     "data": {
      "text/plain": [
       "(9.6629910245273649, 49.749799584812493, 0, 59.412790609339858)"
      ]
     },
     "execution_count": 9,
     "metadata": {},
     "output_type": "execute_result"
    }
   ],
   "source": [
    "th_9, w_9, th_10, w_10"
   ]
  },
  {
   "cell_type": "markdown",
   "metadata": {},
   "source": [
    "### Pset"
   ]
  },
  {
   "cell_type": "code",
   "execution_count": 15,
   "metadata": {
    "ExecuteTime": {
     "end_time": "2017-10-10T17:51:58.306000Z",
     "start_time": "2017-10-10T13:51:58.294000-04:00"
    },
    "collapsed": true
   },
   "outputs": [],
   "source": [
    "Me_pset = 4\n",
    "discretization = 22\n",
    "line_number = 6\n",
    "th = np.empty(discretization)\n",
    "w = np.empty(discretization)\n",
    "th_0, th_e = 0,0\n",
    "th[0] = th[1] = th_0\n",
    "#th[-1] = th_e\n",
    "w_0, w_e = wM(M0), wM(Me_pset)\n",
    "w[0] = w[1] = w_0\n",
    "#w[-1] = w_e\n",
    "Im_1 = th_0-w_0\n",
    "Ip_1 = th_0+w_0\n",
    "Ip_e = th_e+w_e"
   ]
  },
  {
   "cell_type": "markdown",
   "metadata": {},
   "source": [
    "## Part (a)"
   ]
  },
  {
   "cell_type": "code",
   "execution_count": 16,
   "metadata": {
    "ExecuteTime": {
     "end_time": "2017-10-10T17:52:02.731000Z",
     "start_time": "2017-10-10T13:52:02.727000-04:00"
    },
    "collapsed": true
   },
   "outputs": [],
   "source": [
    "Ips = np.linspace(Ip_1, Ip_e, line_number)"
   ]
  },
  {
   "cell_type": "code",
   "execution_count": 17,
   "metadata": {
    "ExecuteTime": {
     "end_time": "2017-10-10T17:52:03.017000Z",
     "start_time": "2017-10-10T13:52:03.009000-04:00"
    },
    "collapsed": true
   },
   "outputs": [],
   "source": [
    "display = lambda idx, th, w, opt=\"\": print(idx, opt, w, th)"
   ]
  },
  {
   "cell_type": "code",
   "execution_count": 18,
   "metadata": {
    "ExecuteTime": {
     "end_time": "2017-10-10T17:52:03.497000Z",
     "start_time": "2017-10-10T13:52:03.446000-04:00"
    }
   },
   "outputs": [
    {
     "name": "stdout",
     "output_type": "stream",
     "text": [
      "0  1.43484446218 0.0\n",
      "1  1.43484446218 0.0\n",
      "2  9.41073806244 7.97589360026\n",
      "3  17.3866316627 15.9517872005\n",
      "4  25.362525263 23.9276808008\n",
      "5  33.3384188632 31.9035744011\n",
      "6  41.3143124635 39.8794680013\n",
      "7 center 17.3866316627 0.0\n",
      "8  25.362525263 7.97589360026\n",
      "9  33.3384188632 15.9517872005\n",
      "10  41.3143124635 23.9276808008\n",
      "11  49.2902060638 31.9035744011\n",
      "12 center 33.3384188632 0.0\n",
      "13  41.3143124635 7.97589360026\n",
      "14  49.2902060638 15.9517872005\n",
      "15  57.266099664 23.9276808008\n",
      "16 center 49.2902060638 0.0\n",
      "17  57.266099664 7.97589360026\n",
      "18  65.2419932643 15.9517872005\n",
      "19 center 65.2419932643 0.0\n",
      "20  73.2178868646 7.97589360026\n",
      "21 center 81.1937804648 0.0\n"
     ]
    }
   ],
   "source": [
    "Im = Im_1\n",
    "display(0, th[0], w[0])\n",
    "display(1, th[1], w[1])\n",
    "idx = 1\n",
    "for Im_counter in range(line_number-1):\n",
    "    idx +=1\n",
    "    for counter, Ip_i in enumerate(Ips[Im_counter+1:]):\n",
    "        th[idx], w[idx] = thw(Ip_i, Im)\n",
    "        display(idx, th[idx], w[idx])\n",
    "        idx +=1\n",
    "    th[idx], w[idx] = thw_center(Ips[Im_counter+1])\n",
    "    display(idx, th[idx], w[idx], \"center\")\n",
    "    Im = Iminus_center(Ips[Im_counter+1])"
   ]
  },
  {
   "cell_type": "code",
   "execution_count": 19,
   "metadata": {
    "ExecuteTime": {
     "end_time": "2017-10-10T17:52:04.418000Z",
     "start_time": "2017-10-10T13:52:04.406000-04:00"
    },
    "collapsed": true
   },
   "outputs": [],
   "source": [
    "table = pd.DataFrame()\n",
    "table[\"omegas\"], table[\"thetas\"] = w, th"
   ]
  },
  {
   "cell_type": "code",
   "execution_count": 21,
   "metadata": {
    "ExecuteTime": {
     "end_time": "2017-10-10T17:52:10.744000Z",
     "start_time": "2017-10-10T13:52:10.716000-04:00"
    },
    "collapsed": true
   },
   "outputs": [],
   "source": [
    "table[\"M\"] = table[\"omegas\"].apply(Mw)\n",
    "table[\"mu\"] = table[\"M\"].apply(lambda M: np.degrees(np.arctan(1/np.sqrt(M**2-1))))\n",
    "table[\"th+mu\"] = table[\"thetas\"]+table[\"mu\"]\n",
    "table[\"th-mu\"] = table[\"thetas\"]-table[\"mu\"]\n",
    "table[\"I+\"] = table[\"thetas\"]+table[\"omegas\"]\n",
    "table[\"I-\"] = table[\"thetas\"]-table[\"omegas\"]\n",
    "table[\"P/Pc\"] = table[\"M\"].apply(lambda M: (1+(g-1)/2*M**2)**(-g/(g-1)))"
   ]
  },
  {
   "cell_type": "code",
   "execution_count": 22,
   "metadata": {
    "ExecuteTime": {
     "end_time": "2017-10-10T17:52:11.407000Z",
     "start_time": "2017-10-10T13:52:11.348000-04:00"
    }
   },
   "outputs": [
    {
     "data": {
      "text/html": [
       "<div>\n",
       "<table border=\"1\" class=\"dataframe\">\n",
       "  <thead>\n",
       "    <tr style=\"text-align: right;\">\n",
       "      <th></th>\n",
       "      <th>M</th>\n",
       "      <th>I+</th>\n",
       "      <th>I-</th>\n",
       "      <th>omegas</th>\n",
       "      <th>thetas</th>\n",
       "      <th>mu</th>\n",
       "      <th>th+mu</th>\n",
       "      <th>th-mu</th>\n",
       "      <th>P/Pc</th>\n",
       "    </tr>\n",
       "  </thead>\n",
       "  <tbody>\n",
       "    <tr>\n",
       "      <th>0</th>\n",
       "      <td>1.100000</td>\n",
       "      <td>1.434844</td>\n",
       "      <td>-1.434844</td>\n",
       "      <td>1.434844</td>\n",
       "      <td>0.000000</td>\n",
       "      <td>65.380023</td>\n",
       "      <td>65.380023</td>\n",
       "      <td>-65.380023</td>\n",
       "      <td>0.494483</td>\n",
       "    </tr>\n",
       "    <tr>\n",
       "      <th>1</th>\n",
       "      <td>1.100000</td>\n",
       "      <td>1.434844</td>\n",
       "      <td>-1.434844</td>\n",
       "      <td>1.434844</td>\n",
       "      <td>0.000000</td>\n",
       "      <td>65.380023</td>\n",
       "      <td>65.380023</td>\n",
       "      <td>-65.380023</td>\n",
       "      <td>0.494483</td>\n",
       "    </tr>\n",
       "    <tr>\n",
       "      <th>2</th>\n",
       "      <td>1.386455</td>\n",
       "      <td>17.386632</td>\n",
       "      <td>-1.434844</td>\n",
       "      <td>9.410738</td>\n",
       "      <td>7.975894</td>\n",
       "      <td>46.158937</td>\n",
       "      <td>54.134831</td>\n",
       "      <td>-38.183043</td>\n",
       "      <td>0.340720</td>\n",
       "    </tr>\n",
       "    <tr>\n",
       "      <th>3</th>\n",
       "      <td>1.626345</td>\n",
       "      <td>33.338419</td>\n",
       "      <td>-1.434844</td>\n",
       "      <td>17.386632</td>\n",
       "      <td>15.951787</td>\n",
       "      <td>37.942890</td>\n",
       "      <td>53.894677</td>\n",
       "      <td>-21.991103</td>\n",
       "      <td>0.239730</td>\n",
       "    </tr>\n",
       "    <tr>\n",
       "      <th>4</th>\n",
       "      <td>1.861247</td>\n",
       "      <td>49.290206</td>\n",
       "      <td>-1.434844</td>\n",
       "      <td>25.362525</td>\n",
       "      <td>23.927681</td>\n",
       "      <td>32.498265</td>\n",
       "      <td>56.425946</td>\n",
       "      <td>-8.570585</td>\n",
       "      <td>0.165471</td>\n",
       "    </tr>\n",
       "    <tr>\n",
       "      <th>5</th>\n",
       "      <td>2.101839</td>\n",
       "      <td>65.241993</td>\n",
       "      <td>-1.434844</td>\n",
       "      <td>33.338419</td>\n",
       "      <td>31.903574</td>\n",
       "      <td>28.409749</td>\n",
       "      <td>60.313323</td>\n",
       "      <td>3.493826</td>\n",
       "      <td>0.110979</td>\n",
       "    </tr>\n",
       "    <tr>\n",
       "      <th>6</th>\n",
       "      <td>2.354392</td>\n",
       "      <td>81.193780</td>\n",
       "      <td>-1.434844</td>\n",
       "      <td>41.314312</td>\n",
       "      <td>39.879468</td>\n",
       "      <td>25.134084</td>\n",
       "      <td>65.013552</td>\n",
       "      <td>14.745384</td>\n",
       "      <td>0.071920</td>\n",
       "    </tr>\n",
       "    <tr>\n",
       "      <th>7</th>\n",
       "      <td>1.626345</td>\n",
       "      <td>17.386632</td>\n",
       "      <td>-17.386632</td>\n",
       "      <td>17.386632</td>\n",
       "      <td>0.000000</td>\n",
       "      <td>37.942890</td>\n",
       "      <td>37.942890</td>\n",
       "      <td>-37.942890</td>\n",
       "      <td>0.239730</td>\n",
       "    </tr>\n",
       "    <tr>\n",
       "      <th>8</th>\n",
       "      <td>1.861247</td>\n",
       "      <td>33.338419</td>\n",
       "      <td>-17.386632</td>\n",
       "      <td>25.362525</td>\n",
       "      <td>7.975894</td>\n",
       "      <td>32.498265</td>\n",
       "      <td>40.474159</td>\n",
       "      <td>-24.522372</td>\n",
       "      <td>0.165471</td>\n",
       "    </tr>\n",
       "    <tr>\n",
       "      <th>9</th>\n",
       "      <td>2.101839</td>\n",
       "      <td>49.290206</td>\n",
       "      <td>-17.386632</td>\n",
       "      <td>33.338419</td>\n",
       "      <td>15.951787</td>\n",
       "      <td>28.409749</td>\n",
       "      <td>44.361536</td>\n",
       "      <td>-12.457962</td>\n",
       "      <td>0.110979</td>\n",
       "    </tr>\n",
       "    <tr>\n",
       "      <th>10</th>\n",
       "      <td>2.354392</td>\n",
       "      <td>65.241993</td>\n",
       "      <td>-17.386632</td>\n",
       "      <td>41.314312</td>\n",
       "      <td>23.927681</td>\n",
       "      <td>25.134084</td>\n",
       "      <td>49.061765</td>\n",
       "      <td>-1.206403</td>\n",
       "      <td>0.071920</td>\n",
       "    </tr>\n",
       "    <tr>\n",
       "      <th>11</th>\n",
       "      <td>2.624186</td>\n",
       "      <td>81.193780</td>\n",
       "      <td>-17.386632</td>\n",
       "      <td>49.290206</td>\n",
       "      <td>31.903574</td>\n",
       "      <td>22.400011</td>\n",
       "      <td>54.303585</td>\n",
       "      <td>9.503564</td>\n",
       "      <td>0.044824</td>\n",
       "    </tr>\n",
       "    <tr>\n",
       "      <th>12</th>\n",
       "      <td>2.101839</td>\n",
       "      <td>33.338419</td>\n",
       "      <td>-33.338419</td>\n",
       "      <td>33.338419</td>\n",
       "      <td>0.000000</td>\n",
       "      <td>28.409749</td>\n",
       "      <td>28.409749</td>\n",
       "      <td>-28.409749</td>\n",
       "      <td>0.110979</td>\n",
       "    </tr>\n",
       "    <tr>\n",
       "      <th>13</th>\n",
       "      <td>2.354392</td>\n",
       "      <td>49.290206</td>\n",
       "      <td>-33.338419</td>\n",
       "      <td>41.314312</td>\n",
       "      <td>7.975894</td>\n",
       "      <td>25.134084</td>\n",
       "      <td>33.109978</td>\n",
       "      <td>-17.158190</td>\n",
       "      <td>0.071920</td>\n",
       "    </tr>\n",
       "    <tr>\n",
       "      <th>14</th>\n",
       "      <td>2.624186</td>\n",
       "      <td>65.241993</td>\n",
       "      <td>-33.338419</td>\n",
       "      <td>49.290206</td>\n",
       "      <td>15.951787</td>\n",
       "      <td>22.400011</td>\n",
       "      <td>38.351798</td>\n",
       "      <td>-6.448223</td>\n",
       "      <td>0.044824</td>\n",
       "    </tr>\n",
       "    <tr>\n",
       "      <th>15</th>\n",
       "      <td>2.916640</td>\n",
       "      <td>81.193780</td>\n",
       "      <td>-33.338419</td>\n",
       "      <td>57.266100</td>\n",
       "      <td>23.927681</td>\n",
       "      <td>20.051231</td>\n",
       "      <td>43.978912</td>\n",
       "      <td>3.876450</td>\n",
       "      <td>0.026738</td>\n",
       "    </tr>\n",
       "    <tr>\n",
       "      <th>16</th>\n",
       "      <td>2.624186</td>\n",
       "      <td>49.290206</td>\n",
       "      <td>-49.290206</td>\n",
       "      <td>49.290206</td>\n",
       "      <td>0.000000</td>\n",
       "      <td>22.400011</td>\n",
       "      <td>22.400011</td>\n",
       "      <td>-22.400011</td>\n",
       "      <td>0.044824</td>\n",
       "    </tr>\n",
       "    <tr>\n",
       "      <th>17</th>\n",
       "      <td>2.916640</td>\n",
       "      <td>65.241993</td>\n",
       "      <td>-49.290206</td>\n",
       "      <td>57.266100</td>\n",
       "      <td>7.975894</td>\n",
       "      <td>20.051231</td>\n",
       "      <td>28.027125</td>\n",
       "      <td>-12.075338</td>\n",
       "      <td>0.026738</td>\n",
       "    </tr>\n",
       "    <tr>\n",
       "      <th>18</th>\n",
       "      <td>3.237979</td>\n",
       "      <td>81.193780</td>\n",
       "      <td>-49.290206</td>\n",
       "      <td>65.241993</td>\n",
       "      <td>15.951787</td>\n",
       "      <td>17.989012</td>\n",
       "      <td>33.940799</td>\n",
       "      <td>-2.037225</td>\n",
       "      <td>0.015185</td>\n",
       "    </tr>\n",
       "    <tr>\n",
       "      <th>19</th>\n",
       "      <td>3.237979</td>\n",
       "      <td>65.241993</td>\n",
       "      <td>-65.241993</td>\n",
       "      <td>65.241993</td>\n",
       "      <td>0.000000</td>\n",
       "      <td>17.989012</td>\n",
       "      <td>17.989012</td>\n",
       "      <td>-17.989012</td>\n",
       "      <td>0.015185</td>\n",
       "    </tr>\n",
       "    <tr>\n",
       "      <th>20</th>\n",
       "      <td>3.595836</td>\n",
       "      <td>81.193780</td>\n",
       "      <td>-65.241993</td>\n",
       "      <td>73.217887</td>\n",
       "      <td>7.975894</td>\n",
       "      <td>16.146804</td>\n",
       "      <td>24.122698</td>\n",
       "      <td>-8.170911</td>\n",
       "      <td>0.008158</td>\n",
       "    </tr>\n",
       "    <tr>\n",
       "      <th>21</th>\n",
       "      <td>4.000000</td>\n",
       "      <td>81.193780</td>\n",
       "      <td>-81.193780</td>\n",
       "      <td>81.193780</td>\n",
       "      <td>0.000000</td>\n",
       "      <td>14.477512</td>\n",
       "      <td>14.477512</td>\n",
       "      <td>-14.477512</td>\n",
       "      <td>0.004115</td>\n",
       "    </tr>\n",
       "  </tbody>\n",
       "</table>\n",
       "</div>"
      ],
      "text/plain": [
       "           M         I+         I-     omegas     thetas         mu  \\\n",
       "0   1.100000   1.434844  -1.434844   1.434844   0.000000  65.380023   \n",
       "1   1.100000   1.434844  -1.434844   1.434844   0.000000  65.380023   \n",
       "2   1.386455  17.386632  -1.434844   9.410738   7.975894  46.158937   \n",
       "3   1.626345  33.338419  -1.434844  17.386632  15.951787  37.942890   \n",
       "4   1.861247  49.290206  -1.434844  25.362525  23.927681  32.498265   \n",
       "5   2.101839  65.241993  -1.434844  33.338419  31.903574  28.409749   \n",
       "6   2.354392  81.193780  -1.434844  41.314312  39.879468  25.134084   \n",
       "7   1.626345  17.386632 -17.386632  17.386632   0.000000  37.942890   \n",
       "8   1.861247  33.338419 -17.386632  25.362525   7.975894  32.498265   \n",
       "9   2.101839  49.290206 -17.386632  33.338419  15.951787  28.409749   \n",
       "10  2.354392  65.241993 -17.386632  41.314312  23.927681  25.134084   \n",
       "11  2.624186  81.193780 -17.386632  49.290206  31.903574  22.400011   \n",
       "12  2.101839  33.338419 -33.338419  33.338419   0.000000  28.409749   \n",
       "13  2.354392  49.290206 -33.338419  41.314312   7.975894  25.134084   \n",
       "14  2.624186  65.241993 -33.338419  49.290206  15.951787  22.400011   \n",
       "15  2.916640  81.193780 -33.338419  57.266100  23.927681  20.051231   \n",
       "16  2.624186  49.290206 -49.290206  49.290206   0.000000  22.400011   \n",
       "17  2.916640  65.241993 -49.290206  57.266100   7.975894  20.051231   \n",
       "18  3.237979  81.193780 -49.290206  65.241993  15.951787  17.989012   \n",
       "19  3.237979  65.241993 -65.241993  65.241993   0.000000  17.989012   \n",
       "20  3.595836  81.193780 -65.241993  73.217887   7.975894  16.146804   \n",
       "21  4.000000  81.193780 -81.193780  81.193780   0.000000  14.477512   \n",
       "\n",
       "        th+mu      th-mu      P/Pc  \n",
       "0   65.380023 -65.380023  0.494483  \n",
       "1   65.380023 -65.380023  0.494483  \n",
       "2   54.134831 -38.183043  0.340720  \n",
       "3   53.894677 -21.991103  0.239730  \n",
       "4   56.425946  -8.570585  0.165471  \n",
       "5   60.313323   3.493826  0.110979  \n",
       "6   65.013552  14.745384  0.071920  \n",
       "7   37.942890 -37.942890  0.239730  \n",
       "8   40.474159 -24.522372  0.165471  \n",
       "9   44.361536 -12.457962  0.110979  \n",
       "10  49.061765  -1.206403  0.071920  \n",
       "11  54.303585   9.503564  0.044824  \n",
       "12  28.409749 -28.409749  0.110979  \n",
       "13  33.109978 -17.158190  0.071920  \n",
       "14  38.351798  -6.448223  0.044824  \n",
       "15  43.978912   3.876450  0.026738  \n",
       "16  22.400011 -22.400011  0.044824  \n",
       "17  28.027125 -12.075338  0.026738  \n",
       "18  33.940799  -2.037225  0.015185  \n",
       "19  17.989012 -17.989012  0.015185  \n",
       "20  24.122698  -8.170911  0.008158  \n",
       "21  14.477512 -14.477512  0.004115  "
      ]
     },
     "execution_count": 22,
     "metadata": {},
     "output_type": "execute_result"
    }
   ],
   "source": [
    "table[[\"M\", \"I+\", \"I-\", \"omegas\", \"thetas\", \"mu\", \"th+mu\", \"th-mu\", \"P/Pc\"]]"
   ]
  },
  {
   "cell_type": "markdown",
   "metadata": {
    "collapsed": true
   },
   "source": [
    "## Part (b)"
   ]
  },
  {
   "cell_type": "code",
   "execution_count": 23,
   "metadata": {
    "ExecuteTime": {
     "end_time": "2017-10-10T17:52:13.129000Z",
     "start_time": "2017-10-10T13:52:13.109000-04:00"
    },
    "collapsed": true
   },
   "outputs": [],
   "source": [
    "upstreams = {\n",
    "    1: [0, 22],\n",
    "    2: [0, 1],\n",
    "    3: [0, 2],\n",
    "    4: [0, 3],\n",
    "    5: [0, 4],\n",
    "    6: [0, 5],\n",
    "    7: [2, 1],\n",
    "    8: [3, 7],\n",
    "    9: [4, 8],\n",
    "    10: [5, 9],\n",
    "    11: [6, 10],\n",
    "    12: [8, 7],\n",
    "    13: [9, 12],\n",
    "    14: [10, 13],\n",
    "    15: [11, 14],\n",
    "    16: [13, 12],\n",
    "    17: [14, 16],\n",
    "    18: [15, 17],\n",
    "    19: [17, 16],\n",
    "    20: [19, 18],\n",
    "    21: [20, 19]\n",
    "}\n",
    "onthewall = [1, 7, 12, 16, 19, 21]"
   ]
  },
  {
   "cell_type": "code",
   "execution_count": 102,
   "metadata": {
    "ExecuteTime": {
     "end_time": "2017-10-10T18:17:10.593000Z",
     "start_time": "2017-10-10T14:17:10.587000-04:00"
    }
   },
   "outputs": [],
   "source": [
    "x = np.empty(23)*np.nan\n",
    "y = np.empty(23)*np.nan\n",
    "x[0] = 0\n",
    "y[0] = 1\n",
    "x[22] = 0\n",
    "y[22] = 0"
   ]
  },
  {
   "cell_type": "code",
   "execution_count": 88,
   "metadata": {
    "ExecuteTime": {
     "end_time": "2017-10-10T18:14:02.657000Z",
     "start_time": "2017-10-10T14:14:02.649000-04:00"
    },
    "collapsed": true
   },
   "outputs": [],
   "source": [
    "def position(xa, ya, alpha, xb, yb, beta):\n",
    "    xc = (ya-yb+xa*np.tan(alpha)+xb*np.tan(beta))/(np.tan(alpha)+np.tan(beta))\n",
    "    yc = (yb*np.tan(alpha)+ya*np.tan(beta)+(xa-xb)*np.tan(alpha)*np.tan(beta))/(np.tan(alpha)+np.tan(beta))\n",
    "    return xc, yc"
   ]
  },
  {
   "cell_type": "code",
   "execution_count": 89,
   "metadata": {
    "ExecuteTime": {
     "end_time": "2017-10-10T18:14:03.079000Z",
     "start_time": "2017-10-10T14:14:03.071000-04:00"
    }
   },
   "outputs": [
    {
     "data": {
      "text/plain": [
       "0.45822902414003108"
      ]
     },
     "execution_count": 89,
     "metadata": {},
     "output_type": "execute_result"
    }
   ],
   "source": [
    "(1+0.4582*np.tan(np.radians(65.38)))/(2*np.tan(np.radians(65.38)))"
   ]
  },
  {
   "cell_type": "code",
   "execution_count": 143,
   "metadata": {
    "ExecuteTime": {
     "end_time": "2017-10-10T18:33:12.894000Z",
     "start_time": "2017-10-10T14:33:12.874000-04:00"
    },
    "collapsed": true
   },
   "outputs": [],
   "source": [
    "def positionofidx(idx):\n",
    "    upstream_plus_idx, upstream_minus_idx = upstreams[idx]\n",
    "    if upstream_plus_idx == 0:\n",
    "        upstream_theta_idx = idx\n",
    "    else:\n",
    "        upstream_theta_idx = upstream_plus_idx \n",
    "        \n",
    "    #print(upstream_plus_idx, upstream_minus_idx)\n",
    "    xa, ya = x[upstream_plus_idx], y[upstream_plus_idx]\n",
    "    xb, yb = x[upstream_minus_idx], y[upstream_minus_idx]\n",
    "     \n",
    "    alpha = np.radians(table[\"mu\"].iloc[upstream_plus_idx]-table[\"thetas\"].iloc[upstream_theta_idx])\n",
    "    #print(np.degrees(alpha))\n",
    "\n",
    "    isonwall = idx in onthewall\n",
    "    if isonwall:\n",
    "        xc,yc = position(xa, ya, alpha, xb, yb, 0)\n",
    "    else:\n",
    "        beta =  np.radians(table[\"mu\"].iloc[upstream_minus_idx]-table[\"thetas\"].iloc[upstream_minus_idx])\n",
    "        #print(xa,ya,xb,yb, np.degrees(alpha), np.degrees(beta))\n",
    "        xc,yc = position(xa, ya, alpha, xb, yb, beta)\n",
    "        \n",
    "    return xc, yc\n",
    "    "
   ]
  },
  {
   "cell_type": "code",
   "execution_count": 144,
   "metadata": {
    "ExecuteTime": {
     "end_time": "2017-10-10T18:33:13.948000Z",
     "start_time": "2017-10-10T14:33:13.940000-04:00"
    }
   },
   "outputs": [
    {
     "data": {
      "text/plain": [
       "(0.4582575694955846, 0.0)"
      ]
     },
     "execution_count": 144,
     "metadata": {},
     "output_type": "execute_result"
    }
   ],
   "source": [
    "x[1],y[1] = positionofidx(1)\n",
    "x[1],y[1]"
   ]
  },
  {
   "cell_type": "code",
   "execution_count": 145,
   "metadata": {
    "ExecuteTime": {
     "end_time": "2017-10-10T18:33:14.946000Z",
     "start_time": "2017-10-10T14:33:14.919000-04:00"
    }
   },
   "outputs": [
    {
     "data": {
      "text/plain": [
       "(0.53389091204762762, 0.1650454844320291)"
      ]
     },
     "execution_count": 145,
     "metadata": {},
     "output_type": "execute_result"
    }
   ],
   "source": [
    "x[2],y[2] = positionofidx(2)\n",
    "x[2],y[2]"
   ]
  },
  {
   "cell_type": "code",
   "execution_count": 150,
   "metadata": {
    "ExecuteTime": {
     "end_time": "2017-10-10T18:34:02.011000Z",
     "start_time": "2017-10-10T14:34:01.989000-04:00"
    }
   },
   "outputs": [],
   "source": [
    "for idx in range(2,22):\n",
    "    x[idx], y[idx] = positionofidx(idx)"
   ]
  },
  {
   "cell_type": "code",
   "execution_count": 151,
   "metadata": {
    "ExecuteTime": {
     "end_time": "2017-10-10T18:34:02.501000Z",
     "start_time": "2017-10-10T14:34:02.477000-04:00"
    }
   },
   "outputs": [
    {
     "data": {
      "text/plain": [
       "array([ 0.        ,  0.45825757,  0.53389091,  0.64207733,  0.78407326,\n",
       "        0.99838739,  1.4407903 ,  0.74375408,  0.92040084,  1.1662338 ,\n",
       "        1.79263353,  1.7220139 ,  1.22230543,  1.53403517,  2.21651581,\n",
       "        0.55760102,  2.08016948,  2.83179642,  3.07909683,  4.27991791,\n",
       "        3.15462754,  5.69941292,  0.        ])"
      ]
     },
     "execution_count": 151,
     "metadata": {},
     "output_type": "execute_result"
    }
   ],
   "source": [
    "x"
   ]
  },
  {
   "cell_type": "code",
   "execution_count": null,
   "metadata": {
    "collapsed": true
   },
   "outputs": [],
   "source": []
  }
 ],
 "metadata": {
  "kernelspec": {
   "display_name": "Python 2",
   "language": "python",
   "name": "python2"
  },
  "language_info": {
   "codemirror_mode": {
    "name": "ipython",
    "version": 2
   },
   "file_extension": ".py",
   "mimetype": "text/x-python",
   "name": "python",
   "nbconvert_exporter": "python",
   "pygments_lexer": "ipython2",
   "version": "2.7.12"
  },
  "toc": {
   "colors": {
    "hover_highlight": "#DAA520",
    "navigate_num": "#000000",
    "navigate_text": "#333333",
    "running_highlight": "#FF0000",
    "selected_highlight": "#FFD700",
    "sidebar_border": "#EEEEEE",
    "wrapper_background": "#FFFFFF"
   },
   "moveMenuLeft": true,
   "nav_menu": {
    "height": "31px",
    "width": "252px"
   },
   "navigate_menu": true,
   "number_sections": true,
   "sideBar": true,
   "threshold": 4,
   "toc_cell": false,
   "toc_section_display": "block",
   "toc_window_display": false,
   "widenNotebook": false
  },
  "varInspector": {
   "cols": {
    "lenName": 16,
    "lenType": 16,
    "lenVar": 40
   },
   "kernels_config": {
    "python": {
     "delete_cmd_postfix": "",
     "delete_cmd_prefix": "del ",
     "library": "var_list.py",
     "varRefreshCmd": "print(var_dic_list())"
    },
    "r": {
     "delete_cmd_postfix": ") ",
     "delete_cmd_prefix": "rm(",
     "library": "var_list.r",
     "varRefreshCmd": "cat(var_dic_list()) "
    }
   },
   "types_to_exclude": [
    "module",
    "function",
    "builtin_function_or_method",
    "instance",
    "_Feature"
   ],
   "window_display": false
  }
 },
 "nbformat": 4,
 "nbformat_minor": 2
}
