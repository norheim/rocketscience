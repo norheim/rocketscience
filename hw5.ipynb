{
 "cells": [
  {
   "cell_type": "markdown",
   "metadata": {},
   "source": [
    "16.512, Homework 5, Johannes Norheim, 11/2"
   ]
  },
  {
   "cell_type": "markdown",
   "metadata": {},
   "source": [
    "This pset was written in a jupyter notebooks, and has been uploaded online to https://github.com/norheim/rocketscience/blob/master/hw5.ipynb"
   ]
  },
  {
   "cell_type": "code",
   "execution_count": 1,
   "metadata": {
    "collapsed": true
   },
   "outputs": [],
   "source": [
    "import numpy as np\n",
    "from scipy.optimize import fsolve, minimize\n",
    "import matplotlib.pyplot as plt\n",
    "from pathlib2 import Path\n",
    "import pandas as pd\n",
    "from collections import defaultdict\n",
    "import subprocess"
   ]
  },
  {
   "cell_type": "markdown",
   "metadata": {},
   "source": [
    "### Isp with CEA\n",
    "Instead of running CEA through their website, here is some custom code developed to automatically run it with their command line interface which can be downloaded for windows at https://www.grc.nasa.gov/WWW/CEAWeb/ceaguiDownload-win.htm\n",
    "\n",
    "First navigate to your installation folder:"
   ]
  },
  {
   "cell_type": "code",
   "execution_count": 3,
   "metadata": {},
   "outputs": [],
   "source": [
    "#cd ../CEAexec-win"
   ]
  },
  {
   "cell_type": "markdown",
   "metadata": {},
   "source": [
    "Our goal is to combust ethanol and oxygen, both assumed liquid and at ambient temperature, and find the isp for o/f ratios in the range between 1 and 4. The o/f range discretization can be set below:"
   ]
  },
  {
   "cell_type": "code",
   "execution_count": 21,
   "metadata": {
    "collapsed": true
   },
   "outputs": [],
   "source": [
    "discretization = 25\n",
    "ofarray = np.round(np.linspace(1,4,discretization),2)\n",
    "ofstring = ','.join(ofarray.astype('str'))"
   ]
  },
  {
   "cell_type": "code",
   "execution_count": 22,
   "metadata": {},
   "outputs": [],
   "source": [
    "problem = \"reac fuel = C2H5OH(L)     wt%=100 t,k=298.15 \\n\" + \\\n",
    "          \"      oxid = N2O4(L)       wt%=100 t,k=298.15 \\n\" + \\\n",
    "          \"prob  rocket  case=test  p,psia =1000, pi/p=68.0272,  eql frozen \\n\" + \\\n",
    "          \"       o/f= \"+ofstring+ \",\\n\" + \\\n",
    "          \"output  siunits  massf \\n\" + \\\n",
    "          \"end\\n\""
   ]
  },
  {
   "cell_type": "markdown",
   "metadata": {},
   "source": [
    "We now write this to the input file that CEA requires"
   ]
  },
  {
   "cell_type": "code",
   "execution_count": 23,
   "metadata": {
    "collapsed": true
   },
   "outputs": [],
   "source": [
    "problem_name = 'ethanolox'"
   ]
  },
  {
   "cell_type": "code",
   "execution_count": 24,
   "metadata": {},
   "outputs": [],
   "source": [
    "inputfile_name = problem_name + '.inp'\n",
    "ceafilein = Path(inputfile_name)\n",
    "ceafilein.write_text(unicode(problem));"
   ]
  },
  {
   "cell_type": "code",
   "execution_count": 25,
   "metadata": {},
   "outputs": [],
   "source": [
    "runfilename = \"runfile.txt\"\n",
    "runfile = Path(runfilename)\n",
    "runfile.write_text(unicode(problem_name+\"\\n\"));"
   ]
  },
  {
   "cell_type": "markdown",
   "metadata": {},
   "source": [
    "We run it:"
   ]
  },
  {
   "cell_type": "code",
   "execution_count": 26,
   "metadata": {},
   "outputs": [],
   "source": [
    "p = subprocess.Popen([\"FCEA2\"],\n",
    "                    stdout=subprocess.PIPE,\n",
    "                    stdin=runfile.open(),\n",
    "                    shell=True)"
   ]
  },
  {
   "cell_type": "markdown",
   "metadata": {},
   "source": [
    "And recover the output"
   ]
  },
  {
   "cell_type": "code",
   "execution_count": 27,
   "metadata": {},
   "outputs": [],
   "source": [
    "outputfile_name = problem_name + '.out'\n",
    "ceafileout = Path(outputfile_name)\n",
    "g = 9.81\n",
    "isps = defaultdict(list)\n",
    "with ceafileout.open() as searchfile:\n",
    "    for line in searchfile:\n",
    "        if 'ASSUMING EQUILIBRIUM' in line:\n",
    "            current_bin = 'equilibrium'\n",
    "        elif 'ASSUMING FROZEN' in line:\n",
    "            current_bin = 'frozen_flow'\n",
    "        elif 'Isp' in line:\n",
    "            parts = line.split()\n",
    "            exhaust_vel = float(parts[3])\n",
    "            isp = exhaust_vel / g\n",
    "            isps[current_bin].append(isp)\n",
    "        elif 'O/F =' in line:\n",
    "            parts = line.split()\n",
    "            of = float(parts[2])\n",
    "            isps['o/f'].append(of)\n",
    "isptable = pd.DataFrame.from_dict(isps)"
   ]
  },
  {
   "cell_type": "markdown",
   "metadata": {},
   "source": [
    "NOTE: we have to divide the value listed as Isp by *g*, since it's technically the exhaust velocity"
   ]
  },
  {
   "cell_type": "code",
   "execution_count": 28,
   "metadata": {},
   "outputs": [
    {
     "data": {
      "text/html": [
       "<div>\n",
       "<style>\n",
       "    .dataframe thead tr:only-child th {\n",
       "        text-align: right;\n",
       "    }\n",
       "\n",
       "    .dataframe thead th {\n",
       "        text-align: left;\n",
       "    }\n",
       "\n",
       "    .dataframe tbody tr th {\n",
       "        vertical-align: top;\n",
       "    }\n",
       "</style>\n",
       "<table border=\"1\" class=\"dataframe\">\n",
       "  <thead>\n",
       "    <tr style=\"text-align: right;\">\n",
       "      <th></th>\n",
       "      <th>equilibrium</th>\n",
       "      <th>frozen_flow</th>\n",
       "      <th>o/f</th>\n",
       "    </tr>\n",
       "  </thead>\n",
       "  <tbody>\n",
       "    <tr>\n",
       "      <th>0</th>\n",
       "      <td>209.673802</td>\n",
       "      <td>194.230377</td>\n",
       "      <td>1.00</td>\n",
       "    </tr>\n",
       "    <tr>\n",
       "      <th>1</th>\n",
       "      <td>215.412844</td>\n",
       "      <td>205.453619</td>\n",
       "      <td>1.12</td>\n",
       "    </tr>\n",
       "    <tr>\n",
       "      <th>2</th>\n",
       "      <td>223.027523</td>\n",
       "      <td>217.951070</td>\n",
       "      <td>1.25</td>\n",
       "    </tr>\n",
       "    <tr>\n",
       "      <th>3</th>\n",
       "      <td>231.019368</td>\n",
       "      <td>228.195719</td>\n",
       "      <td>1.38</td>\n",
       "    </tr>\n",
       "    <tr>\n",
       "      <th>4</th>\n",
       "      <td>238.032620</td>\n",
       "      <td>235.963303</td>\n",
       "      <td>1.50</td>\n",
       "    </tr>\n",
       "    <tr>\n",
       "      <th>5</th>\n",
       "      <td>244.220183</td>\n",
       "      <td>242.385321</td>\n",
       "      <td>1.62</td>\n",
       "    </tr>\n",
       "    <tr>\n",
       "      <th>6</th>\n",
       "      <td>249.938838</td>\n",
       "      <td>248.032620</td>\n",
       "      <td>1.75</td>\n",
       "    </tr>\n",
       "    <tr>\n",
       "      <th>7</th>\n",
       "      <td>254.780836</td>\n",
       "      <td>252.426096</td>\n",
       "      <td>1.88</td>\n",
       "    </tr>\n",
       "    <tr>\n",
       "      <th>8</th>\n",
       "      <td>258.583078</td>\n",
       "      <td>255.443425</td>\n",
       "      <td>2.00</td>\n",
       "    </tr>\n",
       "    <tr>\n",
       "      <th>9</th>\n",
       "      <td>261.814475</td>\n",
       "      <td>257.482161</td>\n",
       "      <td>2.12</td>\n",
       "    </tr>\n",
       "    <tr>\n",
       "      <th>10</th>\n",
       "      <td>264.709480</td>\n",
       "      <td>258.644241</td>\n",
       "      <td>2.25</td>\n",
       "    </tr>\n",
       "    <tr>\n",
       "      <th>11</th>\n",
       "      <td>266.982671</td>\n",
       "      <td>258.858308</td>\n",
       "      <td>2.38</td>\n",
       "    </tr>\n",
       "    <tr>\n",
       "      <th>12</th>\n",
       "      <td>268.532110</td>\n",
       "      <td>258.430173</td>\n",
       "      <td>2.50</td>\n",
       "    </tr>\n",
       "    <tr>\n",
       "      <th>13</th>\n",
       "      <td>269.510703</td>\n",
       "      <td>257.563710</td>\n",
       "      <td>2.62</td>\n",
       "    </tr>\n",
       "    <tr>\n",
       "      <th>14</th>\n",
       "      <td>269.887870</td>\n",
       "      <td>256.320082</td>\n",
       "      <td>2.75</td>\n",
       "    </tr>\n",
       "    <tr>\n",
       "      <th>15</th>\n",
       "      <td>269.388379</td>\n",
       "      <td>254.862385</td>\n",
       "      <td>2.88</td>\n",
       "    </tr>\n",
       "    <tr>\n",
       "      <th>16</th>\n",
       "      <td>268.103976</td>\n",
       "      <td>253.404689</td>\n",
       "      <td>3.00</td>\n",
       "    </tr>\n",
       "    <tr>\n",
       "      <th>17</th>\n",
       "      <td>266.330275</td>\n",
       "      <td>251.896024</td>\n",
       "      <td>3.12</td>\n",
       "    </tr>\n",
       "    <tr>\n",
       "      <th>18</th>\n",
       "      <td>264.189602</td>\n",
       "      <td>250.214067</td>\n",
       "      <td>3.25</td>\n",
       "    </tr>\n",
       "    <tr>\n",
       "      <th>19</th>\n",
       "      <td>261.946993</td>\n",
       "      <td>248.511723</td>\n",
       "      <td>3.38</td>\n",
       "    </tr>\n",
       "    <tr>\n",
       "      <th>20</th>\n",
       "      <td>259.836901</td>\n",
       "      <td>246.931702</td>\n",
       "      <td>3.50</td>\n",
       "    </tr>\n",
       "    <tr>\n",
       "      <th>21</th>\n",
       "      <td>257.726809</td>\n",
       "      <td>245.361876</td>\n",
       "      <td>3.62</td>\n",
       "    </tr>\n",
       "    <tr>\n",
       "      <th>22</th>\n",
       "      <td>255.453619</td>\n",
       "      <td>243.679918</td>\n",
       "      <td>3.75</td>\n",
       "    </tr>\n",
       "    <tr>\n",
       "      <th>23</th>\n",
       "      <td>253.190622</td>\n",
       "      <td>241.997961</td>\n",
       "      <td>3.88</td>\n",
       "    </tr>\n",
       "    <tr>\n",
       "      <th>24</th>\n",
       "      <td>251.141692</td>\n",
       "      <td>240.468909</td>\n",
       "      <td>4.00</td>\n",
       "    </tr>\n",
       "  </tbody>\n",
       "</table>\n",
       "</div>"
      ],
      "text/plain": [
       "    equilibrium  frozen_flow   o/f\n",
       "0    209.673802   194.230377  1.00\n",
       "1    215.412844   205.453619  1.12\n",
       "2    223.027523   217.951070  1.25\n",
       "3    231.019368   228.195719  1.38\n",
       "4    238.032620   235.963303  1.50\n",
       "5    244.220183   242.385321  1.62\n",
       "6    249.938838   248.032620  1.75\n",
       "7    254.780836   252.426096  1.88\n",
       "8    258.583078   255.443425  2.00\n",
       "9    261.814475   257.482161  2.12\n",
       "10   264.709480   258.644241  2.25\n",
       "11   266.982671   258.858308  2.38\n",
       "12   268.532110   258.430173  2.50\n",
       "13   269.510703   257.563710  2.62\n",
       "14   269.887870   256.320082  2.75\n",
       "15   269.388379   254.862385  2.88\n",
       "16   268.103976   253.404689  3.00\n",
       "17   266.330275   251.896024  3.12\n",
       "18   264.189602   250.214067  3.25\n",
       "19   261.946993   248.511723  3.38\n",
       "20   259.836901   246.931702  3.50\n",
       "21   257.726809   245.361876  3.62\n",
       "22   255.453619   243.679918  3.75\n",
       "23   253.190622   241.997961  3.88\n",
       "24   251.141692   240.468909  4.00"
      ]
     },
     "execution_count": 28,
     "metadata": {},
     "output_type": "execute_result"
    }
   ],
   "source": [
    "isptable"
   ]
  },
  {
   "cell_type": "markdown",
   "metadata": {},
   "source": [
    "And plot:"
   ]
  },
  {
   "cell_type": "code",
   "execution_count": 29,
   "metadata": {},
   "outputs": [
    {
     "data": {
      "image/png": "[encoded data removed]",
      "text/plain": [
       "<matplotlib.figure.Figure at 0xb627b00>"
      ]
     },
     "metadata": {},
     "output_type": "display_data"
    }
   ],
   "source": [
    "plt.plot(isptable[\"o/f\"],isptable['equilibrium'],isptable[\"o/f\"],isptable['frozen_flow'])\n",
    "plt.xlabel('O/F')\n",
    "plt.ylabel('Isp [s]')\n",
    "plt.legend(['equilibrium', 'frozen_flow'])\n",
    "plt.show()"
   ]
  },
  {
   "cell_type": "markdown",
   "metadata": {},
   "source": [
    "### Maximum Isp"
   ]
  },
  {
   "cell_type": "markdown",
   "metadata": {},
   "source": [
    "We recover the maximum isp, which is different for equilibrium and frozen flow"
   ]
  },
  {
   "cell_type": "code",
   "execution_count": 30,
   "metadata": {
    "collapsed": true
   },
   "outputs": [],
   "source": [
    "max_eq_idx = np.where(isptable['equilibrium']==isptable['equilibrium'].max())[0][0]\n",
    "max_fr_idx = np.where(isptable['frozen_flow']==isptable['frozen_flow'].max())[0][0]"
   ]
  },
  {
   "cell_type": "code",
   "execution_count": 31,
   "metadata": {},
   "outputs": [],
   "source": [
    "max_ef_of = isptable[\"o/f\"][max_eq_idx]\n",
    "max_eq = isptable[\"equilibrium\"][max_eq_idx]\n",
    "max_fr_of = isptable[\"o/f\"][max_fr_idx]\n",
    "max_fr = isptable[\"frozen_flow\"][max_fr_idx]"
   ]
  },
  {
   "cell_type": "code",
   "execution_count": 32,
   "metadata": {},
   "outputs": [
    {
     "name": "stdout",
     "output_type": "stream",
     "text": [
      "Equilibrium maximum o/f: 2.75, isp=269.89 s\n",
      "Frozen flow maximum o/f: 2.38, isp=258.86 s\n"
     ]
    }
   ],
   "source": [
    "print(\"Equilibrium maximum o/f: {maxof}, isp={isp} s\".format(maxof=max_ef_of, isp=round(max_eq,2)))\n",
    "print(\"Frozen flow maximum o/f: {maxof}, isp={isp} s\".format(maxof=max_fr_of, isp=round(max_fr,2)))"
   ]
  },
  {
   "cell_type": "markdown",
   "metadata": {},
   "source": [
    "Which when overlaid on the plot looks like the following:"
   ]
  },
  {
   "cell_type": "code",
   "execution_count": 33,
   "metadata": {},
   "outputs": [
    {
     "data": {
      "image/png": "[encoded data removed]",
      "text/plain": [
       "<matplotlib.figure.Figure at 0xb9415f8>"
      ]
     },
     "metadata": {},
     "output_type": "display_data"
    }
   ],
   "source": [
    "plt.plot(isptable[\"o/f\"],isptable['equilibrium'],isptable[\"o/f\"],isptable['frozen_flow'])\n",
    "plt.plot([max_ef_of, max_fr_of],[max_eq, max_fr], 'o')\n",
    "plt.xlabel('O/F')\n",
    "plt.ylabel('Isp [s]')\n",
    "plt.legend(['equilibrium', 'frozen_flow'])\n",
    "plt.show()"
   ]
  },
  {
   "cell_type": "markdown",
   "metadata": {},
   "source": [
    "### Optimum conditons"
   ]
  },
  {
   "cell_type": "markdown",
   "metadata": {},
   "source": [
    "If we further investigate the output file from the CEA run for the optimum frozen Isp run we can find the chamber composition, temperature, molecular mass, and frozen $\\gamma$:"
   ]
  },
  {
   "cell_type": "markdown",
   "metadata": {},
   "source": [
    "|   Chamber composition  | Chamber conditions|\n",
    "|------|------|\n",
    "| ![ps5chambercomposition.png](ps5chambercomposition.png) | ![ps5chamberconditions.png](ps5chamberconditions.png) |"
   ]
  },
  {
   "cell_type": "markdown",
   "metadata": {},
   "source": [
    "We get a temperature of 3188.58K, a molecular weight of 24.534 g/mol, and a gamma of 1.2041"
   ]
  },
  {
   "cell_type": "markdown",
   "metadata": {},
   "source": [
    "### Constant $\\gamma$ Isp formulation\n",
    "\n",
    "Since $P_e=P_a$:\n",
    "\n",
    "$ Isp = \\frac{u_e}{g} $\n",
    "\n",
    "We know from isentropic flow and conservation of energy that $u_e$, the exit velocity is given by:\n",
    "\n",
    "$ u_e = \\sqrt{2\\frac{\\gamma}{\\gamma-1}\\frac{R}{M}T_c \\left(1-\\left(\\frac{P_e}{P_c}\\right)^\\frac{\\gamma-1}{\\gamma}\\right)} $\n",
    "\n",
    "If we plug in from the chamber conditions we get:"
   ]
  },
  {
   "cell_type": "code",
   "execution_count": 34,
   "metadata": {},
   "outputs": [],
   "source": [
    "gamma = 1.2041\n",
    "Tc = 3188.58\n",
    "M = 24.524e-3 #kg/ml\n",
    "R = 8.314 #J/K/mol\n",
    "PePc = 14.7/1000\n",
    "ue = np.sqrt(2*(gamma/(gamma-1))*(R/M)*Tc*(1-PePc**((gamma-1)/gamma)))"
   ]
  },
  {
   "cell_type": "code",
   "execution_count": 35,
   "metadata": {},
   "outputs": [
    {
     "data": {
      "text/plain": [
       "2552.8324229362324"
      ]
     },
     "execution_count": 35,
     "metadata": {},
     "output_type": "execute_result"
    }
   ],
   "source": [
    "ue"
   ]
  },
  {
   "cell_type": "code",
   "execution_count": 36,
   "metadata": {
    "collapsed": true
   },
   "outputs": [],
   "source": [
    "isp_frozen_theoretical = ue/g"
   ]
  },
  {
   "cell_type": "markdown",
   "metadata": {},
   "source": [
    "Which gives us the following isps:"
   ]
  },
  {
   "cell_type": "code",
   "execution_count": 37,
   "metadata": {},
   "outputs": [
    {
     "name": "stdout",
     "output_type": "stream",
     "text": [
      "Theoretical isp : 260.23s\n",
      "CEA run isp : 258.86 s\n"
     ]
    }
   ],
   "source": [
    "print(\"Theoretical isp : {ispth}s\".format(ispth=round(isp_frozen_theoretical,2)))\n",
    "print(\"CEA run isp : {isprun} s\".format(isprun=round(max_fr,2)))"
   ]
  },
  {
   "cell_type": "markdown",
   "metadata": {},
   "source": [
    "Where the theoretically frozen gamma calculation does pretty well at matching up with the frozen flow analysis"
   ]
  }
 ],
 "metadata": {
  "kernelspec": {
   "display_name": "Python [default]",
   "language": "python",
   "name": "python2"
  },
  "language_info": {
   "codemirror_mode": {
    "name": "ipython",
    "version": 2
   },
   "file_extension": ".py",
   "mimetype": "text/x-python",
   "name": "python",
   "nbconvert_exporter": "python",
   "pygments_lexer": "ipython2",
   "version": "2.7.12"
  }
 },
 "nbformat": 4,
 "nbformat_minor": 2
}
