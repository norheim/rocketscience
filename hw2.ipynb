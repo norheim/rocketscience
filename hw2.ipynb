{
 "cells": [
  {
   "cell_type": "markdown",
   "metadata": {},
   "source": [
    "Libraries we will be using"
   ]
  },
  {
   "cell_type": "code",
   "execution_count": 1,
   "metadata": {
    "ExecuteTime": {
     "end_time": "2017-09-21T16:41:56.660000Z",
     "start_time": "2017-09-21T12:41:55.996000-04:00"
    },
    "collapsed": true
   },
   "outputs": [],
   "source": [
    "from scipy.integrate import odeint, trapz\n",
    "from scipy.optimize import fsolve\n",
    "import matplotlib.pyplot as plt\n",
    "import numpy as np"
   ]
  },
  {
   "cell_type": "markdown",
   "metadata": {},
   "source": [
    "Gravity turn gives us the following ODE:\n",
    "\n",
    "$\\begin{align}\n",
    "\\frac{dv}{dt} &= g(n-sin(\\gamma)) \\\\\n",
    "\\frac{d\\gamma}{dt} &= -\\frac{1}{v}g\\cdot cos(\\gamma)\n",
    "\\end{align}$\n",
    "\n",
    "With $n=\\frac{a}{g}$\n"
   ]
  },
  {
   "cell_type": "markdown",
   "metadata": {},
   "source": [
    "## Numerical solving"
   ]
  },
  {
   "cell_type": "markdown",
   "metadata": {},
   "source": [
    "Problem with solving this is that if we start with a vertical rocket at $\\gamma=90^{\\circ}, v=0 \\ m/s$, the set of equations obviously simplify to:\n",
    "\n",
    "$\\begin{align}\n",
    "\\frac{dv}{dt} &= gn \\\\\n",
    "\\frac{d\\gamma}{dt} &= -\\infty\n",
    "\\end{align}$\n",
    "\n",
    "Which of course makes no sense. In practicality what this all means is just that if we don't give the rocket an initial kick, it won't start to fall. \n",
    "We could always start with slightly perturbed initial conditions and solve numerically, but as it turns out, the ODE is very stiff and this wont do \n",
    "a very good job. What will work instead is starting from a known final angle and velocity, and build our way back to $\\gamma=90^{\\circ}, v=0 \\ m/s$.\n",
    "This is rather simple and only requires reversing the sign of the ODEs:\n",
    "\n",
    "$\\begin{align}\n",
    "\\frac{dv}{dt} &= -g(n-sin(\\gamma)) \\\\\n",
    "\\frac{d\\gamma}{dt} &= \\frac{1}{v}g\\cdot cos(\\gamma)\n",
    "\\end{align}$\n"
   ]
  },
  {
   "cell_type": "code",
   "execution_count": 2,
   "metadata": {
    "ExecuteTime": {
     "end_time": "2017-09-21T16:41:56.675000Z",
     "start_time": "2017-09-21T12:41:56.663000-04:00"
    },
    "collapsed": true
   },
   "outputs": [],
   "source": [
    "def simple_gravityturn(y, t, g, n):\n",
    "    v, gamma = y\n",
    "    dvdt = -g*(n-np.sin(gamma))\n",
    "    dgammadt = g*np.cos(gamma)/v\n",
    "    dydt = [dvdt, dgammadt]\n",
    "    return dydt"
   ]
  },
  {
   "cell_type": "markdown",
   "metadata": {},
   "source": [
    "## Constant acceleration"
   ]
  },
  {
   "cell_type": "markdown",
   "metadata": {},
   "source": [
    "Assuming g=9.81, n=3, $\\gamma_{final}=20^{\\circ}, v_{final}=1,500m/s$"
   ]
  },
  {
   "cell_type": "code",
   "execution_count": 3,
   "metadata": {
    "ExecuteTime": {
     "end_time": "2017-09-21T16:41:56.702000Z",
     "start_time": "2017-09-21T12:41:56.688000-04:00"
    }
   },
   "outputs": [],
   "source": [
    "g = 9.81\n",
    "n = 3\n",
    "gfinal = np.deg2rad(20)\n",
    "vfinal = 1500"
   ]
  },
  {
   "cell_type": "markdown",
   "metadata": {},
   "source": [
    "We will use one pyhtons ODE solvers: odeint"
   ]
  },
  {
   "cell_type": "code",
   "execution_count": 4,
   "metadata": {
    "ExecuteTime": {
     "end_time": "2017-09-21T16:41:56.714000Z",
     "start_time": "2017-09-21T12:41:56.707000-04:00"
    },
    "collapsed": true
   },
   "outputs": [],
   "source": [
    "turnsolver = lambda t : odeint(simple_gravityturn, [vfinal, gfinal], [0,t], args=(g,n))[1,:]"
   ]
  },
  {
   "cell_type": "markdown",
   "metadata": {},
   "source": [
    "If be backwards solve the original ODEs over 10 seconds we get:"
   ]
  },
  {
   "cell_type": "code",
   "execution_count": 5,
   "metadata": {
    "ExecuteTime": {
     "end_time": "2017-09-21T16:41:56.731000Z",
     "start_time": "2017-09-21T12:41:56.719000-04:00"
    }
   },
   "outputs": [
    {
     "data": {
      "text/plain": [
       "array([  1.24221367e+03,   4.15652097e-01])"
      ]
     },
     "execution_count": 5,
     "metadata": {},
     "output_type": "execute_result"
    }
   ],
   "source": [
    "turnsolver(10)"
   ]
  },
  {
   "cell_type": "markdown",
   "metadata": {},
   "source": [
    "As expected, the velocity is going down, and so it the angle. But when do we reach zero? Let's use fsolve:"
   ]
  },
  {
   "cell_type": "code",
   "execution_count": 6,
   "metadata": {
    "ExecuteTime": {
     "end_time": "2017-09-21T16:41:56.762000Z",
     "start_time": "2017-09-21T12:41:56.737000-04:00"
    },
    "collapsed": true
   },
   "outputs": [],
   "source": [
    "velocity_only = lambda t: turnsolver(t)[0]\n",
    "t_final = fsolve(velocity_only, 60)"
   ]
  },
  {
   "cell_type": "code",
   "execution_count": 7,
   "metadata": {
    "ExecuteTime": {
     "end_time": "2017-09-21T16:41:56.782000Z",
     "start_time": "2017-09-21T12:41:56.767000-04:00"
    }
   },
   "outputs": [
    {
     "data": {
      "text/plain": [
       "array([ 63.8765345])"
      ]
     },
     "execution_count": 7,
     "metadata": {},
     "output_type": "execute_result"
    }
   ],
   "source": [
    "t_final"
   ]
  },
  {
   "cell_type": "markdown",
   "metadata": {
    "ExecuteTime": {
     "end_time": "2017-09-20T20:26:26.876000Z",
     "start_time": "2017-09-20T16:26:26.870000-04:00"
    }
   },
   "source": [
    "Setting $t_{final}$ to 63.87 seconds we can now get the full trajectory:"
   ]
  },
  {
   "cell_type": "code",
   "execution_count": 8,
   "metadata": {
    "ExecuteTime": {
     "end_time": "2017-09-21T16:41:56.799000Z",
     "start_time": "2017-09-21T12:41:56.786000-04:00"
    },
    "collapsed": true
   },
   "outputs": [],
   "source": [
    "t = np.linspace(0, t_final, 1000)\n",
    "v_simple, gamma_simple = odeint(simple_gravityturn, [vfinal, gfinal], t, args=(g,n)).transpose()"
   ]
  },
  {
   "cell_type": "markdown",
   "metadata": {},
   "source": [
    "And as requested in the pset, let's plot it:"
   ]
  },
  {
   "cell_type": "code",
   "execution_count": 9,
   "metadata": {
    "ExecuteTime": {
     "end_time": "2017-09-21T16:41:57.064000Z",
     "start_time": "2017-09-21T12:41:56.803000-04:00"
    }
   },
   "outputs": [
    {
     "data": {
      "image/png": "[encoded data removed]",
      "text/plain": [
       "<matplotlib.figure.Figure at 0x8cf9b38>"
      ]
     },
     "metadata": {},
     "output_type": "display_data"
    }
   ],
   "source": [
    "plt.plot(np.rad2deg(np.pi/2-gamma_simple), v_simple);\n",
    "plt.ylabel('velocity [m/s]')\n",
    "plt.xlabel('gamma [degrees]')\n",
    "plt.show()"
   ]
  },
  {
   "cell_type": "markdown",
   "metadata": {},
   "source": [
    "### Gravity losses\n",
    "\n",
    "Defined as $\\int_{0}^{t_f} g\\cdot sin(\\gamma)$. We can use the *trapz* function to numerically integrate:"
   ]
  },
  {
   "cell_type": "code",
   "execution_count": 10,
   "metadata": {
    "ExecuteTime": {
     "end_time": "2017-09-21T16:41:57.079000Z",
     "start_time": "2017-09-21T12:41:57.070000-04:00"
    }
   },
   "outputs": [
    {
     "data": {
      "text/plain": [
       "379.88645079909463"
      ]
     },
     "execution_count": 10,
     "metadata": {},
     "output_type": "execute_result"
    }
   ],
   "source": [
    "trapz(g*np.sin(gamma_simple), t)"
   ]
  },
  {
   "cell_type": "markdown",
   "metadata": {},
   "source": [
    "## Delta II"
   ]
  },
  {
   "cell_type": "markdown",
   "metadata": {},
   "source": [
    "### Rocket Thrust and Mass "
   ]
  },
  {
   "cell_type": "markdown",
   "metadata": {},
   "source": [
    "From the attached paper on the Delta II we can extract the thrust(in N), assumed at sea level:"
   ]
  },
  {
   "cell_type": "code",
   "execution_count": 11,
   "metadata": {
    "ExecuteTime": {
     "end_time": "2017-09-21T16:41:57.092000Z",
     "start_time": "2017-09-21T12:41:57.083000-04:00"
    },
    "collapsed": true
   },
   "outputs": [],
   "source": [
    "Fsolid = 446e3\n",
    "Fliq = 890e3"
   ]
  },
  {
   "cell_type": "markdown",
   "metadata": {},
   "source": [
    "From the text we can extract the force profile: 6 boosters and liquid until 63.3s, liquid only for 2.5s, and then liquid and 3 solids until second 129, which as we will see is more than enough to get us to 1500m/s:"
   ]
  },
  {
   "cell_type": "code",
   "execution_count": 12,
   "metadata": {
    "ExecuteTime": {
     "end_time": "2017-09-21T16:41:57.105000Z",
     "start_time": "2017-09-21T12:41:57.096000-04:00"
    },
    "collapsed": true
   },
   "outputs": [],
   "source": [
    "F = lambda t: np.piecewise(t, \n",
    "                           [(t >= 0) & (t <= 63.3), \n",
    "                            (t > 63.3) & (t <= 65.8), \n",
    "                            (t > 65.8)], [6*Fsolid+Fliq, Fliq, 3*Fsolid+Fliq])"
   ]
  },
  {
   "cell_type": "code",
   "execution_count": 13,
   "metadata": {
    "ExecuteTime": {
     "end_time": "2017-09-21T16:41:57.295000Z",
     "start_time": "2017-09-21T12:41:57.109000-04:00"
    }
   },
   "outputs": [
    {
     "data": {
      "image/png": "[encoded data removed]",
      "text/plain": [
       "<matplotlib.figure.Figure at 0x4b25c50>"
      ]
     },
     "metadata": {},
     "output_type": "display_data"
    }
   ],
   "source": [
    "plt.plot(np.linspace(0,100,1000), F(np.linspace(0,129,1000))/1000)\n",
    "plt.xlabel('time [s]')\n",
    "plt.ylabel('force [kN]')\n",
    "plt.show()"
   ]
  },
  {
   "cell_type": "markdown",
   "metadata": {},
   "source": [
    "And the masses (in kg):"
   ]
  },
  {
   "cell_type": "code",
   "execution_count": 14,
   "metadata": {
    "ExecuteTime": {
     "end_time": "2017-09-21T16:41:57.306000Z",
     "start_time": "2017-09-21T12:41:57.300000-04:00"
    },
    "collapsed": true
   },
   "outputs": [],
   "source": [
    "msolid = 13232 \n",
    "mfuelsolidbooster = 11765\n",
    "mfuelliq = 96033\n",
    "msolid_struct = msolid-mfuelsolidbooster\n",
    "mtotal = 231870 #kg"
   ]
  },
  {
   "cell_type": "markdown",
   "metadata": {},
   "source": [
    "Which give us a mass profile:"
   ]
  },
  {
   "cell_type": "code",
   "execution_count": 15,
   "metadata": {
    "ExecuteTime": {
     "end_time": "2017-09-21T16:41:57.324000Z",
     "start_time": "2017-09-21T12:41:57.311000-04:00"
    }
   },
   "outputs": [],
   "source": [
    "m_solidfuel = lambda t: np.interp(t, np.array([0, 63.3, 65.8, 129]),\n",
    "                        np.array([0, \n",
    "                        6*mfuelsolidbooster, \n",
    "                        6*mfuelsolidbooster,\n",
    "                        9*mfuelsolidbooster]))\n",
    "m_solid_struct = lambda t: np.piecewise(t, \n",
    "                           [(t >= 66) & (t <= 67), \n",
    "                            (t > 67) & (t <= 132), \n",
    "                            (t > 132)], [3*msolid_struct, 6*msolid_struct, 9*msolid_struct])\n",
    "m_liqpart = lambda t: np.interp(t, np.array([0, 260.5]), np.array([0, mfuelliq]))\n",
    "m = lambda t: mtotal-m_solidfuel(t)-m_solid_struct(t)-m_liqpart(t)"
   ]
  },
  {
   "cell_type": "code",
   "execution_count": 16,
   "metadata": {
    "ExecuteTime": {
     "end_time": "2017-09-21T16:41:57.540000Z",
     "start_time": "2017-09-21T12:41:57.328000-04:00"
    }
   },
   "outputs": [
    {
     "data": {
      "image/png": "[encoded data removed]",
      "text/plain": [
       "<matplotlib.figure.Figure at 0x91a4d68>"
      ]
     },
     "metadata": {},
     "output_type": "display_data"
    }
   ],
   "source": [
    "plt.plot(np.linspace(0,129), m(np.linspace(0,129)));\n",
    "plt.xlabel('time [s]')\n",
    "plt.ylabel('mass [kg]')\n",
    "plt.show()"
   ]
  },
  {
   "cell_type": "markdown",
   "metadata": {},
   "source": [
    "### ODE solving"
   ]
  },
  {
   "cell_type": "code",
   "execution_count": 17,
   "metadata": {
    "ExecuteTime": {
     "end_time": "2017-09-21T16:41:57.553000Z",
     "start_time": "2017-09-21T12:41:57.545000-04:00"
    },
    "collapsed": true
   },
   "outputs": [],
   "source": [
    "def delta_gravityturn(y, t, g, F, m, tf):\n",
    "    v, gamma = y\n",
    "    dvdt = -F(tf-t)/m(tf-t)+g*np.sin(gamma)\n",
    "    dgammadt = g*np.cos(gamma)/v\n",
    "    dydt = [dvdt, dgammadt]\n",
    "    return dydt"
   ]
  },
  {
   "cell_type": "code",
   "execution_count": 18,
   "metadata": {
    "ExecuteTime": {
     "end_time": "2017-09-21T16:41:57.565000Z",
     "start_time": "2017-09-21T12:41:57.558000-04:00"
    }
   },
   "outputs": [],
   "source": [
    "deltaturnsolver = lambda t : odeint(delta_gravityturn, [vfinal, gfinal], [0,t], args=(g,F,m,t))[1,:]"
   ]
  },
  {
   "cell_type": "code",
   "execution_count": 19,
   "metadata": {
    "ExecuteTime": {
     "end_time": "2017-09-21T16:41:58.779000Z",
     "start_time": "2017-09-21T12:41:57.570000-04:00"
    },
    "collapsed": true
   },
   "outputs": [],
   "source": [
    "delta_velocity_only = lambda t: deltaturnsolver(t)[0]\n",
    "t_zero_delta = fsolve(delta_velocity_only, 60)"
   ]
  },
  {
   "cell_type": "code",
   "execution_count": 20,
   "metadata": {
    "ExecuteTime": {
     "end_time": "2017-09-21T16:41:58.790000Z",
     "start_time": "2017-09-21T12:41:58.782000-04:00"
    }
   },
   "outputs": [
    {
     "data": {
      "text/plain": [
       "array([ 115.07624814])"
      ]
     },
     "execution_count": 20,
     "metadata": {},
     "output_type": "execute_result"
    }
   ],
   "source": [
    "t_zero_delta"
   ]
  },
  {
   "cell_type": "markdown",
   "metadata": {},
   "source": [
    "Let's verify that final velocity and angle are indeed 0 and $\\pi$:"
   ]
  },
  {
   "cell_type": "code",
   "execution_count": 21,
   "metadata": {
    "ExecuteTime": {
     "end_time": "2017-09-21T16:41:58.873000Z",
     "start_time": "2017-09-21T12:41:58.796000-04:00"
    }
   },
   "outputs": [
    {
     "data": {
      "text/plain": [
       "array([ -1.39710479e-06,   1.57079633e+00])"
      ]
     },
     "execution_count": 21,
     "metadata": {},
     "output_type": "execute_result"
    }
   ],
   "source": [
    "deltaturnsolver(t_zero_delta)"
   ]
  },
  {
   "cell_type": "code",
   "execution_count": 22,
   "metadata": {
    "ExecuteTime": {
     "end_time": "2017-09-21T16:41:58.950000Z",
     "start_time": "2017-09-21T12:41:58.876000-04:00"
    },
    "collapsed": true
   },
   "outputs": [],
   "source": [
    "t = np.linspace(0, t_zero_delta, 1000)\n",
    "yout = odeint(delta_gravityturn, [vfinal, gfinal], t, args=(g,F,m,t_zero_delta))\n",
    "v_delta,gamma_delta = yout.transpose()"
   ]
  },
  {
   "cell_type": "code",
   "execution_count": 23,
   "metadata": {
    "ExecuteTime": {
     "end_time": "2017-09-21T16:41:59.241000Z",
     "start_time": "2017-09-21T12:41:58.953000-04:00"
    }
   },
   "outputs": [
    {
     "data": {
      "image/png": "[encoded data removed]",
      "text/plain": [
       "<matplotlib.figure.Figure at 0xa05e1d0>"
      ]
     },
     "metadata": {},
     "output_type": "display_data"
    }
   ],
   "source": [
    "plt.plot(np.rad2deg(np.pi/2-gamma_simple), v_simple);\n",
    "plt.plot(np.rad2deg(np.pi/2-gamma_delta), v_delta);\n",
    "plt.ylabel('velocity [m/s]')\n",
    "plt.xlabel('gamma [degrees]')\n",
    "plt.legend(['constant acceleration','Delta II 7925'])\n",
    "plt.show()"
   ]
  },
  {
   "cell_type": "markdown",
   "metadata": {},
   "source": [
    "### Gravity losses\n",
    "Defined as $\\int_{0}^{t_f} g\\cdot sin(\\gamma)$"
   ]
  },
  {
   "cell_type": "code",
   "execution_count": 24,
   "metadata": {
    "ExecuteTime": {
     "end_time": "2017-09-21T16:41:59.254000Z",
     "start_time": "2017-09-21T12:41:59.245000-04:00"
    }
   },
   "outputs": [
    {
     "data": {
      "text/plain": [
       "822.08631999177169"
      ]
     },
     "execution_count": 24,
     "metadata": {},
     "output_type": "execute_result"
    }
   ],
   "source": [
    "trapz(g*np.sin(gamma_delta), t)"
   ]
  },
  {
   "cell_type": "markdown",
   "metadata": {},
   "source": [
    "Hence we find $\\Delta v_{g} = 822 m/s$"
   ]
  },
  {
   "cell_type": "markdown",
   "metadata": {},
   "source": [
    "## Drag"
   ]
  },
  {
   "cell_type": "markdown",
   "metadata": {},
   "source": [
    "To account for drag we will need to add a model of the atmosphere which we will assume isothermal, aka:\n",
    "\n",
    "$ \\rho = \\rho_0 e^{\\frac{-z}{H}}$\n",
    "\n",
    "With $\\rho_0 = 1.225 kg/m^{3}$ and $H=\\frac{RT}{g}$"
   ]
  },
  {
   "cell_type": "code",
   "execution_count": 25,
   "metadata": {
    "ExecuteTime": {
     "end_time": "2017-09-21T16:41:59.264000Z",
     "start_time": "2017-09-21T12:41:59.258000-04:00"
    },
    "collapsed": true
   },
   "outputs": [],
   "source": [
    "R = 287\n",
    "T = 290\n",
    "H = R*T/g\n",
    "rho0 = 1.225"
   ]
  },
  {
   "cell_type": "markdown",
   "metadata": {},
   "source": [
    "And drag specific constants:"
   ]
  },
  {
   "cell_type": "code",
   "execution_count": 26,
   "metadata": {
    "ExecuteTime": {
     "end_time": "2017-09-21T16:41:59.278000Z",
     "start_time": "2017-09-21T12:41:59.270000-04:00"
    },
    "collapsed": true
   },
   "outputs": [],
   "source": [
    "CD = 0.2\n",
    "area = lambda D: np.pi*(D/2)**2\n",
    "D_base = 2.438\n",
    "D_wide = 2.896"
   ]
  },
  {
   "cell_type": "markdown",
   "metadata": {},
   "source": [
    "Area for drag being average cross section areas"
   ]
  },
  {
   "cell_type": "code",
   "execution_count": 27,
   "metadata": {
    "ExecuteTime": {
     "end_time": "2017-09-21T16:41:59.290000Z",
     "start_time": "2017-09-21T12:41:59.283000-04:00"
    }
   },
   "outputs": [],
   "source": [
    "A_base = area(D_base)\n",
    "A_wide = area(D_wide)"
   ]
  },
  {
   "cell_type": "code",
   "execution_count": 28,
   "metadata": {
    "ExecuteTime": {
     "end_time": "2017-09-21T16:41:59.301000Z",
     "start_time": "2017-09-21T12:41:59.295000-04:00"
    }
   },
   "outputs": [],
   "source": [
    "A = 0.5*(A_wide+A_base)"
   ]
  },
  {
   "cell_type": "markdown",
   "metadata": {},
   "source": [
    "### ODE formulation\n",
    "\n",
    "This time we need to add altitude as a variable to our ode, as we need to calculate the density with altitude:"
   ]
  },
  {
   "cell_type": "code",
   "execution_count": 29,
   "metadata": {
    "ExecuteTime": {
     "end_time": "2017-09-21T16:41:59.317000Z",
     "start_time": "2017-09-21T12:41:59.307000-04:00"
    },
    "collapsed": true
   },
   "outputs": [],
   "source": [
    "def drag_gravityturn(y, t, g, F, m, tf):\n",
    "    v, gamma, z = y\n",
    "    rho = rho0*np.exp(-z/H)\n",
    "    dvdt = -F(tf-t)/m(tf-t)+g*np.sin(gamma)+0.5*CD*A*rho*v**2/m(tf-t)\n",
    "    dgammadt = g*np.cos(gamma)/v\n",
    "    dzdt = -v*np.sin(gamma)\n",
    "    dydt = [dvdt, dgammadt, dzdt]\n",
    "    return dydt"
   ]
  },
  {
   "cell_type": "code",
   "execution_count": 30,
   "metadata": {
    "ExecuteTime": {
     "end_time": "2017-09-21T16:41:59.330000Z",
     "start_time": "2017-09-21T12:41:59.322000-04:00"
    },
    "collapsed": true
   },
   "outputs": [],
   "source": [
    "dragsolver = lambda t, z: odeint(drag_gravityturn, [vfinal, gfinal, z], [0,t], args=(g,F,m,t))[1,:]"
   ]
  },
  {
   "cell_type": "markdown",
   "metadata": {},
   "source": [
    "To find the initial conditions we don't only need to find the right final time, but also the right final altitude:"
   ]
  },
  {
   "cell_type": "code",
   "execution_count": 38,
   "metadata": {
    "ExecuteTime": {
     "end_time": "2017-09-21T16:42:18.139000Z",
     "start_time": "2017-09-21T12:42:14.173000-04:00"
    }
   },
   "outputs": [],
   "source": [
    "z_final_guess = 60000\n",
    "t_final_guess = 50\n",
    "velocity_only = lambda x: dragsolver(x[0], x[1])[[0,2]]\n",
    "t_final_drag, z_final_drag = fsolve(velocity_only, np.array([t_final_guess, z_final_guess]))"
   ]
  },
  {
   "cell_type": "markdown",
   "metadata": {},
   "source": [
    "Let's just verify that the time and altitude do converge to zero:"
   ]
  },
  {
   "cell_type": "code",
   "execution_count": 39,
   "metadata": {
    "ExecuteTime": {
     "end_time": "2017-09-21T16:42:47.126000Z",
     "start_time": "2017-09-21T12:42:47.031000-04:00"
    }
   },
   "outputs": [
    {
     "data": {
      "text/plain": [
       "array([ -7.98881116e-06,   3.23405707e-04])"
      ]
     },
     "execution_count": 39,
     "metadata": {},
     "output_type": "execute_result"
    }
   ],
   "source": [
    "velocity_only((t_final_drag, z_final_drag))"
   ]
  },
  {
   "cell_type": "markdown",
   "metadata": {},
   "source": [
    "And let's also verify that we haven't gone beyond the 129 seconds at which point we would have to expand or mass model:"
   ]
  },
  {
   "cell_type": "code",
   "execution_count": 32,
   "metadata": {
    "ExecuteTime": {
     "end_time": "2017-09-21T16:42:03.900000Z",
     "start_time": "2017-09-21T12:42:03.885000-04:00"
    }
   },
   "outputs": [
    {
     "data": {
      "text/plain": [
       "(116.43188361360917, 41080.76908775905)"
      ]
     },
     "execution_count": 32,
     "metadata": {},
     "output_type": "execute_result"
    }
   ],
   "source": [
    "t_final_drag, z_final_drag"
   ]
  },
  {
   "cell_type": "markdown",
   "metadata": {},
   "source": [
    "Phew, we are all good! We can now get all our variables of interest:"
   ]
  },
  {
   "cell_type": "code",
   "execution_count": 33,
   "metadata": {
    "ExecuteTime": {
     "end_time": "2017-09-21T16:42:04.035000Z",
     "start_time": "2017-09-21T12:42:03.907000-04:00"
    }
   },
   "outputs": [],
   "source": [
    "t = np.linspace(0, t_final_drag, 1000)\n",
    "v_drag,gamma_drag,z = odeint(drag_gravityturn, \n",
    "                             [vfinal, gfinal, z_final_drag], t, args=(g,F,m,t_final_drag)).transpose()"
   ]
  },
  {
   "cell_type": "markdown",
   "metadata": {},
   "source": [
    "### Gravity losses\n",
    "\n",
    "Defined as $\\int_{0}^{t_f} \\frac{0.5 C_D A\\rho v^{2}}{M}$"
   ]
  },
  {
   "cell_type": "code",
   "execution_count": 34,
   "metadata": {
    "ExecuteTime": {
     "end_time": "2017-09-21T16:42:04.043000Z",
     "start_time": "2017-09-21T12:42:04.039000-04:00"
    },
    "collapsed": true
   },
   "outputs": [],
   "source": [
    "rho = rho0*np.exp(-z/H)"
   ]
  },
  {
   "cell_type": "code",
   "execution_count": 35,
   "metadata": {
    "ExecuteTime": {
     "end_time": "2017-09-21T16:42:04.057000Z",
     "start_time": "2017-09-21T12:42:04.048000-04:00"
    }
   },
   "outputs": [
    {
     "data": {
      "text/plain": [
       "22.287838460335081"
      ]
     },
     "execution_count": 35,
     "metadata": {},
     "output_type": "execute_result"
    }
   ],
   "source": [
    "trapz(0.5*CD*A*rho*v_drag**2/m(t), t)"
   ]
  },
  {
   "cell_type": "markdown",
   "metadata": {
    "ExecuteTime": {
     "end_time": "2017-09-21T16:37:25.322000Z",
     "start_time": "2017-09-21T12:37:25.313000-04:00"
    }
   },
   "source": [
    "Hence we find $\\Delta v_{drag} = 22.28 m/s$"
   ]
  },
  {
   "cell_type": "markdown",
   "metadata": {},
   "source": [
    "### Gravity losses\n",
    "\n",
    "Just for fun:"
   ]
  },
  {
   "cell_type": "code",
   "execution_count": 36,
   "metadata": {
    "ExecuteTime": {
     "end_time": "2017-09-21T16:42:04.074000Z",
     "start_time": "2017-09-21T12:42:04.064000-04:00"
    }
   },
   "outputs": [
    {
     "data": {
      "text/plain": [
       "834.61650523061826"
      ]
     },
     "execution_count": 36,
     "metadata": {},
     "output_type": "execute_result"
    }
   ],
   "source": [
    "trapz(g*np.sin(gamma_drag), t)"
   ]
  },
  {
   "cell_type": "markdown",
   "metadata": {
    "ExecuteTime": {
     "end_time": "2017-09-21T16:38:33.398000Z",
     "start_time": "2017-09-21T12:38:33.390000-04:00"
    }
   },
   "source": [
    "Hence we find that when we include drag $\\Delta v_{g} = 834.6 m/s$.\n",
    "\n",
    "And to wrap it all up let's just compare all the models:"
   ]
  },
  {
   "cell_type": "code",
   "execution_count": 37,
   "metadata": {
    "ExecuteTime": {
     "end_time": "2017-09-21T16:42:04.360000Z",
     "start_time": "2017-09-21T12:42:04.078000-04:00"
    }
   },
   "outputs": [
    {
     "data": {
      "image/png": "[encoded data removed]",
      "text/plain": [
       "<matplotlib.figure.Figure at 0xa219ef0>"
      ]
     },
     "metadata": {},
     "output_type": "display_data"
    }
   ],
   "source": [
    "plt.plot(np.rad2deg(np.pi/2-gamma_simple), v_simple);\n",
    "plt.plot(np.rad2deg(np.pi/2-gamma_delta), v_delta);\n",
    "plt.plot(np.rad2deg(np.pi/2-gamma_drag), v_drag);\n",
    "plt.ylabel('velocity [m/s]')\n",
    "plt.xlabel('gamma [degrees]')\n",
    "plt.legend(['constant acceleration','Delta II 7925', 'Delta II 7925 with drag']);\n",
    "plt.show()"
   ]
  }
 ],
 "metadata": {
  "kernelspec": {
   "display_name": "Python 2",
   "language": "python",
   "name": "python2"
  },
  "language_info": {
   "codemirror_mode": {
    "name": "ipython",
    "version": 2
   },
   "file_extension": ".py",
   "mimetype": "text/x-python",
   "name": "python",
   "nbconvert_exporter": "python",
   "pygments_lexer": "ipython2",
   "version": "2.7.12"
  },
  "toc": {
   "colors": {
    "hover_highlight": "#DAA520",
    "navigate_num": "#000000",
    "navigate_text": "#333333",
    "running_highlight": "#FF0000",
    "selected_highlight": "#FFD700",
    "sidebar_border": "#EEEEEE",
    "wrapper_background": "#FFFFFF"
   },
   "moveMenuLeft": true,
   "nav_menu": {
    "height": "105px",
    "width": "252px"
   },
   "navigate_menu": true,
   "number_sections": true,
   "sideBar": true,
   "threshold": 4,
   "toc_cell": false,
   "toc_section_display": "block",
   "toc_window_display": false,
   "widenNotebook": false
  }
 },
 "nbformat": 4,
 "nbformat_minor": 2
}
