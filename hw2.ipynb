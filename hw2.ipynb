{
 "cells": [
  {
   "cell_type": "markdown",
   "metadata": {},
   "source": [
    "Gravity turn gives us the following ODE:\n",
    "\n",
    "$\\begin{align}\n",
    "\\frac{dv}{dt} &= g(n-sin(\\gamma)) \\\\\n",
    "\\frac{d\\gamma}{dt} &= -\\frac{1}{v}g\\cdot cos(\\gamma)\n",
    "\\end{align}$\n",
    "\n",
    "With $n=\\frac{a}{g}$\n"
   ]
  },
  {
   "cell_type": "markdown",
   "metadata": {},
   "source": [
    "## Numerical solving"
   ]
  },
  {
   "cell_type": "markdown",
   "metadata": {},
   "source": [
    "Problem with solving this is that if we start with a vertical rocket at $\\gamma=90^{\\circ}, v=0 \\ m/s$, the set of equations obviously simplify to:\n",
    "\n",
    "$\\begin{align}\n",
    "\\frac{dv}{dt} &= gn \\\\\n",
    "\\frac{d\\gamma}{dt} &= -\\infty\n",
    "\\end{align}$\n",
    "\n",
    "Which of course makes no sense. In practicality what this all means is just that if we don't give the rocket an initial kick, it won't start to fall. \n",
    "We could always start with slightly perturbed initial conditions and solve numerically, but as it turns out, the ODE is very stiff and this wont do \n",
    "a very good job. What will work instead is starting from a known final angle and velocity, and build our way back to $\\gamma=90^{\\circ}, v=0 \\ m/s$.\n",
    "This is rather simple and only requires reversing the sign of the ODEs:\n",
    "\n",
    "$\\begin{align}\n",
    "\\frac{dv}{dt} &= -g(n-sin(\\gamma)) \\\\\n",
    "\\frac{d\\gamma}{dt} &= \\frac{1}{v}g\\cdot cos(\\gamma)\n",
    "\\end{align}$\n"
   ]
  },
  {
   "cell_type": "code",
   "execution_count": 156,
   "metadata": {
    "ExecuteTime": {
     "end_time": "2017-09-20T20:41:30.095000Z",
     "start_time": "2017-09-20T16:41:30.083000-04:00"
    }
   },
   "outputs": [],
   "source": [
    "from scipy.integrate import odeint, trapz, cumtrapz\n",
    "from scipy.optimize import fsolve\n",
    "import matplotlib.pyplot as plt\n",
    "%matplotlib notebook"
   ]
  },
  {
   "cell_type": "code",
   "execution_count": 4,
   "metadata": {
    "ExecuteTime": {
     "end_time": "2017-09-20T19:50:47.865000Z",
     "start_time": "2017-09-20T15:50:47.860000-04:00"
    },
    "collapsed": true
   },
   "outputs": [],
   "source": [
    "from astropy.constants import g0 #gravitational constant"
   ]
  },
  {
   "cell_type": "code",
   "execution_count": 131,
   "metadata": {
    "ExecuteTime": {
     "end_time": "2017-09-20T20:31:48.938000Z",
     "start_time": "2017-09-20T16:31:48.930000-04:00"
    },
    "collapsed": true
   },
   "outputs": [],
   "source": [
    "def simple_gravityturn(y, t, g, n):\n",
    "    v, gamma = y\n",
    "    dvdt = -g*(n-np.sin(gamma))\n",
    "    dgammadt = g*np.cos(gamma)/v\n",
    "    dydt = [dvdt, dgammadt]\n",
    "    return dydt"
   ]
  },
  {
   "cell_type": "code",
   "execution_count": 181,
   "metadata": {
    "ExecuteTime": {
     "end_time": "2017-09-20T22:19:35.872000Z",
     "start_time": "2017-09-20T18:19:35.852000-04:00"
    },
    "collapsed": true
   },
   "outputs": [],
   "source": [
    "def simple_gravityturn_forwards(y, t, g, n):\n",
    "    v, gamma = y\n",
    "    dvdt = g*(n-np.sin(gamma))\n",
    "    dgammadt = -g*np.cos(gamma)/v\n",
    "    dydt = [dvdt, dgammadt]\n",
    "    return dydt"
   ]
  },
  {
   "cell_type": "markdown",
   "metadata": {},
   "source": [
    "## Constant acceleration"
   ]
  },
  {
   "cell_type": "markdown",
   "metadata": {},
   "source": [
    "Assuming g=9.81, n=3, $\\gamma_{final}=20^{\\circ}, v_{final}=1,500m/s$"
   ]
  },
  {
   "cell_type": "code",
   "execution_count": 132,
   "metadata": {
    "ExecuteTime": {
     "end_time": "2017-09-20T20:31:49.830000Z",
     "start_time": "2017-09-20T16:31:49.825000-04:00"
    },
    "collapsed": true
   },
   "outputs": [],
   "source": [
    "g = 9.81\n",
    "n = 3\n",
    "gfinal = np.deg2rad(20)\n",
    "vfinal = 1500"
   ]
  },
  {
   "cell_type": "markdown",
   "metadata": {},
   "source": [
    "We will use one pyhtons ODE solvers: odeint"
   ]
  },
  {
   "cell_type": "code",
   "execution_count": 134,
   "metadata": {
    "ExecuteTime": {
     "end_time": "2017-09-20T20:33:10.787000Z",
     "start_time": "2017-09-20T16:33:10.780000-04:00"
    }
   },
   "outputs": [],
   "source": [
    "turnsolver = lambda t : odeint(simple_gravityturn, [vfinal, gfinal], [0,t], args=(g,n))[1,:]"
   ]
  },
  {
   "cell_type": "markdown",
   "metadata": {},
   "source": [
    "If be backwards solve the original ODEs over 10 seconds we get:"
   ]
  },
  {
   "cell_type": "code",
   "execution_count": 135,
   "metadata": {
    "ExecuteTime": {
     "end_time": "2017-09-20T20:33:32.109000Z",
     "start_time": "2017-09-20T16:33:32.100000-04:00"
    }
   },
   "outputs": [
    {
     "data": {
      "text/plain": [
       "array([  1.24221367e+03,   4.15652097e-01])"
      ]
     },
     "execution_count": 135,
     "metadata": {},
     "output_type": "execute_result"
    }
   ],
   "source": [
    "turnsolver(10)"
   ]
  },
  {
   "cell_type": "markdown",
   "metadata": {},
   "source": [
    "As expected, the velocity is going down, and so it the angle. But when do we reach zero? Let's use fsolve:"
   ]
  },
  {
   "cell_type": "code",
   "execution_count": 136,
   "metadata": {
    "ExecuteTime": {
     "end_time": "2017-09-20T20:34:21.025000Z",
     "start_time": "2017-09-20T16:34:21.004000-04:00"
    }
   },
   "outputs": [],
   "source": [
    "velocity_only = lambda t: turnsolver(t)[0]\n",
    "tzero = fsolve(velocity_only, 60)"
   ]
  },
  {
   "cell_type": "code",
   "execution_count": 137,
   "metadata": {
    "ExecuteTime": {
     "end_time": "2017-09-20T20:34:25.401000Z",
     "start_time": "2017-09-20T16:34:25.393000-04:00"
    }
   },
   "outputs": [
    {
     "data": {
      "text/plain": [
       "array([ 63.8765345])"
      ]
     },
     "execution_count": 137,
     "metadata": {},
     "output_type": "execute_result"
    }
   ],
   "source": [
    "tzero"
   ]
  },
  {
   "cell_type": "markdown",
   "metadata": {
    "ExecuteTime": {
     "end_time": "2017-09-20T20:26:26.876000Z",
     "start_time": "2017-09-20T16:26:26.870000-04:00"
    }
   },
   "source": [
    "We can now get the full trajectory:"
   ]
  },
  {
   "cell_type": "code",
   "execution_count": 160,
   "metadata": {
    "ExecuteTime": {
     "end_time": "2017-09-20T20:43:34.051000Z",
     "start_time": "2017-09-20T16:43:34.039000-04:00"
    }
   },
   "outputs": [],
   "source": [
    "t = np.linspace(0, tzero, 1000)\n",
    "yout = odeint(simple_gravityturn, [vfinal, gfinal], t, args=(g,n))\n",
    "v,gamma = yout.transpose()"
   ]
  },
  {
   "cell_type": "code",
   "execution_count": 167,
   "metadata": {
    "ExecuteTime": {
     "end_time": "2017-09-20T20:50:04.493000Z",
     "start_time": "2017-09-20T16:50:04.397000-04:00"
    }
   },
   "outputs": [
    {
     "data": {
      "application/javascript": [
       "/* Put everything inside the global mpl namespace */\n",
       "window.mpl = {};\n",
       "\n",
       "\n",
       "mpl.get_websocket_type = function() {\n",
       "    if (typeof(WebSocket) !== 'undefined') {\n",
       "        return WebSocket;\n",
       "    } else if (typeof(MozWebSocket) !== 'undefined') {\n",
       "        return MozWebSocket;\n",
       "    } else {\n",
       "        alert('Your browser does not have WebSocket support.' +\n",
       "              'Please try Chrome, Safari or Firefox ≥ 6. ' +\n",
       "              'Firefox 4 and 5 are also supported but you ' +\n",
       "              'have to enable WebSockets in about:config.');\n",
       "    };\n",
       "}\n",
       "\n",
       "mpl.figure = function(figure_id, websocket, ondownload, parent_element) {\n",
       "    this.id = figure_id;\n",
       "\n",
       "    this.ws = websocket;\n",
       "\n",
       "    this.supports_binary = (this.ws.binaryType != undefined);\n",
       "\n",
       "    if (!this.supports_binary) {\n",
       "        var warnings = document.getElementById(\"mpl-warnings\");\n",
       "        if (warnings) {\n",
       "            warnings.style.display = 'block';\n",
       "            warnings.textContent = (\n",
       "                \"This browser does not support binary websocket messages. \" +\n",
       "                    \"Performance may be slow.\");\n",
       "        }\n",
       "    }\n",
       "\n",
       "    this.imageObj = new Image();\n",
       "\n",
       "    this.context = undefined;\n",
       "    this.message = undefined;\n",
       "    this.canvas = undefined;\n",
       "    this.rubberband_canvas = undefined;\n",
       "    this.rubberband_context = undefined;\n",
       "    this.format_dropdown = undefined;\n",
       "\n",
       "    this.image_mode = 'full';\n",
       "\n",
       "    this.root = $('<div/>');\n",
       "    this._root_extra_style(this.root)\n",
       "    this.root.attr('style', 'display: inline-block');\n",
       "\n",
       "    $(parent_element).append(this.root);\n",
       "\n",
       "    this._init_header(this);\n",
       "    this._init_canvas(this);\n",
       "    this._init_toolbar(this);\n",
       "\n",
       "    var fig = this;\n",
       "\n",
       "    this.waiting = false;\n",
       "\n",
       "    this.ws.onopen =  function () {\n",
       "            fig.send_message(\"supports_binary\", {value: fig.supports_binary});\n",
       "            fig.send_message(\"send_image_mode\", {});\n",
       "            if (mpl.ratio != 1) {\n",
       "                fig.send_message(\"set_dpi_ratio\", {'dpi_ratio': mpl.ratio});\n",
       "            }\n",
       "            fig.send_message(\"refresh\", {});\n",
       "        }\n",
       "\n",
       "    this.imageObj.onload = function() {\n",
       "            if (fig.image_mode == 'full') {\n",
       "                // Full images could contain transparency (where diff images\n",
       "                // almost always do), so we need to clear the canvas so that\n",
       "                // there is no ghosting.\n",
       "                fig.context.clearRect(0, 0, fig.canvas.width, fig.canvas.height);\n",
       "            }\n",
       "            fig.context.drawImage(fig.imageObj, 0, 0);\n",
       "        };\n",
       "\n",
       "    this.imageObj.onunload = function() {\n",
       "        this.ws.close();\n",
       "    }\n",
       "\n",
       "    this.ws.onmessage = this._make_on_message_function(this);\n",
       "\n",
       "    this.ondownload = ondownload;\n",
       "}\n",
       "\n",
       "mpl.figure.prototype._init_header = function() {\n",
       "    var titlebar = $(\n",
       "        '<div class=\"ui-dialog-titlebar ui-widget-header ui-corner-all ' +\n",
       "        'ui-helper-clearfix\"/>');\n",
       "    var titletext = $(\n",
       "        '<div class=\"ui-dialog-title\" style=\"width: 100%; ' +\n",
       "        'text-align: center; padding: 3px;\"/>');\n",
       "    titlebar.append(titletext)\n",
       "    this.root.append(titlebar);\n",
       "    this.header = titletext[0];\n",
       "}\n",
       "\n",
       "\n",
       "\n",
       "mpl.figure.prototype._canvas_extra_style = function(canvas_div) {\n",
       "\n",
       "}\n",
       "\n",
       "\n",
       "mpl.figure.prototype._root_extra_style = function(canvas_div) {\n",
       "\n",
       "}\n",
       "\n",
       "mpl.figure.prototype._init_canvas = function() {\n",
       "    var fig = this;\n",
       "\n",
       "    var canvas_div = $('<div/>');\n",
       "\n",
       "    canvas_div.attr('style', 'position: relative; clear: both; outline: 0');\n",
       "\n",
       "    function canvas_keyboard_event(event) {\n",
       "        return fig.key_event(event, event['data']);\n",
       "    }\n",
       "\n",
       "    canvas_div.keydown('key_press', canvas_keyboard_event);\n",
       "    canvas_div.keyup('key_release', canvas_keyboard_event);\n",
       "    this.canvas_div = canvas_div\n",
       "    this._canvas_extra_style(canvas_div)\n",
       "    this.root.append(canvas_div);\n",
       "\n",
       "    var canvas = $('<canvas/>');\n",
       "    canvas.addClass('mpl-canvas');\n",
       "    canvas.attr('style', \"left: 0; top: 0; z-index: 0; outline: 0\")\n",
       "\n",
       "    this.canvas = canvas[0];\n",
       "    this.context = canvas[0].getContext(\"2d\");\n",
       "\n",
       "    var backingStore = this.context.backingStorePixelRatio ||\n",
       "\tthis.context.webkitBackingStorePixelRatio ||\n",
       "\tthis.context.mozBackingStorePixelRatio ||\n",
       "\tthis.context.msBackingStorePixelRatio ||\n",
       "\tthis.context.oBackingStorePixelRatio ||\n",
       "\tthis.context.backingStorePixelRatio || 1;\n",
       "\n",
       "    mpl.ratio = (window.devicePixelRatio || 1) / backingStore;\n",
       "\n",
       "    var rubberband = $('<canvas/>');\n",
       "    rubberband.attr('style', \"position: absolute; left: 0; top: 0; z-index: 1;\")\n",
       "\n",
       "    var pass_mouse_events = true;\n",
       "\n",
       "    canvas_div.resizable({\n",
       "        start: function(event, ui) {\n",
       "            pass_mouse_events = false;\n",
       "        },\n",
       "        resize: function(event, ui) {\n",
       "            fig.request_resize(ui.size.width, ui.size.height);\n",
       "        },\n",
       "        stop: function(event, ui) {\n",
       "            pass_mouse_events = true;\n",
       "            fig.request_resize(ui.size.width, ui.size.height);\n",
       "        },\n",
       "    });\n",
       "\n",
       "    function mouse_event_fn(event) {\n",
       "        if (pass_mouse_events)\n",
       "            return fig.mouse_event(event, event['data']);\n",
       "    }\n",
       "\n",
       "    rubberband.mousedown('button_press', mouse_event_fn);\n",
       "    rubberband.mouseup('button_release', mouse_event_fn);\n",
       "    // Throttle sequential mouse events to 1 every 20ms.\n",
       "    rubberband.mousemove('motion_notify', mouse_event_fn);\n",
       "\n",
       "    rubberband.mouseenter('figure_enter', mouse_event_fn);\n",
       "    rubberband.mouseleave('figure_leave', mouse_event_fn);\n",
       "\n",
       "    canvas_div.on(\"wheel\", function (event) {\n",
       "        event = event.originalEvent;\n",
       "        event['data'] = 'scroll'\n",
       "        if (event.deltaY < 0) {\n",
       "            event.step = 1;\n",
       "        } else {\n",
       "            event.step = -1;\n",
       "        }\n",
       "        mouse_event_fn(event);\n",
       "    });\n",
       "\n",
       "    canvas_div.append(canvas);\n",
       "    canvas_div.append(rubberband);\n",
       "\n",
       "    this.rubberband = rubberband;\n",
       "    this.rubberband_canvas = rubberband[0];\n",
       "    this.rubberband_context = rubberband[0].getContext(\"2d\");\n",
       "    this.rubberband_context.strokeStyle = \"#000000\";\n",
       "\n",
       "    this._resize_canvas = function(width, height) {\n",
       "        // Keep the size of the canvas, canvas container, and rubber band\n",
       "        // canvas in synch.\n",
       "        canvas_div.css('width', width)\n",
       "        canvas_div.css('height', height)\n",
       "\n",
       "        canvas.attr('width', width * mpl.ratio);\n",
       "        canvas.attr('height', height * mpl.ratio);\n",
       "        canvas.attr('style', 'width: ' + width + 'px; height: ' + height + 'px;');\n",
       "\n",
       "        rubberband.attr('width', width);\n",
       "        rubberband.attr('height', height);\n",
       "    }\n",
       "\n",
       "    // Set the figure to an initial 600x600px, this will subsequently be updated\n",
       "    // upon first draw.\n",
       "    this._resize_canvas(600, 600);\n",
       "\n",
       "    // Disable right mouse context menu.\n",
       "    $(this.rubberband_canvas).bind(\"contextmenu\",function(e){\n",
       "        return false;\n",
       "    });\n",
       "\n",
       "    function set_focus () {\n",
       "        canvas.focus();\n",
       "        canvas_div.focus();\n",
       "    }\n",
       "\n",
       "    window.setTimeout(set_focus, 100);\n",
       "}\n",
       "\n",
       "mpl.figure.prototype._init_toolbar = function() {\n",
       "    var fig = this;\n",
       "\n",
       "    var nav_element = $('<div/>')\n",
       "    nav_element.attr('style', 'width: 100%');\n",
       "    this.root.append(nav_element);\n",
       "\n",
       "    // Define a callback function for later on.\n",
       "    function toolbar_event(event) {\n",
       "        return fig.toolbar_button_onclick(event['data']);\n",
       "    }\n",
       "    function toolbar_mouse_event(event) {\n",
       "        return fig.toolbar_button_onmouseover(event['data']);\n",
       "    }\n",
       "\n",
       "    for(var toolbar_ind in mpl.toolbar_items) {\n",
       "        var name = mpl.toolbar_items[toolbar_ind][0];\n",
       "        var tooltip = mpl.toolbar_items[toolbar_ind][1];\n",
       "        var image = mpl.toolbar_items[toolbar_ind][2];\n",
       "        var method_name = mpl.toolbar_items[toolbar_ind][3];\n",
       "\n",
       "        if (!name) {\n",
       "            // put a spacer in here.\n",
       "            continue;\n",
       "        }\n",
       "        var button = $('<button/>');\n",
       "        button.addClass('ui-button ui-widget ui-state-default ui-corner-all ' +\n",
       "                        'ui-button-icon-only');\n",
       "        button.attr('role', 'button');\n",
       "        button.attr('aria-disabled', 'false');\n",
       "        button.click(method_name, toolbar_event);\n",
       "        button.mouseover(tooltip, toolbar_mouse_event);\n",
       "\n",
       "        var icon_img = $('<span/>');\n",
       "        icon_img.addClass('ui-button-icon-primary ui-icon');\n",
       "        icon_img.addClass(image);\n",
       "        icon_img.addClass('ui-corner-all');\n",
       "\n",
       "        var tooltip_span = $('<span/>');\n",
       "        tooltip_span.addClass('ui-button-text');\n",
       "        tooltip_span.html(tooltip);\n",
       "\n",
       "        button.append(icon_img);\n",
       "        button.append(tooltip_span);\n",
       "\n",
       "        nav_element.append(button);\n",
       "    }\n",
       "\n",
       "    var fmt_picker_span = $('<span/>');\n",
       "\n",
       "    var fmt_picker = $('<select/>');\n",
       "    fmt_picker.addClass('mpl-toolbar-option ui-widget ui-widget-content');\n",
       "    fmt_picker_span.append(fmt_picker);\n",
       "    nav_element.append(fmt_picker_span);\n",
       "    this.format_dropdown = fmt_picker[0];\n",
       "\n",
       "    for (var ind in mpl.extensions) {\n",
       "        var fmt = mpl.extensions[ind];\n",
       "        var option = $(\n",
       "            '<option/>', {selected: fmt === mpl.default_extension}).html(fmt);\n",
       "        fmt_picker.append(option)\n",
       "    }\n",
       "\n",
       "    // Add hover states to the ui-buttons\n",
       "    $( \".ui-button\" ).hover(\n",
       "        function() { $(this).addClass(\"ui-state-hover\");},\n",
       "        function() { $(this).removeClass(\"ui-state-hover\");}\n",
       "    );\n",
       "\n",
       "    var status_bar = $('<span class=\"mpl-message\"/>');\n",
       "    nav_element.append(status_bar);\n",
       "    this.message = status_bar[0];\n",
       "}\n",
       "\n",
       "mpl.figure.prototype.request_resize = function(x_pixels, y_pixels) {\n",
       "    // Request matplotlib to resize the figure. Matplotlib will then trigger a resize in the client,\n",
       "    // which will in turn request a refresh of the image.\n",
       "    this.send_message('resize', {'width': x_pixels, 'height': y_pixels});\n",
       "}\n",
       "\n",
       "mpl.figure.prototype.send_message = function(type, properties) {\n",
       "    properties['type'] = type;\n",
       "    properties['figure_id'] = this.id;\n",
       "    this.ws.send(JSON.stringify(properties));\n",
       "}\n",
       "\n",
       "mpl.figure.prototype.send_draw_message = function() {\n",
       "    if (!this.waiting) {\n",
       "        this.waiting = true;\n",
       "        this.ws.send(JSON.stringify({type: \"draw\", figure_id: this.id}));\n",
       "    }\n",
       "}\n",
       "\n",
       "\n",
       "mpl.figure.prototype.handle_save = function(fig, msg) {\n",
       "    var format_dropdown = fig.format_dropdown;\n",
       "    var format = format_dropdown.options[format_dropdown.selectedIndex].value;\n",
       "    fig.ondownload(fig, format);\n",
       "}\n",
       "\n",
       "\n",
       "mpl.figure.prototype.handle_resize = function(fig, msg) {\n",
       "    var size = msg['size'];\n",
       "    if (size[0] != fig.canvas.width || size[1] != fig.canvas.height) {\n",
       "        fig._resize_canvas(size[0], size[1]);\n",
       "        fig.send_message(\"refresh\", {});\n",
       "    };\n",
       "}\n",
       "\n",
       "mpl.figure.prototype.handle_rubberband = function(fig, msg) {\n",
       "    var x0 = msg['x0'] / mpl.ratio;\n",
       "    var y0 = (fig.canvas.height - msg['y0']) / mpl.ratio;\n",
       "    var x1 = msg['x1'] / mpl.ratio;\n",
       "    var y1 = (fig.canvas.height - msg['y1']) / mpl.ratio;\n",
       "    x0 = Math.floor(x0) + 0.5;\n",
       "    y0 = Math.floor(y0) + 0.5;\n",
       "    x1 = Math.floor(x1) + 0.5;\n",
       "    y1 = Math.floor(y1) + 0.5;\n",
       "    var min_x = Math.min(x0, x1);\n",
       "    var min_y = Math.min(y0, y1);\n",
       "    var width = Math.abs(x1 - x0);\n",
       "    var height = Math.abs(y1 - y0);\n",
       "\n",
       "    fig.rubberband_context.clearRect(\n",
       "        0, 0, fig.canvas.width, fig.canvas.height);\n",
       "\n",
       "    fig.rubberband_context.strokeRect(min_x, min_y, width, height);\n",
       "}\n",
       "\n",
       "mpl.figure.prototype.handle_figure_label = function(fig, msg) {\n",
       "    // Updates the figure title.\n",
       "    fig.header.textContent = msg['label'];\n",
       "}\n",
       "\n",
       "mpl.figure.prototype.handle_cursor = function(fig, msg) {\n",
       "    var cursor = msg['cursor'];\n",
       "    switch(cursor)\n",
       "    {\n",
       "    case 0:\n",
       "        cursor = 'pointer';\n",
       "        break;\n",
       "    case 1:\n",
       "        cursor = 'default';\n",
       "        break;\n",
       "    case 2:\n",
       "        cursor = 'crosshair';\n",
       "        break;\n",
       "    case 3:\n",
       "        cursor = 'move';\n",
       "        break;\n",
       "    }\n",
       "    fig.rubberband_canvas.style.cursor = cursor;\n",
       "}\n",
       "\n",
       "mpl.figure.prototype.handle_message = function(fig, msg) {\n",
       "    fig.message.textContent = msg['message'];\n",
       "}\n",
       "\n",
       "mpl.figure.prototype.handle_draw = function(fig, msg) {\n",
       "    // Request the server to send over a new figure.\n",
       "    fig.send_draw_message();\n",
       "}\n",
       "\n",
       "mpl.figure.prototype.handle_image_mode = function(fig, msg) {\n",
       "    fig.image_mode = msg['mode'];\n",
       "}\n",
       "\n",
       "mpl.figure.prototype.updated_canvas_event = function() {\n",
       "    // Called whenever the canvas gets updated.\n",
       "    this.send_message(\"ack\", {});\n",
       "}\n",
       "\n",
       "// A function to construct a web socket function for onmessage handling.\n",
       "// Called in the figure constructor.\n",
       "mpl.figure.prototype._make_on_message_function = function(fig) {\n",
       "    return function socket_on_message(evt) {\n",
       "        if (evt.data instanceof Blob) {\n",
       "            /* FIXME: We get \"Resource interpreted as Image but\n",
       "             * transferred with MIME type text/plain:\" errors on\n",
       "             * Chrome.  But how to set the MIME type?  It doesn't seem\n",
       "             * to be part of the websocket stream */\n",
       "            evt.data.type = \"image/png\";\n",
       "\n",
       "            /* Free the memory for the previous frames */\n",
       "            if (fig.imageObj.src) {\n",
       "                (window.URL || window.webkitURL).revokeObjectURL(\n",
       "                    fig.imageObj.src);\n",
       "            }\n",
       "\n",
       "            fig.imageObj.src = (window.URL || window.webkitURL).createObjectURL(\n",
       "                evt.data);\n",
       "            fig.updated_canvas_event();\n",
       "            fig.waiting = false;\n",
       "            return;\n",
       "        }\n",
       "        else if (typeof evt.data === 'string' && evt.data.slice(0, 21) == \"data:image/png;base64\") {\n",
       "            fig.imageObj.src = evt.data;\n",
       "            fig.updated_canvas_event();\n",
       "            fig.waiting = false;\n",
       "            return;\n",
       "        }\n",
       "\n",
       "        var msg = JSON.parse(evt.data);\n",
       "        var msg_type = msg['type'];\n",
       "\n",
       "        // Call the  \"handle_{type}\" callback, which takes\n",
       "        // the figure and JSON message as its only arguments.\n",
       "        try {\n",
       "            var callback = fig[\"handle_\" + msg_type];\n",
       "        } catch (e) {\n",
       "            console.log(\"No handler for the '\" + msg_type + \"' message type: \", msg);\n",
       "            return;\n",
       "        }\n",
       "\n",
       "        if (callback) {\n",
       "            try {\n",
       "                // console.log(\"Handling '\" + msg_type + \"' message: \", msg);\n",
       "                callback(fig, msg);\n",
       "            } catch (e) {\n",
       "                console.log(\"Exception inside the 'handler_\" + msg_type + \"' callback:\", e, e.stack, msg);\n",
       "            }\n",
       "        }\n",
       "    };\n",
       "}\n",
       "\n",
       "// from http://stackoverflow.com/questions/1114465/getting-mouse-location-in-canvas\n",
       "mpl.findpos = function(e) {\n",
       "    //this section is from http://www.quirksmode.org/js/events_properties.html\n",
       "    var targ;\n",
       "    if (!e)\n",
       "        e = window.event;\n",
       "    if (e.target)\n",
       "        targ = e.target;\n",
       "    else if (e.srcElement)\n",
       "        targ = e.srcElement;\n",
       "    if (targ.nodeType == 3) // defeat Safari bug\n",
       "        targ = targ.parentNode;\n",
       "\n",
       "    // jQuery normalizes the pageX and pageY\n",
       "    // pageX,Y are the mouse positions relative to the document\n",
       "    // offset() returns the position of the element relative to the document\n",
       "    var x = e.pageX - $(targ).offset().left;\n",
       "    var y = e.pageY - $(targ).offset().top;\n",
       "\n",
       "    return {\"x\": x, \"y\": y};\n",
       "};\n",
       "\n",
       "/*\n",
       " * return a copy of an object with only non-object keys\n",
       " * we need this to avoid circular references\n",
       " * http://stackoverflow.com/a/24161582/3208463\n",
       " */\n",
       "function simpleKeys (original) {\n",
       "  return Object.keys(original).reduce(function (obj, key) {\n",
       "    if (typeof original[key] !== 'object')\n",
       "        obj[key] = original[key]\n",
       "    return obj;\n",
       "  }, {});\n",
       "}\n",
       "\n",
       "mpl.figure.prototype.mouse_event = function(event, name) {\n",
       "    var canvas_pos = mpl.findpos(event)\n",
       "\n",
       "    if (name === 'button_press')\n",
       "    {\n",
       "        this.canvas.focus();\n",
       "        this.canvas_div.focus();\n",
       "    }\n",
       "\n",
       "    var x = canvas_pos.x * mpl.ratio;\n",
       "    var y = canvas_pos.y * mpl.ratio;\n",
       "\n",
       "    this.send_message(name, {x: x, y: y, button: event.button,\n",
       "                             step: event.step,\n",
       "                             guiEvent: simpleKeys(event)});\n",
       "\n",
       "    /* This prevents the web browser from automatically changing to\n",
       "     * the text insertion cursor when the button is pressed.  We want\n",
       "     * to control all of the cursor setting manually through the\n",
       "     * 'cursor' event from matplotlib */\n",
       "    event.preventDefault();\n",
       "    return false;\n",
       "}\n",
       "\n",
       "mpl.figure.prototype._key_event_extra = function(event, name) {\n",
       "    // Handle any extra behaviour associated with a key event\n",
       "}\n",
       "\n",
       "mpl.figure.prototype.key_event = function(event, name) {\n",
       "\n",
       "    // Prevent repeat events\n",
       "    if (name == 'key_press')\n",
       "    {\n",
       "        if (event.which === this._key)\n",
       "            return;\n",
       "        else\n",
       "            this._key = event.which;\n",
       "    }\n",
       "    if (name == 'key_release')\n",
       "        this._key = null;\n",
       "\n",
       "    var value = '';\n",
       "    if (event.ctrlKey && event.which != 17)\n",
       "        value += \"ctrl+\";\n",
       "    if (event.altKey && event.which != 18)\n",
       "        value += \"alt+\";\n",
       "    if (event.shiftKey && event.which != 16)\n",
       "        value += \"shift+\";\n",
       "\n",
       "    value += 'k';\n",
       "    value += event.which.toString();\n",
       "\n",
       "    this._key_event_extra(event, name);\n",
       "\n",
       "    this.send_message(name, {key: value,\n",
       "                             guiEvent: simpleKeys(event)});\n",
       "    return false;\n",
       "}\n",
       "\n",
       "mpl.figure.prototype.toolbar_button_onclick = function(name) {\n",
       "    if (name == 'download') {\n",
       "        this.handle_save(this, null);\n",
       "    } else {\n",
       "        this.send_message(\"toolbar_button\", {name: name});\n",
       "    }\n",
       "};\n",
       "\n",
       "mpl.figure.prototype.toolbar_button_onmouseover = function(tooltip) {\n",
       "    this.message.textContent = tooltip;\n",
       "};\n",
       "mpl.toolbar_items = [[\"Home\", \"Reset original view\", \"fa fa-home icon-home\", \"home\"], [\"Back\", \"Back to  previous view\", \"fa fa-arrow-left icon-arrow-left\", \"back\"], [\"Forward\", \"Forward to next view\", \"fa fa-arrow-right icon-arrow-right\", \"forward\"], [\"\", \"\", \"\", \"\"], [\"Pan\", \"Pan axes with left mouse, zoom with right\", \"fa fa-arrows icon-move\", \"pan\"], [\"Zoom\", \"Zoom to rectangle\", \"fa fa-square-o icon-check-empty\", \"zoom\"], [\"\", \"\", \"\", \"\"], [\"Download\", \"Download plot\", \"fa fa-floppy-o icon-save\", \"download\"]];\n",
       "\n",
       "mpl.extensions = [\"eps\", \"jpeg\", \"pdf\", \"png\", \"ps\", \"raw\", \"svg\", \"tif\"];\n",
       "\n",
       "mpl.default_extension = \"png\";var comm_websocket_adapter = function(comm) {\n",
       "    // Create a \"websocket\"-like object which calls the given IPython comm\n",
       "    // object with the appropriate methods. Currently this is a non binary\n",
       "    // socket, so there is still some room for performance tuning.\n",
       "    var ws = {};\n",
       "\n",
       "    ws.close = function() {\n",
       "        comm.close()\n",
       "    };\n",
       "    ws.send = function(m) {\n",
       "        //console.log('sending', m);\n",
       "        comm.send(m);\n",
       "    };\n",
       "    // Register the callback with on_msg.\n",
       "    comm.on_msg(function(msg) {\n",
       "        //console.log('receiving', msg['content']['data'], msg);\n",
       "        // Pass the mpl event to the overriden (by mpl) onmessage function.\n",
       "        ws.onmessage(msg['content']['data'])\n",
       "    });\n",
       "    return ws;\n",
       "}\n",
       "\n",
       "mpl.mpl_figure_comm = function(comm, msg) {\n",
       "    // This is the function which gets called when the mpl process\n",
       "    // starts-up an IPython Comm through the \"matplotlib\" channel.\n",
       "\n",
       "    var id = msg.content.data.id;\n",
       "    // Get hold of the div created by the display call when the Comm\n",
       "    // socket was opened in Python.\n",
       "    var element = $(\"#\" + id);\n",
       "    var ws_proxy = comm_websocket_adapter(comm)\n",
       "\n",
       "    function ondownload(figure, format) {\n",
       "        window.open(figure.imageObj.src);\n",
       "    }\n",
       "\n",
       "    var fig = new mpl.figure(id, ws_proxy,\n",
       "                           ondownload,\n",
       "                           element.get(0));\n",
       "\n",
       "    // Call onopen now - mpl needs it, as it is assuming we've passed it a real\n",
       "    // web socket which is closed, not our websocket->open comm proxy.\n",
       "    ws_proxy.onopen();\n",
       "\n",
       "    fig.parent_element = element.get(0);\n",
       "    fig.cell_info = mpl.find_output_cell(\"<div id='\" + id + \"'></div>\");\n",
       "    if (!fig.cell_info) {\n",
       "        console.error(\"Failed to find cell for figure\", id, fig);\n",
       "        return;\n",
       "    }\n",
       "\n",
       "    var output_index = fig.cell_info[2]\n",
       "    var cell = fig.cell_info[0];\n",
       "\n",
       "};\n",
       "\n",
       "mpl.figure.prototype.handle_close = function(fig, msg) {\n",
       "    var width = fig.canvas.width/mpl.ratio\n",
       "    fig.root.unbind('remove')\n",
       "\n",
       "    // Update the output cell to use the data from the current canvas.\n",
       "    fig.push_to_output();\n",
       "    var dataURL = fig.canvas.toDataURL();\n",
       "    // Re-enable the keyboard manager in IPython - without this line, in FF,\n",
       "    // the notebook keyboard shortcuts fail.\n",
       "    IPython.keyboard_manager.enable()\n",
       "    $(fig.parent_element).html('<img src=\"' + dataURL + '\" width=\"' + width + '\">');\n",
       "    fig.close_ws(fig, msg);\n",
       "}\n",
       "\n",
       "mpl.figure.prototype.close_ws = function(fig, msg){\n",
       "    fig.send_message('closing', msg);\n",
       "    // fig.ws.close()\n",
       "}\n",
       "\n",
       "mpl.figure.prototype.push_to_output = function(remove_interactive) {\n",
       "    // Turn the data on the canvas into data in the output cell.\n",
       "    var width = this.canvas.width/mpl.ratio\n",
       "    var dataURL = this.canvas.toDataURL();\n",
       "    this.cell_info[1]['text/html'] = '<img src=\"' + dataURL + '\" width=\"' + width + '\">';\n",
       "}\n",
       "\n",
       "mpl.figure.prototype.updated_canvas_event = function() {\n",
       "    // Tell IPython that the notebook contents must change.\n",
       "    IPython.notebook.set_dirty(true);\n",
       "    this.send_message(\"ack\", {});\n",
       "    var fig = this;\n",
       "    // Wait a second, then push the new image to the DOM so\n",
       "    // that it is saved nicely (might be nice to debounce this).\n",
       "    setTimeout(function () { fig.push_to_output() }, 1000);\n",
       "}\n",
       "\n",
       "mpl.figure.prototype._init_toolbar = function() {\n",
       "    var fig = this;\n",
       "\n",
       "    var nav_element = $('<div/>')\n",
       "    nav_element.attr('style', 'width: 100%');\n",
       "    this.root.append(nav_element);\n",
       "\n",
       "    // Define a callback function for later on.\n",
       "    function toolbar_event(event) {\n",
       "        return fig.toolbar_button_onclick(event['data']);\n",
       "    }\n",
       "    function toolbar_mouse_event(event) {\n",
       "        return fig.toolbar_button_onmouseover(event['data']);\n",
       "    }\n",
       "\n",
       "    for(var toolbar_ind in mpl.toolbar_items){\n",
       "        var name = mpl.toolbar_items[toolbar_ind][0];\n",
       "        var tooltip = mpl.toolbar_items[toolbar_ind][1];\n",
       "        var image = mpl.toolbar_items[toolbar_ind][2];\n",
       "        var method_name = mpl.toolbar_items[toolbar_ind][3];\n",
       "\n",
       "        if (!name) { continue; };\n",
       "\n",
       "        var button = $('<button class=\"btn btn-default\" href=\"#\" title=\"' + name + '\"><i class=\"fa ' + image + ' fa-lg\"></i></button>');\n",
       "        button.click(method_name, toolbar_event);\n",
       "        button.mouseover(tooltip, toolbar_mouse_event);\n",
       "        nav_element.append(button);\n",
       "    }\n",
       "\n",
       "    // Add the status bar.\n",
       "    var status_bar = $('<span class=\"mpl-message\" style=\"text-align:right; float: right;\"/>');\n",
       "    nav_element.append(status_bar);\n",
       "    this.message = status_bar[0];\n",
       "\n",
       "    // Add the close button to the window.\n",
       "    var buttongrp = $('<div class=\"btn-group inline pull-right\"></div>');\n",
       "    var button = $('<button class=\"btn btn-mini btn-primary\" href=\"#\" title=\"Stop Interaction\"><i class=\"fa fa-power-off icon-remove icon-large\"></i></button>');\n",
       "    button.click(function (evt) { fig.handle_close(fig, {}); } );\n",
       "    button.mouseover('Stop Interaction', toolbar_mouse_event);\n",
       "    buttongrp.append(button);\n",
       "    var titlebar = this.root.find($('.ui-dialog-titlebar'));\n",
       "    titlebar.prepend(buttongrp);\n",
       "}\n",
       "\n",
       "mpl.figure.prototype._root_extra_style = function(el){\n",
       "    var fig = this\n",
       "    el.on(\"remove\", function(){\n",
       "\tfig.close_ws(fig, {});\n",
       "    });\n",
       "}\n",
       "\n",
       "mpl.figure.prototype._canvas_extra_style = function(el){\n",
       "    // this is important to make the div 'focusable\n",
       "    el.attr('tabindex', 0)\n",
       "    // reach out to IPython and tell the keyboard manager to turn it's self\n",
       "    // off when our div gets focus\n",
       "\n",
       "    // location in version 3\n",
       "    if (IPython.notebook.keyboard_manager) {\n",
       "        IPython.notebook.keyboard_manager.register_events(el);\n",
       "    }\n",
       "    else {\n",
       "        // location in version 2\n",
       "        IPython.keyboard_manager.register_events(el);\n",
       "    }\n",
       "\n",
       "}\n",
       "\n",
       "mpl.figure.prototype._key_event_extra = function(event, name) {\n",
       "    var manager = IPython.notebook.keyboard_manager;\n",
       "    if (!manager)\n",
       "        manager = IPython.keyboard_manager;\n",
       "\n",
       "    // Check for shift+enter\n",
       "    if (event.shiftKey && event.which == 13) {\n",
       "        this.canvas_div.blur();\n",
       "        // select the cell after this one\n",
       "        var index = IPython.notebook.find_cell_index(this.cell_info[0]);\n",
       "        IPython.notebook.select(index + 1);\n",
       "    }\n",
       "}\n",
       "\n",
       "mpl.figure.prototype.handle_save = function(fig, msg) {\n",
       "    fig.ondownload(fig, null);\n",
       "}\n",
       "\n",
       "\n",
       "mpl.find_output_cell = function(html_output) {\n",
       "    // Return the cell and output element which can be found *uniquely* in the notebook.\n",
       "    // Note - this is a bit hacky, but it is done because the \"notebook_saving.Notebook\"\n",
       "    // IPython event is triggered only after the cells have been serialised, which for\n",
       "    // our purposes (turning an active figure into a static one), is too late.\n",
       "    var cells = IPython.notebook.get_cells();\n",
       "    var ncells = cells.length;\n",
       "    for (var i=0; i<ncells; i++) {\n",
       "        var cell = cells[i];\n",
       "        if (cell.cell_type === 'code'){\n",
       "            for (var j=0; j<cell.output_area.outputs.length; j++) {\n",
       "                var data = cell.output_area.outputs[j];\n",
       "                if (data.data) {\n",
       "                    // IPython >= 3 moved mimebundle to data attribute of output\n",
       "                    data = data.data;\n",
       "                }\n",
       "                if (data['text/html'] == html_output) {\n",
       "                    return [cell, data, j];\n",
       "                }\n",
       "            }\n",
       "        }\n",
       "    }\n",
       "}\n",
       "\n",
       "// Register the function which deals with the matplotlib target/channel.\n",
       "// The kernel may be null if the page has been refreshed.\n",
       "if (IPython.notebook.kernel != null) {\n",
       "    IPython.notebook.kernel.comm_manager.register_target('matplotlib', mpl.mpl_figure_comm);\n",
       "}\n"
      ],
      "text/plain": [
       "<IPython.core.display.Javascript object>"
      ]
     },
     "metadata": {},
     "output_type": "display_data"
    },
    {
     "data": {
      "text/html": [
       "<img src=\"data:image/png;base64,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\" width=\"400\">"
      ],
      "text/plain": [
       "<IPython.core.display.HTML object>"
      ]
     },
     "metadata": {},
     "output_type": "display_data"
    }
   ],
   "source": [
    "plt.plot(np.rad2deg(gamma), v);"
   ]
  },
  {
   "cell_type": "markdown",
   "metadata": {},
   "source": [
    "### Gravity losses\n",
    "\n",
    "Defined as $\\int_{0}^{t_f} g\\cdot sin(\\gamma)$"
   ]
  },
  {
   "cell_type": "code",
   "execution_count": 178,
   "metadata": {
    "ExecuteTime": {
     "end_time": "2017-09-20T20:56:53.722000Z",
     "start_time": "2017-09-20T16:56:53.713000-04:00"
    }
   },
   "outputs": [
    {
     "data": {
      "text/plain": [
       "379.88645079909463"
      ]
     },
     "execution_count": 178,
     "metadata": {},
     "output_type": "execute_result"
    }
   ],
   "source": [
    "trapz(g*np.sin(gamma), t)"
   ]
  },
  {
   "cell_type": "markdown",
   "metadata": {},
   "source": [
    "## Delta II"
   ]
  },
  {
   "cell_type": "code",
   "execution_count": 281,
   "metadata": {
    "ExecuteTime": {
     "end_time": "2017-09-21T00:05:08.311000Z",
     "start_time": "2017-09-20T20:05:08.298000-04:00"
    },
    "collapsed": true
   },
   "outputs": [],
   "source": [
    "def real_gravityturn(y, t, g, F, mdot):\n",
    "    v, gamma, m = y\n",
    "    dvdt = -F/m+g*np.sin(gamma)\n",
    "    dgammadt = g*np.cos(gamma)/v\n",
    "    dmdt = mdot\n",
    "    dydt = [dvdt, dgammadt, dmdt]\n",
    "    return dydt"
   ]
  },
  {
   "cell_type": "code",
   "execution_count": 282,
   "metadata": {
    "ExecuteTime": {
     "end_time": "2017-09-21T00:05:08.501000Z",
     "start_time": "2017-09-20T20:05:08.492000-04:00"
    }
   },
   "outputs": [
    {
     "data": {
      "text/plain": [
       "3233679.174336"
      ]
     },
     "execution_count": 282,
     "metadata": {},
     "output_type": "execute_result"
    }
   ],
   "source": [
    "62.28*8896.4432+50.2*8896.4432*6"
   ]
  },
  {
   "cell_type": "code",
   "execution_count": 283,
   "metadata": {
    "ExecuteTime": {
     "end_time": "2017-09-21T00:05:08.675000Z",
     "start_time": "2017-09-20T20:05:08.668000-04:00"
    }
   },
   "outputs": [
    {
     "data": {
      "text/plain": [
       "446601.44864"
      ]
     },
     "execution_count": 283,
     "metadata": {},
     "output_type": "execute_result"
    }
   ],
   "source": [
    "50.2*8896.4432"
   ]
  },
  {
   "cell_type": "code",
   "execution_count": 284,
   "metadata": {
    "ExecuteTime": {
     "end_time": "2017-09-21T00:05:08.898000Z",
     "start_time": "2017-09-20T20:05:08.891000-04:00"
    }
   },
   "outputs": [
    {
     "data": {
      "text/plain": [
       "444822.16"
      ]
     },
     "execution_count": 284,
     "metadata": {},
     "output_type": "execute_result"
    }
   ],
   "source": [
    "50*8896.4432"
   ]
  },
  {
   "cell_type": "code",
   "execution_count": 285,
   "metadata": {
    "ExecuteTime": {
     "end_time": "2017-09-21T00:05:09.149000Z",
     "start_time": "2017-09-20T20:05:09.140000-04:00"
    }
   },
   "outputs": [
    {
     "data": {
      "text/plain": [
       "3566.12"
      ]
     },
     "execution_count": 285,
     "metadata": {},
     "output_type": "execute_result"
    }
   ],
   "source": [
    "446.02*6+890"
   ]
  },
  {
   "cell_type": "code",
   "execution_count": 286,
   "metadata": {
    "ExecuteTime": {
     "end_time": "2017-09-21T00:05:09.423000Z",
     "start_time": "2017-09-20T20:05:09.411000-04:00"
    }
   },
   "outputs": [],
   "source": [
    "F = 3110e3 #N\n",
    "Fsolid = 446e3*6\n",
    "Fliq = F-Fsolid\n",
    "Isp_solid = 245.4\n",
    "Isp_liq = 273\n",
    "mtotal = 231870 #kg\n",
    "\n",
    "csolid = Isp_solid*g\n",
    "cliq = Isp_liq*g\n",
    "mdot = Fsolid/csolid+Fliq/cliq\n",
    "\n",
    "mfuelsolidbooster = 11765\n",
    "mfinal_guess = mtotal - 9*mfuelsolidbooster"
   ]
  },
  {
   "cell_type": "code",
   "execution_count": 287,
   "metadata": {
    "ExecuteTime": {
     "end_time": "2017-09-21T00:05:09.717000Z",
     "start_time": "2017-09-20T20:05:09.710000-04:00"
    }
   },
   "outputs": [
    {
     "data": {
      "text/plain": [
       "13.412688144218743"
      ]
     },
     "execution_count": 287,
     "metadata": {},
     "output_type": "execute_result"
    }
   ],
   "source": [
    "F/mtotal"
   ]
  },
  {
   "cell_type": "code",
   "execution_count": 288,
   "metadata": {
    "ExecuteTime": {
     "end_time": "2017-09-21T00:05:10.187000Z",
     "start_time": "2017-09-20T20:05:10.181000-04:00"
    },
    "collapsed": true
   },
   "outputs": [],
   "source": [
    "realturnsolver = lambda mf, t : odeint(real_gravityturn, [vfinal, gfinal, mf], [0,t], args=(g,F,mdot))[1,:]"
   ]
  },
  {
   "cell_type": "code",
   "execution_count": 289,
   "metadata": {
    "ExecuteTime": {
     "end_time": "2017-09-21T00:05:10.520000Z",
     "start_time": "2017-09-20T20:05:10.501000-04:00"
    }
   },
   "outputs": [],
   "source": [
    "velocity_only = lambda x: realturnsolver(x[0], x[1])[[0,2]] - np.array([0, mtotal])\n",
    "tzero = fsolve(velocity_only, np.array([mfinal_guess, 60]))"
   ]
  },
  {
   "cell_type": "code",
   "execution_count": 290,
   "metadata": {
    "ExecuteTime": {
     "end_time": "2017-09-21T00:05:10.987000Z",
     "start_time": "2017-09-20T20:05:10.978000-04:00"
    }
   },
   "outputs": [
    {
     "data": {
      "text/plain": [
       "array([ 89393.97211791,    111.86540023])"
      ]
     },
     "execution_count": 290,
     "metadata": {},
     "output_type": "execute_result"
    }
   ],
   "source": [
    "tzero"
   ]
  },
  {
   "cell_type": "code",
   "execution_count": 291,
   "metadata": {
    "ExecuteTime": {
     "end_time": "2017-09-21T00:05:11.519000Z",
     "start_time": "2017-09-20T20:05:11.510000-04:00"
    }
   },
   "outputs": [
    {
     "data": {
      "text/plain": [
       "array([  2.74594236e-12,   1.57079633e+00,   2.31870000e+05])"
      ]
     },
     "execution_count": 291,
     "metadata": {},
     "output_type": "execute_result"
    }
   ],
   "source": [
    "realturnsolver(tzero[0], tzero[1])"
   ]
  },
  {
   "cell_type": "code",
   "execution_count": 292,
   "metadata": {
    "ExecuteTime": {
     "end_time": "2017-09-21T00:05:14.269000Z",
     "start_time": "2017-09-20T20:05:14.257000-04:00"
    }
   },
   "outputs": [],
   "source": [
    "t = np.linspace(0, tzero[1], 1000)\n",
    "yout = odeint(real_gravityturn, [vfinal, gfinal, tzero[0]], t, args=(g,F,mdot))\n",
    "v,gamma,mass = yout.transpose()"
   ]
  },
  {
   "cell_type": "code",
   "execution_count": 255,
   "metadata": {
    "ExecuteTime": {
     "end_time": "2017-09-20T22:56:37.551000Z",
     "start_time": "2017-09-20T18:56:37.543000-04:00"
    }
   },
   "outputs": [
    {
     "data": {
      "text/plain": [
       "827.3600887742632"
      ]
     },
     "execution_count": 255,
     "metadata": {},
     "output_type": "execute_result"
    }
   ],
   "source": [
    "trapz(g*np.sin(gamma), t)"
   ]
  },
  {
   "cell_type": "markdown",
   "metadata": {},
   "source": [
    "## Drag"
   ]
  },
  {
   "cell_type": "code",
   "execution_count": 368,
   "metadata": {
    "ExecuteTime": {
     "end_time": "2017-09-21T00:23:17.232000Z",
     "start_time": "2017-09-20T20:23:17.225000-04:00"
    }
   },
   "outputs": [],
   "source": [
    "R = 287\n",
    "T = 290\n",
    "H = R*T/g\n",
    "rho0 = 1.225\n",
    "CD = 2\n",
    "D = 2.896\n",
    "A = np.pi*(D/2)**2"
   ]
  },
  {
   "cell_type": "code",
   "execution_count": 369,
   "metadata": {
    "ExecuteTime": {
     "end_time": "2017-09-21T00:23:17.455000Z",
     "start_time": "2017-09-20T20:23:17.445000-04:00"
    },
    "collapsed": true
   },
   "outputs": [],
   "source": [
    "def drag_gravityturn(y, t, g, F, mdot):\n",
    "    v, gamma, m, z = y\n",
    "    rho = rho0*np.exp(-z/H)\n",
    "    dvdt = -F/m+g*np.sin(gamma)+0.5*CD*A*rho*v**2/m\n",
    "    dgammadt = g*np.cos(gamma)/v\n",
    "    dmdt = mdot\n",
    "    dzdt = -v*np.sin(gamma)\n",
    "    dydt = [dvdt, dgammadt, dmdt, dzdt]\n",
    "    return dydt"
   ]
  },
  {
   "cell_type": "code",
   "execution_count": 370,
   "metadata": {
    "ExecuteTime": {
     "end_time": "2017-09-21T00:23:17.639000Z",
     "start_time": "2017-09-20T20:23:17.634000-04:00"
    },
    "collapsed": true
   },
   "outputs": [],
   "source": [
    "dragsolver = lambda mf, t, z: odeint(drag_gravityturn, [vfinal, gfinal, mf, z], [0,t], args=(g,F,mdot))[1,:]"
   ]
  },
  {
   "cell_type": "code",
   "execution_count": 371,
   "metadata": {
    "ExecuteTime": {
     "end_time": "2017-09-21T00:23:17.959000Z",
     "start_time": "2017-09-20T20:23:17.822000-04:00"
    }
   },
   "outputs": [],
   "source": [
    "velocity_only = lambda x: dragsolver(x[0], x[1], x[2])[[0,2,3]] - np.array([0, mtotal, 0])\n",
    "tzero = fsolve(velocity_only, np.array([mfinal_guess, 50, zfinal]))"
   ]
  },
  {
   "cell_type": "code",
   "execution_count": 372,
   "metadata": {
    "ExecuteTime": {
     "end_time": "2017-09-21T00:23:18.078000Z",
     "start_time": "2017-09-20T20:23:18.070000-04:00"
    }
   },
   "outputs": [
    {
     "data": {
      "text/plain": [
       "array([ 77128.68992952,    121.4955164 ,  34462.43711166])"
      ]
     },
     "execution_count": 372,
     "metadata": {},
     "output_type": "execute_result"
    }
   ],
   "source": [
    "tzero"
   ]
  },
  {
   "cell_type": "code",
   "execution_count": 373,
   "metadata": {
    "ExecuteTime": {
     "end_time": "2017-09-21T00:23:18.313000Z",
     "start_time": "2017-09-20T20:23:18.305000-04:00"
    }
   },
   "outputs": [],
   "source": [
    "t = np.linspace(0, tzero[1], 100)\n",
    "yout = odeint(drag_gravityturn, [vfinal, gfinal, tzero[0], tzero[2]], t, args=(g,F,mdot))\n",
    "v,gamma,mass,z = yout.transpose()"
   ]
  },
  {
   "cell_type": "code",
   "execution_count": 374,
   "metadata": {
    "ExecuteTime": {
     "end_time": "2017-09-21T00:23:18.921000Z",
     "start_time": "2017-09-20T20:23:18.915000-04:00"
    },
    "collapsed": true
   },
   "outputs": [],
   "source": [
    "rho = rho0*np.exp(-z/H)"
   ]
  },
  {
   "cell_type": "code",
   "execution_count": 375,
   "metadata": {
    "ExecuteTime": {
     "end_time": "2017-09-21T00:23:19.224000Z",
     "start_time": "2017-09-20T20:23:19.215000-04:00"
    }
   },
   "outputs": [
    {
     "data": {
      "text/plain": [
       "271.28091968228779"
      ]
     },
     "execution_count": 375,
     "metadata": {},
     "output_type": "execute_result"
    }
   ],
   "source": [
    "trapz(0.5*CD*A*rho*v**2/mass, t)"
   ]
  },
  {
   "cell_type": "code",
   "execution_count": null,
   "metadata": {
    "collapsed": true
   },
   "outputs": [],
   "source": []
  }
 ],
 "metadata": {
  "kernelspec": {
   "display_name": "Python 2",
   "language": "python",
   "name": "python2"
  },
  "language_info": {
   "codemirror_mode": {
    "name": "ipython",
    "version": 2
   },
   "file_extension": ".py",
   "mimetype": "text/x-python",
   "name": "python",
   "nbconvert_exporter": "python",
   "pygments_lexer": "ipython2",
   "version": "2.7.12"
  },
  "toc": {
   "colors": {
    "hover_highlight": "#DAA520",
    "navigate_num": "#000000",
    "navigate_text": "#333333",
    "running_highlight": "#FF0000",
    "selected_highlight": "#FFD700",
    "sidebar_border": "#EEEEEE",
    "wrapper_background": "#FFFFFF"
   },
   "moveMenuLeft": true,
   "nav_menu": {
    "height": "105px",
    "width": "252px"
   },
   "navigate_menu": true,
   "number_sections": true,
   "sideBar": true,
   "threshold": 4,
   "toc_cell": false,
   "toc_section_display": "block",
   "toc_window_display": false,
   "widenNotebook": false
  }
 },
 "nbformat": 4,
 "nbformat_minor": 2
}
